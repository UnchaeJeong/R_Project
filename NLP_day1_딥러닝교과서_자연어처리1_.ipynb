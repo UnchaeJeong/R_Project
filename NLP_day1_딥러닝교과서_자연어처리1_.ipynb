{
  "nbformat": 4,
  "nbformat_minor": 0,
  "metadata": {
    "colab": {
      "name": "NLP_day1_딥러닝교과서_자연어처리1_.ipynb",
      "provenance": [],
      "collapsed_sections": [
        "58nLNH6LnpP9"
      ],
      "authorship_tag": "ABX9TyNPuoOR4uHSPXBpeK2Svkik",
      "include_colab_link": true
    },
    "kernelspec": {
      "name": "python3",
      "display_name": "Python 3"
    },
    "language_info": {
      "name": "python"
    }
  },
  "cells": [
    {
      "cell_type": "markdown",
      "metadata": {
        "id": "view-in-github",
        "colab_type": "text"
      },
      "source": [
        "<a href=\"https://colab.research.google.com/github/UnchaeJeong/R_project/blob/master/NLP_day1_%EB%94%A5%EB%9F%AC%EB%8B%9D%EA%B5%90%EA%B3%BC%EC%84%9C_%EC%9E%90%EC%97%B0%EC%96%B4%EC%B2%98%EB%A6%AC1_.ipynb\" target=\"_parent\"><img src=\"https://colab.research.google.com/assets/colab-badge.svg\" alt=\"Open In Colab\"/></a>"
      ]
    },
    {
      "cell_type": "code",
      "metadata": {
        "id": "i3nWSCs9i-Of"
      },
      "source": [
        ""
      ],
      "execution_count": null,
      "outputs": []
    },
    {
      "cell_type": "markdown",
      "metadata": {
        "id": "Sk4vfkWWKeI0"
      },
      "source": [
        "# &#128218;NLTK 1. 설치"
      ]
    },
    {
      "cell_type": "code",
      "metadata": {
        "id": "RHUEhWHEia_Z"
      },
      "source": [
        "import nltk\n",
        "from konlpy.tag import Komoran # 여러가지 형태소 라이브러리 패키지\n",
        "komoran = Komoran()"
      ],
      "execution_count": null,
      "outputs": []
    },
    {
      "cell_type": "code",
      "metadata": {
        "id": "00MFE5AMK9Q-"
      },
      "source": [
        "# !pip install nltk\n",
        "# 문장 토큰화\n",
        "# 태깅에 필요한 자원 내려받기\n",
        "# 품사 태깅"
      ],
      "execution_count": null,
      "outputs": []
    },
    {
      "cell_type": "code",
      "metadata": {
        "id": "ajsCCiKV8W3x",
        "colab": {
          "base_uri": "https://localhost:8080/"
        },
        "outputId": "783f40bc-e4f8-4e61-c424-2b9929b144c6"
      },
      "source": [
        "# 문장 토큰화\n",
        "import nltk\n",
        "\n",
        "nltk.download('punkt')\n",
        "\n",
        "text = nltk.word_tokenize('It is posible cats and dogs')\n",
        "text"
      ],
      "execution_count": null,
      "outputs": [
        {
          "output_type": "stream",
          "text": [
            "[nltk_data] Downloading package punkt to /root/nltk_data...\n",
            "[nltk_data]   Unzipping tokenizers/punkt.zip.\n"
          ],
          "name": "stdout"
        },
        {
          "output_type": "execute_result",
          "data": {
            "text/plain": [
              "['It', 'is', 'posible', 'cats', 'and', 'dogs']"
            ]
          },
          "metadata": {
            "tags": []
          },
          "execution_count": 4
        }
      ]
    },
    {
      "cell_type": "code",
      "metadata": {
        "colab": {
          "base_uri": "https://localhost:8080/"
        },
        "id": "lzIR817Jdmf4",
        "outputId": "ccd5fe47-618e-4e83-8b8c-59caa6c4b535"
      },
      "source": [
        "# 태깅에 필요한 자원 내려받기\n",
        "nltk.download('averaged_perceptron_tagger')"
      ],
      "execution_count": null,
      "outputs": [
        {
          "output_type": "stream",
          "text": [
            "[nltk_data] Downloading package averaged_perceptron_tagger to\n",
            "[nltk_data]     /root/nltk_data...\n",
            "[nltk_data]   Unzipping taggers/averaged_perceptron_tagger.zip.\n"
          ],
          "name": "stdout"
        },
        {
          "output_type": "execute_result",
          "data": {
            "text/plain": [
              "True"
            ]
          },
          "metadata": {
            "tags": []
          },
          "execution_count": 5
        }
      ]
    },
    {
      "cell_type": "code",
      "metadata": {
        "colab": {
          "base_uri": "https://localhost:8080/"
        },
        "id": "0exU_YIxeZYA",
        "outputId": "9105c6db-59ba-4a33-ec2f-447a3f4bba05"
      },
      "source": [
        "# 품사 태깅\n",
        "nltk.pos_tag(text)"
      ],
      "execution_count": null,
      "outputs": [
        {
          "output_type": "execute_result",
          "data": {
            "text/plain": [
              "[('It', 'PRP'),\n",
              " ('is', 'VBZ'),\n",
              " ('posible', 'JJ'),\n",
              " ('cats', 'NNS'),\n",
              " ('and', 'CC'),\n",
              " ('dogs', 'NNS')]"
            ]
          },
          "metadata": {
            "tags": []
          },
          "execution_count": 6
        }
      ]
    },
    {
      "cell_type": "markdown",
      "metadata": {
        "id": "9EBxTKyYebhh"
      },
      "source": [
        "# &#128218;Konlpy 2. 설치\n",
        "\n",
        "품사 태깅 라이브러리 여러개 있음."
      ]
    },
    {
      "cell_type": "code",
      "metadata": {
        "id": "n4q3M81_fFsY"
      },
      "source": [
        "# !pip install konlpy\n",
        "# 라이브러리 호출 및 문장을 형태로 변환\n",
        "# 품사 태깅\n",
        "# konlpy.tag의 Okt 써보기\n",
        "# okt.morphs, pos"
      ],
      "execution_count": null,
      "outputs": []
    },
    {
      "cell_type": "markdown",
      "metadata": {
        "id": "fxFo2hm8fOvp"
      },
      "source": [
        "윈도우에서는 이게 문제. JPype1-1.3.0.\n",
        "자바, 파이썬 연동하는 것.\n",
        "코랩은 자바을 기반으로 되어있어서 상관없음."
      ]
    },
    {
      "cell_type": "code",
      "metadata": {
        "colab": {
          "base_uri": "https://localhost:8080/"
        },
        "id": "XQ_PK5x1fbrm",
        "outputId": "3ef72b35-c16d-4a7d-ab66-5dd366a658b5"
      },
      "source": [
        "# 라이브러리 호출 및 문장을 형태로 변환\n",
        "from konlpy.tag import Komoran # 여러가지 형태소 라이브러리 패키지\n",
        "komoran = Komoran()\n",
        "\n",
        "print(komoran.morphs('딥러닝이 쉽나요? 어렵나요?')) # 형태소 분리\n",
        "# 품사 태깅\n",
        "print(komoran.pos('딥러닝이 쉽나요? 어렵나요?')) # 품사 태깅. 각각의 단어가 무엇인지 분석함.\n",
        "print(komoran.pos('아 여행가고 싶다. 제주도 여행'))\n",
        "print(komoran.pos('아 날씨 미쵸따...진짜'))\n",
        "print(komoran.pos('4드론 에바잖아... 어머니 잘계시고?'))"
      ],
      "execution_count": null,
      "outputs": [
        {
          "output_type": "stream",
          "text": [
            "['딥러닝이', '쉽', '나요', '?', '어렵', '나요', '?']\n",
            "[('딥러닝이', 'NA'), ('쉽', 'VA'), ('나요', 'EF'), ('?', 'SF'), ('어렵', 'VA'), ('나요', 'EF'), ('?', 'SF')]\n",
            "[('아', 'IC'), ('여행가', 'NNG'), ('이', 'VCP'), ('고', 'EC'), ('싶', 'VX'), ('다', 'EF'), ('.', 'SF'), ('제주도', 'NNP'), ('여행', 'NNG')]\n",
            "[('아', 'IC'), ('날씨', 'NNP'), ('미쵸따...진짜', 'NA')]\n",
            "[('4', 'SN'), ('드', 'NNP'), ('로', 'JKB'), ('ㄴ', 'JX'), ('에바', 'NNP'), ('잖아', 'EF'), ('...', 'SE'), ('어머니', 'NNG'), ('잘', 'MAG'), ('계시', 'VV'), ('고', 'EF'), ('?', 'SF')]\n"
          ],
          "name": "stdout"
        }
      ]
    },
    {
      "cell_type": "code",
      "metadata": {
        "id": "cFgYXXclf5wH"
      },
      "source": [
        "# konlpy.tag의 Okt 써보기\n",
        "from konlpy.tag import Okt # 문장이 복잡할수록 komoran과 상이한 결과가 나올 수 있음.\n",
        "okt = Okt()"
      ],
      "execution_count": null,
      "outputs": []
    },
    {
      "cell_type": "code",
      "metadata": {
        "colab": {
          "base_uri": "https://localhost:8080/"
        },
        "id": "kAgxRrJBgvna",
        "outputId": "be99171c-9cbd-404a-ba2c-58af93e40395"
      },
      "source": [
        "# okt.morphs, pos\n",
        "text = '한글 자연어 처리는 재밌다. 이제부터 열심히 해야짛ㅎㅎㅎ'\n",
        "print(okt.morphs(text))\n",
        "print(okt.pos(text))\n",
        "print(okt.morphs('열심히 해야짛ㅎㅎ', stem=True)) # 형태소 단위로 나눈 후 어간을 추출"
      ],
      "execution_count": null,
      "outputs": [
        {
          "output_type": "stream",
          "text": [
            "['한글', '자연어', '처리', '는', '재밌다', '.', '이제', '부터', '열심히', '해야짛', 'ㅎㅎㅎ']\n",
            "[('한글', 'Noun'), ('자연어', 'Noun'), ('처리', 'Noun'), ('는', 'Josa'), ('재밌다', 'Adjective'), ('.', 'Punctuation'), ('이제', 'Noun'), ('부터', 'Josa'), ('열심히', 'Adverb'), ('해야짛', 'Noun'), ('ㅎㅎㅎ', 'KoreanParticle')]\n",
            "['열심히', '해야짛', 'ㅎㅎ']\n"
          ],
          "name": "stdout"
        }
      ]
    },
    {
      "cell_type": "markdown",
      "metadata": {
        "id": "HXNTS6LBg4Bl"
      },
      "source": [
        "---\n",
        "---\n",
        "## &#128218;뉴스기사 분석"
      ]
    },
    {
      "cell_type": "code",
      "metadata": {
        "id": "01Qs1RQcS_yH"
      },
      "source": [
        "# str\n",
        "# 형태소 나누고 어간 추출"
      ],
      "execution_count": null,
      "outputs": []
    },
    {
      "cell_type": "code",
      "metadata": {
        "colab": {
          "base_uri": "https://localhost:8080/"
        },
        "id": "3JQAxW4rh-56",
        "outputId": "6a47de9e-c109-44de-a8aa-5874bb849780"
      },
      "source": [
        "str = \"\"\"\n",
        "'한국 여자배구 대표팀은 지난달 31일 오후 일본 도쿄 아리아케 아레나에서 열린 2020 도쿄올림픽 A조 예선으로 펼쳐진 한일전에서 5세트 접전 끝에 짜릿한 승리를 거뒀다.\n",
        "\n",
        "한국은 마지막 5세트에서 12대14로 밀렸다. '게임 포인트'를 내줄 위기에 몰렸지만 박정아의 막판 대활약에 힘입어 극적인 16대14 역전 드라마를 연출했다.\n",
        "\n",
        "이로써 한국은 3승1패를 기록해 남은 세르비아전 결과와 관계 없이 최소 조 3위를 확보해 8강 진출을 확정했다.'\n",
        "\"\"\"\n",
        "print(str)\n",
        "print(okt.morphs(str, stem=True))   # 형태소 나누고 어간 추출"
      ],
      "execution_count": null,
      "outputs": [
        {
          "output_type": "stream",
          "text": [
            "\n",
            "'한국 여자배구 대표팀은 지난달 31일 오후 일본 도쿄 아리아케 아레나에서 열린 2020 도쿄올림픽 A조 예선으로 펼쳐진 한일전에서 5세트 접전 끝에 짜릿한 승리를 거뒀다.\n",
            "\n",
            "한국은 마지막 5세트에서 12대14로 밀렸다. '게임 포인트'를 내줄 위기에 몰렸지만 박정아의 막판 대활약에 힘입어 극적인 16대14 역전 드라마를 연출했다.\n",
            "\n",
            "이로써 한국은 3승1패를 기록해 남은 세르비아전 결과와 관계 없이 최소 조 3위를 확보해 8강 진출을 확정했다.'\n",
            "\n",
            "['\\n', \"'\", '한국', '여자배구', '대표팀', '은', '지난달', '31일', '오후', '일본', '도쿄', '아리아케', '아레나', '에서', '열리다', '2020', '도쿄올림픽', 'A', '조', '예선', '으로', '펼쳐지다', '한일전', '에서', '5', '세트', '접전', '끝', '에', '짜릿하다', '승리', '를', '거두다', '.', '\\n\\n', '한국', '은', '마지막', '5', '세트', '에서', '12', '대다', '14', '로', '밀리다', '.', \"'\", '게임', '포인트', \"'\", '를', '내주다', '위기', '에', '몰리다', '박정아', '의', '막판', '대', '활약', '에', '힘', '입다', '극적', '인', '16', '대다', '14', '역전', '드라마', '를', '연출', '하다', '.', '\\n\\n', '이로써', '한국', '은', '3', '승', '1', '패', '를', '기록', '하다', '남다', '세르비아', '전', '결과', '와', '관계', '없이', '최소', '조', '3', '위', '를', '확보', '하다', '8', '강', '진출', '을', '확정', '하다', \".'\", '\\n']\n"
          ],
          "name": "stdout"
        }
      ]
    },
    {
      "cell_type": "markdown",
      "metadata": {
        "id": "ddyNFDVAm_aA"
      },
      "source": [
        "---\n",
        "---\n",
        "## &#128218;오늘의 날씨"
      ]
    },
    {
      "cell_type": "code",
      "metadata": {
        "id": "SAubHIVATNy6"
      },
      "source": [
        "# okt.pos()\n",
        "# 날씨를 알려달라는 거구나 = 명사 의도 분석"
      ],
      "execution_count": null,
      "outputs": []
    },
    {
      "cell_type": "code",
      "metadata": {
        "colab": {
          "base_uri": "https://localhost:8080/"
        },
        "id": "wIBu3Sh5i82d",
        "outputId": "f9a92d3b-331a-47fe-e153-b83f9267d1ff"
      },
      "source": [
        "# okt.pos()\n",
        "result = okt.pos('부산 날씨 어때', stem=True)\n",
        "print(result) "
      ],
      "execution_count": null,
      "outputs": [
        {
          "output_type": "stream",
          "text": [
            "[('부산', 'Noun'), ('날씨', 'Noun'), ('어떻다', 'Adjective')]\n"
          ],
          "name": "stdout"
        }
      ]
    },
    {
      "cell_type": "code",
      "metadata": {
        "colab": {
          "base_uri": "https://localhost:8080/"
        },
        "id": "9nH7hOAJlpla",
        "outputId": "2d9ef4ea-5af7-4acf-de1e-bfd16cca4f64"
      },
      "source": [
        "# 날씨를 알려달라는 거구나 = 명사 의도 분석\n",
        "nouns =[ token[0] for token in result if token[1] ==\n",
        "        'Noun']\n",
        "print(nouns) # 날씨를 알려달라는 거구나 = 명사 의도 분석"
      ],
      "execution_count": null,
      "outputs": [
        {
          "output_type": "stream",
          "text": [
            "['부산', '날씨']\n"
          ],
          "name": "stdout"
        }
      ]
    },
    {
      "cell_type": "markdown",
      "metadata": {
        "id": "58nLNH6LnpP9"
      },
      "source": [
        "---\n",
        "---\n",
        "## JAVA 설치 jpypel 설치"
      ]
    },
    {
      "cell_type": "markdown",
      "metadata": {
        "id": "WZMkMAL0sBsX"
      },
      "source": [
        "---\n",
        "JAVA 설치해서 jupyter Notebook으로 실행하려면 다음과 같은 순서로 설치.\n",
        "https://www.lfd.uci.edu/~gohlke/pythonlibs/#jpype\n",
        "\n",
        "1. JDK설치\n",
        "2. JAVA_HOME 설정(jdk root)\n",
        "3. PATH 설정(bin)\n",
        "4. jpypel 설치(파이썬버전, amd64, whl)   \n",
        "JPype1‑1.1.2‑cp38‑cp38‑win_amd64.whl로 설치할것.\n",
        "\n",
        "---\n",
        "의미를 갖는 최소 단위는 형태소   \n",
        "Gensim : 임베딩 : 워드 투 벡터(내일 살펴볼 것)  \n",
        "추가설치 필요\n",
        "\n",
        "---\n",
        "CountVectorizer : 단어 등장 횟수 기준   \n",
        "Tfidfvectorizer :    \n",
        "HashingVectorizer      \n",
        "지금까지 nplk, 설치과정, sklearn, gensim 소개 오전수업 끝\n"
      ]
    },
    {
      "cell_type": "markdown",
      "metadata": {
        "id": "mYgxyYPuUDU0"
      },
      "source": [
        "---\n",
        "---\n",
        "\n",
        "\n",
        "## &#128218;BeautifulSoup \n",
        "\n",
        "---\n",
        "형태소 분석과 태깅 +   \n",
        "룰을 통해서 '부산'을 가져옴."
      ]
    },
    {
      "cell_type": "code",
      "metadata": {
        "id": "JiNdpU1OUlm4"
      },
      "source": [
        "# !pip install beautifulsoup4\n",
        "\n",
        "# soup = BeautifulSoup(html.text, '') # 구문분석\n",
        "# cast = soup.select_one('') # 노드 리턴\n",
        "# temps = soup.select_one('')\n",
        "# print(cast.text,temps.text) # text node\n",
        "\n",
        "# def getWeather(str) :\n",
        "#   result = okt.pos(str, stem=True)\n",
        "#   nouns = [ token[0] for token in result if token[1] == 'Noun']\n",
        "\n",
        "#   city = ''\n",
        "#   for token in nouns:\n",
        "\n",
        "#   html = requests.get(f'https://search.naver.com/search.naver?query={city}날씨')\n",
        "\n",
        "#   soup, cast, temps, return\n",
        "\n",
        "# getWeather(\"런던 오늘 날씨 어때?\")\n",
        "# result = okt.pos('부산의 어제 날씨 어때', stem=True) # 구문 분석 확인"
      ],
      "execution_count": null,
      "outputs": []
    },
    {
      "cell_type": "code",
      "metadata": {
        "colab": {
          "base_uri": "https://localhost:8080/"
        },
        "id": "94hzPgN4vxaU",
        "outputId": "48537f66-667a-4f41-f13b-2ae75151eb4c"
      },
      "source": [
        "# 좋은 방법은 아님.\n",
        "city = ''\n",
        "for token in nouns:\n",
        "  if token =='오늘':\n",
        "    day = token\n",
        "  elif token == '날씨':\n",
        "    intent = '날씨'\n",
        "  else :\n",
        "    city = token\n",
        "print(city)"
      ],
      "execution_count": null,
      "outputs": [
        {
          "output_type": "stream",
          "text": [
            "부산\n"
          ],
          "name": "stdout"
        }
      ]
    },
    {
      "cell_type": "markdown",
      "metadata": {
        "id": "YJ-27GS7EhU0"
      },
      "source": [
        "where=   \n",
        "query=부산날씨   \n",
        "beautifulsoup을 활용해서 필요한 정보를 가져올 수 있음.   \n"
      ]
    },
    {
      "cell_type": "markdown",
      "metadata": {
        "id": "xUQ7lnhgCx8w"
      },
      "source": [
        "https://search.naver.com/search.naver?where=nexearch&sm=top_hty&fbm=1&ie=utf8&query=%EA%B0%80%EC%82%B0+%EB%82%A0%EC%94%A8"
      ]
    },
    {
      "cell_type": "code",
      "metadata": {
        "colab": {
          "base_uri": "https://localhost:8080/"
        },
        "id": "33kVNnrMFsHm",
        "outputId": "0643aa20-50ea-49f7-ae53-af7899c0ba99"
      },
      "source": [
        "# !pip install beautifulsoup4"
      ],
      "execution_count": null,
      "outputs": [
        {
          "output_type": "stream",
          "text": [
            "Requirement already satisfied: beautifulsoup4 in /usr/local/lib/python3.7/dist-packages (4.6.0)\n"
          ],
          "name": "stdout"
        }
      ]
    },
    {
      "cell_type": "code",
      "metadata": {
        "id": "2aQvEzQ3FIhg",
        "colab": {
          "base_uri": "https://localhost:8080/",
          "height": 125
        },
        "outputId": "8651f57e-1cd9-4388-8fe6-da277fc439a1"
      },
      "source": [
        "from bs4 import BeautifulSoup\n",
        "import requests\n",
        "\n",
        "city = '부산'\n",
        "html = requests.get(f'https://search.naver.com/search.naver?query={city}날씨')\n",
        "html.text"
      ],
      "execution_count": null,
      "outputs": [
        {
          "output_type": "execute_result",
          "data": {
            "application/vnd.google.colaboratory.intrinsic+json": {
              "type": "string"
            },
            "text/plain": [
              "'<!doctype html> <html lang=\"ko\"> <head> <meta charset=\"utf-8\"> <meta name=\"referrer\" content=\"always\">  <meta name=\"format-detection\" content=\"telephone=no,address=no,email=no\"> <meta name=\"viewport\" content=\"width=device-width,initial-scale=1.0,maximum-scale=2.0\"> <meta property=\"og:title\" content=\"부산날씨 : 네이버 통합검색\"/> <meta property=\"og:image\" content=\"https://ssl.pstatic.net/sstatic/search/common/og_v3.png\"> <meta property=\"og:description\" content=\"\\'부산날씨\\'의 네이버 통합검색 결과입니다.\"> <meta name=\"description\" lang=\"ko\" content=\"\\'부산날씨\\'의 네이버 통합검색 결과입니다.\"> <title>부산날씨 : 네이버 통합검색</title> <link rel=\"shortcut icon\" href=\"https://ssl.pstatic.net/sstatic/search/favicon/favicon_191118_pc.ico\">  <link rel=\"search\" type=\"application/opensearchdescription+xml\" href=\"https://ssl.pstatic.net/sstatic/search/opensearch-description.https.xml\" title=\"Naver\" /><link rel=\"stylesheet\" type=\"text/css\" href=\"https://ssl.pstatic.net/sstatic/search/pc/css/search1_210729.css\"> <link rel=\"stylesheet\" type=\"text/css\" href=\"https://ssl.pstatic.net/sstatic/search/pc/css/search2_210729.css\"> <link rel=\"stylesheet\" type=\"text/css\" href=\"https://ssl.pstatic.net/sstatic/search/pc/css/sp_autocomplete_210318.css\"><script type=\"text/javascript\"> if (!String.prototype.trim) { String.prototype.trim = function () { return this.replace(/^[\\\\s\\\\uFEFF\\\\xA0]+|[\\\\s\\\\uFEFF\\\\xA0]+$/g, \\'\\'); }; } if (!Array.prototype.indexOf) { Array.prototype.indexOf = function(searchElement, fromIndex) { var k; if (this == null) { throw new TypeError(\\'\"this\" is null or not defined\\'); } var o = Object(this); var len = o.length >>> 0; if (len === 0) { return -1; } var n = fromIndex | 0; if (n >= len) { return -1; } k = Math.max(n >= 0 ? n : len - Math.abs(n), 0); while (k < len) { if (k in o && o[k] === searchElement) { return k; } k++; } return -1; }; } if (!Array.prototype.filter) { Array.prototype.filter = function(func, thisArg) { \\'use strict\\'; if (!((typeof func === \\'Function\\' || typeof func === \\'function\\') && this)) throw new TypeError(); var len = this.length >>> 0, res = new Array(len), t = this, c = 0, i = -1; var kValue; if (thisArg === undefined) { while (++i !== len) { if (i in this) { kValue = t[i]; if (func(t[i], i, t)) { res[c++] = kValue; } } } } else { while (++i !== len) { if (i in this) { kValue = t[i]; if (func.call(thisArg, t[i], i, t)) { res[c++] = kValue; } } } } res.length = c; return res; }; } if (typeof(encodeURIComponent) != \"function\") { encodeURIComponent = function (s) { function toHex (n) { var hexchars = \"0123456789ABCDEF\" ; return \"%%\" + hexchars.charAt(n>>4) + hexchars.charAt(n&0xF) ; } var es = \"\" ; for (var i = 0; i < s.length;) { var c = s.charCodeAt(i++) ; if ((c&0xF800) == 0xD800) { var sc = s.charCodeAt(i++) ; c = ((c-0xD800)<<10) + (sc-0xDC00) + 0x10000 ; } if (!(c&~0x7F)) { if ((c>=65&&c<=90) || (c>=97&&c<=122) || (c>=48&&c<=57) || (c>=45&&c<=46) || c==95 || c==33 || c==126 || (c>=39&&c<=42)) es += String.fromCharCode(c) ; else es += toHex(c) ; } else if (!(c&~0x7FF)) es += toHex(0xC0+(c>>6)) + toHex(c&0x3F) ; else if (!(c&~0xFFFF)) es += toHex(0xE0+(c>>12)) + toHex(0x80+(c>>6&0x3F)) + toHex(0x80+(c&0x3F)) ; else es += toHex(0xF0+(c>>18)) + toHex(0x80+(c>>12&0x3F)) + toHex(0x80+(c>>6&0x3F)) + toHex(0x80+(c&0x3F)) ; } return es ; } } naver = window.naver || {}; naver.search = naver.search || {}; naver.search.abt_param = \"\"; var g_D = 0 ; naver.search.error = (function () { var errorList = Array() ; return { add : function (s) { errorList.push(s) ; }, clear : function () { delete errorList ; }, get : function (s) { return errorList ; }, getString : function (d) { if (typeof d === \\'undefined\\') d = \\'|\\' ; return errorList.join(d) ; } } })(); naver.search.cookie = (function () { return { set : function (key, value, expire, domain) { var cookie = key + \"=\" + escape(value); if (typeof expire !== \\'undefined\\') { if (expire instanceof Date) { cookie = cookie + \"; expires=\" + expire.toUTCString(); } else { var exdate = new Date((new Date()).getTime() + expire*1000); cookie = cookie + \"; expires=\" + exdate.toUTCString(); } } cookie = cookie + \"; path=/\"; if (domain != null) { cookie = cookie + \"; domain=\" + domain; } document.cookie = cookie; }, get : function (key) { var cookie_list = document.cookie.split(/\\\\s*;\\\\s*/); for (var i = 0; i < cookie_list.length; i++) { var tmp_list = cookie_list[i].split(\"=\"); var c_key = tmp_list[0].trim(); var c_value = tmp_list[1]; if (key == c_key) { return unescape(c_value); } } return null; } } })(); naver.search.https = window.location.protocol == \"https:\"; naver.search.meta_referrer = 0; var _nx_js_load = (function () { var scrs = {} ; return function (script, callback) { scrs[script] = {} ; scrs[script].domscript = document.createElement(\\'script\\'); scrs[script].domscript.src = script ; if (callback) scrs[script].callback = (callback instanceof Array) ? callback : [callback]; scrs[script].domscript.onloadDone = false; scrs[script].domscript.onload = function() { scrs[script].domscript.onloadDone = true; if (scrs[script].callback) { for (var i = 0; i < scrs[script].callback.length; i++) { scrs[script].callback[i]() ; } } scrs[script].domscript.onload = scrs[script].domscript.onreadystatechange = null; } ; scrs[script].domscript.onreadystatechange = function() { if ( (\"loaded\" === scrs[script].domscript.readyState || \"complete\" === scrs[script].domscript.readyState) && !scrs[script].domscript.onloadDone ) { scrs[script].domscript.onload(); } } ; document.getElementsByTagName(\\'head\\')[0].appendChild(scrs[script].domscript); }; })() ; var nx_js_defer_load = (function() { var info = {} ; return function(scrname, callback, t) { var nx_load_once = (function() { return function(scrname) { if (info[scrname].t > 0) setTimeout(function() { _nx_js_load(scrname, info[scrname].callback) ; }, t) ; else _nx_js_load(scrname, info[scrname].callback) ; } ; })(); if (t < 0) t = 0 ; if (info[scrname]) { n = info[scrname].length; for (var i = 0; i < n; i++) { if (info[scrname][i] == callback) return ; } if (t < info[scrname].t) info[scrname].t = t ; } else { info[scrname] = {} ; info[scrname].callback = [] ; info[scrname].t = t ; jindo.$Fn(function() { nx_load_once(scrname) ; }).attach(window, \"load\") ; } info[scrname].callback.push(callback) ; }; })(); function nx_js_lazyload(scripts, onload, is_serial) { if (!(scripts instanceof Array)) { scripts = [scripts]; } if (is_serial) { function load_next() { if (scripts.length == 0) { onload(); return; } _nx_js_load( scripts.shift(), load_next ) ; } load_next(); } else { var load_check = function() { var num_js = scripts.length; return function() { num_js--; if (num_js <= 0) { onload(); } } }(); for (var i = 0; i < scripts.length; i++) { _nx_js_load( scripts[i], load_check ) ; } } } function nx_defer_eval (id) { var codeElement = document.getElementById(id), code = codeElement.innerHTML; eval(code.replace(/\\\\/\\\\*/, \\'\\').replace(/\\\\*\\\\//, \\'\\')); } </script><script> try { document.execCommand(\\'BackgroundImageCache\\', false, true); } catch(e) {} if (top.frames.length!=0 || window!=top) window.open(location, \"_top\") ; naver = window.naver || {}; naver.search = naver.search || {}; naver.search.ext = naver.search.ext || {}; naver.search.map_api = { v2 : \"https://ssl.pstatic.net/sstatic.map/openapi/openapi_v23.js\", v3 : \"https://ssl.pstatic.net/sstatic.map/openapi/maps3.js\" } ; var nx_au_cookie_domain = \"search.naver.com\" ; var nx_mobile_agent = 0 ; var headerfooter_query = \"부산날씨\" ; var headerfooter_query_encoded = \"%EB%B6%80%EC%82%B0%EB%82%A0%EC%94%A8\" ; var headerfooter_time_year = 2021 ; var headerfooter_time_month = 8 ; var headerfooter_time_day = 2 ; var headerfooter_time_hour = 13 ; var headerfooter_time_minute = 20 ; var headerfooter_time_second = 8 ; var headerfooter_time_wday = 1 ; var headerfooter_time_year_s = \"2021\" ; var headerfooter_time_month_s = \"08\" ; var headerfooter_time_day_s = \"02\" ; var headerfooter_time_hour_s = \"13\" ; var headerfooter_time_minute_s = \"20\" ; var headerfooter_time_second_s = \"08\" ; var headerfooter_time_wday_s = \"1\" ; var g_ssc = \"tab.nx.all\" ; var g_query = \"부산날씨\" ; var g_puid = \"hdOyPsprvmsssvdQOsossssssyZ-493085\" ; var g_suid = \"AmcJBUalXKR4MVr7MTcCjQ==\" ; var g_tab = \"nexearch\" ; var g_stab = \"nexearch\" ; var g_crt = naver.search.abt_param; var g_m_str = \"\" ; var g_tablet_device = 0 ; var g_nx_splugin ; document.domain = \"naver.com\" ; document.documentElement.setAttribute(\\'data-useragent\\', window.navigator.userAgent.toLowerCase()) ; document.documentElement.setAttribute(\\'data-platform\\', window.navigator.platform.toLowerCase()) ; var g_er_image, g_er_count = 0 ; function g_er (msg) { if (g_er_count++ > 0) return ; g_er_image = new Image() ; g_er_image.src = \"http://er.search.naver.com/er?f=\"+g_tab+\"&w=\"+g_stab+\"&q=%EB%B6%80%EC%82%B0%EB%82%A0%EC%94%A8&u=\"+encodeURIComponent(document.location)+\"&m=\"+encodeURIComponent(msg) ; } function trim_space (q) { var head_re = /^ */; var tail_re = / *$/; q = q.replace(head_re, \"\"); q = q.replace(tail_re, \"\"); return q; } function trim_crlf (q) { var crlf = /[\\\\r|\\\\n]/ ; q = q.replace(crlf, \"\") ; return q ; } function include_script (type, defer, src, charset) { var script = document.createElement(\"script\") ; script.type = type, script.defer = defer ; script.src = src ; if (charset) script.charset = charset ; else script.charset = \\'utf-8\\' ; document.getElementsByTagName(\\'head\\')[0].appendChild(script) ; return script ; } function include_style (src, charset) { var h = document.getElementsByTagName(\"head\")[0] ; var l = document.createElement(\\'link\\') ; l.type = \\'text/css\\' ; l.rel = \\'stylesheet\\' ; if (charset) l.charset = charset ; else l.charset = \\'utf-8\\' ; l.media = \\'screen\\' ; l.href = src ; h.appendChild(l) ; } function bt (id, after) { document.getElementById(id).src = after ; } function urlencode (q) { return encodeURIComponent(q).replace(/%20/g, \"+\").replace(/[!~\\'()]/g, function(c) { return \\'%\\' + c.charCodeAt(0).toString(16).toUpperCase() ; }); } function urldecode (q) { return decodeURIComponent(q.replace(/\\\\+/g, \" \")); } function urlexpand (url) { var href = document.location.href ; if (url == \"\") return href ; if (url.match(/^[-.A-Za-z]+:/)) return url ; if (url.charAt(0) == \\'#\\') return href.split(\"#\")[0] + url ; if (url.charAt(0) == \\'?\\') return href.split(\"?\")[0] + url ; if (url.charAt(0) == \\'/\\') return href.replace(/([^:\\\\/])\\\\/.*$/, \"$1\") + url ; return href.substring(0, href.lastIndexOf(\"/\")+1) + url ; } function tt_sub_disable (o) { if (typeof(o.tt_sub) == \"undefined\") return false ; if ((typeof(o.tt_sub) == \"object\") && (o.tt_sub.length)) { var i ; for (var i=0; i<o.tt_sub.length; i++) o.tt_sub[i].disabled = true ; } else o.tt_sub.disabled = true ; return true ; } function cpip () { var evt, sx = sy = px = py = -1 ; try { evt = window.event ; } catch (e) {} try { sx=evt.clientX-document.body.clientLeft, sy=evt.clientY-document.body.clientTop ; } catch (e) {} try { px=document.body.scrollLeft+(sx<0?0:sx), py=document.documentElement.scrollTop+(sy<0?0:sy) ; } catch (e) {} try { if (evt.pageX) px=evt.pageX ; if (evt.pageY) py=evt.pageY ; } catch (e) {} return \"px=\"+px+\"&py=\"+py+\"&sx=\"+sx+\"&sy=\"+sy ; } function nxGetCommonCRParam () { return \"p=\"+urlencode(g_puid)+\"&q=\"+urlencode(g_query)+\"&ie=utf8&rev=1&ssc=\"+urlencode(g_ssc)+\"&f=\"+urlencode(g_tab)+\"&w=\"+urlencode(g_stab)+\"&s=\"+urlencode(g_suid)+\"&time=\"+urlencode((new Date()).getTime())+g_crt ; } function getCRRankingByParam (p, info) { if (typeof info == \\'undefined\\' || info == null) return 0 ; var cr = 0 ; try { var y, z ; var y = p.split(\\'&\\') ; for (var i = 0; i < y.length; i++) { if (z = y[i].split(\\'=\\')) { if (z[0] == \\'a\\') { for (var j = 0; j < info.length; j++) { if (z[1].substr(0, info[j].n.length) == info[j].n) { cr = info[j].r ; break ; } } break ; } } } } catch (e) { } return cr ; } function getCRRanking (p) { var cr = 0 ; if (typeof nx_cr_area_info != \\'undefined\\') cr = getCRRankingByParam(p, nx_cr_area_info) ; if (cr) return cr ; if (typeof nx_cr_right_area_info != \\'undefined\\') cr = getCRRankingByParam(p, nx_cr_right_area_info) ; return cr ; } function isOutlink (u) { if (!u || u.indexOf(\"://\") < 0) return false; var b = (u.search(/^\\\\w*:\\\\/\\\\/([^:/?]*\\\\.|)*(?!(ad)?cr\\\\.)[^.:/?]+\\\\.+naver\\\\.com(:\\\\d*)?(\\\\/|$)/) < 0);  return b; } function nxGetCRURL (m, a, b, c, d, e) { var p = \"\" ; var u ; if (c==undefined && d==undefined && e==undefined) { p = (a==undefined?\"\":\"&\"+a) + (b==undefined || a.indexOf(\"u=\")==0 || a.indexOf(\"&u=\") > 0 ?\"\":\"&u=\"+urlencode(b)) ; u = b ; } else { p = (a==undefined ? \"\" : \"&a=\"+urlencode(a)) + (b==undefined ? \"\" : \"&r=\"+urlencode(b)) + (c==undefined ? \"\" : \"&i=\"+urlencode(c)) + (d==undefined ? \"\" : \"&u=\"+urlencode(d)) + (e==undefined ? \"\" : \"&\"+e) ; u = d ; } if (! p) return null ; var url ; if (naver.search.https) { url = (naver.search.meta_referrer ? \"/p/crd\" : \"/p/cr\") + \"/rd\"; if (m != 0) m = 1; } else { out = isOutlink(u); url = \"http://cr.naver.com\" + (g_D && out ? \"/nr\" : \"/rd\"); if (m != 0) m = g_D && out ? 2 : 1; } url += \"?m=\" + m + \"&\" + cpip() + \"&\" + nxGetCommonCRParam() + p; return url; } function tCR (a, b, c, d, e) { var l = nxGetCRURL(0, a, b, c, d, e) ; var cr = getCRRanking(l) ; if (cr > 0) l = l + \"&cr=\" + cr ; if (document.images) (new Image()).src = l ; else document.location = l ; return false ; } function gCR (u, a, r, i, e, t) { if (u) u = urlexpand(u) ; var l = nxGetCRURL(1, a, r, i, u, e) ; var o = document.createElement(\"a\") ; var cr = getCRRanking(l) ; if (cr > 0) l = l + \"&cr=\" + cr ; if (o.click) { o.href = l ; o.style.display = \"none\" ; document.body.appendChild(o) ; o.click() ; } else document.location = l ; } function goCR (o, p, t) { var u = o.href ; tt_sub_disable(o) ; if (p.indexOf(\"u=javascript\") >= 0) t = true ; var n = (o.ownerDocument==document && o.target && o.target!=\"_self\" && o.target!=\"_parent\" && o.target!=\"_top\") && !(window.location.protocol&&window.location.protocol.indexOf(\"https:\")==0) ; var cr = getCRRanking(p) ; if (cr > 0) p = p + \"&cr=\" + cr ;  if (!(u && u.indexOf(\"http://cr.naver.com/\")==0) && !(o.getAttribute !== undefined && o.getAttribute(\"crurl\"))) { if (0 && u && u.indexOf(\"/search.naver?\") >= 0) { var str = \"\" ;   p = p.replace(/(((?:^|&)u=).*%2Fsearch.naver%3F[^&]*)/, \\'$1\\' + str) ; } u = nxGetCRURL(t?0:(n?-1:1), p, u) ; } if (u && !u.match(/m=0&/)) { var a = o.innerHTML ; if (g_D && naver.search.https && naver.search.meta_referrer && o.href && isOutlink(o.href)) o.setAttribute(\"rel\", \"noreferrer\"); o.href = u ; if (o.getAttribute !== undefined) o.setAttribute(\"crurl\", \"1\"); if (o.innerHTML != a) o.innerHTML = a ; } else if (document.images) (new Image()).src = u ; return true ; } function goOtherCR (o, p) { return goCR(o, p, false) ; } function goOtherTCR (o, p) { return goCR(o, p, true) ; } function get_form_url (o) { var url = o.getAttribute(\"action\") ; if (url == null) url = \"\" ; var e, n = 0 ; for (var i=0; i<o.elements.length; i++) { e = o.elements[i] ; if (e.disabled || !e.name) continue ; url += (n++>0?\"&\":url.indexOf(\"?\")<0?\"?\":url.indexOf(\"?\")<url.length-1?\"&\":\"\") + encodeURIComponent(e.name) + \"=\" + encodeURIComponent(e.value) ; } return url ; } function formCR (o, area, rank, id) { if (typeof o == \\'string\\') o = document.getElementById(o) ; var target = o.getAttribute(\"target\") ; if (target && target!=\"_self\" && target!=\"_parent\" && target!=\"_top\" || /^post$/i.test(o.getAttribute(\"method\"))) { tCR(area, rank, id) ; o.submit() ; return false ; } var url = get_form_url(o) ; var a = document.createElement(\"a\") ; a.href = url ; var p = area != undefined ? \"a=\" + area : \"\" ; if (rank != undefined) p += (p?\"&\":\"\") + \"r=\" + encodeURIComponent(rank) ; if (id != undefined) p += (p?\"&\":\"\") + \"i=\" + encodeURIComponent(id) ; if (url != undefined) p += (p?\"&\":\"\") + \"u=\" + encodeURIComponent(urlexpand(url)) ; goCR(a, p) ; if (navigator.userAgent.indexOf(\\'MSIE\\') > 0) { a.style.display = \\'none\\' ; o.appendChild(a) ; a.click() ; } else document.location = a.href ; return false ; } function goHist (o, a, e) { return true ; } function rank_val (rank, name, sign, number, ad_onair) { this.rank = rank ; this.name = name ; this.sign = sign ; this.number = number ; this.ad_onair = ad_onair ; } function rr_hotquery_val (titleImg, totalLink, ad_onair) { this.titleImg = titleImg ; this.totalLink = totalLink ; this.ad_onair = ad_onair ; } function rr_append () { for (var i=0; i<rr_list.length; i++) if (rr_list[i].qname==hotqry_Name && rr_list[i].dir==hotqry_Dir) return 0 ; var o = { order:hotqry_Order, contid:hotqry_ContID, qname:hotqry_Name, dir:hotqry_Dir, toprank:hotqry_TopRank, rankdown:hotqry_RankDown, clicklog:hotqry_ClickLog, toprank_idx:toprank_idx, lowrank_idx:lowrank_idx, topranklist:toprank, lowranklist:lowrank_idx>=0?lowrank:null } ; rr_list = rr_list.concat(o) ; return 1 ; } var msg_hidden_idle=null; function msg (id) { if(msg_hidden_idle) clearInterval(msg_hidden_idle); if(id) { var mid=document.getElementById(id); mid.style.display=\\'\\'; mid.style.visibility=\\'visible\\'; } } function msg_hidden (id, f) { if(f) hidden(id); else msg_hidden_idle=setInterval(\"hidden(\\'\"+id+\"\\')\",100); } function hidden (id) { var mid=document.getElementById(id); mid.style.display=\\'none\\'; mid.style.visibility=\\'hidden\\'; } function nx_check_basic () { return ; } function nx_set_cookie (name, value, expire, domain) { var cookie = name + \"=\" + escape(value); if (expire != null) { if (expire instanceof Date) { cookie = cookie + \"; expires=\" + expire.toUTCString(); } else { var exdate = new Date((new Date()).getTime() + expire*1000); cookie = cookie + \"; expires=\" + exdate.toUTCString(); } } cookie = cookie + \"; path=/\"; if (domain != null) { cookie = cookie + \"; domain=\" + domain; } document.cookie = cookie; } function nx_get_cookie (name) { var cookie_list = document.cookie.split(/\\\\s*;\\\\s*/); for (var i = 0; i < cookie_list.length; i++) { var tmp_list = cookie_list[i].split(\"=\"); var c_name = trim_space(tmp_list[0]); var c_value = tmp_list[1]; if (name == c_name) { return unescape(c_value); } } return null; } var nx_default_charset = document.charset ; function nx_form_emul_charset (form) { if (/msie/i.test(navigator.userAgent) && !/opera/i.test(navigator.userAgent)) { document.charset = form.acceptCharset ; window.onbeforeunload = function () { document.charset = nx_default_charset ; } ; } return true; } (function() { function ignore(e) { var tagName = e.target.tagName.toUpperCase(); var ignoreTargets = [\"INPUT\", \"SELECT\", \"TEXTAREA\", \"EMBED\", \"OBJECT\"]; var isKeyV = e.key.toLowerCase() === \"v\"; if (ignoreTargets.indexOf(tagName) !== -1 || isContentEditable(e)) return true; else if (e.altKey) return true; else if (e.ctrlKey && !isKeyV) return true; else if (e.metaKey && !isKeyV) return true; else if (isSpaceKey(e)) return true; return false; } function isContentEditable(e) { return e.target.contentEditable === \\'true\\'; } function stop(e) { e.preventDefault(); e.stopPropagation(); } function focus(reset) { var query = document.getElementById(\"nx_query\"); scrollTo(0, 0); if (reset) query.value = \"\"; query.focus(); query.select(); } function isSpaceKey(e) { return e.code === \"Space\" || e.key === \"Spacebar\" || e.key === \" \"; } function isShiftKeyAndSpaceKey(e) { return e.shiftKey && isSpaceKey(e); } function isF2Key(e) { return e.key === \"F2\"; } function isInsertKey(e) { return e.key === \"Insert\" || e.code === \"Insert\"; } function isSingleCharKey(e) { return e.key.length === 1; } document.addEventListener(\"keydown\", function onKeydown(e) { try { if (ignore(e)) return; if (isShiftKeyAndSpaceKey(e) || isF2Key(e) || isInsertKey(e)) { stop(e); focus(); } else if (isSingleCharKey(e)) { focus(true); } } catch (err) {} }); })(); (function(exportTarget) { var lcs_options = { nnb: true }; var lcs_version = \"v0.8.3\"; var lcs_add = {}; var lcs_bc = {}; var lcs_perf = {}; var lcs_do_count = 0; var lcs_do_retry_count = 0; var lcs_waiting_pageshow = false; function lcs_do(optional_etc) { var etc = optional_etc || {}; if (lcs_waiting_pageshow) { return; } var retry = function(__etc) { return function() { window.setTimeout(function() { lcs_waiting_pageshow = false; lcs_do(__etc); }, 10); } }(etc); if (document.readyState !== \"complete\") { var eventName = \"onpageshow\" in window ? \"pageshow\" : \"load\"; if (document.addEventListener) { window.addEventListener(eventName, retry, false); } else { window.attachEvent(\"on\"+ eventName, retry); } lcs_do_retry_count++; lcs_waiting_pageshow = true; return; } if (!window.lcs_SerName) { window.lcs_SerName = \"lcs.naver.com\"; } var rs = \"\"; var index; var itarVal; var doc = document; var wlt = window.location; var lcsServerAddr; try { lcsServerAddr = \"https://\" + window.lcs_SerName + \"/m?\"; } catch (e) { return; } try { rs = lcsServerAddr + \"u=\" + encodeURIComponent(wlt.href) + \"&e=\" + (doc.referrer ? encodeURIComponent(doc.referrer) : \"\"); } catch (e) {} try { if (typeof lcs_add.i == \"undefined\") lcs_add.i = \"\"; if (lcs_do_count < 1) { lcs_setBrowserCapa(); if (lcs_options.nnb) { lcs_setNNB(); } lcs_setConnectionType(); lcs_setNavigationTiming(); var loadEventStart = lcs_perf[\"loadEventStart\"] || 0; var loadEventEnd = lcs_perf[\"loadEventEnd\"] || 0; if (loadEventEnd < loadEventStart && lcs_do_retry_count < 3) { lcs_do_retry_count++; lcs_waiting_pageshow = true; retry(); return; } lcs_setPaintTiming(); lcs_setNavigationType(); } for (index in lcs_bc) { if (typeof lcs_bc[index] !== \"function\") rs += \"&\" + index + \"=\" + encodeURIComponent(lcs_bc[index]); } for (index in lcs_add) { itarVal = lcs_add[index]; if (itarVal !== undefined && typeof itarVal !== \"function\") { rs += \"&\" + index + \"=\" + encodeURIComponent(itarVal); } } if (lcs_do_count < 1) { for (index in lcs_perf) { itarVal = lcs_perf[index]; if (itarVal) { rs += \"&\" + index + \"=\" + encodeURIComponent(itarVal); } } } var dni = !!etc.dni ? etc.dni : getCookie(\"NAPP_DI\"); if (!!dni) { etc.dni = dni; } else { delete etc.dni; } for (index in etc) { if ( (index.length >= 3 && typeof etc[index] !== \"function\") || index === \"qy\" ) { rs += \"&\" + index + \"=\" + encodeURIComponent(etc[index]); } } if (!!etc === false || !!etc.pid === false) { var pidFallback; if (window.g_pid) { pidFallback = g_pid; } else { pidFallback = lcs_get_lpid(); } rs += \"&pid=\" + encodeURIComponent(pidFallback); } var timeStr = new Date().getTime(); rs += \"&ts=\" + timeStr; rs += \"&EOU\"; var obj = document.createElement(\"img\"); obj.src = rs; obj.onload = function() { obj.onload = null; return; }; lcs_do_count++; } catch (e) { return; } } function getCookie(name) { var value = document.cookie.match(\\'(^|;) ?\\' + name + \\'=([^;]*)(;|$)\\'); return value? value[2] : \"\"; } function lcs_do_gdid(gdid, etc) { try { if (gdid) { lcs_add[\"i\"] = gdid; if (etc) { lcs_do(etc); } else { lcs_do(); } } } catch (e) {} } function getLocalStorage() { var localStorage = null; try { localStorage = window.localStorage; } catch (e) {} try { if (!localStorage) localStorage = window.sessionStorage; } catch (e) {} return localStorage || null; } function lcs_setNNB() { try { var lsg = getLocalStorage(); if (lsg) { if (lsg.ls) { var lc = lsg.ls; if (lc.length == 13) { lcs_add[\"ls\"] = lc; return; } } var nnb = lcs_getNNBfromCookie(); if (nnb != null && nnb != \"\") { lsg.ls = nnb; lcs_add[\"ls\"] = nnb; } } } catch (e) {} } function lcs_setBrowserCapa() { lcs_bc[\"os\"] = lcs_getOS(); lcs_bc[\"ln\"] = lcs_getlanguage(); lcs_bc[\"sr\"] = lcs_getScreen(); lcs_bc[\"pr\"] = window.devicePixelRatio || 1; var windowSize = lcs_getWindowSize(); lcs_bc[\"bw\"] = windowSize[\"bw\"]; lcs_bc[\"bh\"] = windowSize[\"bh\"]; lcs_bc[\"c\"] = lcs_getColorDepth(); lcs_bc[\"j\"] = lcs_getJavaEnabled(); lcs_bc[\"k\"] = lcs_getCookieEnabled(); } function lcs_getOS() { var lcs_os = \"\"; try { navigator.platform ? (lcs_os = navigator.platform) : \"\"; } catch (e) {} return lcs_os; } function lcs_getlanguage() { var lcs_ln = \"\"; try { navigator.userLanguage ? (lcs_ln = navigator.userLanguage) : navigator.language ? (lcs_ln = navigator.language) : \"\"; } catch (e) {} return lcs_ln; } function lcs_getScreen() { var lcs_sr = \"\"; try { if (window.screen && screen.width && screen.height) { lcs_sr = screen.width + \"x\" + screen.height; } else if (window.java || self.java) { var sr = java.awt.Toolkit.getDefaultToolkit().getScreenSize(); lcs_sr = sr.width + \"x\" + sr.height; } } catch (e) { lcs_sr = \"\"; } return lcs_sr; } function lcs_getWindowSize() { var doc = document; var size = { bw: \"\", bh: \"\" }; try { size[\"bw\"] = doc.documentElement.clientWidth ? doc.documentElement.clientWidth : doc.body.clientWidth; size[\"bh\"] = doc.documentElement.clientHeight ? doc.documentElement.clientHeight : doc.body.clientHeight; } catch (e) {} return size; } function lcs_getColorDepth() { var colorDepth = \"\"; try { if (window.screen) { colorDepth = screen.colorDepth ? screen.colorDepth : screen.pixelDepth; } else if (window.java || self.java) { var c = java.awt.Toolkit.getDefaultToolkit() .getColorModel() .getPixelSize(); colorDepth = c; } } catch (e) { colorDepth = \"\"; } return colorDepth; } function lcs_getJavaEnabled() { var jsEnable = \"\"; try { jsEnable = navigator.javaEnabled() ? \"Y\" : \"N\"; } catch (e) {} return jsEnable; } function lcs_getCookieEnabled() { var cookieEnable = \"\"; try { cookieEnable = navigator.cookieEnabled ? \"Y\" : \"N\"; } catch (e) {} return cookieEnable; } function lcs_getNNBfromCookie() { try { var ck = document.cookie; var k, v, i, ArrCookies = ck.split(\";\"); for (i = 0; i < ArrCookies.length; i++) { k = ArrCookies[i].substr(0, ArrCookies[i].indexOf(\"=\")); v = ArrCookies[i].substr(ArrCookies[i].indexOf(\"=\") + 1); k = k.replace(/^\\\\s+|\\\\s+$/g, \"\"); if (k == \"NNB\") { return unescape(v); } } } catch (e) {} } function lcs_setConnectionType() { var connection = navigator.connection; if (connection) { if (connection.type && connection.type.length > 1) { lcs_add[\"ct\"] = connection.type; } if (connection.effectiveType) { lcs_add[\"ect\"] = connection.effectiveType; } } } function lcs_setNavigationTiming() { var performance = window.performance || {}; if (performance.timing) { var pt = performance.timing; for (var key in pt) { var value = pt[key]; if (typeof value === \"number\") { lcs_perf[key] = value; } } } } function lcs_setPaintTiming() { var performance = window.performance || {}; try { if (performance.getEntriesByType) { var performanceEntries = performance.getEntriesByType(\"paint\"); performanceEntries.forEach(function(performanceEntry, i, entries) { var name = performanceEntry.name; switch (name) { case \"first-paint\": case \"first-contentful-paint\": lcs_perf[name] = performanceEntry.startTime; break; default: break; } }); } else { } } catch (e) { console.warn(e); } } function lcs_setNavigationType() { var ngt = getNavigationType(); if (ngt !== undefined) { lcs_perf[\"ngt\"] = ngt; } } function getNavigationType() { var performance = window.performance || {}; if (performance.navigation) { return performance.navigation.type; } return; } var lpid = null; function lcs_create_lpid() { var uaID; var lsg = getLocalStorage(); var nnb = lsg ? lsg.ls : null; if (nnb) { uaID = nnb; } else { var nnbFallback; nnbFallback = navigator.userAgent + Math.random(); uaID = nnbFallback; } var performance = window.performance || {}; var pageURL = location.href; var currentTime; if (performance.now) { currentTime = performance.now(); } else { currentTime = new Date().getTime(); } lpid = hashFunction.md5(uaID + pageURL + currentTime); return lpid; } function lcs_get_lpid() { if (lpid === null) { lpid = lcs_create_lpid(); } return lpid; } function lcs_update_lpid() { lpid = lcs_create_lpid(); return lpid; } var hashFunction = {}; (function(exportTarget) { function safeAdd(x, y) { var lsw = (x & 0xffff) + (y & 0xffff); var msw = (x >> 16) + (y >> 16) + (lsw >> 16); return (msw << 16) | (lsw & 0xffff); } function bitRotateLeft(num, cnt) { return (num << cnt) | (num >>> (32 - cnt)); } function md5cmn(q, a, b, x, s, t) { return safeAdd( bitRotateLeft(safeAdd(safeAdd(a, q), safeAdd(x, t)), s), b ); } function md5ff(a, b, c, d, x, s, t) { return md5cmn((b & c) | (~b & d), a, b, x, s, t); } function md5gg(a, b, c, d, x, s, t) { return md5cmn((b & d) | (c & ~d), a, b, x, s, t); } function md5hh(a, b, c, d, x, s, t) { return md5cmn(b ^ c ^ d, a, b, x, s, t); } function md5ii(a, b, c, d, x, s, t) { return md5cmn(c ^ (b | ~d), a, b, x, s, t); } function binlMD5(x, len) { x[len >> 5] |= 0x80 << len % 32; x[(((len + 64) >>> 9) << 4) + 14] = len; var i; var olda; var oldb; var oldc; var oldd; var a = 1732584193; var b = -271733879; var c = -1732584194; var d = 271733878; for (i = 0; i < x.length; i += 16) { olda = a; oldb = b; oldc = c; oldd = d; a = md5ff(a, b, c, d, x[i], 7, -680876936); d = md5ff(d, a, b, c, x[i + 1], 12, -389564586); c = md5ff(c, d, a, b, x[i + 2], 17, 606105819); b = md5ff(b, c, d, a, x[i + 3], 22, -1044525330); a = md5ff(a, b, c, d, x[i + 4], 7, -176418897); d = md5ff(d, a, b, c, x[i + 5], 12, 1200080426); c = md5ff(c, d, a, b, x[i + 6], 17, -1473231341); b = md5ff(b, c, d, a, x[i + 7], 22, -45705983); a = md5ff(a, b, c, d, x[i + 8], 7, 1770035416); d = md5ff(d, a, b, c, x[i + 9], 12, -1958414417); c = md5ff(c, d, a, b, x[i + 10], 17, -42063); b = md5ff(b, c, d, a, x[i + 11], 22, -1990404162); a = md5ff(a, b, c, d, x[i + 12], 7, 1804603682); d = md5ff(d, a, b, c, x[i + 13], 12, -40341101); c = md5ff(c, d, a, b, x[i + 14], 17, -1502002290); b = md5ff(b, c, d, a, x[i + 15], 22, 1236535329); a = md5gg(a, b, c, d, x[i + 1], 5, -165796510); d = md5gg(d, a, b, c, x[i + 6], 9, -1069501632); c = md5gg(c, d, a, b, x[i + 11], 14, 643717713); b = md5gg(b, c, d, a, x[i], 20, -373897302); a = md5gg(a, b, c, d, x[i + 5], 5, -701558691); d = md5gg(d, a, b, c, x[i + 10], 9, 38016083); c = md5gg(c, d, a, b, x[i + 15], 14, -660478335); b = md5gg(b, c, d, a, x[i + 4], 20, -405537848); a = md5gg(a, b, c, d, x[i + 9], 5, 568446438); d = md5gg(d, a, b, c, x[i + 14], 9, -1019803690); c = md5gg(c, d, a, b, x[i + 3], 14, -187363961); b = md5gg(b, c, d, a, x[i + 8], 20, 1163531501); a = md5gg(a, b, c, d, x[i + 13], 5, -1444681467); d = md5gg(d, a, b, c, x[i + 2], 9, -51403784); c = md5gg(c, d, a, b, x[i + 7], 14, 1735328473); b = md5gg(b, c, d, a, x[i + 12], 20, -1926607734); a = md5hh(a, b, c, d, x[i + 5], 4, -378558); d = md5hh(d, a, b, c, x[i + 8], 11, -2022574463); c = md5hh(c, d, a, b, x[i + 11], 16, 1839030562); b = md5hh(b, c, d, a, x[i + 14], 23, -35309556); a = md5hh(a, b, c, d, x[i + 1], 4, -1530992060); d = md5hh(d, a, b, c, x[i + 4], 11, 1272893353); c = md5hh(c, d, a, b, x[i + 7], 16, -155497632); b = md5hh(b, c, d, a, x[i + 10], 23, -1094730640); a = md5hh(a, b, c, d, x[i + 13], 4, 681279174); d = md5hh(d, a, b, c, x[i], 11, -358537222); c = md5hh(c, d, a, b, x[i + 3], 16, -722521979); b = md5hh(b, c, d, a, x[i + 6], 23, 76029189); a = md5hh(a, b, c, d, x[i + 9], 4, -640364487); d = md5hh(d, a, b, c, x[i + 12], 11, -421815835); c = md5hh(c, d, a, b, x[i + 15], 16, 530742520); b = md5hh(b, c, d, a, x[i + 2], 23, -995338651); a = md5ii(a, b, c, d, x[i], 6, -198630844); d = md5ii(d, a, b, c, x[i + 7], 10, 1126891415); c = md5ii(c, d, a, b, x[i + 14], 15, -1416354905); b = md5ii(b, c, d, a, x[i + 5], 21, -57434055); a = md5ii(a, b, c, d, x[i + 12], 6, 1700485571); d = md5ii(d, a, b, c, x[i + 3], 10, -1894986606); c = md5ii(c, d, a, b, x[i + 10], 15, -1051523); b = md5ii(b, c, d, a, x[i + 1], 21, -2054922799); a = md5ii(a, b, c, d, x[i + 8], 6, 1873313359); d = md5ii(d, a, b, c, x[i + 15], 10, -30611744); c = md5ii(c, d, a, b, x[i + 6], 15, -1560198380); b = md5ii(b, c, d, a, x[i + 13], 21, 1309151649); a = md5ii(a, b, c, d, x[i + 4], 6, -145523070); d = md5ii(d, a, b, c, x[i + 11], 10, -1120210379); c = md5ii(c, d, a, b, x[i + 2], 15, 718787259); b = md5ii(b, c, d, a, x[i + 9], 21, -343485551); a = safeAdd(a, olda); b = safeAdd(b, oldb); c = safeAdd(c, oldc); d = safeAdd(d, oldd); } return [a, b, c, d]; } function binl2rstr(input) { var i; var output = \"\"; var length32 = input.length * 32; for (i = 0; i < length32; i += 8) { output += String.fromCharCode((input[i >> 5] >>> i % 32) & 0xff); } return output; } function rstr2binl(input) { var i; var output = []; output[(input.length >> 2) - 1] = undefined; for (i = 0; i < output.length; i += 1) { output[i] = 0; } var length8 = input.length * 8; for (i = 0; i < length8; i += 8) { output[i >> 5] |= (input.charCodeAt(i / 8) & 0xff) << i % 32; } return output; } function rstrMD5(s) { return binl2rstr(binlMD5(rstr2binl(s), s.length * 8)); } function rstrHMACMD5(key, data) { var i; var bkey = rstr2binl(key); var ipad = []; var opad = []; var hash; ipad[15] = opad[15] = undefined; if (bkey.length > 16) { bkey = binlMD5(bkey, key.length * 8); } for (i = 0; i < 16; i += 1) { ipad[i] = bkey[i] ^ 0x36363636; opad[i] = bkey[i] ^ 0x5c5c5c5c; } hash = binlMD5(ipad.concat(rstr2binl(data)), 512 + data.length * 8); return binl2rstr(binlMD5(opad.concat(hash), 512 + 128)); } function rstr2hex(input) { var hexTab = \"0123456789abcdef\"; var output = \"\"; var x; var i; for (i = 0; i < input.length; i += 1) { x = input.charCodeAt(i); output += hexTab.charAt((x >>> 4) & 0x0f) + hexTab.charAt(x & 0x0f); } return output; } function str2rstrUTF8(input) { return unescape(encodeURIComponent(input)); } function rawMD5(s) { return rstrMD5(str2rstrUTF8(s)); } function hexMD5(s) { return rstr2hex(rawMD5(s)); } function rawHMACMD5(k, d) { return rstrHMACMD5(str2rstrUTF8(k), str2rstrUTF8(d)); } function hexHMACMD5(k, d) { return rstr2hex(rawHMACMD5(k, d)); } function md5(string, key, raw) { if (!key) { if (!raw) { return hexMD5(string); } return rawMD5(string); } if (!raw) { return hexHMACMD5(key, string); } return rawHMACMD5(key, string); } exportTarget.md5 = md5; })(hashFunction); exportTarget.lcs_do = lcs_do; exportTarget.lcs_do_gdid = lcs_do_gdid; exportTarget.lcs_get_lpid = lcs_get_lpid; exportTarget.lcs_update_lpid = lcs_update_lpid; exportTarget.lcs_version = lcs_version; })(window); if (window.addEventListener) window.addEventListener(\"load\", function() { lcs_do({\"pid\": \"hdOyPsprvmsssvdQOsossssssyZ-493085\", \"ssc\":\"tab.nx.all\"}) }, false) ; else lcs_do({\"pid\": \"hdOyPsprvmsssvdQOsossssssyZ-493085\", \"ssc\":\"tab.nx.all\"}) ; </script> <script type=\"text/javascript\" src=\"https://ssl.pstatic.net/sstatic/sdyn.js?f=/au/pc/_nx/jindo_1.5.3_171116.js+/search/js/nhn.Component.js+/search/js/jindo.Component.1.1.0.js+/search/js/jindo.component.library_120927.js+/au/s/pc/_common/jindo/jindo.Rolling_140526.js+/au/pc/_common/nhn.common_210406.js+/au/pc/_nx/2021/nx_jquery_0616.js+/au/pc/_nx/2020/nhn.common.ScriptErrorLogger.sauPc_201014.js+/au/pc/naver_autocomplete/naver.common.atcmp.naver_web_210408.js&amp;o=search\" crossorigin=\"anonymous\"></script> <script> if (0 && nhn.common.ScriptErrorLogger) { nhn.common.ScriptErrorLogger.sauPcStart(); } function nx_add_event_handler (event, func) { $Fn(func).attach(document, event) ; } </script> <script type=\"text/javascript\"> function nx_form_submit (f) { if (g_D || 0) f.action = \"\" ; if (typeof naver.search.option !== \\'undefined\\') naver.search.option.append_params(f, [\\'qdt\\', \\'qvt\\']); return true ; } </script><script type=\"text/javascript\"> var g_site = \"\" ; function document_write (s) { document.write(s) ; } nhn.jsLazyLoad = { include: function(a, b, c) { nx_js_lazyload(a, b, 0) ; } } ; nx_js_defer_load(\"https://ssl.pstatic.net/sstatic/au/s/pc/_others/nxtt/search_om.js\", function() {NXTT.div=document.getElementById(\"nxtt_div\");}, 50); </script></head> <body class=\\'wrap-new api_animation\\'> <div id=nxtt_div style=\"display:none;position:absolute;border-width:0;z-index:11000\"></div> <div id=\"u_skip\"> <a href=\"#lnb\"><span>메뉴 영역으로 바로가기</span></a> <a href=\"#content\"><span>본문 영역으로 바로가기</span></a> </div> <div id=\"wrap\"> <div id=\"header_wrap\" role=\"heading\"> <div class=\"api_floating_header\">   <div class=\"gnb_wrap\"> <div class=\"header_group\"> <div class=\"search_area\"> <h1 class=\"logo\"><a href=\"https://www.naver.com\" onclick=\"return goOtherCR(this, \\'a=sta.naver&amp;r=&amp;i=&amp;u=\\'+urlencode(this.href));\" class=\"link\"><i class=\"spnew ico_logo\">NAVER</i></a></h1> <form id=\"nx_search_form\" name=\"search\" action=\"?\" method=\"get\" role=\"search\" onsubmit=\"return nx_form_submit(this)\"> <fieldset class=\"greenwindow\"> <legend>검색</legend> <input type=\"hidden\" name=\"sm\" value=\"tab_hty.top\"> <input type=\"hidden\" name=\"where\" value=\"nexearch\"> <div class=\"greenbox\"> <input type=\"text\" id=\"nx_query\" name=\"query\" class=\"box_window\" maxlength=255 accesskey=\"s\" value=\"부산날씨\" autocomplete=\"off\" placeholder=\"검색어를 입력해 주세요.\" data-atcmp-element> </div> <input type=\"hidden\" name=\"oquery\" value=\"부산날씨\"> <input type=\"hidden\" name=\"tqi\" value=\"hdOyPsprvmsssvdQOsossssssyZ-493085\"> <input type=\"hidden\" value=\"\" name=\"acq\" disabled> <input type=\"hidden\" value=\"\" name=\"acr\" disabled> <input type=\"hidden\" value=\"\" name=\"qdt\" disabled> <input type=\"hidden\" value=\"\" name=\"acir\" disabled> <input type=\"hidden\" value=\"\" name=\"os\" disabled> <input type=\"hidden\" value=\"\" name=\"bid\" disabled> <input type=\"hidden\" value=\"\" name=\"pkid\" disabled> <input type=\"hidden\" value=\"\" name=\"eid\" disabled> <input type=\"hidden\" value=\"\" name=\"mra\" disabled>     <div class=\"setkr_area\"> <a id=\"ke_kbd_btn\" role=\"button\" href=\"#\" class=\"bt_setkr\" aria-pressed=\"false\" onclick=\"return tCR(\\'a=sch.ime\\');\"><i class=\"spnew ico_keyboard\">한글 입력기</i></a> <div id=\"_nx_kbd\" style=\"display:none;\"></div> </div> <script> (function() { var startApplication = function() { var jsUrl = \"https://ssl.pstatic.net/sstatic/au/pc/ime/ime_201105.js\"; var ime; jQuery(\"#ke_kbd_btn\").on(\"click\", function(){ require([jsUrl], function(IMEKeyboard) { if (ime) { ime.toggle(); return; } ime = new IMEKeyboard({selector: { TOGGLE_BTN: \"#ke_kbd_btn\", CONTENTS_AREA: \"#_nx_kbd\", INPUT: \"#nx_query\" }}).toggle(); }, function () { alert(\"네트워크 상태가 안 좋아 한영입력기를 불러오지 못했습니다.\\\\n잠시 후 다시 시도해 주세요.\"); }); }); }; naver.common.load_js(window.require ? null : naver.common.gv.REQUIRE_JS, startApplication, true, 150); })(); </script> <div class=\"autocomplete\"> <a role=\"button\" href=\"#\" class=\"bt_atcp _btn_arw\" id=\"nautocomplete\" aria-pressed=\"false\" data-atcmp-element><i class=\"spnew ico_arrow\">자동완성 레이어</i></a> <div class=\"ly_atcmp\" id=\"nx_autoframe_top\" style=\"display:none\" data-atcmp-element> <div class=\"api_atcmp_wrap\"> <div class=\"atcmp_fixer _recent_layer\" style=\"display:none;\"> <div class=\"atcmp_header _recent_header\"> <strong class=\"tit\">최근검색어</strong> <div class=\"option\"> <a role=\"button\" href=\"#\" class=\"item _delAll\" aria-pressed=\"false\">전체삭제</a> </div> </div> <div class=\"atcmp_container\"> <ul class=\"kwd_lst _recent\"> <li class=\"item _item\" data-rank=\"@rank@\" data-template-type=\"history\" data-keyword=\"@in_txt@\"> <a href=\"#\" class=\"kwd\"> <span class=\"fix\"><span class=\"common_ico_kwd\"><i class=\"imsc ico_search\"></i></span><span>@txt@</span></span> </a> <span class=\"etc\"> <em class=\"date\">@date@.</em> <a href=\"#\" role=\"button\" class=\"bt_item _del\" aria-pressed=\"false\"><i class=\"imsc ico_del\">삭제</i></a> </span> </li> </ul> <div class=\"kwd_info kwd_off _offMsg\" style=\"display: none;\">검색어 저장 기능이 꺼져 있습니다.<br><span class=\"kwd_dsc\">설정이 초기화 된다면 <a onclick=\"return goOtherCR(this,\\'a=sly.help&amp;r=&amp;i=&amp;u=\\'+urlencode(this.href));\" href=\"https://help.naver.com/support/alias/search/word/word_29.naver\" target=\"_blank\" class=\"kwd_help\">도움말</a>을 확인해주세요.</span></div> <div class=\"kwd_info kwd_none _recentNone\" style=\"display: none;\">최근 검색어 내역이 없습니다.<br><span class=\"kwd_dsc\">설정이 초기화 된다면 <a onclick=\"return goOtherCR(this,\\'a=sly.help&amp;r=&amp;i=&amp;u=\\'+urlencode(this.href));\" href=\"https://help.naver.com/support/alias/search/word/word_29.naver\" target=\"_blank\" class=\"kwd_help\">도움말</a>을 확인해주세요.</span></div> </div> <div class=\"atcmp_footer\"> <span class=\"side_opt_area\"> <span class=\"opt_item\"><a onclick=\"return goOtherCR(this,\\'a=sly.help&amp;r=&amp;i=&amp;u=\\'+urlencode(this.href));\" href=\"https://help.naver.com/support/alias/search/word/word_29.naver\" target=\"_blank\">도움말</a></span> </span> <span class=\"rside_opt_area\"> <span class=\"opt_item\"> <a href=\"#\" class=\"close _keywordOnOff\">자동저장 끄기</a> </span> </span> </div> </div> <div class=\"atcmp_fixer _atcmp_layer\" style=\"display:none;\"> <div class=\"atcmp_container _words\"> <div class=\"atcmp_correct type_lotto _answer\" data-template-type=\"answer_3\" data-code=\"@code@\" data-keyword=\"@1@\"> <a href=\"#\" class=\"link_item\"> <span class=\"common_ico_kwd\"><i class=\"imsc ico_search\"></i></span> <div class=\"dsc_area\"> <span class=\"tit\">@5@회차 당첨번호</span> <span class=\"dsc\"> <span class=\"item\">추첨 @13@.</span><span class=\"item\">지급기한 1년</span> </span> </div> <span class=\"etc_area\"> <span class=\"etc lotto\"> <em class=\"n@6@\">@6@</em><em class=\"n@7@\">@7@</em><em class=\"n@8@\">@8@</em><em class=\"n@9@\">@9@</em><em class=\"n@10@\">@10@</em><em class=\"n@11@\">@11@</em><em class=\"imsc_bf bonus n@12@\">@12@</em> </span> </span> </a> </div> <div class=\"atcmp_correct type_exchange _answer\" data-template-type=\"answer_9\" data-code=\"@code@\" data-keyword=\"@1@\"> <a href=\"#\" class=\"link_item @11@\"> <span class=\"common_ico_kwd\"><i class=\"imsc ico @12@\">@14@</i></span> <div class=\"dsc_area\"> <span class=\"tit\">@txt@<span class=\"sub\">@currency@</span></span> <span class=\"dsc\"> <span class=\"item\"><i class=\"imsc ico_arr\"></i>@8@(@9@%)</span> </span> </div> <span class=\"etc_area\"> <span class=\"etc\"><em class=\"num\">@6@</em>원</span> </span> </a> </div> <div class=\"atcmp_correct type_weather _answer\" data-template-type=\"answer_11\" data-code=\"@code@\" data-keyword=\"@1@\"> <a href=\"#\" class=\"link_item @12@\"> <span class=\"common_ico_kwd\"><i class=\"imsc ico_search\"></i></span> <div class=\"dsc_area\"> <span class=\"tit\">@txt@</span> <span class=\"dsc\"> <span class=\"item\">@7@, @message@</span> </span> </div> <span class=\"etc_area\"> <span class=\"etc\"> <span class=\"ico_weather\"><i class=\"imsc ico ico@iconNo@\">@7@</i></span> <em class=\"degree\">@8@<sup class=\"celsius\">°</sup></em> </span> </span> </a> </div> <div class=\"atcmp_correct type_site _answer\" data-template-type=\"answer_17\" data-code=\"@code@\" data-keyword=\"@1@\"> <a href=\"@5@\" class=\"link_item\" target=\"_blank\"> <span class=\"common_ico_kwd\"><i class=\"imsc ico_url\"></i></span> <div class=\"dsc_area\"> <span class=\"tit\">@txt@</span> <span class=\"dsc\"> <span class=\"item\">@5@</span> </span> </div> <span class=\"etc_area\"> <span class=\"etc\">바로가기</span> </span> </a> </div> <ul class=\"kwd_lst _kwd_list\"> <li class=\"item _item\" data-rank=\"@rank@\" data-template-type=\"suggestion\" data-keyword=\"@in_txt@\"> <a href=\"#\" class=\"kwd\"> <span class=\"fix\"><span class=\"common_ico_kwd\"><i class=\"imsc ico_search\"></i></span>@txt@</span> </a> <span class=\"etc\"> <a href=\"#\" role=\"button\" class=\"bt_item _add\" aria-pressed=\"false\"><i class=\"imsc ico_insert\">추가</i></a> </span> </li> <li class=\"item has_correct _item\" data-rank=\"@rank@\" data-template-type=\"history\" data-keyword=\"@in_txt@\"> <a href=\"#\" class=\"kwd\"> <span class=\"fix\"><span class=\"common_ico_kwd\"><i class=\"imsc ico_search\"></i></span>@txt@</span> </a> <span class=\"etc\"> <em class=\"date\">@date@.</em> <a href=\"#\" role=\"button\" class=\"bt_item _add\" aria-pressed=\"false\"><i class=\"imsc ico_insert\">추가</i></a> </span> </li> </ul> <li class=\"item has_correct _item\" data-rank=\"@rank@\" data-intend-rank=\"@intendRank@\" data-template-type=\"intend\" data-keyword=\"@transQuery@\"> <a href=\"#\" class=\"kwd\"> <span class=\"fix\"><span class=\"common_ico_kwd\"><i class=\"imsc ico_search\"></i></span>@query@ <span class=\"context\">@intend@</span></span> </a> <span class=\"etc\"> <a href=\"#\" role=\"button\" class=\"bt_item _add\" aria-pressed=\"false\"><i class=\"imsc ico_insert\">추가</i></a> </span> </li> <div class=\"atcmp_alert _alert\"> <div class=\"dsc_election\"> <p class=\"dsc\"> <i class=\"imsc ico_election\"></i><span class=\"_alert_passage\"></span> </p> <span class=\"dsc_inner\"> <span class=\"_alert_passage2\"></span> <a href=\"#\" target=\"_blank\" class=\"link _alert_link\" onclick=\"return goOtherCR(this,\\'a=sug.vote&r=&i=&u=\\'+urlencode(this.href));\">자세히보기</a> </span> </div> </div> <div class=\"atcmp_plus _plus\"> <div class=\"dsc_plus\"> <a onclick=\"return goOtherCR(this,\\'a=sug.cxhelp&amp;r=&amp;i=&amp;u=\\'+urlencode(this.href));\" href=\"https://help.naver.com/support/alias/search/word/word_16.naver\" target=\"_blank\" class=\"link_dsc\">관심사를 반영한 컨텍스트 자동완성<i class=\"imsc ico_help\">도움말</i></a> </div> <div class=\"switch\"> <a role=\"button\" href=\"#\" class=\"bt_switch active _plus_btn\" aria-pressed=\"false\"><i class=\"imsc ico_option\">컨텍스트 자동완성</i></a> </div> <div class=\"layer_plus _plus_layer\"> <strong class=\"tit\">컨텍스트 자동완성</strong> <div class=\"_plus_layer_isloggedin\" style=\"display:none\"> <p class=\"dsc\">ON/OFF 설정은<br>해당기기(브라우저)에 저장됩니다.</p> <div class=\"btn_area\"> <a onclick=\"return goOtherCR(this,\\'a=sug.cxhelp&amp;r=&amp;i=&amp;u=\\'+urlencode(this.href));\" href=\"https://help.naver.com/support/alias/search/word/word_16.naver\" target=\"_blank\" class=\"btn btn_view\">자세히</a> </div> </div> <div class=\"_plus_layer_isnotloggedin\" style=\"display:none\"> <p class=\"dsc\"><em class=\"txt\">동일한 시간대/연령/남녀별</em> 사용자 그룹의<br>관심사에 맞춰 자동완성을 제공합니다.</p> <div class=\"btn_area\"> <a href=\"https://nid.naver.com/nidlogin.login?url=https%3A%2F%2Fsearch.naver.com%2Fsearch.naver%3Fquery%3D%25EB%25B6%2580%25EC%2582%25B0%25EB%2582%25A0%25EC%2594%25A8\" onclick=\"return goOtherCR(this,\\'a=sug.cxlogin&amp;r=&amp;i=&amp;u=\\'+urlencode(this.href));\" class=\"btn btn_login\">로그인</a> <a onclick=\"return goOtherCR(this,\\'a=sug.cxhelp&amp;r=&amp;i=&amp;u=\\'+urlencode(this.href));\" href=\"https://help.naver.com/support/alias/search/word/word_16.naver\" target=\"_blank\" class=\"btn btn_view\">자세히</a> </div> </div> <a href=\"#\" role=\"button\" onclick=\"return tCR(\\'a=sug.cxhide\\');\" class=\"btn_close _plus_layer_close\"><i class=\"imsc ico_close\">컨텍스트 자동완성 레이어 닫기</i></a> </div> </div> </div> <div class=\"atcmp_footer\"> <span class=\"side_opt_area\"> <span class=\"opt_item\"><a onclick=\"return goOtherCR(this,\\'a=sug.help&amp;r=&amp;i=&amp;u=\\'+urlencode(this.href));\" href=\"https://help.naver.com/support/alias/search/word/word_17.naver\" target=\"_blank\">도움말</a></span> <span class=\"opt_item\"><a onclick=\"return goOtherCR(this,\\'a=sug.report&amp;r=&amp;i=&amp;u=\\'+urlencode(this.href));\" href=\"https://help.naver.com/support/alias/search/word/word_18.naver\" target=\"_blank\" class=\"report\">신고</a></span> </span> <span class=\"rside_opt_area\"> <span class=\"opt_item\"> <a href=\"#\" class=\"close _suggestOnOff\">자동완성 끄기</a> </span> </span> </div> </div> </div> </div> </div> <button type=\"submit\" class=\"bt_search\"><i class=\"spnew ico_search\">검색</i></button> </fieldset> </form> </div></div> <div id=\"gnb\"> <script type=\"text/javascript\"> var gnb_option = { gnb_service : \"search\", gnb_template : \"gnb_utf8\", gnb_logout : encodeURIComponent(location.href), gnb_login : encodeURIComponent(location.href), gnb_brightness : 1 , gnb_item_hide_option : 0 } ; var gnb_url = \"https://ssl.pstatic.net/static.gn/templates/gnb_utf8.nhn\" ; nx_js_defer_load(gnb_url + \"?\" + headerfooter_time_year_s + headerfooter_time_month_s + headerfooter_time_day_s + headerfooter_time_hour_s, function() { getGNB() ; $Fn(function(we) { if (typeof gnbAllLayerClose == \"function\") { var bShowLayer = gnbUserLayer.show || gnbNaverMeLayer.show || gnbMoreLayer.show; var bClickGNBArea = $Element($$.getSingle(\"ul.gnb_lst\")).isEqual(we.element) || $Element($$.getSingle(\"ul.gnb_lst\")).isParentOf(we.element); if (bShowLayer && !bClickGNBArea) { gnbAllLayerClose(); } } }, this).attach(document, \"click\"); }, 0) ; </script> </div> </div><script> var nx_usain_beacon = function($) { var sent = 0; var tags = []; var usain_obj = { send: function() { if (sent > 0) { return; } sent = 1; setTimeout(function() { var perf = \"\" ; perf = (function() { function _(t) { return (t?(t-window.performance.timing.navigationStart):0); } ; if (typeof(window.performance) == \"undefined\") { return \"\"} if (typeof(window.performance.timing) == \"undefined\"){ return \"\"} if (typeof(window.performance.navigation) == \"undefined\"){ return \"\"} var t = window.performance.timing ; var n = window.performance.navigation ; return \"navt=\" + [_(t.navigationStart), _(t.unloadEventStart), _(t.unloadEventEnd), _(t.redirectStart), _(t.redirectEnd), _(t.fetchStart), _(t.domainLookupStart), _(t.domainLookupEnd), _(t.connectStart), _(t.connectEnd), _(t.requestStart), _(t.responseStart), _(t.responseEnd), _(t.domLoading), _(t.domInteractive), _(t.domContentLoadedEventStart), _(t.domContentLoadedEventEnd), _(t.domComplete), _(t.loadEventStart), _(t.loadEventEnd), n.type, n.redirectCount].join(\":\") ; }) () ; if (document.location.protocol === \\'https:\\') { tags.push(\\'_ssl\\'); } else { tags.push(\\'_nossl\\'); } var agent = eg.agent() ; if (agent.browser.version) { var version = \"\"; var vers = (agent.browser.version + \"\").split(\\'.\\'); version = vers[0]; if (version > 0) { tags.push(\\'ua.\\' + agent.browser.name + \\'.\\' + version); } } if (naver.search.csdark) { tags.push(\"csdark.1\"); } else { tags.push(\"csdark.0\"); } var queries = []; if (perf) { queries.push(perf); } queries.push(\"tags=\" + tags.join(\":\") ); var u = new Image() ; u.src = \"https://er.search.naver.com/er?v=2&\" + queries.join(\"&\"); u.onload = function() { u.onload = null ; } }, 250); }, add_tag: function(tag) { tags.push(tag); } }; return usain_obj; }(jQuery); </script> <div id=\"lnb\" tabindex=\"0\"><div class=\"lnb_group\"> <div class=\"lnb_menu\"> <ul role=\"tablist\" class=\"base\"> <li role=\"presentation\" class=\"menu\"><a role=\"tab\" href=\"?where=nexearch&amp;sm=tab_jum&amp;query=%EB%B6%80%EC%82%B0%EB%82%A0%EC%94%A8\" onclick=\"return goOtherCR(this,\\'a=tab*N.now&amp;r=1&amp;i=&amp;u=\\'+urlencode(this.href));\" class=\"tab\" aria-selected=\"true\">통합</a></li><li role=\"presentation\" class=\"menu\"><a role=\"tab\" href=\"?where=view&amp;sm=tab_jum&amp;query=%EB%B6%80%EC%82%B0%EB%82%A0%EC%94%A8\" onclick=\"return goOtherCR(this,\\'a=tab*e.jmp&amp;r=2&amp;i=&amp;u=\\'+urlencode(this.href))\" class=\"tab\" aria-selected=\"false\">VIEW</a></li><li role=\"presentation\" class=\"menu\"><a role=\"tab\" href=\"?where=image&amp;sm=tab_jum&amp;query=%EB%B6%80%EC%82%B0%EB%82%A0%EC%94%A8\" onclick=\"return goOtherCR(this,\\'a=tab*i.jmp&amp;r=3&amp;i=&amp;u=\\'+urlencode(this.href));\" class=\"tab\" aria-selected=\"false\">이미지</a></li><li role=\"presentation\" class=\"menu\"><a role=\"tab\" href=\"?where=kin&amp;sm=tab_jum&amp;query=%EB%B6%80%EC%82%B0%EB%82%A0%EC%94%A8\" onclick=\"return goOtherCR(this,\\'a=tab*k.jmp&amp;r=4&amp;i=&amp;u=\\'+urlencode(this.href));\" class=\"tab\" aria-selected=\"false\">지식iN</a></li><li role=\"presentation\" class=\"menu\"><a role=\"tab\" href=\"?where=video&amp;sm=tab_jum&amp;query=%EB%B6%80%EC%82%B0%EB%82%A0%EC%94%A8\" onclick=\"return goOtherCR(this,\\'a=tab*v.jmp&amp;r=5&amp;i=&amp;u=\\'+urlencode(this.href));\" class=\"tab\" aria-selected=\"false\">동영상</a></li><li role=\"presentation\" class=\"menu\"><a role=\"tab\" href=\"https://search.shopping.naver.com/search/all.nhn?where=all&amp;frm=NVSCTAB&amp;query=%EB%B6%80%EC%82%B0%EB%82%A0%EC%94%A8\" onclick=\"return goOtherCR(this,\\'a=tab*S.jmp&amp;r=6&i=&amp;u=\\'+urlencode(this.href));\" class=\"tab\" aria-selected=\"false\" target=\"_blank\">쇼핑</a></li><li role=\"presentation\" class=\"menu\"><a role=\"tab\" href=\"?where=news&amp;sm=tab_jum&amp;query=%EB%B6%80%EC%82%B0%EB%82%A0%EC%94%A8\" onclick=\"return goOtherCR(this,\\'a=tab*n.jmp&amp;r=7&amp;i=&amp;u=\\'+urlencode(this.href));\" class=\"tab\" aria-selected=\"false\">뉴스</a></li><li role=\"presentation\" class=\"menu\"><a role=\"tab\" href=\"https://dict.naver.com/search.nhn?dicQuery=%EB%B6%80%EC%82%B0%EB%82%A0%EC%94%A8&amp;query=%EB%B6%80%EC%82%B0%EB%82%A0%EC%94%A8&amp;target=dic&amp;query_utf=&amp;isOnlyViewEE=\" onclick=\"return goOtherCR(this,\\'a=tab*L.jmp&amp;r=8&amp;i=&amp;u=\\'+urlencode(this.href));\" class=\"tab\" aria-selected=\"false\" target=\"_blank\">어학사전</a></li><li role=\"presentation\" class=\"menu\"><a role=\"tab\" href=\"https://map.naver.com/v5/search/%EB%B6%80%EC%82%B0%EB%82%A0%EC%94%A8\" onclick=\"return goOtherCR(this,\\'a=tab*M.jmp&amp;r=9&amp;i=&amp;u=\\'+urlencode(this.href));\" class=\"tab\" aria-selected=\"false\" target=\"_blank\">지도</a></li><li role=\"presentation\" class=\"menu\"><a role=\"tab\" href=\"https://book.naver.com/search/search.nhn?query=%EB%B6%80%EC%82%B0%EB%82%A0%EC%94%A8\" onclick=\"return goOtherCR(this,\\'a=tab*B.jmp&amp;r=10&amp;i=&amp;u=\\'+urlencode(this.href));\" class=\"tab\" aria-selected=\"false\" target=\"_blank\">책</a></li> </ul> <div class=\"group_more\"> <div id=\"_nx_lnb_more\" class=\"more_area\"> <a role=\"button\" href=\"#\" class=\"lnb_more _more_btn\" aria-pressed=\"false\" onclick=\"tCR(jQuery(this).attr(\\'aria-pressed\\') === \\'false\\' ? \\'a=tab.more\\' : \\'a=tmr.less\\');\"> <i class=\"spnew ico_lnb_more\">더보기</i> </a> <div class=\"addon\"> <ul> <li role=\"presentation\" class=\"menu\"><a role=\"tab\" href=\"https://vibe.naver.com/search?query=%EB%B6%80%EC%82%B0%EB%82%A0%EC%94%A8\" onclick=\"return goOtherCR(this,\\'a=tmr*m.jmp&amp;r=1&amp;i=&amp;u=\\'+urlencode(this.href));\" class=\"tab\" aria-selected=\"false\" target=\"_blank\">뮤직</a></li><li role=\"presentation\" class=\"menu\"><a role=\"tab\" href=\"?where=kdic&amp;sm=tab_jum&amp;query=%EB%B6%80%EC%82%B0%EB%82%A0%EC%94%A8\" onclick=\"return goOtherCR(this,\\'a=tmr*K.jmp&amp;r=2&amp;i=&amp;u=\\'+urlencode(this.href));\" class=\"tab\" aria-selected=\"false\">지식백과</a></li><li role=\"presentation\" class=\"menu\"><a role=\"tab\" href=\"https://audioclip.naver.com/search/all?keyword=%EB%B6%80%EC%82%B0%EB%82%A0%EC%94%A8\" onclick=\"return goOtherCR(this,\\'a=tmr*A.jmp&amp;r=3&amp;i=&amp;u=\\'+urlencode(this.href));\" class=\"tab\" aria-selected=\"false\" target=\"_blank\">오디오클립</a></li><li role=\"presentation\" class=\"menu\"><a role=\"tab\" href=\"https://academic.naver.com/search.naver?field=0&amp;query=%EB%B6%80%EC%82%B0%EB%82%A0%EC%94%A8\" onclick=\"return goOtherCR(this,\\'a=tmr*a.jmp&amp;r=4&amp;i=&amp;u=\\'+urlencode(this.href));\" class=\"tab\" aria-selected=\"false\" target=\"_blank\">학술정보</a></li> </ul> <a role=\"button\" href=\"#\" class=\"btn_option _option_btn\" onclick=\"return tCR(\\'a=tmr.optn\\');\" aria-pressed=\"false\" >검색옵션</a> </div> </div> </div> </div> </div><div class=\"lnb_util\"> <ul class=\"list_util\"> <li> <a role=\"button\" href=\"#\" id=\"spiButton2\" class=\"spnew_bf bt_share naver-splugin\" onclick=\"return tCR(\\'a=lnb.shr\\');\" data-evkey=\"search\" data-service-name=\"통합검색\" data-style=\"unity-v2\" data-use-short-url=\"on\" data-me-display=\"off\" data-mail-display=\"off\" data-option=\"{baseElement:\\'spiButton2\\', layerPosition:\\'outside-bottom\\', align:\\'right\\', top:4, left:0, marginLeft:8, marginTop:10}\" data-blog-url=\"https://search.naver.com/search.naver?query=%EB%B6%80%EC%82%B0%EB%82%A0%EC%94%A8&amp;sm=svc_pin.blog\" data-cafe-url=\"https://search.naver.com/search.naver?query=%EB%B6%80%EC%82%B0%EB%82%A0%EC%94%A8&amp;sm=svc_pin.cafe\" data-cafe-source-form=\"2\" data-memo-url=\"https://search.naver.com/search.naver?query=%EB%B6%80%EC%82%B0%EB%82%A0%EC%94%A8&amp;sm=svc_pin.memo\" data-calendar-url=\"https://search.naver.com/search.naver?query=%EB%B6%80%EC%82%B0%EB%82%A0%EC%94%A8&amp;sm=svc_pin.cal\" data-twitter-url=\"https://search.naver.com/search.naver?query=%EB%B6%80%EC%82%B0%EB%82%A0%EC%94%A8&amp;sm=twp_pin\" data-facebook-url=\"https://search.naver.com/search.naver?query=%EB%B6%80%EC%82%B0%EB%82%A0%EC%94%A8&amp;sm=fbp_pin\" data-band-url=\"https://search.naver.com/search.naver?query=%EB%B6%80%EC%82%B0%EB%82%A0%EC%94%A8&amp;sm=bdp_pin\" >공유</a> </li> </ul> </div><script type=\"text/javascript\"> nx_js_defer_load(\"https://ssl.pstatic.net/spi/js/release/ko_KR/splugin.js?\" + headerfooter_time_year_s + headerfooter_time_month_s + headerfooter_time_day_s, function() { g_nx_splugin = SocialPlugIn_Core({ \"evKey\" : \"search\", \"serviceName\" : \"통합검색\" }) ; }, 150) ; function splugin_oninitialize(sTargetId) { var elTarget = document.getElementById(sTargetId) ; var sUrl = $$.getSingle(\\'a._sp_each_url\\', elTarget ).href ; var sTitle = $Element($$.getSingle(\\'._sp_each_title\\', elTarget)).text() ; var sSource = $Element($$.getSingle(\\'._sp_each_source\\', elTarget)) ; if (sSource) sSource = sSource.text() ; return { \"url\" : sUrl, \"title\" : sTitle, \"option\" : {baseElement:sTargetId + \\'_base\\', layerPosition:\\'outside-bottom\\', align:\\'right\\', top:18, left:-28, marginLeft:8, marginTop:10}, \"me\" : { display : \"off\" }, \"mail\" : { display : \"off\" }, \"sourceName\" : sSource } ; } </script><script> nx_js_defer_load(\"//search.like.naver.com/static/js/likeIt.list.js?\" + headerfooter_time_year_s + headerfooter_time_month_s + headerfooter_time_day_s, function() { nhn.LikeIt.list.util.init({ sId : \"SEARCH\", sDomain : \"//search.like.naver.com\", bMobile : false }) ; }, 150) ; </script></div></div><script> (function() { var startApplication = function() { var jsFileURL = \"https://ssl.pstatic.net/sstatic/au/pc/tab/SearchTab_210504.js\"; var require = window.require.config({ \"context\": \"search_tab_module\", \"paths\": { \"SearchTab\": jsFileURL.replace(/\\\\.js$/, \"\"), } }); define(\"jquery\", [], function() { return jQuery; }); require([\"SearchTab\"], function(SearchTab) { var BASE_FLOATING_WIDTH = 1181; var $window = jQuery(window); var $lnb = jQuery(\"#lnb\"); var $headerWrap = jQuery(\"#header_wrap\"); var tab = new SearchTab($window, $lnb) .on(\"checkWindowWidth\", function(e){ if (e.windowWidth >= BASE_FLOATING_WIDTH) { $headerWrap.addClass(\"type_fixed\"); tab.activateFloating(); } else { tab.deactivateFloating(); $headerWrap .removeClass(\"type_fixed\") .removeClass(\"type_hide\"); } }) .on(\"hideTab\", function(){ if (window.g_nx_splugin && typeof window.g_nx_splugin.hide === \"function\") { window.g_nx_splugin.hide(); } }) .on(\"changeState\", function(e){ $headerWrap.toggleClass(\"type_hide\", e.isUnderBaseline); if (e.isUnderBaseline) { $headerWrap.addClass(\"type_animation\"); } }); }); }; naver.common.load_js(window.require ? null : naver.common.gv.REQUIRE_JS, startApplication, true, 150); })(); </script><script type=\"text/javascript\"> naver.search.section = { \"main\": [{\"area\": \"nco_x7t*4\", \"rank\": 1},{\"area\": \"nws_all*bdaf\", \"rank\": 2},{\"area\": \"web_gen*w\", \"rank\": 3},{\"area\": \"img\", \"rank\": 4},{\"area\": \"rvw*kixwftp\", \"rank\": 5},{\"area\": \"loc_plc\", \"rank\": 6},{\"area\": \"vdo_lst*dg\", \"rank\": 7}], \"main2\": [{\"area\": \"rsk_top*q\", \"rank\": 1},{\"area\": \"bnr\", \"rank\": 2}],  \"find_section_list\": function(column, area) { if (!this[column]) return []; return this[column].filter(function(a) { return a.area.indexOf(area) === 0; }); } }; </script></div><script type=\"text/javascript\"> var nx_location_rcode = \"\" ; </script><div id=\"container\" role=\"main\"> <div id=\"content\" class=\"pack_group\"> <h1 class=\"blind\">부산날씨 통합검색 결과</h1> <div id=\"main_pack\" class=\"main_pack\"><script type=\"text/javascript\"> naver.search.option = {} ; naver.search.option.params = {} ; naver.search.option.append_params = (function () { return function (f, exclude) { if (exclude == undefined) exclude = []; for (var k in naver.search.option.params) { if (exclude.indexOf(k) >= 0) continue; var v = naver.search.option.params[k] ; var input = document.createElement(\"input\"); input.type = \"hidden\"; input.name = k ; input.value = v ; f.appendChild(input); } return true ; } ; })() ; naver.search.option.get_params = (function () { return function () { var option_params = \"\" ; for (var k in naver.search.option.params) { var v = naver.search.option.params[k]; option_params = option_params.concat(\"&\" + k + \"=\" + urlencode(v)); } return option_params ; } ; })() ; </script><div id=\"snb\" class=\"_search_option_detail_wrap\" style=\"display:none;\"> <form id=\"nx_option_form\" name=\"nx_option_form\" action=\"?\"> <input type=\"hidden\" id=\"where\" name=\"where\" value=\"nexearch\"> <input type=\"hidden\" id=\"query\" name=\"query\" value=\"부산날씨\"> <input type=\"hidden\" id=\"sm\" name=\"sm\" value=\"tab_opt\"> </form> <div role=\"listbox\" class=\"api_group_option_sort\"> <button onclick=\"return tCR(\\'a=opt.fold\\');\" type=\"button\" class=\"spnew_bf bt_close _search_option_close_btn\">검색옵션 닫기</button> <ul class=\"lst_option\"> <li class=\"bx lineup\"> <div class=\"bx_inner\"> <strong class=\"tit\">정렬</strong> <div role=\"tablist\" class=\"option\"> <a role=\"tab\" class=\"txt\" aria-selected=\"true\" href=\"?where=nexearch&amp;sm=tab_opt&amp;query=%EB%B6%80%EC%82%B0%EB%82%A0%EC%94%A8&amp;nso=so%3Ar&amp;nso_open=1\" onclick=\"return goOtherCR(this, \\'a=opt.sim&amp;r=&amp;i=&amp;u=\\'+urlencode(this.href));\">관련도순</a><a role=\"tab\" class=\"txt\" aria-selected=\"false\" href=\"?where=nexearch&amp;sm=tab_opt&amp;query=%EB%B6%80%EC%82%B0%EB%82%A0%EC%94%A8&amp;nso=so%3Add&amp;nso_open=1\" onclick=\"return goOtherCR(this, \\'a=opt.new&amp;r=&amp;i=&amp;u=\\'+urlencode(this.href));\">최신순</a> </div> </div> </li> <li class=\"bx term\"> <div class=\"bx_inner\"> <strong class=\"tit\">기간</strong> <div role=\"tablist\" class=\"option\"> <a role=\"tab\" class=\"txt\" aria-selected=\"true\" href=\"?where=nexearch&amp;sm=tab_opt&amp;query=%EB%B6%80%EC%82%B0%EB%82%A0%EC%94%A8&amp;nso=p%3Aall&amp;nso_open=1\" onclick=\"return goOtherCR(this, \\'a=opt.all&amp;r=&amp;i=&amp;u=\\'+urlencode(this.href));\">전체</a><a role=\"tab\" class=\"txt\" aria-selected=\"false\" href=\"?where=nexearch&amp;sm=tab_opt&amp;query=%EB%B6%80%EC%82%B0%EB%82%A0%EC%94%A8&amp;nso=p%3A1h&amp;nso_open=1\" onclick=\"return goOtherCR(this, \\'a=opt.1hr&amp;r=&amp;i=&amp;u=\\'+urlencode(this.href));\">1시간</a><a role=\"tab\" class=\"txt\" aria-selected=\"false\" href=\"?where=nexearch&amp;sm=tab_opt&amp;query=%EB%B6%80%EC%82%B0%EB%82%A0%EC%94%A8&amp;nso=p%3A1d&amp;nso_open=1\" onclick=\"return goOtherCR(this, \\'a=opt.1day&amp;r=&amp;i=&amp;u=\\'+urlencode(this.href));\">1일</a><a role=\"tab\" class=\"txt\" aria-selected=\"false\" href=\"?where=nexearch&amp;sm=tab_opt&amp;query=%EB%B6%80%EC%82%B0%EB%82%A0%EC%94%A8&amp;nso=p%3A1w&amp;nso_open=1\" onclick=\"return goOtherCR(this, \\'a=opt.1wk&amp;r=&amp;i=&amp;u=\\'+urlencode(this.href));\">1주</a><a role=\"tab\" class=\"txt\" aria-selected=\"false\" href=\"?where=nexearch&amp;sm=tab_opt&amp;query=%EB%B6%80%EC%82%B0%EB%82%A0%EC%94%A8&amp;nso=p%3A1m&amp;nso_open=1\" onclick=\"return goOtherCR(this, \\'a=opt.1mon&amp;r=&amp;i=&amp;u=\\'+urlencode(this.href));\">1개월</a><a role=\"tab\" class=\"txt\" aria-selected=\"false\" href=\"?where=nexearch&amp;sm=tab_opt&amp;query=%EB%B6%80%EC%82%B0%EB%82%A0%EC%94%A8&amp;nso=p%3A3m&amp;nso_open=1\" onclick=\"return goOtherCR(this, \\'a=opt.3mon&amp;r=&amp;i=&amp;u=\\'+urlencode(this.href));\">3개월</a><a role=\"tab\" class=\"txt\" aria-selected=\"false\" href=\"?where=nexearch&amp;sm=tab_opt&amp;query=%EB%B6%80%EC%82%B0%EB%82%A0%EC%94%A8&amp;nso=p%3A6m&amp;nso_open=1\" onclick=\"return goOtherCR(this, \\'a=opt.6mon&amp;r=&amp;i=&amp;u=\\'+urlencode(this.href));\">6개월</a><a role=\"tab\" class=\"txt\" aria-selected=\"false\" href=\"?where=nexearch&amp;sm=tab_opt&amp;query=%EB%B6%80%EC%82%B0%EB%82%A0%EC%94%A8&amp;nso=p%3A1y&amp;nso_open=1\" onclick=\"return goOtherCR(this, \\'a=opt.1yr&amp;r=&amp;i=&amp;u=\\'+urlencode(this.href));\">1년</a> <a onclick=\"tCR(\\'a=opt.cal\\');\" href=\"#\" role=\"tab\" class=\"txt txt_option _calendar_select_trigger\" data-select-trigger aria-selected=\"false\">직접입력<i class=\"spnew ico_check\">옵션<em class=\"open\">펼치기</em><em class=\"close\">접기</em></i></a> </div> <div class=\"api_select_option type_calendar _calendar_select_layer\" data-select-layer style=\"display: none;\"> <div role=\"tablist\" class=\"set_calendar\"> <span class=\"set\"> <span class=\"blind\">기간 설정시작</span> <a onclick=\"tCR(\\'a=opt.str\\');\" href=\"#\" role=\"tab\" class=\"spnew_bf ico_calendar _start_trigger\" aria-selected=\"true\"></a> </span> <span class=\"set etc\"> <span class=\"spnew ico_since\"></span> </span> <span class=\"set\"> <span class=\"blind\">기간 설정끝</span> <a onclick=\"tCR(\\'a=opt.fin\\');\" href=\"#\" role=\"tab\" class=\"spnew_bf ico_calendar _end_trigger\" aria-selected=\"false\"></a> </span> </div> <div class=\"select_wrap _root\"> <div class=\"group_select _list_root\"> <strong class=\"blind\">년(Year)</strong> <div class=\"select_cont\"> <div class=\"select_area _scroll_wrapper\"> <div> <ul role=\"tablist\" class=\"lst_item _ul\"></ul> </div> </div> </div> </div> <div class=\"group_select _list_root\"> <strong class=\"blind\">월(Month)</strong> <div class=\"select_cont\"> <div class=\"select_area _scroll_wrapper\"> <div> <ul role=\"tablist\" class=\"lst_item _ul\"></ul> </div> </div> </div> </div> <div class=\"group_select _list_root\"> <strong class=\"blind\">일(Day)</strong> <div class=\"select_cont\"> <div class=\"select_area _scroll_wrapper\"> <div> <ul role=\"tablist\" class=\"lst_item _ul\"></ul> </div> </div> </div> </div> </div> <div class=\"btn_area\"> <button data-cr-area=\"opt.set\" type=\"button\" class=\"btn_apply _apply_btn\">적용</button> </div> </div> </div> </li> <li class=\"bx clear\"> <div class=\"bx_inner\"> <div class=\"option\"> <a href=\"?where=nexearch&amp;sm=tab_opt&amp;query=%EB%B6%80%EC%82%B0%EB%82%A0%EC%94%A8&amp;nso_open=1\" onclick=\"return goOtherCR(this, \\'a=opt.reset&amp;r=&amp;i=&amp;u=\\'+urlencode(this.href));\" class=\"btn_clear spnew_bf\" role=\"button\">옵션초기화</a> <a href=\"https://help.naver.com/support/alias/search/integration/intergration_84.naver\" target=\"_blank\" onclick=\"return goOtherCR(this, \\'a=opt.help&amp;r=&amp;i=&amp;u=\\'+urlencode(this.href));\" class=\"link_help\">검색옵션 가이드<i class=\"spnew api_ico_help\"></i></a> </div> </div> </li> </ul> </div> </div><script> naver.search.option.append_params(jQuery(\"#nx_option_form\")[0]); </script> <script> (function() { var jsFileURL = \"https://ssl.pstatic.net/sstatic/au/m/searchOption/Controller_210415.js\"; var startApplication = function() { var require = window.require.config({ \"context\": \"_fe_search_option\", \"paths\": { /* Controller.js의 경로 지정. */ \"Controller\": jsFileURL.replace(/\\\\.js$/, \"\") } }); /* module define은 require의 context별로 호출해야함. */ define(\"jquery\", [], function() { return jQuery; }); require([\"Controller\"], function(Controller) { var oSearchOption = new Controller({ \"$form\": jQuery(\"#nx_option_form\") }); oSearchOption.on({ \"selectCalendar\": function(e) { var param = e.param; var cr = { \"area\": e.$item.data(\"cr-area\") }; var date_from = e.startDate; var date_to = e.endDate; var from = date_from.year + \".\" + date_from.month + \".\" + date_from.date; from = from.replace(/\\\\./g, \\'\\'); var to = date_to.year + \".\" + date_to.month + \".\" + date_to.date; to = to.replace(/\\\\./g, \\'\\'); var opt_p = \"p:from\" + (from < to ? from : to) + \"to\" + (from < to ? to : from); var params = naver.search.option.params; var nso = params[\"nso\"]; if (nso) { var arr = nso.split(\",\"); var isPeriodExist = false; arr.forEach(function(element, index, arr){ if (element.indexOf(\"p:\") == 0) { arr[index] = opt_p; isPeriodExist = true; } }); if (!isPeriodExist){ arr.push(opt_p); } nso = arr.join(\",\"); } else { nso = opt_p; } params[\"nso\"] = nso; param = \"\"; for (var k in params) { var v = params[k]; param += \"&\" + k + \"=\" + urlencode(v); } if (param[0] === \"&\") { param = param.substring(1); } /* formCR 클릭로그 호출 */ this.submit(param, cr); } }); }); }; var requirejs = naver.common.gv.REQUIRE_JS; naver.common.load_js(window.require ? null : requirejs, startApplication, true, 150); })(); </script><script type=\\'text/javascript\\'>var nx_cr_area_info=[{ n:\"nco_x7t\",r:1 },{ n:\"nws_all\",r:2 },{ n:\"web_gen\",r:3 },{ n:\"img\",r:4 },{ n:\"rvw\",r:5 },{ n:\"loc_plc\",r:6 },{ n:\"vdo_lst\",r:7 }];</script><script type=text/javascript>var g_uad = false; </script><link rel=\"stylesheet\" type=\"text/css\" href=\"https://ssl.pstatic.net/sstatic/keypage/outside/scui/weather_new/css/cs_weather_201130.css\" /> <section class=\"sc_new cs_weather _weather\"> <div class=\"api_subject_bx\"> <div class=\"api_title_area\"> <h2 class=\"api_title\">날씨정보</h2> </div> <div class=\"api_cs_wrap\"> <div class=\"blind\"> <h3>부산광역시 중구 남포동 날씨</h3> </div> <div class=\"weather_box\"> <div class=\"weather_area _mainArea\"> <div class=\"sort_box _areaSelectLayer\"> <div class=\"lst_select\"> <div class=\"select_box\"> <span class=\"btn_select\" role=\"button\"><em>부산광역시 중구 남포동</em></span> </div> </div> </div> <div class=\"main_tab\"> <ul class=\"list_tab _mainTab\" role=\"tablist\"> <li class=\"_tab\" role=\"tab\" aria-selected=\"true\"> <a nocr onclick=\"goOtherTCR(this, \\'a=nco_x7t*4.todtap&r=1&i=88157038_00000065035F\\');return false;\" href=\"#\"><span class=\"menu\"><span class=\"subline\"></span>오늘</span></a> </li> <li class=\"_tab\" role=\"tab\"> <a nocr onclick=\"goOtherTCR(this, \\'a=nco_x7t*4.tomtap&r=1&i=88157038_00000065035F\\');return false;\" href=\"#\"><span class=\"menu\"><span class=\"subline\"></span>내일</span></a> </li> <li class=\"_tab\" role=\"tab\"> <a nocr onclick=\"goOtherTCR(this, \\'a=nco_x7t*4.ttttap&r=1&i=88157038_00000065035F\\');return false;\" href=\"#\"><span class=\"menu\"><span class=\"subline\"></span>모레</span></a> </li> <li class=\"_tab\" role=\"tab\"> <a nocr onclick=\"goOtherTCR(this, \\'a=nco_x7t*4.montap&r=1&i=88157038_00000065035F\\');return false;\" href=\"#\"><span class=\"menu\"><span class=\"subline\"></span>월간</span></a> </li> </ul> </div> <div class=\"today_area _mainTabContent\" style=\"display:block;\"> <div class=\"main_info\"> <span class=\"ico_state ws1\"></span> <div class=\"info_data\"> <p class=\"info_temperature\"><span class=\"todaytemp\">30</span><span class=\"tempmark\"><span class=\"blind\">도씨</span>℃</span> </p> <ul class=\"info_list\"> <li> <p class=\"cast_txt\">맑음, 어제보다 1˚ 높아요</p> </li> <li> <span class=\"merge\"> <span class=\"min\"><span class=\"num\">26</span>˚</span><span class=\"slash\">/</span><span class=\"max\"><span class=\"num\">31</span>˚</span></span><span class=\"bar\"></span> <span class=\"sensible\">체감온도 <em><span class=\"num\">33</span>˚</em></span> </li> <li> <span class=\"indicator\">자외선 <span class=\"lv2\"><span class=\"num\">4</span>보통<span class=\"ico\"></span></span></span> </li> </ul> </div> </div> <div class=\"sub_info\"> <div class=\"detail_box\"> <dl class=\"indicator\"> <dt><a nocr onclick=\"return goOtherCR(this, \\'a=nco_x7t*4.todustmr&r=1&i=88157038_00000065035F&u=\\' + urlencode(this.href));\" href=\"?where=nexearch&sm=tab_etc&qvt=0&query=%EB%B6%80%EC%82%B0%EA%B4%91%EC%97%AD%EC%8B%9C%20%EC%A4%91%EA%B5%AC%20%EB%82%A8%ED%8F%AC%EB%8F%99%20%EB%AF%B8%EC%84%B8%EB%A8%BC%EC%A7%80\">미세먼지</a></dt> <dd class=\"lv1\"><span class=\"num\">10㎍/㎥</span>좋음<span class=\"ico\"></span></dd> <dt><a nocr onclick=\"return goOtherCR(this, \\'a=nco_x7t*4.todustmr&r=1&i=88157038_00000065035F&u=\\' + urlencode(this.href));\" href=\"?where=nexearch&sm=tab_etc&qvt=0&query=%EB%B6%80%EC%82%B0%EA%B4%91%EC%97%AD%EC%8B%9C%20%EC%A4%91%EA%B5%AC%20%EB%82%A8%ED%8F%AC%EB%8F%99%20%EC%B4%88%EB%AF%B8%EC%84%B8%EB%A8%BC%EC%A7%80\">초미세먼지</a></dt> <dd class=\"lv1\"><span class=\"num\">7㎍/㎥</span>좋음<span class=\"ico\"></span></dd> <dt><a nocr onclick=\"return goOtherCR(this, \\'a=nco_x7t*4.todustmr&r=1&i=88157038_00000065035F&u=\\' + urlencode(this.href));\" href=\"?where=nexearch&sm=tab_etc&qvt=0&query=%EB%B6%80%EC%82%B0%EA%B4%91%EC%97%AD%EC%8B%9C%20%EC%A4%91%EA%B5%AC%20%EB%82%A8%ED%8F%AC%EB%8F%99%20%EC%98%A4%EC%A1%B4%EC%A7%80%EC%88%98\">오존지수</a></dt> <dd class=\"lv1\"><span class=\"num\">0.023ppm</span>좋음<span class=\"ico\"></span></dd> </dl> </div> </div> <div class=\"table_info bytime _todayWeatherByTime\"> <div class=\"title_area\"> <h4 class=\"section_title\">시간대별 날씨</h4> <div class=\"title_sub\"> <div class=\"sub_option\"> <span class=\"blind\">정렬</span> <a nocr onclick=\"goOtherTCR(this, \\'a=nco_x7t*4.hrwetap&r=1&i=88157038_00000065035F\\');return false;\" href=\"#\" class=\"btn_option _tab\" role=\"option\" aria-selected=\"true\"><span class=\"ico_select\"></span>날씨</a> <a nocr onclick=\"goOtherTCR(this, \\'a=nco_x7t*4.hrratap&r=1&i=88157038_00000065035F\\');return false;\" href=\"#\" class=\"btn_option _tab\" role=\"option\"><span class=\"ico_select\"></span>강수</a> <a nocr onclick=\"goOtherTCR(this, \\'a=nco_x7t*4.hrwitap&r=1&i=88157038_00000065035F\\');return false;\" href=\"#\" class=\"btn_option _tab\" role=\"option\"><span class=\"ico_select\"></span>바람</a> <a nocr onclick=\"goOtherTCR(this, \\'a=nco_x7t*4.hrhutap&r=1&i=88157038_00000065035F\\');return false;\" href=\"#\" class=\"btn_option _tab\" role=\"option\"><span class=\"ico_select\"></span>습도</a> </div> </div> </div> <div class=\"info_list weather_condition _tabContent\" style=\"display:block;\"> <div class=\"graph_area _graph\"></div> <ul class=\"list_area\"> <li class=\"on now\"> <dl> <dt class=\"blind\">오늘 온도</dt> <dd class=\"weather_item _dotWrapper\" style=\"bottom:91px;\"> <span>30</span>°<span class=\"blind\">도</span> <span class=\"dot_point today _dot\"></span> </dd> <dt class=\"blind\">날씨</dt> <dd class=\"item_condition\"><span class=\"ico_state2 ws7\">흐림</span></dd> <dt class=\"blind\">시간</dt> <dd class=\"item_time\"> <span class=\"more_bytime\"> <span class=\"ico dday\"><span class=\"dday\">14시</span></span> </span> </dd> </dl> </li> <li class=\"on\"> <dl> <dt class=\"blind\">오늘 온도</dt> <dd class=\"weather_item _dotWrapper\" style=\"bottom:91px;\"> <span>30</span>°<span class=\"blind\">도</span> <span class=\"dot_point today _dot\"></span> </dd> <dt class=\"blind\">날씨</dt> <dd class=\"item_condition\"><span class=\"ico_state2 ws5\">구름많음</span></dd> <dt class=\"blind\">시간</dt> <dd class=\"item_time\"> <span>15시</span> </dd> </dl> </li> <li class=\"on\"> <dl> <dt class=\"blind\">오늘 온도</dt> <dd class=\"weather_item _dotWrapper\" style=\"bottom:91px;\"> <span>30</span>°<span class=\"blind\">도</span> <span class=\"dot_point today _dot\"></span> </dd> <dt class=\"blind\">날씨</dt> <dd class=\"item_condition\"><span class=\"ico_state2 ws5\">구름많음</span></dd> <dt class=\"blind\">시간</dt> <dd class=\"item_time\"> <span>16시</span> </dd> </dl> </li> <li class=\"on\"> <dl> <dt class=\"blind\">오늘 온도</dt> <dd class=\"weather_item _dotWrapper\" style=\"bottom:86px;\"> <span>29</span>°<span class=\"blind\">도</span> <span class=\"dot_point today _dot\"></span> </dd> <dt class=\"blind\">날씨</dt> <dd class=\"item_condition\"><span class=\"ico_state2 ws1\">맑음</span></dd> <dt class=\"blind\">시간</dt> <dd class=\"item_time\"> <span>17시</span> </dd> </dl> </li> <li class=\"on\"> <dl> <dt class=\"blind\">오늘 온도</dt> <dd class=\"weather_item _dotWrapper\" style=\"bottom:86px;\"> <span>29</span>°<span class=\"blind\">도</span> <span class=\"dot_point today _dot\"></span> </dd> <dt class=\"blind\">날씨</dt> <dd class=\"item_condition\"><span class=\"ico_state2 ws5\">구름많음</span></dd> <dt class=\"blind\">시간</dt> <dd class=\"item_time\"> <span>18시</span> </dd> </dl> </li> <li class=\"\"> <dl> <dt class=\"blind\">오늘 온도</dt> <dd class=\"weather_item _dotWrapper\" style=\"bottom:80px;\"> <span>28</span>°<span class=\"blind\">도</span> <span class=\"dot_point today _dot\"></span> </dd> <dt class=\"blind\">날씨</dt> <dd class=\"item_condition\"><span class=\"ico_state2 ws6\">구름많음</span></dd> <dt class=\"blind\">시간</dt> <dd class=\"item_time\"> <span>21시</span> </dd> </dl> </li> <li class=\"\"> <dl> <dt class=\"blind\">오늘 온도</dt> <dd class=\"weather_item _dotWrapper\" style=\"bottom:75px;\"> <span>27</span>°<span class=\"blind\">도</span> <span class=\"dot_point today _dot\"></span> </dd> <dt class=\"blind\">날씨</dt> <dd class=\"item_condition\"><span class=\"ico_state2 ws2\">맑음</span></dd> <dt class=\"blind\">시간</dt> <dd class=\"item_time\"> <span class=\"tomorrow\"><span class=\"division_line\" style=\"height:36.777778px\"></span><span class=\"tomorrow_icon\"></span><span class=\"blind\">내일</span></span> <span>00시</span> </dd> </dl> </li> <li class=\"\"> <dl> <dt class=\"blind\">오늘 온도</dt> <dd class=\"weather_item _dotWrapper\" style=\"bottom:75px;\"> <span>27</span>°<span class=\"blind\">도</span> <span class=\"dot_point today _dot\"></span> </dd> <dt class=\"blind\">날씨</dt> <dd class=\"item_condition\"><span class=\"ico_state2 ws2\">맑음</span></dd> <dt class=\"blind\">시간</dt> <dd class=\"item_time\"> <span>03시</span> </dd> </dl> </li> </ul> </div> <div class=\"info_list rainfall _tabContent _center\" style=\"display:none;\"> <div class=\"graph_area _graph\"></div> <ul class=\"list_area\"> <li class=\"on now merge1\"> <dl> <dt class=\"blind\">강수 확률</dt> <dd class=\"weather_item _dotWrapper\" style=\"bottom:96px;\"> <span>30</span>% <span class=\"dot_point today _dot\"></span> </dd> <dt class=\"blind\">예상 강수량</dt> <dd class=\"item_condition\"> <span class=\"rain_rate level1\"> 0 </span> </dd> <dt class=\"blind\">시간</dt> <dd class=\"item_time\"> <span class=\"more_bytime\"> <span class=\"ico dday\"><span class=\"dday\">14시</span></span> </span> </dd> </dl> </li> <li class=\"on merge1\"> <dl> <dt class=\"blind\">강수 확률</dt> <dd class=\"weather_item _dotWrapper\" style=\"bottom:96px;\"> <span>30</span>% <span class=\"dot_point today _dot\"></span> </dd> <dt class=\"blind\">예상 강수량</dt> <dd class=\"item_condition\"> <span class=\"rain_rate level1\"> 0 </span> </dd> <dt class=\"blind\">시간</dt> <dd class=\"item_time\"> <span>15시</span> </dd> </dl> </li> <li class=\"on merge1\"> <dl> <dt class=\"blind\">강수 확률</dt> <dd class=\"weather_item _dotWrapper\" style=\"bottom:70px;\"> <span>0</span>% <span class=\"dot_point today _dot\"></span> </dd> <dt class=\"blind\">예상 강수량</dt> <dd class=\"item_condition\"> <span class=\"rain_rate level1\"> 0 </span> </dd> <dt class=\"blind\">시간</dt> <dd class=\"item_time\"> <span>16시</span> </dd> </dl> </li> <li class=\"on merge1\"> <dl> <dt class=\"blind\">강수 확률</dt> <dd class=\"weather_item _dotWrapper\" style=\"bottom:96px;\"> <span>30</span>% <span class=\"dot_point today _dot\"></span> </dd> <dt class=\"blind\">예상 강수량</dt> <dd class=\"item_condition\"> <span class=\"rain_rate level1\"> 0 </span> </dd> <dt class=\"blind\">시간</dt> <dd class=\"item_time\"> <span>17시</span> </dd> </dl> </li> <li class=\"on merge2\"> <dl> <dt class=\"blind\">강수 확률</dt> <dd class=\"weather_item _dotWrapper\" style=\"bottom:79px;\"> <span>10</span>% <span class=\"dot_point today _dot\"></span> </dd> <dt class=\"blind\">예상 강수량</dt> <dd class=\"item_condition\"> <span class=\"rain_rate level1\"> 0 </span> </dd> <dt class=\"blind\">시간</dt> <dd class=\"item_time\"> <span>18시</span> </dd> </dl> </li> <li class=\" merge0\"> <dl> <dt class=\"blind\">강수 확률</dt> <dd class=\"weather_item _dotWrapper\" style=\"bottom:70px;\"> <span>0</span>% <span class=\"dot_point today _dot\"></span> </dd> <dt class=\"blind\">예상 강수량</dt> <dd class=\"item_condition\"> <span class=\"rain_rate level1\"> </span> </dd> <dt class=\"blind\">시간</dt> <dd class=\"item_time\"> <span class=\"tomorrow\"><span class=\"division_line\" style=\"height:36.777778px\"></span><span class=\"tomorrow_icon\"></span><span class=\"blind\">내일</span></span> <span>21시</span> </dd> </dl> </li> <li class=\" merge1\"> <dl> <dt class=\"blind\">강수 확률</dt> <dd class=\"weather_item _dotWrapper\" style=\"bottom:70px;\"> <span>0</span>% <span class=\"dot_point today _dot\"></span> </dd> <dt class=\"blind\">예상 강수량</dt> <dd class=\"item_condition\"> <span class=\"rain_rate level1\"> 0 </span> </dd> <dt class=\"blind\">시간</dt> <dd class=\"item_time\"> <span>00시</span> </dd> </dl> </li> <li class=\" merge0\"> <dl> <dt class=\"blind\">예상 강수량</dt> <dd class=\"item_condition\"> <span class=\"rain_rate level1\"> </span> </dd> <dt class=\"blind\">시간</dt> <dd class=\"item_time\"> <span>03시</span> </dd> </dl> </li> </ul> </div> <div class=\"info_list wind _tabContent _center\" style=\"display:none;\"> <div class=\"graph_area _graph\"></div> <ul class=\"list_area\"> <li class=\"on now\"> <dl> <dt class=\"blind\">예상 풍속</dt> <dd class=\"weather_item _dotWrapper\" style=\"bottom:93px;\"> <span>3</span>m/s <span class=\"dot_point today _dot\"></span> </dd> <dt class=\"blind\">예상 풍향</dt> <dd class=\"item_condition\"> <span class=\"wt_status\"> <span class=\"ico_wind wind_s\">남</span></span> </dd> <dt class=\"blind\">시간</dt> <dd class=\"item_time\"> <span class=\"more_bytime\"> <span class=\"ico dday\"><span class=\"dday\">14시</span></span> </span> </dd> </dl> </li> <li class=\"on\"> <dl> <dt class=\"blind\">예상 풍속</dt> <dd class=\"weather_item _dotWrapper\" style=\"bottom:93px;\"> <span>3</span>m/s <span class=\"dot_point today _dot\"></span> </dd> <dt class=\"blind\">예상 풍향</dt> <dd class=\"item_condition\"> <span class=\"wt_status\"> <span class=\"ico_wind wind_s\">남</span></span> </dd> <dt class=\"blind\">시간</dt> <dd class=\"item_time\"> <span>15시</span> </dd> </dl> </li> <li class=\"on\"> <dl> <dt class=\"blind\">예상 풍속</dt> <dd class=\"weather_item _dotWrapper\" style=\"bottom:93px;\"> <span>3</span>m/s <span class=\"dot_point today _dot\"></span> </dd> <dt class=\"blind\">예상 풍향</dt> <dd class=\"item_condition\"> <span class=\"wt_status\"> <span class=\"ico_wind wind_sw\">남서</span></span> </dd> <dt class=\"blind\">시간</dt> <dd class=\"item_time\"> <span>16시</span> </dd> </dl> </li> <li class=\"on\"> <dl> <dt class=\"blind\">예상 풍속</dt> <dd class=\"weather_item _dotWrapper\" style=\"bottom:85px;\"> <span>2</span>m/s <span class=\"dot_point today _dot\"></span> </dd> <dt class=\"blind\">예상 풍향</dt> <dd class=\"item_condition\"> <span class=\"wt_status\"> <span class=\"ico_wind wind_sw\">남서</span></span> </dd> <dt class=\"blind\">시간</dt> <dd class=\"item_time\"> <span>17시</span> </dd> </dl> </li> <li class=\"on\"> <dl> <dt class=\"blind\">예상 풍속</dt> <dd class=\"weather_item _dotWrapper\" style=\"bottom:81px;\"> <span>2</span>m/s <span class=\"dot_point today _dot\"></span> </dd> <dt class=\"blind\">예상 풍향</dt> <dd class=\"item_condition\"> <span class=\"wt_status\"> <span class=\"ico_wind wind_s\">남</span></span> </dd> <dt class=\"blind\">시간</dt> <dd class=\"item_time\"> <span>18시</span> </dd> </dl> </li> <li class=\"\"> <dl> <dt class=\"blind\">예상 풍속</dt> <dd class=\"weather_item _dotWrapper\" style=\"bottom:76px;\"> <span>1</span>m/s <span class=\"dot_point today _dot\"></span> </dd> <dt class=\"blind\">예상 풍향</dt> <dd class=\"item_condition\"> <span class=\"wt_status\"> <span class=\"ico_wind wind_sw\">남서</span></span> </dd> <dt class=\"blind\">시간</dt> <dd class=\"item_time\"> <span>21시</span> </dd> </dl> </li> <li class=\"\"> <dl> <dt class=\"blind\">예상 풍속</dt> <dd class=\"weather_item _dotWrapper\" style=\"bottom:70px;\"> <span>0</span>m/s <span class=\"dot_point today _dot\"></span> </dd> <dt class=\"blind\">예상 풍향</dt> <dd class=\"item_condition\"> <span class=\"wt_status\"> <span class=\"ico_wind wind_s\">남</span></span> </dd> <dt class=\"blind\">시간</dt> <dd class=\"item_time\"> <span class=\"tomorrow\"><span class=\"division_line\" style=\"height:36.777778px\"></span><span class=\"tomorrow_icon\"></span><span class=\"blind\">내일</span></span> <span>00시</span> </dd> </dl> </li> <li class=\"\"> <dl> <dt class=\"blind\">예상 풍향</dt> <dd class=\"item_condition\"> </dd> <dt class=\"blind\">시간</dt> <dd class=\"item_time\"> <span>03시</span> </dd> </dl> </li> </ul> </div> <div class=\"info_list humidity _tabContent _center\" style=\"display:none;\"> <div class=\"graph_area _graph\"></div> <ul class=\"list_area\"> <li class=\"on now\"> <dl> <dt class=\"blind\">예상 습도</dt> <dd class=\"weather_item _dotWrapper\" style=\"bottom:79px;\"> <span>75</span>% <span class=\"dot_point today _dot\"></span> </dd> <dd class=\"item_condition\"> <span class=\"wt_status\"> <span class=\"ico_humidity\"> <span class=\"percent\"><i style=\"height:75%\"></i></span> </span> <span class=\"ico_humidity_bg\"></span> </span> </dd> <dt class=\"blind\">시간</dt> <dd class=\"item_time\"> <span class=\"more_bytime\"> <span class=\"ico dday\"><span class=\"dday\">14시</span></span> </span> </dd> </dl> </li> <li class=\"on\"> <dl> <dt class=\"blind\">예상 습도</dt> <dd class=\"weather_item _dotWrapper\" style=\"bottom:79px;\"> <span>75</span>% <span class=\"dot_point today _dot\"></span> </dd> <dd class=\"item_condition\"> <span class=\"wt_status\"> <span class=\"ico_humidity\"> <span class=\"percent\"><i style=\"height:75%\"></i></span> </span> <span class=\"ico_humidity_bg\"></span> </span> </dd> <dt class=\"blind\">시간</dt> <dd class=\"item_time\"> <span>15시</span> </dd> </dl> </li> <li class=\"on\"> <dl> <dt class=\"blind\">예상 습도</dt> <dd class=\"weather_item _dotWrapper\" style=\"bottom:79px;\"> <span>75</span>% <span class=\"dot_point today _dot\"></span> </dd> <dd class=\"item_condition\"> <span class=\"wt_status\"> <span class=\"ico_humidity\"> <span class=\"percent\"><i style=\"height:75%\"></i></span> </span> <span class=\"ico_humidity_bg\"></span> </span> </dd> <dt class=\"blind\">시간</dt> <dd class=\"item_time\"> <span>16시</span> </dd> </dl> </li> <li class=\"on\"> <dl> <dt class=\"blind\">예상 습도</dt> <dd class=\"weather_item _dotWrapper\" style=\"bottom:79px;\"> <span>75</span>% <span class=\"dot_point today _dot\"></span> </dd> <dd class=\"item_condition\"> <span class=\"wt_status\"> <span class=\"ico_humidity\"> <span class=\"percent\"><i style=\"height:75%\"></i></span> </span> <span class=\"ico_humidity_bg\"></span> </span> </dd> <dt class=\"blind\">시간</dt> <dd class=\"item_time\"> <span>17시</span> </dd> </dl> </li> <li class=\"on\"> <dl> <dt class=\"blind\">예상 습도</dt> <dd class=\"weather_item _dotWrapper\" style=\"bottom:79px;\"> <span>75</span>% <span class=\"dot_point today _dot\"></span> </dd> <dd class=\"item_condition\"> <span class=\"wt_status\"> <span class=\"ico_humidity\"> <span class=\"percent\"><i style=\"height:75%\"></i></span> </span> <span class=\"ico_humidity_bg\"></span> </span> </dd> <dt class=\"blind\">시간</dt> <dd class=\"item_time\"> <span>18시</span> </dd> </dl> </li> <li class=\"\"> <dl> <dt class=\"blind\">예상 습도</dt> <dd class=\"weather_item _dotWrapper\" style=\"bottom:87px;\"> <span>80</span>% <span class=\"dot_point today _dot\"></span> </dd> <dd class=\"item_condition\"> <span class=\"wt_status\"> <span class=\"ico_humidity\"> <span class=\"percent\"><i style=\"height:80%\"></i></span> </span> <span class=\"ico_humidity_bg\"></span> </span> </dd> <dt class=\"blind\">시간</dt> <dd class=\"item_time\"> <span>21시</span> </dd> </dl> </li> <li class=\"\"> <dl> <dt class=\"blind\">예상 습도</dt> <dd class=\"weather_item _dotWrapper\" style=\"bottom:96px;\"> <span>85</span>% <span class=\"dot_point today _dot\"></span> </dd> <dd class=\"item_condition\"> <span class=\"wt_status\"> <span class=\"ico_humidity\"> <span class=\"percent\"><i style=\"height:85%\"></i></span> </span> <span class=\"ico_humidity_bg\"></span> </span> </dd> <dt class=\"blind\">시간</dt> <dd class=\"item_time\"> <span class=\"tomorrow\"><span class=\"division_line\" style=\"height:36.777778px\"></span><span class=\"tomorrow_icon\"></span><span class=\"blind\">내일</span></span> <span>00시</span> </dd> </dl> </li> <li class=\"\"> <dl> <dd class=\"item_condition\"> </dd> <dt class=\"blind\">시간</dt> <dd class=\"item_time\"> <span>03시</span> </dd> </dl> </li> </ul> </div> </div> </div> <div class=\"tomorrow_area _mainTabContent\" style=\"display:none;\"> <span class=\"bar\"></span> <div class=\"main_info morning_box\"> <strong class=\"tlt\">오전</strong> <span class=\"ico_state1 ws5\"></span> <p class=\"info_temperature\"><span class=\"todaytemp\">26</span><span class=\"tempmark\"><span class=\"blind\">도씨</span>℃</span> </p> <div class=\"info_data\"> <ul class=\"info_list\"> <li><p class=\"cast_txt\">구름많음</p></li> <li> <div class=\"detail_box\"> <span class=\"indicator\"> <a nocr onclick=\"return goOtherCR(this, \\'a=nco_x7t*4.rtmdustmr&r=1&i=88157038_00000065035F&u=\\' + urlencode(this.href));\" href=\"?where=nexearch&sm=tab_etc&qvt=0&query=%EB%B6%80%EC%82%B0%EA%B4%91%EC%97%AD%EC%8B%9C%20%EC%A4%91%EA%B5%AC%20%EB%82%A8%ED%8F%AC%EB%8F%99%20%EB%82%B4%EC%9D%BC%20%EB%AF%B8%EC%84%B8%EB%A8%BC%EC%A7%80\">미세먼지</a> <span class=\"lv1\">좋음<span class=\"ico\"></span></span> </span> </div> </li> </ul> </div> </div> <div class=\"main_info morning_box\"> <strong class=\"tlt\">오후</strong> <span class=\"ico_state1 ws5\"></span> <p class=\"info_temperature\"><span class=\"todaytemp\">32</span><span class=\"tempmark\"><span class=\"blind\">도씨</span>℃</span> </p> <div class=\"info_data\"> <ul class=\"info_list\"> <li><p class=\"cast_txt\">구름많음</p></li> <li> <div class=\"detail_box\"> <span class=\"indicator\"> <a nocr onclick=\"return goOtherCR(this, \\'a=nco_x7t*4.rtmdustmr&r=1&i=88157038_00000065035F&u=\\' + urlencode(this.href));\" href=\"?where=nexearch&sm=tab_etc&qvt=0&query=%EB%B6%80%EC%82%B0%EA%B4%91%EC%97%AD%EC%8B%9C%20%EC%A4%91%EA%B5%AC%20%EB%82%A8%ED%8F%AC%EB%8F%99%20%EB%82%B4%EC%9D%BC%20%EB%AF%B8%EC%84%B8%EB%A8%BC%EC%A7%80\">미세먼지</a> <span class=\"lv1\">좋음<span class=\"ico\"></span></span> </span> </div> </li> </ul> </div> </div> <div class=\"table_info bytime _tomorrowWeatherByTime\"> <div class=\"title_area\"> <h4 class=\"section_title\">시간대별 날씨</h4> <div class=\"title_sub\"> <div class=\"sub_option\"> <span class=\"blind\">정렬</span> <a nocr onclick=\"goOtherTCR(this, \\'a=nco_x7t*4.hrwetap&r=1&i=88157038_00000065035F\\');return false;\" href=\"#\" class=\"btn_option _tab\" role=\"option\" aria-selected=\"true\"><span class=\"ico_select\"></span>날씨</a> <a nocr onclick=\"goOtherTCR(this, \\'a=nco_x7t*4.hrratap&r=1&i=88157038_00000065035F\\');return false;\" href=\"#\" class=\"btn_option _tab\" role=\"option\"><span class=\"ico_select\"></span>강수</a> <a nocr onclick=\"goOtherTCR(this, \\'a=nco_x7t*4.hrwitap&r=1&i=88157038_00000065035F\\');return false;\" href=\"#\" class=\"btn_option _tab\" role=\"option\"><span class=\"ico_select\"></span>바람</a> <a nocr onclick=\"goOtherTCR(this, \\'a=nco_x7t*4.hrhutap&r=1&i=88157038_00000065035F\\');return false;\" href=\"#\" class=\"btn_option _tab\" role=\"option\"><span class=\"ico_select\"></span>습도</a> </div> </div> </div> <div class=\"info_list weather_condition _tabContent\" style=\"display:block;\"> <div class=\"graph_area _graph\"></div> <ul class=\"list_area\"> <li class=\"now\"> <dl> <dt class=\"blind\">오늘 온도</dt> <dd class=\"weather_item _dotWrapper\" style=\"bottom:75px;\"> <span>27</span>°<span class=\"blind\">도</span> <span class=\"dot_point today _dot\"></span> </dd> <dt class=\"blind\">날씨</dt> <dd class=\"item_condition\"><span class=\"ico_state2 ws2\">맑음</span></dd> <dt class=\"blind\">시간</dt> <dd class=\"item_time\"> <span>00시</span> </dd> </dl> </li> <li class=\"\"> <dl> <dt class=\"blind\">오늘 온도</dt> <dd class=\"weather_item _dotWrapper\" style=\"bottom:75px;\"> <span>27</span>°<span class=\"blind\">도</span> <span class=\"dot_point today _dot\"></span> </dd> <dt class=\"blind\">날씨</dt> <dd class=\"item_condition\"><span class=\"ico_state2 ws2\">맑음</span></dd> <dt class=\"blind\">시간</dt> <dd class=\"item_time\"> <span>03시</span> </dd> </dl> </li> <li class=\"\"> <dl> <dt class=\"blind\">오늘 온도</dt> <dd class=\"weather_item _dotWrapper\" style=\"bottom:70px;\"> <span>26</span>°<span class=\"blind\">도</span> <span class=\"dot_point today _dot\"></span> </dd> <dt class=\"blind\">날씨</dt> <dd class=\"item_condition\"><span class=\"ico_state2 ws5\">구름많음</span></dd> <dt class=\"blind\">시간</dt> <dd class=\"item_time\"> <span>06시</span> </dd> </dl> </li> <li class=\"\"> <dl> <dt class=\"blind\">오늘 온도</dt> <dd class=\"weather_item _dotWrapper\" style=\"bottom:86px;\"> <span>29</span>°<span class=\"blind\">도</span> <span class=\"dot_point today _dot\"></span> </dd> <dt class=\"blind\">날씨</dt> <dd class=\"item_condition\"><span class=\"ico_state2 ws5\">구름많음</span></dd> <dt class=\"blind\">시간</dt> <dd class=\"item_time\"> <span>09시</span> </dd> </dl> </li> <li class=\"\"> <dl> <dt class=\"blind\">오늘 온도</dt> <dd class=\"weather_item _dotWrapper\" style=\"bottom:96px;\"> <span>31</span>°<span class=\"blind\">도</span> <span class=\"dot_point today _dot\"></span> </dd> <dt class=\"blind\">날씨</dt> <dd class=\"item_condition\"><span class=\"ico_state2 ws5\">구름많음</span></dd> <dt class=\"blind\">시간</dt> <dd class=\"item_time\"> <span>12시</span> </dd> </dl> </li> <li class=\"\"> <dl> <dt class=\"blind\">오늘 온도</dt> <dd class=\"weather_item _dotWrapper\" style=\"bottom:96px;\"> <span>31</span>°<span class=\"blind\">도</span> <span class=\"dot_point today _dot\"></span> </dd> <dt class=\"blind\">날씨</dt> <dd class=\"item_condition\"><span class=\"ico_state2 ws7\">흐림</span></dd> <dt class=\"blind\">시간</dt> <dd class=\"item_time\"> <span>15시</span> </dd> </dl> </li> <li class=\"\"> <dl> <dt class=\"blind\">오늘 온도</dt> <dd class=\"weather_item _dotWrapper\" style=\"bottom:91px;\"> <span>30</span>°<span class=\"blind\">도</span> <span class=\"dot_point today _dot\"></span> </dd> <dt class=\"blind\">날씨</dt> <dd class=\"item_condition\"><span class=\"ico_state2 ws7\">흐림</span></dd> <dt class=\"blind\">시간</dt> <dd class=\"item_time\"> <span>18시</span> </dd> </dl> </li> <li class=\"last\"> <dl> <dt class=\"blind\">오늘 온도</dt> <dd class=\"weather_item _dotWrapper\" style=\"bottom:80px;\"> <span>28</span>°<span class=\"blind\">도</span> <span class=\"dot_point today _dot\"></span> </dd> <dt class=\"blind\">날씨</dt> <dd class=\"item_condition\"><span class=\"ico_state2 ws6\">구름많음</span></dd> <dt class=\"blind\">시간</dt> <dd class=\"item_time\"> <span>21시</span> </dd> </dl> </li> </ul> </div> <div class=\"info_list rainfall _tabContent _center\" style=\"display:none;\"> <div class=\"graph_area _graph\"></div> <ul class=\"list_area\"> <li class=\"now merge2\"> <dl> <dt class=\"blind\">강수 확률</dt> <dd class=\"weather_item _dotWrapper\" style=\"bottom:70px;\"> <span>0</span>% <span class=\"dot_point today _dot\"></span> </dd> <dt class=\"blind\">예상 강수량</dt> <dd class=\"item_condition\"> <span class=\"rain_rate level1\"> 0 </span> </dd> <dt class=\"blind\">시간</dt> <dd class=\"item_time\"> <span>00시</span> </dd> </dl> </li> <li class=\" merge0\"> <dl> <dt class=\"blind\">강수 확률</dt> <dd class=\"weather_item _dotWrapper\" style=\"bottom:87px;\"> <span>20</span>% <span class=\"dot_point today _dot\"></span> </dd> <dt class=\"blind\">예상 강수량</dt> <dd class=\"item_condition\"> <span class=\"rain_rate level1\"> </span> </dd> <dt class=\"blind\">시간</dt> <dd class=\"item_time\"> <span>03시</span> </dd> </dl> </li> <li class=\" merge2\"> <dl> <dt class=\"blind\">강수 확률</dt> <dd class=\"weather_item _dotWrapper\" style=\"bottom:87px;\"> <span>20</span>% <span class=\"dot_point today _dot\"></span> </dd> <dt class=\"blind\">예상 강수량</dt> <dd class=\"item_condition\"> <span class=\"rain_rate level1\"> 0 </span> </dd> <dt class=\"blind\">시간</dt> <dd class=\"item_time\"> <span>06시</span> </dd> </dl> </li> <li class=\" merge0\"> <dl> <dt class=\"blind\">강수 확률</dt> <dd class=\"weather_item _dotWrapper\" style=\"bottom:87px;\"> <span>20</span>% <span class=\"dot_point today _dot\"></span> </dd> <dt class=\"blind\">예상 강수량</dt> <dd class=\"item_condition\"> <span class=\"rain_rate level1\"> </span> </dd> <dt class=\"blind\">시간</dt> <dd class=\"item_time\"> <span>09시</span> </dd> </dl> </li> <li class=\" merge2\"> <dl> <dt class=\"blind\">강수 확률</dt> <dd class=\"weather_item _dotWrapper\" style=\"bottom:96px;\"> <span>30</span>% <span class=\"dot_point today _dot\"></span> </dd> <dt class=\"blind\">예상 강수량</dt> <dd class=\"item_condition\"> <span class=\"rain_rate level1\"> 0 </span> </dd> <dt class=\"blind\">시간</dt> <dd class=\"item_time\"> <span>12시</span> </dd> </dl> </li> <li class=\" merge0\"> <dl> <dt class=\"blind\">강수 확률</dt> <dd class=\"weather_item _dotWrapper\" style=\"bottom:96px;\"> <span>30</span>% <span class=\"dot_point today _dot\"></span> </dd> <dt class=\"blind\">예상 강수량</dt> <dd class=\"item_condition\"> <span class=\"rain_rate level1\"> </span> </dd> <dt class=\"blind\">시간</dt> <dd class=\"item_time\"> <span>15시</span> </dd> </dl> </li> <li class=\" merge1\"> <dl> <dt class=\"blind\">강수 확률</dt> <dd class=\"weather_item _dotWrapper\" style=\"bottom:87px;\"> <span>20</span>% <span class=\"dot_point today _dot\"></span> </dd> <dt class=\"blind\">예상 강수량</dt> <dd class=\"item_condition\"> <span class=\"rain_rate level1\"> 0 </span> </dd> <dt class=\"blind\">시간</dt> <dd class=\"item_time\"> <span>18시</span> </dd> </dl> </li> <li class=\"last merge0\"> <dl> <dt class=\"blind\">예상 강수량</dt> <dd class=\"item_condition\"> <span class=\"rain_rate level1\"> </span> </dd> <dt class=\"blind\">시간</dt> <dd class=\"item_time\"> <span>21시</span> </dd> </dl> </li> </ul> </div> <div class=\"info_list wind _tabContent _center\" style=\"display:none;\"> <div class=\"graph_area _graph\"></div> <ul class=\"list_area\"> <li class=\"now\"> <dl> <dt class=\"blind\">예상 풍속</dt> <dd class=\"weather_item _dotWrapper\" style=\"bottom:70px;\"> <span>0</span>m/s <span class=\"dot_point today _dot\"></span> </dd> <dt class=\"blind\">예상 풍향</dt> <dd class=\"item_condition\"> <span class=\"wt_status\"> <span class=\"ico_wind wind_s\">남</span></span> </dd> <dt class=\"blind\">시간</dt> <dd class=\"item_time\"> <span>00시</span> </dd> </dl> </li> <li class=\"\"> <dl> <dt class=\"blind\">예상 풍속</dt> <dd class=\"weather_item _dotWrapper\" style=\"bottom:78px;\"> <span>1</span>m/s <span class=\"dot_point today _dot\"></span> </dd> <dt class=\"blind\">예상 풍향</dt> <dd class=\"item_condition\"> <span class=\"wt_status\"> <span class=\"ico_wind wind_e\">동</span></span> </dd> <dt class=\"blind\">시간</dt> <dd class=\"item_time\"> <span>03시</span> </dd> </dl> </li> <li class=\"\"> <dl> <dt class=\"blind\">예상 풍속</dt> <dd class=\"weather_item _dotWrapper\" style=\"bottom:79px;\"> <span>1</span>m/s <span class=\"dot_point today _dot\"></span> </dd> <dt class=\"blind\">예상 풍향</dt> <dd class=\"item_condition\"> <span class=\"wt_status\"> <span class=\"ico_wind wind_se\">남동</span></span> </dd> <dt class=\"blind\">시간</dt> <dd class=\"item_time\"> <span>06시</span> </dd> </dl> </li> <li class=\"\"> <dl> <dt class=\"blind\">예상 풍속</dt> <dd class=\"weather_item _dotWrapper\" style=\"bottom:90px;\"> <span>3</span>m/s <span class=\"dot_point today _dot\"></span> </dd> <dt class=\"blind\">예상 풍향</dt> <dd class=\"item_condition\"> <span class=\"wt_status\"> <span class=\"ico_wind wind_s\">남</span></span> </dd> <dt class=\"blind\">시간</dt> <dd class=\"item_time\"> <span>09시</span> </dd> </dl> </li> <li class=\"\"> <dl> <dt class=\"blind\">예상 풍속</dt> <dd class=\"weather_item _dotWrapper\" style=\"bottom:96px;\"> <span>3</span>m/s <span class=\"dot_point today _dot\"></span> </dd> <dt class=\"blind\">예상 풍향</dt> <dd class=\"item_condition\"> <span class=\"wt_status\"> <span class=\"ico_wind wind_s\">남</span></span> </dd> <dt class=\"blind\">시간</dt> <dd class=\"item_time\"> <span>12시</span> </dd> </dl> </li> <li class=\"\"> <dl> <dt class=\"blind\">예상 풍속</dt> <dd class=\"weather_item _dotWrapper\" style=\"bottom:86px;\"> <span>2</span>m/s <span class=\"dot_point today _dot\"></span> </dd> <dt class=\"blind\">예상 풍향</dt> <dd class=\"item_condition\"> <span class=\"wt_status\"> <span class=\"ico_wind wind_s\">남</span></span> </dd> <dt class=\"blind\">시간</dt> <dd class=\"item_time\"> <span>15시</span> </dd> </dl> </li> <li class=\"\"> <dl> <dt class=\"blind\">예상 풍속</dt> <dd class=\"weather_item _dotWrapper\" style=\"bottom:80px;\"> <span>1</span>m/s <span class=\"dot_point today _dot\"></span> </dd> <dt class=\"blind\">예상 풍향</dt> <dd class=\"item_condition\"> <span class=\"wt_status\"> <span class=\"ico_wind wind_sw\">남서</span></span> </dd> <dt class=\"blind\">시간</dt> <dd class=\"item_time\"> <span>18시</span> </dd> </dl> </li> <li class=\"last\"> <dl> <dt class=\"blind\">예상 풍향</dt> <dd class=\"item_condition\"> </dd> <dt class=\"blind\">시간</dt> <dd class=\"item_time\"> <span>21시</span> </dd> </dl> </li> </ul> </div> <div class=\"info_list humidity _tabContent _center\" style=\"display:none;\"> <div class=\"graph_area _graph\"></div> <ul class=\"list_area\"> <li class=\"now\"> <dl> <dt class=\"blind\">예상 습도</dt> <dd class=\"weather_item _dotWrapper\" style=\"bottom:96px;\"> <span>85</span>% <span class=\"dot_point today _dot\"></span> </dd> <dd class=\"item_condition\"> <span class=\"wt_status\"> <span class=\"ico_humidity\"> <span class=\"percent\"><i style=\"height:85%\"></i></span> </span> <span class=\"ico_humidity_bg\"></span> </span> </dd> <dt class=\"blind\">시간</dt> <dd class=\"item_time\"> <span>00시</span> </dd> </dl> </li> <li class=\"\"> <dl> <dt class=\"blind\">예상 습도</dt> <dd class=\"weather_item _dotWrapper\" style=\"bottom:96px;\"> <span>85</span>% <span class=\"dot_point today _dot\"></span> </dd> <dd class=\"item_condition\"> <span class=\"wt_status\"> <span class=\"ico_humidity\"> <span class=\"percent\"><i style=\"height:85%\"></i></span> </span> <span class=\"ico_humidity_bg\"></span> </span> </dd> <dt class=\"blind\">시간</dt> <dd class=\"item_time\"> <span>03시</span> </dd> </dl> </li> <li class=\"\"> <dl> <dt class=\"blind\">예상 습도</dt> <dd class=\"weather_item _dotWrapper\" style=\"bottom:79px;\"> <span>75</span>% <span class=\"dot_point today _dot\"></span> </dd> <dd class=\"item_condition\"> <span class=\"wt_status\"> <span class=\"ico_humidity\"> <span class=\"percent\"><i style=\"height:75%\"></i></span> </span> <span class=\"ico_humidity_bg\"></span> </span> </dd> <dt class=\"blind\">시간</dt> <dd class=\"item_time\"> <span>06시</span> </dd> </dl> </li> <li class=\"\"> <dl> <dt class=\"blind\">예상 습도</dt> <dd class=\"weather_item _dotWrapper\" style=\"bottom:70px;\"> <span>70</span>% <span class=\"dot_point today _dot\"></span> </dd> <dd class=\"item_condition\"> <span class=\"wt_status\"> <span class=\"ico_humidity\"> <span class=\"percent\"><i style=\"height:70%\"></i></span> </span> <span class=\"ico_humidity_bg\"></span> </span> </dd> <dt class=\"blind\">시간</dt> <dd class=\"item_time\"> <span>09시</span> </dd> </dl> </li> <li class=\"\"> <dl> <dt class=\"blind\">예상 습도</dt> <dd class=\"weather_item _dotWrapper\" style=\"bottom:70px;\"> <span>70</span>% <span class=\"dot_point today _dot\"></span> </dd> <dd class=\"item_condition\"> <span class=\"wt_status\"> <span class=\"ico_humidity\"> <span class=\"percent\"><i style=\"height:70%\"></i></span> </span> <span class=\"ico_humidity_bg\"></span> </span> </dd> <dt class=\"blind\">시간</dt> <dd class=\"item_time\"> <span>12시</span> </dd> </dl> </li> <li class=\"\"> <dl> <dt class=\"blind\">예상 습도</dt> <dd class=\"weather_item _dotWrapper\" style=\"bottom:70px;\"> <span>70</span>% <span class=\"dot_point today _dot\"></span> </dd> <dd class=\"item_condition\"> <span class=\"wt_status\"> <span class=\"ico_humidity\"> <span class=\"percent\"><i style=\"height:70%\"></i></span> </span> <span class=\"ico_humidity_bg\"></span> </span> </dd> <dt class=\"blind\">시간</dt> <dd class=\"item_time\"> <span>15시</span> </dd> </dl> </li> <li class=\"\"> <dl> <dt class=\"blind\">예상 습도</dt> <dd class=\"weather_item _dotWrapper\" style=\"bottom:79px;\"> <span>75</span>% <span class=\"dot_point today _dot\"></span> </dd> <dd class=\"item_condition\"> <span class=\"wt_status\"> <span class=\"ico_humidity\"> <span class=\"percent\"><i style=\"height:75%\"></i></span> </span> <span class=\"ico_humidity_bg\"></span> </span> </dd> <dt class=\"blind\">시간</dt> <dd class=\"item_time\"> <span>18시</span> </dd> </dl> </li> <li class=\"last\"> <dl> <dd class=\"item_condition\"> </dd> <dt class=\"blind\">시간</dt> <dd class=\"item_time\"> <span>21시</span> </dd> </dl> </li> </ul> </div> </div> </div> <div class=\"tomorrow_area day_after _mainTabContent\" style=\"display:none;\"> <span class=\"bar\"></span> <div class=\"main_info morning_box\"> <strong class=\"tlt\">오전</strong> <span class=\"ico_state1 ws5\"></span> <p class=\"info_temperature\"><span class=\"todaytemp\">26</span><span class=\"tempmark\"><span class=\"blind\">도씨</span>℃</span> </p> <div class=\"info_data\"> <ul class=\"info_list\"> <li><p class=\"cast_txt\">구름많음</p></li> <li> <div class=\"detail_box\"> <span class=\"indicator\"> <a nocr onclick=\"return goOtherCR(this, \\'a=nco_x7t*4.rtmdustmr&r=1&i=88157038_00000065035F&u=\\' + urlencode(this.href));\" href=\"?where=nexearch&sm=tab_etc&qvt=0&query=%EB%B6%80%EC%82%B0%EA%B4%91%EC%97%AD%EC%8B%9C%20%EC%A4%91%EA%B5%AC%20%EB%82%A8%ED%8F%AC%EB%8F%99%20%EB%AA%A8%EB%A0%88%20%EB%AF%B8%EC%84%B8%EB%A8%BC%EC%A7%80\">미세먼지</a> <span class=\"lv1\">좋음<span class=\"ico\"></span></span> </span> </div> </li> </ul> </div> </div> <div class=\"main_info morning_box\"> <strong class=\"tlt\">오후</strong> <span class=\"ico_state1 ws1\"></span> <p class=\"info_temperature\"><span class=\"todaytemp\">33</span><span class=\"tempmark\"><span class=\"blind\">도씨</span>℃</span> </p> <div class=\"info_data\"> <ul class=\"info_list\"> <li><p class=\"cast_txt\">맑음</p></li> <li> <div class=\"detail_box\"> <span class=\"indicator\"> <a nocr onclick=\"return goOtherCR(this, \\'a=nco_x7t*4.rtmdustmr&r=1&i=88157038_00000065035F&u=\\' + urlencode(this.href));\" href=\"?where=nexearch&sm=tab_etc&qvt=0&query=%EB%B6%80%EC%82%B0%EA%B4%91%EC%97%AD%EC%8B%9C%20%EC%A4%91%EA%B5%AC%20%EB%82%A8%ED%8F%AC%EB%8F%99%20%EB%AA%A8%EB%A0%88%20%EB%AF%B8%EC%84%B8%EB%A8%BC%EC%A7%80\">미세먼지</a> <span class=\"lv1\">좋음<span class=\"ico\"></span></span> </span> </div> </li> </ul> </div> </div> <div class=\"table_info bytime _dayAfterWeatherByTime\"> <div class=\"title_area\"> <h4 class=\"section_title\">시간대별 날씨</h4> <div class=\"title_sub\"> <div class=\"sub_option\"> <span class=\"blind\">정렬</span> <a nocr onclick=\"goOtherTCR(this, \\'a=nco_x7t*4.hrwetap&r=1&i=88157038_00000065035F\\');return false;\" href=\"#\" class=\"btn_option _tab\" role=\"option\" aria-selected=\"true\"><span class=\"ico_select\"></span>날씨</a> <a nocr onclick=\"goOtherTCR(this, \\'a=nco_x7t*4.hrratap&r=1&i=88157038_00000065035F\\');return false;\" href=\"#\" class=\"btn_option _tab\" role=\"option\"><span class=\"ico_select\"></span>강수</a> <a nocr onclick=\"goOtherTCR(this, \\'a=nco_x7t*4.hrwitap&r=1&i=88157038_00000065035F\\');return false;\" href=\"#\" class=\"btn_option _tab\" role=\"option\"><span class=\"ico_select\"></span>바람</a> <a nocr onclick=\"goOtherTCR(this, \\'a=nco_x7t*4.hrhutap&r=1&i=88157038_00000065035F\\');return false;\" href=\"#\" class=\"btn_option _tab\" role=\"option\"><span class=\"ico_select\"></span>습도</a> </div> </div> </div> <div class=\"info_list weather_condition _tabContent\" style=\"display:block;\"> <div class=\"graph_area _graph\"></div> <ul class=\"list_area\"> <li class=\"now\"> <dl> <dt class=\"blind\">오늘 온도</dt> <dd class=\"weather_item _dotWrapper\" style=\"bottom:79px;\"> <span>28</span>°<span class=\"blind\">도</span> <span class=\"dot_point today _dot\"></span> </dd> <dt class=\"blind\">날씨</dt> <dd class=\"item_condition\"><span class=\"ico_state2 ws6\">구름많음</span></dd> <dt class=\"blind\">시간</dt> <dd class=\"item_time\"> <span>00시</span> </dd> </dl> </li> <li class=\"\"> <dl> <dt class=\"blind\">오늘 온도</dt> <dd class=\"weather_item _dotWrapper\" style=\"bottom:74px;\"> <span>27</span>°<span class=\"blind\">도</span> <span class=\"dot_point today _dot\"></span> </dd> <dt class=\"blind\">날씨</dt> <dd class=\"item_condition\"><span class=\"ico_state2 ws7\">흐림</span></dd> <dt class=\"blind\">시간</dt> <dd class=\"item_time\"> <span>03시</span> </dd> </dl> </li> <li class=\"\"> <dl> <dt class=\"blind\">오늘 온도</dt> <dd class=\"weather_item _dotWrapper\" style=\"bottom:70px;\"> <span>26</span>°<span class=\"blind\">도</span> <span class=\"dot_point today _dot\"></span> </dd> <dt class=\"blind\">날씨</dt> <dd class=\"item_condition\"><span class=\"ico_state2 ws5\">구름많음</span></dd> <dt class=\"blind\">시간</dt> <dd class=\"item_time\"> <span>06시</span> </dd> </dl> </li> <li class=\"\"> <dl> <dt class=\"blind\">오늘 온도</dt> <dd class=\"weather_item _dotWrapper\" style=\"bottom:87px;\"> <span>30</span>°<span class=\"blind\">도</span> <span class=\"dot_point today _dot\"></span> </dd> <dt class=\"blind\">날씨</dt> <dd class=\"item_condition\"><span class=\"ico_state2 ws7\">흐림</span></dd> <dt class=\"blind\">시간</dt> <dd class=\"item_time\"> <span>09시</span> </dd> </dl> </li> <li class=\"\"> <dl> <dt class=\"blind\">오늘 온도</dt> <dd class=\"weather_item _dotWrapper\" style=\"bottom:96px;\"> <span>32</span>°<span class=\"blind\">도</span> <span class=\"dot_point today _dot\"></span> </dd> <dt class=\"blind\">날씨</dt> <dd class=\"item_condition\"><span class=\"ico_state2 ws7\">흐림</span></dd> <dt class=\"blind\">시간</dt> <dd class=\"item_time\"> <span>12시</span> </dd> </dl> </li> <li class=\"\"> <dl> <dt class=\"blind\">오늘 온도</dt> <dd class=\"weather_item _dotWrapper\" style=\"bottom:96px;\"> <span>32</span>°<span class=\"blind\">도</span> <span class=\"dot_point today _dot\"></span> </dd> <dt class=\"blind\">날씨</dt> <dd class=\"item_condition\"><span class=\"ico_state2 ws1\">맑음</span></dd> <dt class=\"blind\">시간</dt> <dd class=\"item_time\"> <span>15시</span> </dd> </dl> </li> <li class=\"\"> <dl> <dt class=\"blind\">오늘 온도</dt> <dd class=\"weather_item _dotWrapper\" style=\"bottom:87px;\"> <span>30</span>°<span class=\"blind\">도</span> <span class=\"dot_point today _dot\"></span> </dd> <dt class=\"blind\">날씨</dt> <dd class=\"item_condition\"><span class=\"ico_state2 ws1\">맑음</span></dd> <dt class=\"blind\">시간</dt> <dd class=\"item_time\"> <span>18시</span> </dd> </dl> </li> <li class=\"\"> <dl> <dt class=\"blind\">오늘 온도</dt> <dd class=\"weather_item _dotWrapper\" style=\"bottom:79px;\"> <span>28</span>°<span class=\"blind\">도</span> <span class=\"dot_point today _dot\"></span> </dd> <dt class=\"blind\">날씨</dt> <dd class=\"item_condition\"><span class=\"ico_state2 ws2\">맑음</span></dd> <dt class=\"blind\">시간</dt> <dd class=\"item_time\"> <span>21시</span> </dd> </dl> </li> </ul> </div> <div class=\"info_list rainfall _tabContent _center\" style=\"display:none;\"> <div class=\"graph_area _graph\"></div> <ul class=\"list_area\"> <li class=\"now merge2\"> <dl> <dt class=\"blind\">강수 확률</dt> <dd class=\"weather_item _dotWrapper\" style=\"bottom:96px;\"> <span>30</span>% <span class=\"dot_point today _dot\"></span> </dd> <dt class=\"blind\">예상 강수량</dt> <dd class=\"item_condition\"> <span class=\"rain_rate level1\"> 0 </span> </dd> <dt class=\"blind\">시간</dt> <dd class=\"item_time\"> <span>00시</span> </dd> </dl> </li> <li class=\" merge0\"> <dl> <dt class=\"blind\">강수 확률</dt> <dd class=\"weather_item _dotWrapper\" style=\"bottom:87px;\"> <span>20</span>% <span class=\"dot_point today _dot\"></span> </dd> <dt class=\"blind\">예상 강수량</dt> <dd class=\"item_condition\"> <span class=\"rain_rate level1\"> </span> </dd> <dt class=\"blind\">시간</dt> <dd class=\"item_time\"> <span>03시</span> </dd> </dl> </li> <li class=\" merge2\"> <dl> <dt class=\"blind\">강수 확률</dt> <dd class=\"weather_item _dotWrapper\" style=\"bottom:96px;\"> <span>30</span>% <span class=\"dot_point today _dot\"></span> </dd> <dt class=\"blind\">예상 강수량</dt> <dd class=\"item_condition\"> <span class=\"rain_rate level1\"> 0 </span> </dd> <dt class=\"blind\">시간</dt> <dd class=\"item_time\"> <span>06시</span> </dd> </dl> </li> <li class=\" merge0\"> <dl> <dt class=\"blind\">강수 확률</dt> <dd class=\"weather_item _dotWrapper\" style=\"bottom:96px;\"> <span>30</span>% <span class=\"dot_point today _dot\"></span> </dd> <dt class=\"blind\">예상 강수량</dt> <dd class=\"item_condition\"> <span class=\"rain_rate level1\"> </span> </dd> <dt class=\"blind\">시간</dt> <dd class=\"item_time\"> <span>09시</span> </dd> </dl> </li> <li class=\" merge2\"> <dl> <dt class=\"blind\">강수 확률</dt> <dd class=\"weather_item _dotWrapper\" style=\"bottom:70px;\"> <span>0</span>% <span class=\"dot_point today _dot\"></span> </dd> <dt class=\"blind\">예상 강수량</dt> <dd class=\"item_condition\"> <span class=\"rain_rate level1\"> 0 </span> </dd> <dt class=\"blind\">시간</dt> <dd class=\"item_time\"> <span>12시</span> </dd> </dl> </li> <li class=\" merge0\"> <dl> <dt class=\"blind\">강수 확률</dt> <dd class=\"weather_item _dotWrapper\" style=\"bottom:70px;\"> <span>0</span>% <span class=\"dot_point today _dot\"></span> </dd> <dt class=\"blind\">예상 강수량</dt> <dd class=\"item_condition\"> <span class=\"rain_rate level1\"> </span> </dd> <dt class=\"blind\">시간</dt> <dd class=\"item_time\"> <span>15시</span> </dd> </dl> </li> <li class=\" merge1\"> <dl> <dt class=\"blind\">강수 확률</dt> <dd class=\"weather_item _dotWrapper\" style=\"bottom:70px;\"> <span>0</span>% <span class=\"dot_point today _dot\"></span> </dd> <dt class=\"blind\">예상 강수량</dt> <dd class=\"item_condition\"> <span class=\"rain_rate level1\"> 0 </span> </dd> <dt class=\"blind\">시간</dt> <dd class=\"item_time\"> <span>18시</span> </dd> </dl> </li> <li class=\" merge0\"> <dl> <dt class=\"blind\">예상 강수량</dt> <dd class=\"item_condition\"> <span class=\"rain_rate level1\"> </span> </dd> <dt class=\"blind\">시간</dt> <dd class=\"item_time\"> <span>21시</span> </dd> </dl> </li> </ul> </div> <div class=\"info_list wind _tabContent _center\" style=\"display:none;\"> <div class=\"graph_area _graph\"></div> <ul class=\"list_area\"> <li class=\"now\"> <dl> <dt class=\"blind\">예상 풍속</dt> <dd class=\"weather_item _dotWrapper\" style=\"bottom:80px;\"> <span>2</span>m/s <span class=\"dot_point today _dot\"></span> </dd> <dt class=\"blind\">예상 풍향</dt> <dd class=\"item_condition\"> <span class=\"wt_status\"> <span class=\"ico_wind wind_w\">서</span></span> </dd> <dt class=\"blind\">시간</dt> <dd class=\"item_time\"> <span>00시</span> </dd> </dl> </li> <li class=\"\"> <dl> <dt class=\"blind\">예상 풍속</dt> <dd class=\"weather_item _dotWrapper\" style=\"bottom:79px;\"> <span>1</span>m/s <span class=\"dot_point today _dot\"></span> </dd> <dt class=\"blind\">예상 풍향</dt> <dd class=\"item_condition\"> <span class=\"wt_status\"> <span class=\"ico_wind wind_nw\">북서</span></span> </dd> <dt class=\"blind\">시간</dt> <dd class=\"item_time\"> <span>03시</span> </dd> </dl> </li> <li class=\"\"> <dl> <dt class=\"blind\">예상 풍속</dt> <dd class=\"weather_item _dotWrapper\" style=\"bottom:75px;\"> <span>1</span>m/s <span class=\"dot_point today _dot\"></span> </dd> <dt class=\"blind\">예상 풍향</dt> <dd class=\"item_condition\"> <span class=\"wt_status\"> <span class=\"ico_wind wind_w\">서</span></span> </dd> <dt class=\"blind\">시간</dt> <dd class=\"item_time\"> <span>06시</span> </dd> </dl> </li> <li class=\"\"> <dl> <dt class=\"blind\">예상 풍속</dt> <dd class=\"weather_item _dotWrapper\" style=\"bottom:87px;\"> <span>2</span>m/s <span class=\"dot_point today _dot\"></span> </dd> <dt class=\"blind\">예상 풍향</dt> <dd class=\"item_condition\"> <span class=\"wt_status\"> <span class=\"ico_wind wind_s\">남</span></span> </dd> <dt class=\"blind\">시간</dt> <dd class=\"item_time\"> <span>09시</span> </dd> </dl> </li> <li class=\"\"> <dl> <dt class=\"blind\">예상 풍속</dt> <dd class=\"weather_item _dotWrapper\" style=\"bottom:96px;\"> <span>3</span>m/s <span class=\"dot_point today _dot\"></span> </dd> <dt class=\"blind\">예상 풍향</dt> <dd class=\"item_condition\"> <span class=\"wt_status\"> <span class=\"ico_wind wind_s\">남</span></span> </dd> <dt class=\"blind\">시간</dt> <dd class=\"item_time\"> <span>12시</span> </dd> </dl> </li> <li class=\"\"> <dl> <dt class=\"blind\">예상 풍속</dt> <dd class=\"weather_item _dotWrapper\" style=\"bottom:87px;\"> <span>2</span>m/s <span class=\"dot_point today _dot\"></span> </dd> <dt class=\"blind\">예상 풍향</dt> <dd class=\"item_condition\"> <span class=\"wt_status\"> <span class=\"ico_wind wind_se\">남동</span></span> </dd> <dt class=\"blind\">시간</dt> <dd class=\"item_time\"> <span>15시</span> </dd> </dl> </li> <li class=\"\"> <dl> <dt class=\"blind\">예상 풍속</dt> <dd class=\"weather_item _dotWrapper\" style=\"bottom:70px;\"> <span>1</span>m/s <span class=\"dot_point today _dot\"></span> </dd> <dt class=\"blind\">예상 풍향</dt> <dd class=\"item_condition\"> <span class=\"wt_status\"> <span class=\"ico_wind wind_e\">동</span></span> </dd> <dt class=\"blind\">시간</dt> <dd class=\"item_time\"> <span>18시</span> </dd> </dl> </li> <li class=\"\"> <dl> <dt class=\"blind\">예상 풍향</dt> <dd class=\"item_condition\"> </dd> <dt class=\"blind\">시간</dt> <dd class=\"item_time\"> <span>21시</span> </dd> </dl> </li> </ul> </div> <div class=\"info_list humidity _tabContent _center\" style=\"display:none;\"> <div class=\"graph_area _graph\"></div> <ul class=\"list_area\"> <li class=\"now\"> <dl> <dt class=\"blind\">예상 습도</dt> <dd class=\"weather_item _dotWrapper\" style=\"bottom:90px;\"> <span>80</span>% <span class=\"dot_point today _dot\"></span> </dd> <dd class=\"item_condition\"> <span class=\"wt_status\"> <span class=\"ico_humidity\"> <span class=\"percent\"><i style=\"height:80%\"></i></span> </span> <span class=\"ico_humidity_bg\"></span> </span> </dd> <dt class=\"blind\">시간</dt> <dd class=\"item_time\"> <span>00시</span> </dd> </dl> </li> <li class=\"\"> <dl> <dt class=\"blind\">예상 습도</dt> <dd class=\"weather_item _dotWrapper\" style=\"bottom:96px;\"> <span>85</span>% <span class=\"dot_point today _dot\"></span> </dd> <dd class=\"item_condition\"> <span class=\"wt_status\"> <span class=\"ico_humidity\"> <span class=\"percent\"><i style=\"height:85%\"></i></span> </span> <span class=\"ico_humidity_bg\"></span> </span> </dd> <dt class=\"blind\">시간</dt> <dd class=\"item_time\"> <span>03시</span> </dd> </dl> </li> <li class=\"\"> <dl> <dt class=\"blind\">예상 습도</dt> <dd class=\"weather_item _dotWrapper\" style=\"bottom:70px;\"> <span>65</span>% <span class=\"dot_point today _dot\"></span> </dd> <dd class=\"item_condition\"> <span class=\"wt_status\"> <span class=\"ico_humidity\"> <span class=\"percent\"><i style=\"height:65%\"></i></span> </span> <span class=\"ico_humidity_bg\"></span> </span> </dd> <dt class=\"blind\">시간</dt> <dd class=\"item_time\"> <span>06시</span> </dd> </dl> </li> <li class=\"\"> <dl> <dt class=\"blind\">예상 습도</dt> <dd class=\"weather_item _dotWrapper\" style=\"bottom:70px;\"> <span>65</span>% <span class=\"dot_point today _dot\"></span> </dd> <dd class=\"item_condition\"> <span class=\"wt_status\"> <span class=\"ico_humidity\"> <span class=\"percent\"><i style=\"height:65%\"></i></span> </span> <span class=\"ico_humidity_bg\"></span> </span> </dd> <dt class=\"blind\">시간</dt> <dd class=\"item_time\"> <span>09시</span> </dd> </dl> </li> <li class=\"\"> <dl> <dt class=\"blind\">예상 습도</dt> <dd class=\"weather_item _dotWrapper\" style=\"bottom:70px;\"> <span>65</span>% <span class=\"dot_point today _dot\"></span> </dd> <dd class=\"item_condition\"> <span class=\"wt_status\"> <span class=\"ico_humidity\"> <span class=\"percent\"><i style=\"height:65%\"></i></span> </span> <span class=\"ico_humidity_bg\"></span> </span> </dd> <dt class=\"blind\">시간</dt> <dd class=\"item_time\"> <span>12시</span> </dd> </dl> </li> <li class=\"\"> <dl> <dt class=\"blind\">예상 습도</dt> <dd class=\"weather_item _dotWrapper\" style=\"bottom:77px;\"> <span>70</span>% <span class=\"dot_point today _dot\"></span> </dd> <dd class=\"item_condition\"> <span class=\"wt_status\"> <span class=\"ico_humidity\"> <span class=\"percent\"><i style=\"height:70%\"></i></span> </span> <span class=\"ico_humidity_bg\"></span> </span> </dd> <dt class=\"blind\">시간</dt> <dd class=\"item_time\"> <span>15시</span> </dd> </dl> </li> <li class=\"\"> <dl> <dt class=\"blind\">예상 습도</dt> <dd class=\"weather_item _dotWrapper\" style=\"bottom:83px;\"> <span>75</span>% <span class=\"dot_point today _dot\"></span> </dd> <dd class=\"item_condition\"> <span class=\"wt_status\"> <span class=\"ico_humidity\"> <span class=\"percent\"><i style=\"height:75%\"></i></span> </span> <span class=\"ico_humidity_bg\"></span> </span> </dd> <dt class=\"blind\">시간</dt> <dd class=\"item_time\"> <span>18시</span> </dd> </dl> </li> <li class=\"\"> <dl> <dd class=\"item_condition\"> </dd> <dt class=\"blind\">시간</dt> <dd class=\"item_time\"> <span>21시</span> </dd> </dl> </li> </ul> </div> </div> </div> <div class=\"monthly_area _mainTabContent _monthlyArea\" style=\"display:none;\"> <div class=\"main_info\"> <div class=\"sort_box _monthSelectLayer\"> <div class=\"lst_select\"> <div class=\"select_box\"> <a nocr onclick=\"goOtherTCR(this, \\'a=nco_x7t*4.monthsel&r=1&i=88157038_00000065035F\\');return false;\" href=\"#\" class=\"btn_select _selectLayerTrigger\" role=\"button\" aria-expanded=\"false\"> <em class=\"_text\">8월 예보</em><span class=\"ico_select\"></span> </a> <div class=\"select_lst _selectLayerLists\"> <ul role=\"listbox\" class=\"_list\"> <li role=\"option\" aria-selected=\"true\"><a nocr class=\"_item\" href=\"#\">8월 예보</a></li> <li role=\"option\"><a nocr class=\"_item\" href=\"#\">9월 예보</a></li> <li role=\"option\"><a nocr class=\"_item\" href=\"#\">10월 예보</a></li> </ul> </div> </div> </div> </div> <div class=\"forecast _forecast\" style=\"display:block;\"> <p> 덥고 습한 공기의 영향으로 열대야가 나타나거나 낮 동안 고온 현상이 나타날 때가 있겠으며, 비가 내리면서 평년보다 낮은 기온을 보일 때도 있어 변동성이 크겠습니다. 대기불안정과 발달한 저기압의 영향으로 국지적으로 많은 비가 내릴 때가 있겠으며, 강수량의 지역 차가 매우 크겠습니다. (월평균기온) 평년(25.2~26.4℃)과 비슷하거나 높을 확률이 각각 40%입니다. (월강수량) 평년(162.3~323.2㎜)과 비슷하거나 많을 확률이 각각 40%입니다. <span class=\"average\"><span class=\"tit\">평년기온</span>25.2~26.4 비슷함<span class=\"bar\"></span> <span class=\"tit\">평년강수량</span>162.3~323.2mm 적음</span> </p> </div> <div class=\"forecast _forecast\" style=\"display:none;\"> <p> 덥고 습한 공기의 영향을 받다가 중국 내륙에서 다가오는 건조한 공기의 영향을 차차 받겠습니다. 발달한 저기압의 영향으로 다소 많은 비가 내릴 때가 있겠으며, 강수량의 지역 차가 크겠습니다. (월평균기온) 평년(21.2~21.8℃)과 비슷할 확률이 50%입니다. (월강수량) 평년(109.6~238.3㎜)과 비슷하거나 많을 확률이 각각 40%입니다. <span class=\"average\"><span class=\"tit\">평년기온</span>21.2~21.8 높음<span class=\"bar\"></span> <span class=\"tit\">평년강수량</span>109.6~238.3mm 비슷함</span> </p> </div> <div class=\"forecast _forecast\" style=\"display:none;\"> <p> 건조한 공기의 영향을 받아 낮과 밤의 기온 차가 큰 날이 많겠으며, 상층 찬 공기의 영향으로 평년보다 낮은 기온 분포를 보이면서 쌀쌀한 날씨를 보일 때가 있겠습니다. (월평균기온) 평년(15.4~16.2℃)과 비슷할 확률이 50%입니다. <span class=\"average\"><span class=\"tit\">평년기온</span>15.4~16.2 비슷함<span class=\"bar\"></span> <span class=\"tit\">평년강수량</span>38.3~94.9mm 비슷함</span> </p> </div> </div> <div class=\"table_info monthly\" style=\"display:block;\"> <table class=\"weekly_prospect\"> <caption class=\"blind\">날씨 주간별 전망</caption> <colgroup> <col class=\"td1\"><col class=\"td2\"><col class=\"td3\"><col class=\"td4\"> </colgroup> <thead> <tr> <th scope=\"col\">주간</th> <th scope=\"col\">전망</th> <th scope=\"col\">평년기온</th> <th scope=\"col\">평년강수량</th> </tr> </thead> <tbody> <tr> <th scope=\"row\"><span class=\"figure\">(08.09.~08.15.)</span></th> <td><p> 고기압의 가장자리에 들거나 남서쪽에서 다가오는 저기압의 영향으로 많은 비가 내릴 때가 있겠습니다. (주평균기온) 평년(25.4~27.2℃)과 비슷할 확률이 50%입니다. (주강수량) 평년(25.1~75.7㎜)과 비슷하거나 많을 확률이 각각 40%입니다. </p></td> <td><span class=\"figure\">25.4~27.2˚</span><span class=\"explain\">비슷함</span></td> <td><span class=\"figure\">25.1~75.7mm</span><span class=\"explain\">비슷함</span></td> </tr> <tr> <th scope=\"row\"><span class=\"figure\">(08.16.~08.22.)</span></th> <td><p> 덥고 습한 공기의 영향을 주로 받는 가운데 대기 불안정에 의해 강수량의 지역 차가 매우 크겠습니다. (주평균기온) 평년(25.0~26.4℃)보다 높을 확률이 60%입니다. (주강수량) 평년(16.4~73.5㎜)과 비슷하거나 적을 확률이 각각 40%입니다. </p></td> <td><span class=\"figure\">25.0~26.4˚</span><span class=\"explain\">높음</span></td> <td><span class=\"figure\">16.4~73.5mm</span><span class=\"explain\">비슷함</span></td> </tr> <tr> <th scope=\"row\"><span class=\"figure\">(08.23.~08.29.)</span></th> <td><p> 덥고 습한 공기의 영향을 주로 받는 가운데 대기 불안정에 의해 강수량의 지역 차가 매우 크겠습니다. (주평균기온) 평년(24.2~25.4℃)보다 높을 확률이 50%입니다. (주강수량) 평년(31.7~72.7㎜)과 비슷하거나 적을 확률이 각각 40%입니다. </p></td> <td><span class=\"figure\">24.2~25.4˚</span><span class=\"explain\">높음</span></td> <td><span class=\"figure\">31.7~72.7mm</span><span class=\"explain\">비슷함</span></td> </tr> <tr> <th scope=\"row\"><span class=\"figure\">(08.30.~09.05.)</span></th> <td><p> 고기압의 가장자리에 들거나 저기압의 영향으로 많은 비가 내릴 때가 있겠습니다. (주평균기온) 평년(23.2~24.4℃)과 비슷하거나 높을 확률이 각각 40%입니다. (주강수량) 평년(9.8~50.8㎜)과 비슷하거나 많을 확률이 각각 40%입니다. </p></td> <td><span class=\"figure\">23.2~24.4˚</span><span class=\"explain\">비슷함</span></td> <td><span class=\"figure\">9.8~50.8mm</span><span class=\"explain\">비슷함</span></td> </tr> </tbody> </table> </div> </div> <div class=\"table_info weekly _weeklyWeather\"> <div class=\"title_area\"> <h4 class=\"section_title\">주간날씨</h4> </div> <ul class=\"list_area _pageList\"> <li class=\"date_info today\"> <span class=\"day_info\">월 <span class=\"ico dday\"><span class=\"dday today\">오늘</span></span> </span> <span class=\"point_time morning\"> <span class=\"ico_state2 ws22\"></span> <span class=\"rain_rate wet\"> <span class=\"blind\">강수확률</span> <span class=\"num\">60</span>% </span> </span> <span class=\"point_time afternoon\"> <span class=\"ico_state2 ws22\"></span> <span class=\"rain_rate wet\"> <span class=\"blind\">강수확률</span> <span class=\"num\">60</span>% </span> </span> <dl> <dt class=\"blind\">최저,최고 온도</dt> <dd><span>26</span>°<span class=\"slash\">/</span><span>31</span>°</dd> </dl> </li> <li class=\"date_info today\"> <span class=\"day_info\">화 <span>내일</span> </span> <span class=\"point_time morning\"> <span class=\"ico_state2 ws5\"></span> <span class=\"rain_rate\"> <span class=\"blind\">강수확률</span> <span class=\"num\">20</span>% </span> </span> <span class=\"point_time afternoon\"> <span class=\"ico_state2 ws5\"></span> <span class=\"rain_rate\"> <span class=\"blind\">강수확률</span> <span class=\"num\">20</span>% </span> </span> <dl> <dt class=\"blind\">최저,최고 온도</dt> <dd><span>26</span>°<span class=\"slash\">/</span><span>32</span>°</dd> </dl> </li> <li class=\"date_info today\"> <span class=\"day_info\">수 <span>모레</span> </span> <span class=\"point_time morning\"> <span class=\"ico_state2 ws5\"></span> <span class=\"rain_rate\"> <span class=\"blind\">강수확률</span> <span class=\"num\">20</span>% </span> </span> <span class=\"point_time afternoon\"> <span class=\"ico_state2 ws1\"></span> <span class=\"rain_rate\"> <span class=\"blind\">강수확률</span> <span class=\"num\">0</span>% </span> </span> <dl> <dt class=\"blind\">최저,최고 온도</dt> <dd><span>26</span>°<span class=\"slash\">/</span><span>33</span>°</dd> </dl> </li> <li class=\"date_info today\"> <span class=\"day_info\">목 <span>8.5.</span> </span> <span class=\"point_time morning\"> <span class=\"ico_state2 ws1\"></span> <span class=\"rain_rate\"> <span class=\"blind\">강수확률</span> <span class=\"num\">0</span>% </span> </span> <span class=\"point_time afternoon\"> <span class=\"ico_state2 ws1\"></span> <span class=\"rain_rate\"> <span class=\"blind\">강수확률</span> <span class=\"num\">0</span>% </span> </span> <dl> <dt class=\"blind\">최저,최고 온도</dt> <dd><span>26</span>°<span class=\"slash\">/</span><span>33</span>°</dd> </dl> </li> <li class=\"date_info today\"> <span class=\"day_info\">금 <span>8.6.</span> </span> <span class=\"point_time morning\"> <span class=\"ico_state2 ws5\"></span> <span class=\"rain_rate\"> <span class=\"blind\">강수확률</span> <span class=\"num\">30</span>% </span> </span> <span class=\"point_time afternoon\"> <span class=\"ico_state2 ws9\"></span> <span class=\"rain_rate wet\"> <span class=\"blind\">강수확률</span> <span class=\"num\">60</span>% </span> </span> <dl> <dt class=\"blind\">최저,최고 온도</dt> <dd><span>26</span>°<span class=\"slash\">/</span><span>31</span>°</dd> </dl> </li> </ul> <ul class=\"list_area _pageList\" style=\"display:none;\"> <li class=\"date_info today\"> <span class=\"day_info\">토 <span>8.7.</span> </span> <span class=\"point_time morning\"> <span class=\"ico_state2 ws9\"></span> <span class=\"rain_rate wet\"> <span class=\"blind\">강수확률</span> <span class=\"num\">60</span>% </span> </span> <span class=\"point_time afternoon\"> <span class=\"ico_state2 ws9\"></span> <span class=\"rain_rate wet\"> <span class=\"blind\">강수확률</span> <span class=\"num\">60</span>% </span> </span> <dl> <dt class=\"blind\">최저,최고 온도</dt> <dd><span>26</span>°<span class=\"slash\">/</span><span>30</span>°</dd> </dl> </li> <li class=\"date_info today\"> <span class=\"day_info\">일 <span>8.8.</span> </span> <span class=\"point_time morning\"> <span class=\"ico_state2 ws7\"></span> <span class=\"rain_rate\"> <span class=\"blind\">강수확률</span> <span class=\"num\">30</span>% </span> </span> <span class=\"point_time afternoon\"> <span class=\"ico_state2 ws7\"></span> <span class=\"rain_rate\"> <span class=\"blind\">강수확률</span> <span class=\"num\">30</span>% </span> </span> <dl> <dt class=\"blind\">최저,최고 온도</dt> <dd><span>26</span>°<span class=\"slash\">/</span><span>31</span>°</dd> </dl> </li> <li class=\"date_info today\"> <span class=\"day_info\">월 <span>8.9.</span> </span> <span class=\"point_time morning\"> <span class=\"ico_state2 ws7\"></span> <span class=\"rain_rate\"> <span class=\"blind\">강수확률</span> <span class=\"num\">30</span>% </span> </span> <span class=\"point_time afternoon\"> <span class=\"ico_state2 ws7\"></span> <span class=\"rain_rate\"> <span class=\"blind\">강수확률</span> <span class=\"num\">30</span>% </span> </span> <dl> <dt class=\"blind\">최저,최고 온도</dt> <dd><span>25</span>°<span class=\"slash\">/</span><span>30</span>°</dd> </dl> </li> <li class=\"date_info today\"> <span class=\"day_info\">화 <span>8.10.</span> </span> <span class=\"point_time morning\"> <span class=\"ico_state2 ws7\"></span> <span class=\"rain_rate\"> <span class=\"blind\">강수확률</span> <span class=\"num\">30</span>% </span> </span> <span class=\"point_time afternoon\"> <span class=\"ico_state2 ws7\"></span> <span class=\"rain_rate\"> <span class=\"blind\">강수확률</span> <span class=\"num\">30</span>% </span> </span> <dl> <dt class=\"blind\">최저,최고 온도</dt> <dd><span>25</span>°<span class=\"slash\">/</span><span>30</span>°</dd> </dl> </li> <li class=\"date_info today\"> <span class=\"day_info\">수 <span>8.11.</span> </span> <span class=\"point_time morning\"> <span class=\"ico_state2 ws7\"></span> <span class=\"rain_rate\"> <span class=\"blind\">강수확률</span> <span class=\"num\">30</span>% </span> </span> <span class=\"point_time afternoon\"> <span class=\"ico_state2 ws7\"></span> <span class=\"rain_rate\"> <span class=\"blind\">강수확률</span> <span class=\"num\">30</span>% </span> </span> <dl> <dt class=\"blind\">최저,최고 온도</dt> <dd><span>25</span>°<span class=\"slash\">/</span><span>31</span>°</dd> </dl> </li> </ul> <div class=\"page_area\"> <div class=\"paging_bx\"> <a nocr onclick=\"goOtherTCR(this, \\'a=nco_x7t*4.weekpg&r=1&i=88157038_00000065035F\\');return false;\" href=\"#\" class=\"btn_page_prev _btnPrev\"><span class=\"prev ico_spr\">이전 페이지</span></a> <span class=\"page_number\"> <strong class=\"current _currentCount\"> <a nocr onclick=\"goOtherTCR(this, \\'a=nco_x7t*4.weekpg&r=1&i=88157038_00000065035F\\'); return false;\" href=\"#\" class=\"_pageNum on\"><span class=\"blind\">1번 페이지</span>1 </a> </strong> <strong class=\"_totalCount\"> <a nocr onclick=\"goOtherTCR(this, \\'a=nco_x7t*4.weekpg&r=1&i=88157038_00000065035F\\'); return false;\" href=\"#\" class=\"_pageNum\"><span class=\"blind\">2번 페이지</span>2 </a> </strong> </span> <a nocr onclick=\"goOtherTCR(this, \\'a=nco_x7t*4.weekpg&r=1&i=88157038_00000065035F\\');return false;\" href=\"#\" onclick=\"return false;\" class=\"btn_page_next _btnNext on\"> <span class=\"next ico_spr\">다음 페이지</span></a> </div> </div> </div> </div> <div class=\"guide_bx _guideBox\" style=\"display:block;\"> <p class=\"guide\"> <span class=\"ico_notice\"></span> <span class=\"guide_txt\"> <span class=\"update\">13:19</span> 업데이트 현재날씨 및 1시간 예보 <span class=\"update\">12:30</span>, 3시간예보 <span class=\"update\">11:00</span>, 주간예보 <span class=\"update\">11:00</span><span class=\"offer\"> 발표 <a nocr onclick=\"return goOtherCR(this, \\'a=nco_x7t*4.source&r=1&i=88157038_00000065035F&u=\\' + urlencode(this.href));\" target=\"_blank\" href=\"http://www.weather.go.kr/weather/forecast/timeseries.jsp\">기상청</a><span class=\"ico_bar\"></span> 제공 <a nocr onclick=\"return goOtherCR(this, \\'a=nco_x7t*4.source&r=1&i=88157038_00000065035F&u=\\' + urlencode(this.href));\" target=\"_blank\" href=\"http://www.weatheri.co.kr/\">웨더아이</a> </span> </span> </p> </div> <div class=\"guide_bx _guideBox\" style=\"display:none;\"> <p class=\"guide\"> <span class=\"ico_notice\"></span> <span class=\"guide_txt\"> <span class=\"update\">13:19</span> 업데이트 현재날씨 및 1시간 예보 <span class=\"update\">12:30</span>, 3시간예보 <span class=\"update\">11:00</span>, 주간예보 <span class=\"update\">11:00</span><span class=\"offer\"> 발표 <a nocr onclick=\"return goOtherCR(this, \\'a=nco_x7t*4.source&r=1&i=88157038_00000065035F&u=\\' + urlencode(this.href));\" target=\"_blank\" href=\"http://www.weather.go.kr/weather/forecast/timeseries.jsp\">기상청</a><span class=\"ico_bar\"></span> 제공 <a nocr onclick=\"return goOtherCR(this, \\'a=nco_x7t*4.source&r=1&i=88157038_00000065035F&u=\\' + urlencode(this.href));\" target=\"_blank\" href=\"http://www.weatheri.co.kr/\">웨더아이</a> </span> </span> </p> </div> <div class=\"guide_bx _guideBox\" style=\"display:none;\"> <p class=\"guide\"> <span class=\"ico_notice\"></span> <span class=\"guide_txt\"> <span class=\"update\">13:19</span> 업데이트 현재날씨 및 1시간 예보 <span class=\"update\">12:30</span>, 3시간예보 <span class=\"update\">11:00</span>, 주간예보 <span class=\"update\">11:00</span><span class=\"offer\"> 발표 <a nocr onclick=\"return goOtherCR(this, \\'a=nco_x7t*4.source&r=1&i=88157038_00000065035F&u=\\' + urlencode(this.href));\" target=\"_blank\" href=\"http://www.weather.go.kr/weather/forecast/timeseries.jsp\">기상청</a><span class=\"ico_bar\"></span> 제공 <a nocr onclick=\"return goOtherCR(this, \\'a=nco_x7t*4.source&r=1&i=88157038_00000065035F&u=\\' + urlencode(this.href));\" target=\"_blank\" href=\"http://www.weatheri.co.kr/\">웨더아이</a> </span> </span> </p> </div> <div class=\"guide_bx _guideBox\" style=\"display:none;\"> <p class=\"guide\"> <span class=\"ico_notice\"></span> <span class=\"guide_txt\"> 월간예보 <span class=\"update\">2021.07.23. 00:00</span> <span class=\"offer\"> 발표 <a nocr onclick=\"return goOtherCR(this, \\'a=nco_x7t*4.source&r=1&i=88157038_00000065035F&u=\\' + urlencode(this.href));\" target=\"_blank\" href=\"http://www.weather.go.kr/weather/forecast/timeseries.jsp\">기상청</a><span class=\"ico_bar\"></span> 제공 <a nocr onclick=\"return goOtherCR(this, \\'a=nco_x7t*4.source&r=1&i=88157038_00000065035F&u=\\' + urlencode(this.href));\" target=\"_blank\" href=\"http://www.weatheri.co.kr/\">웨더아이</a> </span> </span> </p> </div> <dl class=\"other_lk\"> <dt>관련</dt> <dd> <a nocr onclick=\"return goOtherCR(this, \\'a=nco_x7t*4.refsch&r=1&i=88157038_00000065035F&u=\\' + urlencode(this.href));\" href=\"?where=nexearch&sm=tab_etc&qvt=0&query=%EC%98%A4%EB%8A%98%EB%82%A0%EC%94%A8\">오늘날씨</a>, <a nocr onclick=\"return goOtherCR(this, \\'a=nco_x7t*4.refsch&r=1&i=88157038_00000065035F&u=\\' + urlencode(this.href));\" href=\"?where=nexearch&sm=tab_etc&qvt=0&query=%EA%B8%B0%EC%83%81%ED%8A%B9%EB%B3%B4\">기상특보</a>, <a nocr onclick=\"return goOtherCR(this, \\'a=nco_x7t*4.refsch&r=1&i=88157038_00000065035F&u=\\' + urlencode(this.href));\" href=\"?where=nexearch&sm=tab_etc&qvt=0&query=%ED%83%9C%ED%92%8D%EC%A0%95%EB%B3%B4\">태풍정보</a> </dd> </dl> </div> </div> </div> </section> <script> (function() { var jsFileURL = \"https://ssl.pstatic.net/sstatic/au/pc/weather/nhn.search.weather.Controller_201109.js\"; var jsLoadCallback = function () { new nhn.search.weather.Controller({ $root: jQuery(\"._weather\"), }); }; nhn.common.load_js(jsFileURL, jsLoadCallback, true, 150); })(); </script> <section class=\"sc_new sp_nnews _prs_nws_all\"> <div class=\"api_subject_bx\"> <div class=\"api_title_area\"> <h2 class=\"api_title\">뉴스</h2> <div class=\"api_title_sub\"> <a href=\"?where=news&query=%EB%B6%80%EC%82%B0%EB%82%A0%EC%94%A8&sort=0&sm=tab_smr&nso=so:r,p:all,a:all\" class=\"api_sub_option\" role=\"option\" aria-selected=\"true\" onclick=\"return goOtherCR(this, \\'a=nws_all.sortsim&u=\\'+urlencode(this.href));\">관련도순</a> <a href=\"?where=news&query=%EB%B6%80%EC%82%B0%EB%82%A0%EC%94%A8&sort=1&sm=tab_smr&nso=so:dd,p:all,a:all\" class=\"api_sub_option\" role=\"option\" onclick=\"return goOtherCR(this, \\'a=nws_all.sortdate&u=\\'+urlencode(this.href));\">최신순</a> </div></div><div class=\"group_news\"> <ul class=\"list_news\"> <li class=\"bx\" id=\"sp_nws_all1\"> <div class=\"news_wrap api_ani_send\"> <div class=\"news_area\"> <div class=\"news_info\"> <div class=\"api_save_group _keep_wrap\"> <a href=\"#\" role=\"button\" class=\"btn_save _keep_trigger\" data-url=\"http://www.jejuilbo.net/news/articleView.html?idxno=167752\" onclick=\"tCR(\\'a=nws_all*b.kep&r=1&i=881665b1_000000000000000000093433&u=javascript\\'); return false;\" aria-pressed=\"false\"><i class=\"spnew ico_save\">문서 저장하기</i></a> <div class=\"api_ly_save _keep_save_layer\"> <a href=\"#\" role=\"button\" class=\"spnew_af item item_save _keep_save\" data-cr-on=\"a=nws_all*b.kepon&r=1&i=881665b1_000000000000000000093433&u=javascript\" data-cr-off=\"a=nws_all*b.kepoff&r=1&i=881665b1_000000000000000000093433&u=javascript\">Keep에 저장</a> <a href=\"https://keep.naver.com/\" class=\"spnew_af item item_quick\" target=\"_blank\" onClick=\"return goOtherCR(this,\\'a=nws_all*b.kephome&r=1&i=881665b1_000000000000000000093433&u=\\'+urlencode(this.href));\">Keep 바로가기</a> </div></div><div class=\"info_group\"> <a href=\"http://www.jejuilbo.net\" class=\"info press\" target=\"_blank\" onclick=\"return goOtherCR(this, \\'a=nws_all*b.prof&r=1&i=881665b1_000000000000000000093433&g=5452.0000093433&u=\\'+urlencode(this.href));\"><span class=\"thumb_box\"><img src=\"data:image/gif;base64,R0lGODlhAQABAIAAAAAAAP///yH5BAEAAAAALAAAAAABAAEAAAIBRAA7\" alt=\"\" width=\"20\" height=\"20\" class=\"thumb bg_default_press\" onError=\"this.src=\\'data:image/gif;base64,R0lGODlhAQABAIAAAAAAAP///yH5BAEAAAAALAAAAAABAAEAAAIBRAA7\\';this.className=\\'thumb bg_default_press\\'\"></span>뉴제주일보</a><span class=\"info\">5시간 전</span> </div></div><a href=\"http://www.jejuilbo.net/news/articleView.html?idxno=167752\" class=\"news_tit\" target=\"_blank\" onclick=\"return goOtherCR(this, \\'a=nws_all*b.tit&r=1&i=881665b1_000000000000000000093433&g=5452.0000093433&u=\\'+urlencode(this.href));\" title=\"[일기예보]기상청 오늘의 날씨 및 내일날씨 예보, 전국 곳곳 소나기, 폭염과 열대야 지속!\">[일기<mark>예보</mark>]<mark>기상청</mark> 오늘의 <mark>날씨</mark> 및 내일<mark>날씨</mark> <mark>예보</mark>, 전국 곳곳 소나기, 폭염과 ...</a> <div class=\"news_dsc\"> <div class=\"dsc_wrap\"> <a href=\"http://www.jejuilbo.net/news/articleView.html?idxno=167752\" class=\"api_txt_lines dsc_txt_wrap\" target=\"_blank\" onclick=\"return goOtherCR(this, \\'a=nws_all*b.body&r=1&i=881665b1_000000000000000000093433&g=5452.0000093433&u=\\'+urlencode(this.href));\">있겠으나, <mark>습도</mark>가 높아 체감<mark>온도</mark>는 33도 이상 오르며 폭염특보는 유지되겠으니, 폭염 영향<mark>예보</mark>(매일 11시 30분 발표)와 <mark>기상</mark>정보를 참고하기 바랍니다. * <mark>기상청</mark> <mark>기온</mark> <mark>예보</mark>는 주요 도시의 대표 지점 기준입니다. 따라서...</a> </div></div></div><a href=\"http://www.jejuilbo.net/news/articleView.html?idxno=167752\" class=\"dsc_thumb \" target=\"_blank\" onclick=\"return goOtherCR(this, \\'a=nws_all*b.img&r=1&i=881665b1_000000000000000000093433&g=5452.0000093433&u=\\'+urlencode(this.href));\"><img src=\"https://search.pstatic.net/common/?src=https%3A%2F%2Fimgnews.pstatic.net%2Fimage%2Forigin%2F5452%2F2021%2F08%2F02%2F93433.jpg&type=ofullfill264_180_gray&expire=2&refresh=true\" width=\"132\" height=\"90\" alt=\"[일기예보]기상청 오늘\" class=\"thumb api_get\" onerror=\"this.parentNode.style.display=\\'none\\';\"></a> </div><div class=\"news_cluster\"> <ul class=\"list_cluster\"> <li class=\"sub_bx\"> <span class=\"sub_wrap\"> <span class=\"sub_area\"> <cite class=\"sub_txt press\" title=\"이코노미톡뉴스\">이코노미톡뉴스</cite><span class=\"sub_txt\">1시간 전</span> </span><a href=\"http://www.economytalk.kr/news/articleView.html?idxno=214787\" class=\"elss sub_tit\" target=\"_blank\" onclick=\"return goOtherCR(this, \\'a=nws_all*d.tit&r=2&i=88123FBE_000000000000000000063966&g=5192.0000063966&u=\\'+urlencode(this.href));\" title=\"[전국 오늘의 날씨 및 내일날씨]세종, 대전 등 충청도 호우특보, 모레까지 전국 비, 폭염과 열대야는 지속!\">[전국 오늘의 <mark>날씨</mark> 및 내일<mark>날씨</mark>]세종, 대전 등 충청도 호우특보, 모레까지 전...</a> </span></li> <li class=\"sub_bx\"> <span class=\"sub_wrap\"> <span class=\"sub_area\"> <cite class=\"sub_txt press\" title=\"광주매일신문\">광주매일신문</cite><span class=\"sub_txt\">3시간 전</span> </span><a href=\"http://www.kjdaily.com/article.php?aid=1627864827552765227\" class=\"elss sub_tit\" target=\"_blank\" onclick=\"return goOtherCR(this, \\'a=nws_all*d.tit&r=3&i=8813C2EC_000000000000000000145946&g=5263.0000145946&u=\\'+urlencode(this.href));\" title=\"주간 날씨\">주간 <mark>날씨</mark></a> </span></li> </ul></div><a href=\"?where=news&sm=tab_tnw&query=%EB%B6%80%EC%82%B0%EB%82%A0%EC%94%A8&nso=so:r,p:all,a:all&related=1&docid=54520000093433\" class=\"news_more\" onclick=\"return goOtherCR(this, \\'a=nws_all*r.more&u=\\'+urlencode(urlexpand(this.href)));\">관련뉴스 전체보기<i class=\"spnew ico_arrow\"></i></a> </li> <li class=\"bx\" id=\"sp_nws_all4\"> <div class=\"news_wrap api_ani_send\"> <div class=\"news_area\"> <div class=\"news_info\"> <div class=\"api_save_group _keep_wrap\"> <a href=\"#\" role=\"button\" class=\"btn_save _keep_trigger\" data-url=\"http://yna.kr/AKR20210802004300004?did=1195m\" onclick=\"tCR(\\'a=nws_all*a.kep&r=4&i=880000D8_000000000000000012570579&u=javascript\\'); return false;\" aria-pressed=\"false\"><i class=\"spnew ico_save\">문서 저장하기</i></a> <div class=\"api_ly_save _keep_save_layer\"> <a href=\"#\" role=\"button\" class=\"spnew_af item item_save _keep_save\" data-cr-on=\"a=nws_all*a.kepon&r=4&i=880000D8_000000000000000012570579&u=javascript\" data-cr-off=\"a=nws_all*a.kepoff&r=4&i=880000D8_000000000000000012570579&u=javascript\">Keep에 저장</a> <a href=\"https://keep.naver.com/\" class=\"spnew_af item item_quick\" target=\"_blank\" onClick=\"return goOtherCR(this,\\'a=nws_all*a.kephome&r=4&i=880000D8_000000000000000012570579&u=\\'+urlencode(this.href));\">Keep 바로가기</a> </div></div><div class=\"info_group\"> <a href=\"https://www.yna.co.kr/\" class=\"info press\" target=\"_blank\" onclick=\"return goOtherCR(this, \\'a=nws_all*a.prof&r=4&i=880000D8_000000000000000012570579&g=001.0012570579&u=\\'+urlencode(this.href));\"><span class=\"thumb_box\"><img src=\"https://search.pstatic.net/common/?src=https%3A%2F%2Fmimgnews.pstatic.net%2Fimage%2Fupload%2Foffice_logo%2F001%2F2017%2F06%2F29%2Flogo_001_18_20170629160329.png&type=f54_54&expire=24&refresh=true\" alt=\"\" width=\"20\" height=\"20\" class=\"thumb\" onError=\"this.src=\\'data:image/gif;base64,R0lGODlhAQABAIAAAAAAAP///yH5BAEAAAAALAAAAAABAAEAAAIBRAA7\\';this.className=\\'thumb bg_default_press\\'\"></span>연합뉴스</a><span class=\"info\">4시간 전</span><a href=\"https://news.naver.com/main/read.naver?mode=LSD&mid=sec&sid1=102&oid=001&aid=0012570579\" class=\"info\" target=\"_blank\" onclick=\"return goOtherCR(this, \\'a=nws_all*a.nav&r=4&i=880000D8_000000000000000012570579&u=\\'+urlencode(this.href));\">네이버뉴스</a> </div></div><a href=\"http://yna.kr/AKR20210802004300004?did=1195m\" class=\"news_tit\" target=\"_blank\" onclick=\"return goOtherCR(this, \\'a=nws_all*a.tit&r=4&i=880000D8_000000000000000012570579&g=001.0012570579&u=\\'+urlencode(this.href));\" title=\"[내일날씨] 오후 곳곳 소나기…높은 습도에 찜통더위\">[내일<mark>날씨</mark>] 오후 곳곳 소나기…높은 <mark>습도</mark>에 찜통더위</a> <div class=\"news_dsc\"> <div class=\"dsc_wrap\"> <a href=\"http://yna.kr/AKR20210802004300004?did=1195m\" class=\"api_txt_lines dsc_txt_wrap\" target=\"_blank\" onclick=\"return goOtherCR(this, \\'a=nws_all*a.body&r=4&i=880000D8_000000000000000012570579&g=001.0012570579&u=\\'+urlencode(this.href));\">비가 내리면서 일부 지역은 <mark>기온</mark>이 내려가겠지만, <mark>습도</mark>가 높아 체감<mark>온도</mark>는 대부분 지역에서 33도... 기사의 원 데이터인 <mark>기상청</mark> <mark>기상</mark><mark>예보</mark>는 웹사이트(https://www.weather.go.kr)에서도 확인할 수 있습니다.</a> </div></div></div><a href=\"http://yna.kr/AKR20210802004300004?did=1195m\" class=\"dsc_thumb \" target=\"_blank\" onclick=\"return goOtherCR(this, \\'a=nws_all*a.img&r=4&i=880000D8_000000000000000012570579&g=001.0012570579&u=\\'+urlencode(this.href));\"><img src=\"https://search.pstatic.net/common/?src=https%3A%2F%2Fimgnews.pstatic.net%2Fimage%2Forigin%2F001%2F2021%2F08%2F02%2F12570579.jpg&type=ff264_180&expire=2&refresh=true\" width=\"132\" height=\"90\" alt=\"[내일날씨] 오후 곳곳\" class=\"thumb api_get\" onerror=\"this.parentNode.style.display=\\'none\\';\"></a> </div><div class=\"news_cluster\"> <ul class=\"list_cluster\"> <li class=\"sub_bx\"> <span class=\"sub_wrap\"> <span class=\"sub_area\"> <cite class=\"sub_txt press\" title=\"인천일보\">인천일보</cite><span class=\"sub_txt\">2시간 전</span> </span><a href=\"http://www.incheonilbo.com/news/articleView.html?idxno=1107398\" class=\"elss sub_tit\" target=\"_blank\" onclick=\"return goOtherCR(this, \\'a=nws_all*d.tit&r=5&i=88123FBD_000000000000000000427020&g=5193.0000427020&u=\\'+urlencode(this.href));\" title=\"[내일날씨] 전국 곳곳 소나기, 높은 습도에 찜통더위\">[내일<mark>날씨</mark>] 전국 곳곳 소나기, 높은 <mark>습도</mark>에 찜통더위</a> </span></li> </ul></div></li> <li class=\"bx\" id=\"sp_nws_all6\"> <div class=\"news_wrap api_ani_send\"> <div class=\"news_area\"> <div class=\"news_info\"> <div class=\"api_save_group _keep_wrap\"> <a href=\"#\" role=\"button\" class=\"btn_save _keep_trigger\" data-url=\"http://www.ggilbo.com/news/articleView.html?idxno=861377\" onclick=\"tCR(\\'a=nws_all*b.kep&r=6&i=88155e6c_000000000000000000578074&u=javascript\\'); return false;\" aria-pressed=\"false\"><i class=\"spnew ico_save\">문서 저장하기</i></a> <div class=\"api_ly_save _keep_save_layer\"> <a href=\"#\" role=\"button\" class=\"spnew_af item item_save _keep_save\" data-cr-on=\"a=nws_all*b.kepon&r=6&i=88155e6c_000000000000000000578074&u=javascript\" data-cr-off=\"a=nws_all*b.kepoff&r=6&i=88155e6c_000000000000000000578074&u=javascript\">Keep에 저장</a> <a href=\"https://keep.naver.com/\" class=\"spnew_af item item_quick\" target=\"_blank\" onClick=\"return goOtherCR(this,\\'a=nws_all*b.kephome&r=6&i=88155e6c_000000000000000000578074&u=\\'+urlencode(this.href));\">Keep 바로가기</a> </div></div><div class=\"info_group\"> <a href=\"http://www.ggilbo.com\" class=\"info press\" target=\"_blank\" onclick=\"return goOtherCR(this, \\'a=nws_all*b.prof&r=6&i=88155e6c_000000000000000000578074&g=5356.0000578074&u=\\'+urlencode(this.href));\"><span class=\"thumb_box\"><img src=\"https://search.pstatic.net/common/?src=http%3A%2F%2Fwww.ggilbo.com%2Fimage%2Flogo%2Ffavicon_20180413110533.ico&type=f54_54&expire=24&refresh=true\" alt=\"\" width=\"20\" height=\"20\" class=\"thumb\" onError=\"this.src=\\'data:image/gif;base64,R0lGODlhAQABAIAAAAAAAP///yH5BAEAAAAALAAAAAABAAEAAAIBRAA7\\';this.className=\\'thumb bg_default_press\\'\"></span>금강일보</a><span class=\"info\">4시간 전</span> </div></div><a href=\"http://www.ggilbo.com/news/articleView.html?idxno=861377\" class=\"news_tit\" target=\"_blank\" onclick=\"return goOtherCR(this, \\'a=nws_all*b.tit&r=6&i=88155e6c_000000000000000000578074&g=5356.0000578074&u=\\'+urlencode(this.href));\" title=\"[오늘의 날씨] 월요일 전국 천둥번개 동반 매우 강한 비... 폭염특보·열대야 지속 &#39;최대 150㎜ 폭우&#39;\">[오늘의 <mark>날씨</mark>] 월요일 전국 천둥번개 동반 매우 강한 <mark>비</mark>... 폭염특보·열대야...</a> <div class=\"news_dsc\"> <div class=\"dsc_wrap\"> <a href=\"http://www.ggilbo.com/news/articleView.html?idxno=861377\" class=\"api_txt_lines dsc_txt_wrap\" target=\"_blank\" onclick=\"return goOtherCR(this, \\'a=nws_all*b.body&r=6&i=88155e6c_000000000000000000578074&g=5356.0000578074&u=\\'+urlencode(this.href));\"><mark>날씨</mark>ⓒ<mark>기상청</mark> 다음은\\xa02일\\xa0지역별\\xa0<mark>날씨</mark>\\xa0전망.\\xa0[오전,\\xa0오후](최저∼최고<mark>기온</mark>)\\xa0&lt;오전,\\xa0오후\\xa0강수\\xa0확률&gt; ▲\\xa0서울\\xa0:\\xa0[흐리고\\xa0<mark>비</mark>,\\xa0흐리고\\xa0<mark>비</mark>]\\xa0(25∼30)\\xa0&lt;60,\\xa060&gt; ▲\\xa0인천\\xa0:\\xa0[흐리고\\xa0<mark>비</mark>,\\xa0<mark>구름</mark>많고\\xa0한때\\xa0<mark>비</mark>]\\xa0(25∼29)...</a> </div></div></div><a href=\"http://www.ggilbo.com/news/articleView.html?idxno=861377\" class=\"dsc_thumb \" target=\"_blank\" onclick=\"return goOtherCR(this, \\'a=nws_all*b.img&r=6&i=88155e6c_000000000000000000578074&g=5356.0000578074&u=\\'+urlencode(this.href));\"><img src=\"https://search.pstatic.net/common/?src=https%3A%2F%2Fimgnews.pstatic.net%2Fimage%2Forigin%2F5356%2F2021%2F08%2F02%2F578074.jpg&type=ofullfill264_180_gray&expire=2&refresh=true\" width=\"132\" height=\"90\" alt=\"[오늘의 날씨] 월요일\" class=\"thumb api_get\" onerror=\"this.parentNode.style.display=\\'none\\';\"></a> </div><div class=\"news_cluster\"> <ul class=\"list_cluster\"> <li class=\"sub_bx\"> <span class=\"sub_wrap\"> <span class=\"sub_area\"> <cite class=\"sub_txt press\" title=\"SR타임스\">SR타임스</cite><span class=\"sub_txt\">6시간 전</span> </span><a href=\"http://www.srtimes.kr/news/articleView.html?idxno=97567\" class=\"elss sub_tit\" target=\"_blank\" onclick=\"return goOtherCR(this, \\'a=nws_all*d.tit&r=7&i=8818430a_000000000000000000054988&g=5589.0000054988&u=\\'+urlencode(this.href));\" title=\"[오늘 날씨] 전국 천둥번개 동반 매우 강한 비...시간당 50㎜ 최대 150㎜ 폭우…폭염특보·열대야 지속\">[오늘 <mark>날씨</mark>] 전국 천둥번개 동반 매우 강한 <mark>비</mark>...시간당 50㎜ 최대 150㎜ 폭우...</a> </span></li> <li class=\"sub_bx\"> <span class=\"sub_wrap\"> <span class=\"sub_area\"> <cite class=\"sub_txt press\" title=\"국제뉴스\">국제뉴스</cite><span class=\"sub_txt\">13시간 전</span> </span><a href=\"http://www.gukjenews.com/news/articleView.html?idxno=2278708\" class=\"elss sub_tit\" target=\"_blank\" onclick=\"return goOtherCR(this, \\'a=nws_all*d.tit&r=8&i=8813C2D5_000000000000000001396732&g=5291.0001396732&u=\\'+urlencode(this.href));\" title=\"[오늘의 날씨] 2일 전국 매우 강한 비 &#39;최고기온 33도 후덥지근&#39; 더위 언제까지?\">[오늘의 <mark>날씨</mark>] 2일 전국 매우 강한 <mark>비</mark> \\'최고<mark>기온</mark> 33도 후덥지근\\' 더위 언제까...</a> </span></li> </ul></div><a href=\"?where=news&sm=tab_tnw&query=%EB%B6%80%EC%82%B0%EB%82%A0%EC%94%A8&nso=so:r,p:all,a:all&related=1&docid=53560000578074\" class=\"news_more\" onclick=\"return goOtherCR(this, \\'a=nws_all*r.more&u=\\'+urlencode(urlexpand(this.href)));\">관련뉴스 전체보기<i class=\"spnew ico_arrow\"></i></a> </li> <li class=\"bx\" id=\"sp_nws_all9\"> <div class=\"news_wrap api_ani_send\"> <div class=\"news_area\"> <div class=\"news_info\"> <div class=\"api_save_group _keep_wrap\"> <a href=\"#\" role=\"button\" class=\"btn_save _keep_trigger\" data-url=\"http://www.seoulwire.com/news/articleView.html?idxno=448179\" onclick=\"tCR(\\'a=nws_all*f.kep&r=9&i=8817ca73_000000000000000000284810&u=javascript\\'); return false;\" aria-pressed=\"false\"><i class=\"spnew ico_save\">문서 저장하기</i></a> <div class=\"api_ly_save _keep_save_layer\"> <a href=\"#\" role=\"button\" class=\"spnew_af item item_save _keep_save\" data-cr-on=\"a=nws_all*f.kepon&r=9&i=8817ca73_000000000000000000284810&u=javascript\" data-cr-off=\"a=nws_all*f.kepoff&r=9&i=8817ca73_000000000000000000284810&u=javascript\">Keep에 저장</a> <a href=\"https://keep.naver.com/\" class=\"spnew_af item item_quick\" target=\"_blank\" onClick=\"return goOtherCR(this,\\'a=nws_all*f.kephome&r=9&i=8817ca73_000000000000000000284810&u=\\'+urlencode(this.href));\">Keep 바로가기</a> </div></div><div class=\"info_group\"> <a href=\"http://www.seoulwire.com\" class=\"info press\" target=\"_blank\" onclick=\"return goOtherCR(this, \\'a=nws_all*f.prof&r=9&i=8817ca73_000000000000000000284810&g=5526.0000284810&u=\\'+urlencode(this.href));\"><span class=\"thumb_box\"><img src=\"https://search.pstatic.net/common/?src=http%3A%2F%2Fwww.seoulwire.com%2Fimage%2Flogo%2Ffavicon_20200213025212.ico&type=f54_54&expire=24&refresh=true\" alt=\"\" width=\"20\" height=\"20\" class=\"thumb\" onError=\"this.src=\\'data:image/gif;base64,R0lGODlhAQABAIAAAAAAAP///yH5BAEAAAAALAAAAAABAAEAAAIBRAA7\\';this.className=\\'thumb bg_default_press\\'\"></span>서울와이어</a><span class=\"info\">3분 전</span> </div></div><a href=\"http://www.seoulwire.com/news/articleView.html?idxno=448179\" class=\"news_tit\" target=\"_blank\" onclick=\"return goOtherCR(this, \\'a=nws_all*f.tit&r=9&i=8817ca73_000000000000000000284810&g=5526.0000284810&u=\\'+urlencode(this.href));\" title=\"[내일날씨]오후 전국 곳곳 5∼60㎜ 소나기…낮 최고 34도 찜통더위\">[내일<mark>날씨</mark>]오후 전국 곳곳 5∼60㎜ 소나기…낮 최고 34도 찜통더위</a> <div class=\"news_dsc\"> <div class=\"dsc_wrap\"> <a href=\"http://www.seoulwire.com/news/articleView.html?idxno=448179\" class=\"api_txt_lines dsc_txt_wrap\" target=\"_blank\" onclick=\"return goOtherCR(this, \\'a=nws_all*f.body&r=9&i=8817ca73_000000000000000000284810&g=5526.0000284810&u=\\'+urlencode(this.href));\">서울와이어DB <mark>기상청</mark> 일기<mark>예보</mark>에 따르면 화요일인 3일은 전국에 <mark>구름</mark>이 많겠으나 낮 최고<mark>기온</mark>이 34도를... 비가 내리면서 일부 지역은 <mark>기온</mark>이 내려 가겠지만 <mark>습도</mark>가 높아 체감<mark>온도</mark>는 대부분 지역에서 33도 이상으로...</a> </div></div></div><a href=\"http://www.seoulwire.com/news/articleView.html?idxno=448179\" class=\"dsc_thumb \" target=\"_blank\" onclick=\"return goOtherCR(this, \\'a=nws_all*f.img&r=9&i=8817ca73_000000000000000000284810&g=5526.0000284810&u=\\'+urlencode(this.href));\"><img src=\"https://search.pstatic.net/common/?src=https%3A%2F%2Fimgnews.pstatic.net%2Fimage%2Forigin%2F5526%2F2021%2F08%2F02%2F284810.jpg&type=ofullfill264_180_gray&expire=2&refresh=true\" width=\"132\" height=\"90\" alt=\"[내일날씨]오후 전국 \" class=\"thumb api_get\" onerror=\"this.parentNode.style.display=\\'none\\';\"></a> </div></li> </ul></div><div class=\"api_more_wrap\"> <a href=\"?where=news&query=%EB%B6%80%EC%82%B0%EB%82%A0%EC%94%A8&sm=tab_tmr&nso=so:r,p:all,a:all&sort=0\" class=\"api_more\" onclick=\"return goOtherCR(this, \\'a=nws_all.more&r=0&i=0&u=\\'+urlencode(this.href));\">뉴스 더보기<i class=\"spnew ico_arr\"></i></a> </div> </div></section> <section class=\"sc_new sp_ntotal _prs_web_gen _web_gen _sp_ntotal _kin_snippet_root_web_gen _project_channel_root_web_gen\"> <div class=\"api_subject_bx type_noline\"> <ul class=\"lst_total\"> <li class=\"bx\" id=\"web_1\"> <div class=\"total_wrap\"> <div class=\"api_save_group _keep_wrap\"> <a href=\"#\" role=\"button\" class=\"btn_save _keep_trigger\" data-url=\"https://busan.kma.go.kr/\" onclick=\"tCR(\\'a=web_gen.kep&r=&i=&u=javascript\\');\"><i class=\"spnew ico_save\">문서 저장하기</i></a> <div class=\"api_ly_save _keep_save_layer\"> <a href=\"#\" role=\"button\" class=\"spnew_af item item_save _keep_save\" data-cr-on=\"a=web_gen.kepon\" data-cr-off=\"a=web_gen.kepoff\">Keep에 저장</a> <a target=\"_blank\" href=\"https://keep.naver.com/\" class=\"spnew_af item item_quick\" onclick=\"goOtherCR(this,\\'a=web_gen.kephome&r=1&i=a00000fa_4e98a2b4315f9a0f011e6d98&u=\\'+urlencode(this.href));\">Keep 바로가기</a> </div> </div> <div class=\"total_tit_group\"> <div class=\"total_source\"> <div class=\"source_box\"> <a target=\"_blank\" href=\"https://busan.kma.go.kr/\" class=\"thumb\" onclick=\"goOtherCR(this,\\'a=web_gen*w.link&r=1&i=a00000fa_4e98a2b4315f9a0f011e6d98&u=\\'+urlencode(this.href));\"><img src=\"https://search.pstatic.net/sunny/?src=https%3A%2F%2Fwww.kma.go.kr%2Ffavicon.ico&type=f30_30_png_expire24\" width=\"15\" height=\"15\" alt=\"\"></a> <a target=\"_blank\" href=\"https://busan.kma.go.kr/\" class=\"txt elss\" onclick=\"goOtherCR(this,\\'a=web_gen*w.link&r=1&i=a00000fa_4e98a2b4315f9a0f011e6d98&u=\\'+urlencode(this.href));\">busan.kma.go.kr</a> </div> </div> <div class=\"total_tit\"> <div class=\"ico_wrap\"> </div> <a target=\"_blank\" href=\"https://busan.kma.go.kr/\" class=\"link_tit\" onclick=\"goOtherCR(this,\\'a=web_gen*w.link&r=1&i=a00000fa_4e98a2b4315f9a0f011e6d98&u=\\'+urlencode(this.href));\"> <strong class=\"hl\">부산</strong>지방기상청 </a> </div> </div> <div class=\"total_group\"> <div class=\"group_item\"> <ul class=\"list_item\"> <li class=\"item\"><a target=\"_blank\" href=\"https://www.kma.go.kr/busan/html/info/business01.jsp\" onclick=\"goOtherCR(this,\\'a=web_gen*w.sublink&r=1&i=a00000fa_4e98a2b4315f9a0f011e6d98&u=\\'+urlencode(this.href));\">관측업무</a></li> <li class=\"item\"><a target=\"_blank\" href=\"https://www.kma.go.kr/busan/html/info/organization.jsp\" onclick=\"goOtherCR(this,\\'a=web_gen*w.sublink&r=1&i=a00000fa_4e98a2b4315f9a0f011e6d98&u=\\'+urlencode(this.href));\">조직·직원</a></li> <li class=\"item\"><a target=\"_blank\" href=\"https://www.kma.go.kr/busan/html/info/greeting.jsp\" onclick=\"goOtherCR(this,\\'a=web_gen*w.sublink&r=1&i=a00000fa_4e98a2b4315f9a0f011e6d98&u=\\'+urlencode(this.href));\">기관장 인사말</a></li> <li class=\"item\"><a target=\"_blank\" href=\"https://www.kma.go.kr/busan/html/news/notice_list.jsp?boardId=gongzi\" onclick=\"goOtherCR(this,\\'a=web_gen*w.sublink&r=1&i=a00000fa_4e98a2b4315f9a0f011e6d98&u=\\'+urlencode(this.href));\">공지사항</a></li> <li class=\"item\"><a target=\"_blank\" href=\"https://www.kma.go.kr/busan/html/info/business02.jsp\" onclick=\"goOtherCR(this,\\'a=web_gen*w.sublink&r=1&i=a00000fa_4e98a2b4315f9a0f011e6d98&u=\\'+urlencode(this.href));\">예보업무</a></li> <li class=\"item\"><a target=\"_blank\" href=\"https://www.kma.go.kr/busan/html/news/notice_list.jsp?boardId=press2\" onclick=\"goOtherCR(this,\\'a=web_gen*w.sublink&r=1&i=a00000fa_4e98a2b4315f9a0f011e6d98&u=\\'+urlencode(this.href));\">보도자료</a></li> </ul> </div> <div class=\"total_dsc_wrap\"> <a target=\"_blank\" href=\"https://busan.kma.go.kr/\" class=\"total_dsc\" onclick=\"goOtherCR(this,\\'a=web_gen*w.link&r=1&i=a00000fa_4e98a2b4315f9a0f011e6d98&u=\\'+urlencode(this.href));\"> <div class=\"api_txt_lines dsc_txt \">1시간관측 현재<strong class=\"hl\">날씨</strong> 예보 07.31.(토) 12:00 갱신 <strong class=\"hl\">날씨</strong> 기온 강수 풍향 풍속 거창 합천 <strong class=\"hl\">부산</strong> 남해 통영 거제 울산 창원 단기예보 통보문 중기예보 통보문 지역을 검색하여 관심지역 등록 가능합니다. <strong class=\"hl\">부산</strong>광역시 동래구 명륜동 07.31.(토) 11:30 갱신 31.0℃ 체감(32.0℃) 어제보다 1℃ 낮아요 습도 61 % 바람 남 1.5 m/s 1시간강수량 - mm 일출 05:32 일몰 19</div> </a> </div> </div> </div> </li> <li class=\"bx\" id=\"web_2\"> <div class=\"total_wrap\"> <div class=\"api_save_group _keep_wrap\"> <a href=\"#\" role=\"button\" class=\"btn_save _keep_trigger\" data-url=\"https://weather.naver.com/today/08110580\" onclick=\"tCR(\\'a=web_gen.kep&r=&i=&u=javascript\\');\"><i class=\"spnew ico_save\">문서 저장하기</i></a> <div class=\"api_ly_save _keep_save_layer\"> <a href=\"#\" role=\"button\" class=\"spnew_af item item_save _keep_save\" data-cr-on=\"a=web_gen.kepon\" data-cr-off=\"a=web_gen.kepoff\">Keep에 저장</a> <a target=\"_blank\" href=\"https://keep.naver.com/\" class=\"spnew_af item item_quick\" onclick=\"goOtherCR(this,\\'a=web_gen.kephome&r=2&i=a00000fa_c2e5e7145ea4629c63af66c6&u=\\'+urlencode(this.href));\">Keep 바로가기</a> </div> </div> <div class=\"total_tit_group\"> <div class=\"total_source\"> <div class=\"source_box\"> <a target=\"_blank\" href=\"https://weather.naver.com/today/08110580\" class=\"thumb\" onclick=\"goOtherCR(this,\\'a=web_gen*w.link&r=2&i=a00000fa_c2e5e7145ea4629c63af66c6&u=\\'+urlencode(this.href));\"><img src=\"https://search.pstatic.net/sunny/?src=https%3A%2F%2Fssl.pstatic.net%2Fstatic%2Fwww%2FnFavicon24.png&type=f30_30_png_expire24\" width=\"15\" height=\"15\" alt=\"\"></a> <a target=\"_blank\" href=\"https://weather.naver.com/today/08110580\" class=\"txt elss\" onclick=\"goOtherCR(this,\\'a=web_gen*w.link&r=2&i=a00000fa_c2e5e7145ea4629c63af66c6&u=\\'+urlencode(this.href));\">weather.naver.com<i class=\"divide\">›</i>today</a> </div> </div> <div class=\"total_tit\"> <div class=\"ico_wrap\"> </div> <a target=\"_blank\" href=\"https://weather.naver.com/today/08110580\" class=\"link_tit\" onclick=\"goOtherCR(this,\\'a=web_gen*w.link&r=2&i=a00000fa_c2e5e7145ea4629c63af66c6&u=\\'+urlencode(this.href));\"> <strong class=\"hl\">부산</strong> 1° 맑음 - 네이버 <strong class=\"hl\">날씨</strong> </a> </div> </div> <div class=\"total_group\"> <div class=\"total_dsc_wrap\"> <a target=\"_blank\" href=\"https://weather.naver.com/today/08110580\" class=\"total_dsc\" onclick=\"goOtherCR(this,\\'a=web_gen*w.link&r=2&i=a00000fa_c2e5e7145ea4629c63af66c6&u=\\'+urlencode(this.href));\"> <div class=\"api_txt_lines dsc_txt \">현재 <strong class=\"hl\">날씨</strong> <strong class=\"hl\">날씨</strong> 제공사 설정기상청 아큐웨더 웨더채널 제공사 설정 예보비교 현재 온도12 ° 어제보다 2° 높아요구름많음 강수30% 습도83% 서풍2m/s 체감11° 미세먼지 보통 초미세먼지 보통 자외선 보통 시간대별 <strong class=\"hl\">날씨</strong> 아이콘 도움말 23:53 업데이트 발표기준 도움말 내일 1시 구름많음 2시 흐림 3시 구름많음 6시 구름많음 9시 흐림 12시 흐림 15시 흐림...</div> </a> </div> </div> </div> </li> <li class=\"bx\" id=\"web_3\"> <div class=\"total_wrap\"> <div class=\"api_save_group _keep_wrap\"> <a href=\"#\" role=\"button\" class=\"btn_save _keep_trigger\" data-url=\"https://www.weather.go.kr/weather/warning/report.jsp?stn=159\" onclick=\"tCR(\\'a=web_gen.kep&r=&i=&u=javascript\\');\"><i class=\"spnew ico_save\">문서 저장하기</i></a> <div class=\"api_ly_save _keep_save_layer\"> <a href=\"#\" role=\"button\" class=\"spnew_af item item_save _keep_save\" data-cr-on=\"a=web_gen.kepon\" data-cr-off=\"a=web_gen.kepoff\">Keep에 저장</a> <a target=\"_blank\" href=\"https://keep.naver.com/\" class=\"spnew_af item item_quick\" onclick=\"goOtherCR(this,\\'a=web_gen.kephome&r=3&i=a00000fa_d7c64b2c5eb22e75fcc7f28c&u=\\'+urlencode(this.href));\">Keep 바로가기</a> </div> </div> <div class=\"total_tit_group\"> <div class=\"total_source\"> <div class=\"source_box\"> <a target=\"_blank\" href=\"https://www.weather.go.kr/weather/warning/report.jsp?stn=159\" class=\"thumb\" onclick=\"goOtherCR(this,\\'a=web_gen*w.link&r=3&i=a00000fa_d7c64b2c5eb22e75fcc7f28c&u=\\'+urlencode(this.href));\"><img src=\"https://search.pstatic.net/sunny/?src=https%3A%2F%2Fwww.kma.go.kr%2Fiphone-shortcut.png&type=f30_30_png_expire24\" width=\"15\" height=\"15\" alt=\"\"></a> <a target=\"_blank\" href=\"https://www.weather.go.kr/weather/warning/report.jsp?stn=159\" class=\"txt elss\" onclick=\"goOtherCR(this,\\'a=web_gen*w.link&r=3&i=a00000fa_d7c64b2c5eb22e75fcc7f28c&u=\\'+urlencode(this.href));\">www.weather.go.kr<i class=\"divide\">›</i>weather</a> </div> </div> <div class=\"total_tit\"> <div class=\"ico_wrap\"> </div> <a target=\"_blank\" href=\"https://www.weather.go.kr/weather/warning/report.jsp?stn=159\" class=\"link_tit\" onclick=\"goOtherCR(this,\\'a=web_gen*w.link&r=3&i=a00000fa_d7c64b2c5eb22e75fcc7f28c&u=\\'+urlencode(this.href));\"> 통보문 &gt; 특보·정보 &gt; 특보·예보 &gt; <strong class=\"hl\">날씨</strong> &gt; 기상청 </a> </div> </div> <div class=\"total_group\"> <div class=\"total_dsc_wrap\"> <a target=\"_blank\" href=\"https://www.weather.go.kr/weather/warning/report.jsp?stn=159\" class=\"total_dsc\" onclick=\"goOtherCR(this,\\'a=web_gen*w.link&r=3&i=a00000fa_d7c64b2c5eb22e75fcc7f28c&u=\\'+urlencode(this.href));\"> <div class=\"api_txt_lines dsc_txt \">&lt; <strong class=\"hl\">날씨</strong> 전망 &gt; (저녁 기상전망) 저녁 퇴근시간대(18시)에 <strong class=\"hl\">부산</strong>, 울산, 경상남도는 대체로 맑겠고, 기온은 <strong class=\"hl\">부산</strong> 29도, 울산 29도, 경상남도 28~31도가 되겠습니다. * 일몰 시각(<strong class=\"hl\">부산</strong> 기준): 19시 32분 (하늘상태) 오늘(26일)은 대체로 맑겠으며, 내일(27일)과 모레(28일)는 가끔 구름많겠습니다. (기온) - 내일(27일) 아침 최저기온은 <strong class=\"hl\">부산</strong> 25도, 울산 23도, 경상남도 20~24도로...</div> </a> </div> </div> </div> </li> <li class=\"bx\" id=\"web_4\"> <div class=\"total_wrap\"> <div class=\"api_save_group _keep_wrap\"> <a href=\"#\" role=\"button\" class=\"btn_save _keep_trigger\" data-url=\"https://www.weatheri.co.kr/forecast/forecast01.php?rid=1101010100&a_name=%EB%B6%80%EC%82%B0\" onclick=\"tCR(\\'a=web_gen.kep&r=&i=&u=javascript\\');\"><i class=\"spnew ico_save\">문서 저장하기</i></a> <div class=\"api_ly_save _keep_save_layer\"> <a href=\"#\" role=\"button\" class=\"spnew_af item item_save _keep_save\" data-cr-on=\"a=web_gen.kepon\" data-cr-off=\"a=web_gen.kepoff\">Keep에 저장</a> <a target=\"_blank\" href=\"https://keep.naver.com/\" class=\"spnew_af item item_quick\" onclick=\"goOtherCR(this,\\'a=web_gen.kephome&r=4&i=a00000fa_6921ec8fc134d2f3cdcd625b&u=\\'+urlencode(this.href));\">Keep 바로가기</a> </div> </div> <div class=\"total_tit_group\"> <div class=\"total_source\"> <div class=\"source_box\"> <a target=\"_blank\" href=\"https://www.weatheri.co.kr/forecast/forecast01.php?rid=1101010100&amp;a_name=%EB%B6%80%EC%82%B0\" class=\"thumb\" onclick=\"goOtherCR(this,\\'a=web_gen*w.link&r=4&i=a00000fa_6921ec8fc134d2f3cdcd625b&u=\\'+urlencode(this.href));\"><img src=\"https://search.pstatic.net/sunny/?src=https%3A%2F%2Fwww.weatheri.co.kr%2Ffavicon.ico&type=f30_30_png_expire24\" width=\"15\" height=\"15\" alt=\"\"></a> <a target=\"_blank\" href=\"https://www.weatheri.co.kr/forecast/forecast01.php?rid=1101010100&amp;a_name=%EB%B6%80%EC%82%B0\" class=\"txt elss\" onclick=\"goOtherCR(this,\\'a=web_gen*w.link&r=4&i=a00000fa_6921ec8fc134d2f3cdcd625b&u=\\'+urlencode(this.href));\">www.weatheri.co.kr<i class=\"divide\">›</i>forecast</a> </div> </div> <div class=\"total_tit\"> <div class=\"ico_wrap\"> </div> <a target=\"_blank\" href=\"https://www.weatheri.co.kr/forecast/forecast01.php?rid=1101010100&amp;a_name=%EB%B6%80%EC%82%B0\" class=\"link_tit\" onclick=\"goOtherCR(this,\\'a=web_gen*w.link&r=4&i=a00000fa_6921ec8fc134d2f3cdcd625b&u=\\'+urlencode(this.href));\"> 지역별 <strong class=\"hl\">날씨</strong> : 웨더아이 - <strong class=\"hl\">날씨</strong>로부터의 자유, <strong class=\"hl\">날씨</strong>와 함께하는 행복 </a> </div> </div> <div class=\"total_group\"> <div class=\"total_dsc_wrap\"> <a target=\"_blank\" href=\"https://www.weatheri.co.kr/forecast/forecast01.php?rid=1101010100&amp;a_name=%EB%B6%80%EC%82%B0\" class=\"total_dsc\" onclick=\"goOtherCR(this,\\'a=web_gen*w.link&r=4&i=a00000fa_6921ec8fc134d2f3cdcd625b&u=\\'+urlencode(this.href));\"> <div class=\"api_txt_lines dsc_txt \">화성 <strong class=\"hl\">부산</strong> 19시 현재 28.5 ℃ 강수량 : 0.0mm 폭염특보 1시간 후 28.0℃ 0mm 2시간 후 28.0℃ 0mm 3시간 후 27.0℃ 0mm 4시간 후 27.0℃ 0mm 07월 30일 (금) 07월 31일 (토) 08월 01일 (일) 08월 02일 (월) 08월 03일 (화) 07월 30일 (금) 03h 06h 09h 12h 15h 18h 21h 00h <strong class=\"hl\">날씨</strong> 기온(˚C) 26 25 29 32 32 30 28 27 강수량(mm) 풍속(m/s) 1 2 2 3 4 3 2 2 습도(%) 85 85 70 60 60 65 80 85... 지역별<strong class=\"hl\">날씨</strong> 해상예보... (강원중<strong class=\"hl\">부산</strong>지...</div> </a> </div> </div> </div> </li> </ul> </div> <div class=\"api_more_wrap type_margin\"> <a href=\"?display=15&amp;f=&amp;filetype=0&amp;page=2&amp;query=%EB%B6%80%EC%82%B0%EB%82%A0%EC%94%A8&amp;research_url=&amp;sm=tab_pge&amp;start=1&amp;where=web\" class=\"api_more\" onclick=\"return goOtherCR(this,\\'a=web_gen.more2&amp;r=&amp;i=&amp;u=\\'+urlencode(this.href));\"> 검색결과 더보기<i class=\"spnew ico_arr\"></i> </a> </div> </section> <script> (function() { var startApplication = function() { var require = window.require.config({ \"context\": \"website\", \"paths\": { /* Controller.js의 경로 지정. */ \"Controller\": \"https://ssl.pstatic.net/sstatic/au/pc/website/Controller_201028\" } }); /* module define은 require의 context별로 호출해야함. */ define(\"jquery\", [], function() { return jQuery; }); require([\"Controller\"], function(Controller) { /* [AU] 클래스 추가 후, 모듈을 초기화 */ new Controller( document.querySelector(\"._web_gen\") ); }); }; var requirejs = naver.common.gv.REQUIRE_JS; naver.common.load_js(window.require ? null : requirejs, startApplication, true, 150); })(); (function() { /* Controller.js의 경로 지정. */ var jsControllerUrl = \"https://ssl.pstatic.net/sstatic/au/m/kin-snippet/KinSnippet_210415.js\"; var startApplication = function() { var require = window.require.config({ \"context\": \"search_kin_snippet\", \"paths\": { \"KinSnippet\": jsControllerUrl.replace(/\\\\.js$/, \"\") } }); /* module define은 require의 context별로 호출해야함. */ define(\"jquery\", [], function() { return jQuery; }); require([\"KinSnippet\"], function(KinSnippet) { var $root = jQuery(\"._kin_snippet_root_web_gen\"); new KinSnippet($root); }); }; var requirejs = \"https://ssl.pstatic.net/sstatic/au/module/requirejs/require-2.3.5.js\"; nhn.common.load_js(window.require ? null : requirejs, startApplication, true, 150); })(); </script> \\n\\n\\n\\n\\n\\n <script> /* [AU] 인라인 스크립트 */ (function () { var CLASS_SECTION = \"_sp_ntotal\"; var CLASS_MARGIN = \"type_margin\"; var sectionEls = Array.prototype.slice.call(document.querySelectorAll(\"section.\" + CLASS_SECTION)); function matches(element, selector) { if (element.matches) return element.matches(selector); if (element.msMatchesSelector) return element.msMatchesSelector(selector); return false; } /* 연속되는 섹션 요소인지 검사한다. */ function isNextSiblingSection(sectionEl) { var targetEl = sectionEl; var targetTagName = targetEl.tagName.toLowerCase(); do { targetEl = targetEl.previousElementSibling; targetTagName = targetEl ? targetEl.tagName.toLowerCase() : \"\"; } while ( targetEl !== null && ( targetTagName === \"script\" || targetTagName === \"link\" ) ); if (targetEl === null) { return false; } return ( targetTagName === \"section\" && matches(targetEl, \".\" + CLASS_SECTION) ); } for (var i = 0; i < sectionEls.length; ++i) { if (isNextSiblingSection(sectionEls[i])) { sectionEls[i].classList.add(CLASS_MARGIN); } } })(); </script> <link rel=\"stylesheet\" type=\"text/css\" href=\"https://ssl.pstatic.net/sstatic/search/pc/css/sp_nimage_210603.css\"> <section class=\"sc_new sp_nimage _prs_img_bas\" id=\"_photowall_section\"> <div class=\"api_subject_bx\"> <div class=\"api_title_area\"> <h2 class=\"api_title\">이미지</h2> <div class=\"api_title_sub\"> <div class=\"btn_extend\" id=\"_imageReport\"> <div class=\"report_img _process\" style=\"display: none;\"> <em>신고할 이미지를 선택 후 확인 버튼을 눌러주세요.</em> <a role=\"button\" href=\"#\" class=\"btn_confirm _ok\" onclick=\"return tCR(\\'a=img_bas.reportok\\');\">확인</a> <a role=\"button\" href=\"#\" class=\"btn_cancel _cancel\" onclick=\"return tCR(\\'a=img_bas.reportno\\');\">취소</a> </div> <div class=\"report_img _report\" style=\"display: block;\"> <strong class=\"_done\" style=\"display:none\">신고완료</strong> <a role=\"button\" href=\"#\" class=\"btn_report _btn\" onclick=\"return tCR(\\'a=img_bas.report\\');\">이미지 신고하기</a> </div> <div class=\"ly_api_info _noselect\" style=\"display: none;\"> <p class=\"dsc\">선택한 이미지가 없습니다. 신고할 이미지를 선택해 주세요.</p> <button type=\"button\" class=\"btn_close _close\" onclick=\"return tCR(\\'a=img_bas.reportclose\\');\"><i class=\"spnew ico_close\">정보확인 레이어 닫기</i></button> </div> </div><form id=\"ImageSearchResultReportForm\" target=\"ImageSearchResultReport\" action=\"https://s.search.naver.com/n/srm/report\" method=\"post\" style=\"display:none\"> <textarea name=\"sendData\" cols=\"100\" rows=\"100\"></textarea> </form> <iframe name=\"ImageSearchResultReport\" style=\"display:none\"></iframe> </div></div><div class=\"api_group_tag_layer _tagRoot\"> <div class=\"api_pcpg_wrap\"> <div class=\"api_flicking_wrap api_group_tag type_multi_select _tagList\"> <div class=\"flick_bx _tag\"> <a href=\"?where=image&nso=so%3Ar%2Ca%3Aall%2Cp%3Aall&sm=tab_imt&query=%EC%9D%B4%EB%B2%88%EC%A3%BC%20%EB%B6%80%EC%82%B0%EB%82%A0%EC%94%A8\" class=\"tag\" role=\"button\" aria-pressed=\"false\" onclick=\"return goOtherCR(this, \\'a=img_bas*T.click&u=\\'+urlencode(this.href));\"><span class=\"txt\"><span class=\"thumb\"><img src=\"https://search.pstatic.net/common/?src=http%3A%2F%2Fblogfiles.naver.net%2FMjAyMTAzMjVfNTAg%2FMDAxNjE2NjYzMjQ4MjU1.mXxwYmlQ3dZO8rmudKC86-6hOvzuhdCQd4R5GDEmV40g.smaXW2BnRa7YCMsx9ar5_zRBEdFw8cVVUIC22AwghSwg.PNG.gameofmind2%2FKakaoTalk_20210325_180508896.png&type=f54_54\" alt=\"\" width=\"26\" height=\"26\" onerror=\"this.parentNode.style.display=\\'none\\';\"></span>이번주</span></a> </div><div class=\"flick_bx _tag\"> <a href=\"?where=image&nso=so%3Ar%2Ca%3Aall%2Cp%3Aall&sm=tab_imt&query=%EB%8B%A4%EC%9D%8C%EC%A3%BC%20%EB%B6%80%EC%82%B0%EB%82%A0%EC%94%A8\" class=\"tag\" role=\"button\" aria-pressed=\"false\" onclick=\"return goOtherCR(this, \\'a=img_bas*T.click&u=\\'+urlencode(this.href));\"><span class=\"txt\"><span class=\"thumb\"><img src=\"https://search.pstatic.net/common/?src=http%3A%2F%2Fblogfiles.naver.net%2F20160731_298%2Fmomolove21_1469947237645nepFl_JPEG%2F%25B3%25AF%25BE%25BE1.jpg&type=f54_54\" alt=\"\" width=\"26\" height=\"26\" onerror=\"this.parentNode.style.display=\\'none\\';\"></span>다음주</span></a> </div></div><div class=\"api_btn_page type_tag\"> <div class=\"btn_prev _prev\" style=\"display: none;\"><a href=\"#\" role=\"button\" class=\"btn\" onclick=\"tCR(\\'a=img_bas*T.previous\\'); return false;\"><i class=\"spnew ico_arr\">이전</i></a></div> <div class=\"btn_next _next\" style=\"display: block;\"><a href=\"#\" role=\"button\" class=\"btn\" onclick=\" tCR(\\'a=img_bas*T.next\\'); return false;\"><i class=\"spnew ico_arr\">다음</i></a></div> </div></div></div><div class=\"grid_wrap\"> <div class=\"grid_group _photoWallContainer\"> <div class=\"api_ani_send grid_item\"> <a href=\"javascript:;\" class=\"thumb_area\" style=\"background-color: #E1B785;\"></a> </div> <div class=\"api_ani_send grid_item\"> <a href=\"javascript:;\" class=\"thumb_area\" style=\"background-color: #BDB8CE;\"></a> </div> <div class=\"api_ani_send grid_item\"> <a href=\"javascript:;\" class=\"thumb_area\" style=\"background-color: #AAbDD0;\"></a> </div> <div class=\"api_ani_send grid_item\"> <a href=\"javascript:;\" class=\"thumb_area\" style=\"background-color: #C2C7CC;\"></a> </div> <div class=\"api_ani_send grid_item\"> <a href=\"javascript:;\" class=\"thumb_area\" style=\"background-color: #B5B68F;\"></a> </div> <div class=\"api_ani_send grid_item\"> <a href=\"javascript:;\" class=\"thumb_area\" style=\"background-color: #C2C7CC;\"></a> </div> <div class=\"api_ani_send grid_item\"> <a href=\"javascript:;\" class=\"thumb_area\" style=\"background-color: #AAbDD0;\"></a> </div> <div class=\"api_ani_send grid_item\"> <a href=\"javascript:;\" class=\"thumb_area\" style=\"background-color: #BDB8CE;\"></a> </div> </div></div><div class=\"api_more_wrap\" id=\"_seeMoreImageResultLink_1\"> <a href=\"?where=image&nso=so%3Ar%2Ca%3Aall%2Cp%3Aall&sm=tab_nmr&query=%EB%B6%80%EC%82%B0%EB%82%A0%EC%94%A8\" class=\"api_more\" onclick=\"return goOtherCR(this, \\'a=img_bas.more&u=\\'+urlencode(this.href));\">이미지 더보기<i class=\"spnew ico_arr\"></i></a> </div></div></section> <script type=\"text/javascript\"> (function () { var startApplication = function () { var require = window.require.config({ \"context\": \"pc_nx_image\", \"paths\": { \"ImageSearchPCSummary\": \"https://ssl.pstatic.net/sstatic/au/pc/image-search/ImageSearchPCSummary_210514\", \"ImageSearchPCTag\": \"https://ssl.pstatic.net/sstatic/au/pc/image-search/ImageSearchPCTag_210506\" } }); define(\"jquery\", [], function () { return jQuery; }); require([ \"ImageSearchPCSummary\", \"ImageSearchPCTag\" ], function ( ImageSearchPCSummary, ImageSearchPCTag ) { var tag = new ImageSearchPCTag( jQuery(\"._tagRoot\"), { ariaType: \"true\", buttonScrollRange: 100 } ).on({ \"openDropdown\": function (e) { tCR(\"a=img_bas*T.open\"); }, \"closeDropdown\": function (e) { tCR(\"a=img_bas*T.close\"); } }); var rank = naver.search.section.find_section_list(\"main\", \"img\")[0].rank; var controller = new ImageSearchPCSummary( jQuery(\"#_photowall_section\"), { viewUrl: \"?where=image&sm=tab_niv&query=%EB%B6%80%EC%82%B0%EB%82%A0%EC%94%A8&nso=so%3Ar%2Ca%3Aall%2Cp%3Aall\", crArea: \"img_bas\", bigThumbnail: rank <= 3 ? true : false, imageLength: rank <= 3 ? 9 : 8 } ); controller.start([ { \"rank\":\"1\", \"thumb\":\"https%3A%2F%2Fsearch.pstatic.net%2Fcommon%2F%3Fsrc%3Dhttp%253A%252F%252Fblogfiles.naver.net%252FMjAyMTAxMjNfMjA3%252FMDAxNjExMzY5OTI5MzUy.4G-mW7ZPfBFZPXXVj0nNaSmNA6kkeQHkEwUFY52Hi2Ig.dxtA_yOkkdzZv6jzMhMWp9mGHPdqk4erjD86hkqO5Owg.JPEG.mostra1%252FKakaoTalk_20210123_104624495.jpg%26type%3Dff332_332\", \"title\":\"%EC%8B%A4%EC%8B%9C%EA%B0%84%20%EB%B6%80%EC%82%B0%20%EB%82%A0%EC%94%A8%20-%2021.01.23.%ED%86%A0%EC%9A%94%EC%9D%BC\", \"gdid\":\"blog_999600b643af4b5a9287bb5813f93ef8\", \"crArea\":\"N\", \"signature\":\"290106631747313\", \"imgId\":\"image_sas%3Ablog128980934%7C9%7C222217083774_1718222666\", \"source\":\"%EB%B8%94%EB%A1%9C%EA%B7%B8\" , \"stt_data\":\"\" } , { \"rank\":\"2\", \"thumb\":\"https%3A%2F%2Fsearch.pstatic.net%2Fcommon%2F%3Fsrc%3Dhttp%253A%252F%252Fblogfiles.naver.net%252FMjAyMTA1MjFfMTQg%252FMDAxNjIxNTUzOTU4MTMy.wR3Gmdugm4EvRH4src4u36H-RyMxrOqQmDxmoMp5Gzgg.cwU1SNPu-dC15McS5npfI-GuFC0zDL-b1GKqcC5WIdkg.JPEG.idalsrms%252FKakaoTalk_20210521_082846702_03.jpg%26type%3Dff332_332\", \"title\":\"%EB%B6%80%EC%82%B0%20%EA%B4%91%EC%95%88%EB%A6%AC%20%EB%82%A0%EC%94%A8%202021%EB%85%84%205%EC%9B%94%2021%EC%9D%BC%20%5B%EC%8B%A4%EC%8B%9C%EA%B0%84%5D\", \"gdid\":\"blog_4b880b5bc2f5fe230a7306384932edd0\", \"crArea\":\"N\", \"signature\":\"70319533856483\", \"imgId\":\"image_sas%3Ablog22363357%7C14%7C222359675671_1267207003\", \"source\":\"%EB%B8%94%EB%A1%9C%EA%B7%B8\" , \"stt_data\":\"\" } , { \"rank\":\"3\", \"thumb\":\"https%3A%2F%2Fsearch.pstatic.net%2Fcommon%2F%3Fsrc%3Dhttp%253A%252F%252Fblogfiles.naver.net%252FMjAyMTA3MjRfMjg0%252FMDAxNjI3MTI1NDUxNzIy.CybZCELAZgKXziQu4UdKrdlNSaEuc110sKV8oB_uV-Qg.WQF7LHV66p2l9sOlJwyR4o_TJJfjXlGRDdxF6c0RC5Yg.JPEG.sjs10020%252F20210715_185616.jpg%26type%3Dff332_332\", \"title\":\"2021%EB%85%84%20%EC%97%AC%EB%A6%84%20%EB%B6%80%EC%82%B0%EC%97%AC%ED%96%89_%EC%85%8B%EC%A7%B8%EB%82%A0_%ED%91%B9%ED%91%B9%EC%B0%8C%EB%8A%94%20%EB%82%A0%EC%94%A8%EC%86%8D%EC%9D%98%20%EB%8F%99%EB%B0%B1%EC%84%AC%20%EC%82%B0%EC%B1%85%26%EC%86%8D%EC%94%A8%EC%9B%90%ED%95%9C%20%EB%8C%80%EA%B5%AC%ED%83%95%EC%97%90%EC%84%9C%20%EC%95%84%EC%B9%A8%EC%8B%9D%EC%82%AC%26%EA%B8%B0%EC%9E%A5%EC%9D%98%20%EC%86%8C%EB%AC%B8%EB%82%9C%20%EA%B8%B0%EC%9E%A5%EB%B0%80%EB%A9%B4%EC%A0%84%EB%AC%B8%EC%A0%90%26%EC%A0%84%EA%B5%AD%20%EC%B5%9C%EC%95%85%EC%9D%98%20%EB%8F%84%EB%A1%9C%EA%B5%90%ED%86%B5%20%EC%A7%80%EC%98%A5%EC%9D%B8%20%EB%B6%80%EC%82%B0\", \"gdid\":\"blog_4791c6f9076ae4dbc0f83fa8ab906ac4\", \"crArea\":\"N\", \"signature\":\"290099484774661\", \"imgId\":\"image_sas%3Ablog3845231%7C42%7C222445585984_1200735993\", \"source\":\"%EB%B8%94%EB%A1%9C%EA%B7%B8\" , \"stt_data\":\"\" } , { \"rank\":\"4\", \"thumb\":\"https%3A%2F%2Fsearch.pstatic.net%2Fcommon%2F%3Fsrc%3Dhttp%253A%252F%252Fblogfiles.naver.net%252FMjAyMTA1MTNfNTQg%252FMDAxNjIwODY0NjExNDU4.QC0X34ZpJpR6P5y9ufkZP-IuP0uFQSLyUNQP8l8Zscog.itx0vr0PkpbLjdHpbGReekEU6JmKmkqzyNkhQzruS_Ug.JPEG.mostra1%252FKakaoTalk_20210513_090754793.jpg%26type%3Dff332_332\", \"title\":\"%EC%8B%A4%EC%8B%9C%EA%B0%84%20%EB%B6%80%EC%82%B0%20%EB%82%A0%EC%94%A8(%EA%B4%91%EC%95%88%EB%A6%AC%EB%82%A0%EC%94%A8)%20-%2021.05.13.%EB%AA%A9%EC%9A%94%EC%9D%BC\", \"gdid\":\"blog_eabc19716756d080721412dbd28e6858\", \"crArea\":\"N\", \"signature\":\"914698711370184\", \"imgId\":\"image_sas%3Ablog128980934%7C9%7C222349000474_356771471\", \"source\":\"%EB%B8%94%EB%A1%9C%EA%B7%B8\" , \"stt_data\":\"\" } , { \"rank\":\"5\", \"thumb\":\"https%3A%2F%2Fsearch.pstatic.net%2Fcommon%2F%3Fsrc%3Dhttp%253A%252F%252Fblogfiles.naver.net%252FMjAyMTA3MjRfNjIg%252FMDAxNjI3MTI1ODE3ODI5.tDqmyZqzgJQEMv2bRFHunzVesbBmoF7Q9dqcoHbWcXog.1p8kxVWC7bhEk1xdAzGJo7VmWa9MkePEwBHN-Q7gVNwg.JPEG.sjs10020%252F20210716_065355.jpg%26type%3Dff332_332\", \"title\":\"2021%EB%85%84%20%EC%97%AC%EB%A6%84%20%EB%B6%80%EC%82%B0%EC%97%AC%ED%96%89_%EC%85%8B%EC%A7%B8%EB%82%A0_%ED%91%B9%ED%91%B9%EC%B0%8C%EB%8A%94%20%EB%82%A0%EC%94%A8%EC%86%8D%EC%9D%98%20%EB%8F%99%EB%B0%B1%EC%84%AC%20%EC%82%B0%EC%B1%85%26%EC%86%8D%EC%94%A8%EC%9B%90%ED%95%9C%20%EB%8C%80%EA%B5%AC%ED%83%95%EC%97%90%EC%84%9C%20%EC%95%84%EC%B9%A8%EC%8B%9D%EC%82%AC%26%EA%B8%B0%EC%9E%A5%EC%9D%98%20%EC%86%8C%EB%AC%B8%EB%82%9C%20%EA%B8%B0%EC%9E%A5%EB%B0%80%EB%A9%B4%EC%A0%84%EB%AC%B8%EC%A0%90%26%EC%A0%84%EA%B5%AD%20%EC%B5%9C%EC%95%85%EC%9D%98%20%EB%8F%84%EB%A1%9C%EA%B5%90%ED%86%B5%20%EC%A7%80%EC%98%A5%EC%9D%B8%20%EB%B6%80%EC%82%B0\", \"gdid\":\"blog_00e02fa82c1f563ed88c5fa333af80b4\", \"crArea\":\"N\", \"signature\":\"353475019416045\", \"imgId\":\"image_sas%3Ablog3845231%7C42%7C222445585984_14692264\", \"source\":\"%EB%B8%94%EB%A1%9C%EA%B7%B8\" , \"stt_data\":\"\" } , { \"rank\":\"6\", \"thumb\":\"https%3A%2F%2Fsearch.pstatic.net%2Fcommon%2F%3Fsrc%3Dhttp%253A%252F%252Fblogfiles.naver.net%252FMjAyMTAzMDJfOTUg%252FMDAxNjE0NjQ3NDY2MTYw.SmnHT_u3i_7-6gaZqmqGlfBTnchhyq0BgkThwDijZvcg.y_VlMrUoQl9Wpx9kKDzjYWGcQY_fiY1YhWJ5u6jCMFcg.JPEG.mostra1%252FKakaoTalk_20210302_100832689.jpg%26type%3Dff332_332\", \"title\":\"%EC%8B%A4%EC%8B%9C%EA%B0%84%20%EB%B6%80%EC%82%B0%20%EB%82%A0%EC%94%A8%20-%2021.03.02.%ED%99%94%EC%9A%94%EC%9D%BC\", \"gdid\":\"blog_d3ff2132d54fd9c2cca4ac1811b68e72\", \"crArea\":\"N\", \"signature\":\"309002810974728\", \"imgId\":\"image_sas%3Ablog128980934%7C9%7C222261553993_738254542\", \"source\":\"%EB%B8%94%EB%A1%9C%EA%B7%B8\" , \"stt_data\":\"\" } , { \"rank\":\"7\", \"thumb\":\"https%3A%2F%2Fsearch.pstatic.net%2Fcommon%2F%3Fsrc%3Dhttp%253A%252F%252Fblogfiles.naver.net%252FMjAyMTA3MjVfMTcw%252FMDAxNjI3MTkwMDg5MzYy.qVD_Rl4FzqsH3Acq64LNo4BFvJwpF-TgHQ03Y5mWf4Qg.vC5z87ejrfOqJ7kUfH725FWGEKoQ6C29AwJ3QhuAnMsg.JPEG.sy0god%252FKakaoTalk_20210725_103144303.jpg%26type%3Dff332_332\", \"title\":\"%5B%EC%86%8C%EC%86%8C%ED%95%9C%EC%9D%BC%EC%83%81%5D%20%EC%83%9D%EA%B0%81%EB%B3%B4%EB%8B%A4%20%EC%A2%8B%EC%95%98%EB%8D%98%20%EC%8B%9C%ED%8B%B0%EB%B7%B0%20%EB%A1%AF%EB%8D%B0%ED%98%B8%ED%85%94%EB%B6%80%EC%82%B0%2001%20%EA%B0%9D%EC%8B%A4%ED%8E%B8\", \"gdid\":\"blog_2c25260474044d5661f236dd965e3d11\", \"crArea\":\"N\", \"signature\":\"984800923560304\", \"imgId\":\"image_sas%3Ablog4570855%7C16%7C222445736391_740632068\", \"source\":\"%EB%B8%94%EB%A1%9C%EA%B7%B8\" , \"stt_data\":\"\" } , { \"rank\":\"8\", \"thumb\":\"https%3A%2F%2Fsearch.pstatic.net%2Fcommon%2F%3Fsrc%3Dhttp%253A%252F%252Fblogfiles.naver.net%252FMjAyMDA4MDVfMTAy%252FMDAxNTk2NjEzMjg0MDU1.jdreRcy2DavY-5wda9pwHwIXq-aPMkG1oebtopvAFPAg.8bN3EmWWyutpb3e3gyQ5sK_CD-TPz5btG8KUNH7v9NIg.PNG.shiny1672%252Fqw.png%26type%3Dff332_332\", \"title\":\"%EB%B6%80%EC%82%B0%20%EB%82%A0%EC%94%A8%20%ED%9C%B4%EA%B0%80%EC%B2%A0%20%EB%AC%BC%EB%86%80%EC%9D%B4%20%EC%95%88%EC%A0%84%EC%A3%BC%EC%9D%98%20%ED%95%98%EC%84%B8%EC%9A%94~\", \"gdid\":\"blog_79c45611417cc09c5c691895c143fa35\", \"crArea\":\"N\", \"signature\":\"83772753887392\", \"imgId\":\"image_sas%3Ablog46437202%7C14%7C222052040871_2042910225\", \"source\":\"%EB%B8%94%EB%A1%9C%EA%B7%B8\" , \"stt_data\":\"\" } , { \"rank\":\"9\", \"thumb\":\"https%3A%2F%2Fsearch.pstatic.net%2Fcommon%2F%3Fsrc%3Dhttp%253A%252F%252Fblogfiles.naver.net%252FMjAyMTAzMThfOTAg%252FMDAxNjE2MDMyNTUzNDQ0.2hT5_Xr4gI5nZ7MYfdXBZFVb9feu8AE1gjyQMf0rxTUg.up6_m82xZjN7z1TE4ZZ4T89MEuumB8v5Imhs9H8R2fkg.JPEG.mostra1%252FKakaoTalk_20210318_105411763.jpg%26type%3Dff332_332\", \"title\":\"%EC%8B%A4%EC%8B%9C%EA%B0%84%20%EB%B6%80%EC%82%B0%20%EB%82%A0%EC%94%A8(%EA%B4%91%EC%95%88%EB%A6%AC%EB%82%A0%EC%94%A8)%20-%2021.03.18.%EB%AA%A9%EC%9A%94%EC%9D%BC\", \"gdid\":\"blog_4696f5ba9c97413f302bddc36a2e1104\", \"crArea\":\"N\", \"signature\":\"979707120069225\", \"imgId\":\"image_sas%3Ablog128980934%7C9%7C222279319587_1184298426\", \"source\":\"%EB%B8%94%EB%A1%9C%EA%B7%B8\" , \"stt_data\":\"\" } ]); controller.initReport({ img1 : {schRsltCatDtlCd: \"TSH\", schSvcCatDtlCd: \"IMG\", svcDtlCd: \"BLG\", orgncArtclId: \"blog128980934%7C9%7C222217083774\", cntsUrl: \"http%3A%2F%2Fblog.naver.com%2Fmostra1%2F222217083774\", orgncSvcId: \"IMG\", orgncSvcNm: \"%EB%B8%94%EB%A1%9C%EA%B7%B8\", reportKwdNm: \"%EB%B6%80%EC%82%B0%EB%82%A0%EC%94%A8\", artclTitle: \"%EC%8B%A4%EC%8B%9C%EA%B0%84%20%EB%B6%80%EC%82%B0%20%EB%82%A0%EC%94%A8%20-%2021.01.23.%ED%86%A0%EC%9A%94%EC%9D%BC\", artclSumryCont: \"\", artclRgstrId: \"mostra1\", cntsLstModYmdtc: \"\", cntsFstRgstYmdtc: \"20210123114924\", thmnlImgPath: \"https%3A%2F%2Fsearch.pstatic.net%2Fcommon%2F%3Fsrc%3Dhttp%253A%252F%252Fblogfiles.naver.net%252FMjAyMTAxMjNfMjA3%252FMDAxNjExMzY5OTI5MzUy.4G-mW7ZPfBFZPXXVj0nNaSmNA6kkeQHkEwUFY52Hi2Ig.dxtA_yOkkdzZv6jzMhMWp9mGHPdqk4erjD86hkqO5Owg.JPEG.mostra1%252FKakaoTalk_20210123_104624495.jpg%26type%3Dff332_332\"}, img2 : {schRsltCatDtlCd: \"TSH\", schSvcCatDtlCd: \"IMG\", svcDtlCd: \"BLG\", orgncArtclId: \"blog22363357%7C14%7C222359675671\", cntsUrl: \"http%3A%2F%2Fblog.naver.com%2Fidalsrms%2F222359675671\", orgncSvcId: \"IMG\", orgncSvcNm: \"%EB%B8%94%EB%A1%9C%EA%B7%B8\", reportKwdNm: \"%EB%B6%80%EC%82%B0%EB%82%A0%EC%94%A8\", artclTitle: \"%EB%B6%80%EC%82%B0%20%EA%B4%91%EC%95%88%EB%A6%AC%20%EB%82%A0%EC%94%A8%202021%EB%85%84%205%EC%9B%94%2021%EC%9D%BC%20%5B%EC%8B%A4%EC%8B%9C%EA%B0%84%5D\", artclSumryCont: \"\", artclRgstrId: \"idalsrms\", cntsLstModYmdtc: \"\", cntsFstRgstYmdtc: \"20210521084523\", thmnlImgPath: \"https%3A%2F%2Fsearch.pstatic.net%2Fcommon%2F%3Fsrc%3Dhttp%253A%252F%252Fblogfiles.naver.net%252FMjAyMTA1MjFfMTQg%252FMDAxNjIxNTUzOTU4MTMy.wR3Gmdugm4EvRH4src4u36H-RyMxrOqQmDxmoMp5Gzgg.cwU1SNPu-dC15McS5npfI-GuFC0zDL-b1GKqcC5WIdkg.JPEG.idalsrms%252FKakaoTalk_20210521_082846702_03.jpg%26type%3Dff332_332\"}, img3 : {schRsltCatDtlCd: \"TSH\", schSvcCatDtlCd: \"IMG\", svcDtlCd: \"BLG\", orgncArtclId: \"blog3845231%7C42%7C222445585984\", cntsUrl: \"http%3A%2F%2Fblog.naver.com%2Fsjs10020%2F222445585984\", orgncSvcId: \"IMG\", orgncSvcNm: \"%EB%B8%94%EB%A1%9C%EA%B7%B8\", reportKwdNm: \"%EB%B6%80%EC%82%B0%EB%82%A0%EC%94%A8\", artclTitle: \"2021%EB%85%84%20%EC%97%AC%EB%A6%84%20%EB%B6%80%EC%82%B0%EC%97%AC%ED%96%89_%EC%85%8B%EC%A7%B8%EB%82%A0_%ED%91%B9%ED%91%B9%EC%B0%8C%EB%8A%94%20%EB%82%A0%EC%94%A8%EC%86%8D%EC%9D%98%20%EB%8F%99%EB%B0%B1%EC%84%AC%20%EC%82%B0%EC%B1%85%26%EC%86%8D%EC%94%A8%EC%9B%90%ED%95%9C%20%EB%8C%80%EA%B5%AC%ED%83%95%EC%97%90%EC%84%9C%20%EC%95%84%EC%B9%A8%EC%8B%9D%EC%82%AC%26%EA%B8%B0%EC%9E%A5%EC%9D%98%20%EC%86%8C%EB%AC%B8%EB%82%9C%20%EA%B8%B0%EC%9E%A5%EB%B0%80%EB%A9%B4%EC%A0%84%EB%AC%B8%EC%A0%90%26%EC%A0%84%EA%B5%AD%20%EC%B5%9C%EC%95%85%EC%9D%98%20%EB%8F%84%EB%A1%9C%EA%B5%90%ED%86%B5%20%EC%A7%80%EC%98%A5%EC%9D%B8%20%EB%B6%80%EC%82%B0\", artclSumryCont: \"\", artclRgstrId: \"sjs10020\", cntsLstModYmdtc: \"\", cntsFstRgstYmdtc: \"20210726093231\", thmnlImgPath: \"https%3A%2F%2Fsearch.pstatic.net%2Fcommon%2F%3Fsrc%3Dhttp%253A%252F%252Fblogfiles.naver.net%252FMjAyMTA3MjRfMjg0%252FMDAxNjI3MTI1NDUxNzIy.CybZCELAZgKXziQu4UdKrdlNSaEuc110sKV8oB_uV-Qg.WQF7LHV66p2l9sOlJwyR4o_TJJfjXlGRDdxF6c0RC5Yg.JPEG.sjs10020%252F20210715_185616.jpg%26type%3Dff332_332\"}, img4 : {schRsltCatDtlCd: \"TSH\", schSvcCatDtlCd: \"IMG\", svcDtlCd: \"BLG\", orgncArtclId: \"blog128980934%7C9%7C222349000474\", cntsUrl: \"http%3A%2F%2Fblog.naver.com%2Fmostra1%2F222349000474\", orgncSvcId: \"IMG\", orgncSvcNm: \"%EB%B8%94%EB%A1%9C%EA%B7%B8\", reportKwdNm: \"%EB%B6%80%EC%82%B0%EB%82%A0%EC%94%A8\", artclTitle: \"%EC%8B%A4%EC%8B%9C%EA%B0%84%20%EB%B6%80%EC%82%B0%20%EB%82%A0%EC%94%A8(%EA%B4%91%EC%95%88%EB%A6%AC%EB%82%A0%EC%94%A8)%20-%2021.05.13.%EB%AA%A9%EC%9A%94%EC%9D%BC\", artclSumryCont: \"\", artclRgstrId: \"mostra1\", cntsLstModYmdtc: \"\", cntsFstRgstYmdtc: \"20210513091322\", thmnlImgPath: \"https%3A%2F%2Fsearch.pstatic.net%2Fcommon%2F%3Fsrc%3Dhttp%253A%252F%252Fblogfiles.naver.net%252FMjAyMTA1MTNfNTQg%252FMDAxNjIwODY0NjExNDU4.QC0X34ZpJpR6P5y9ufkZP-IuP0uFQSLyUNQP8l8Zscog.itx0vr0PkpbLjdHpbGReekEU6JmKmkqzyNkhQzruS_Ug.JPEG.mostra1%252FKakaoTalk_20210513_090754793.jpg%26type%3Dff332_332\"}, img5 : {schRsltCatDtlCd: \"TSH\", schSvcCatDtlCd: \"IMG\", svcDtlCd: \"BLG\", orgncArtclId: \"blog3845231%7C42%7C222445585984\", cntsUrl: \"http%3A%2F%2Fblog.naver.com%2Fsjs10020%2F222445585984\", orgncSvcId: \"IMG\", orgncSvcNm: \"%EB%B8%94%EB%A1%9C%EA%B7%B8\", reportKwdNm: \"%EB%B6%80%EC%82%B0%EB%82%A0%EC%94%A8\", artclTitle: \"2021%EB%85%84%20%EC%97%AC%EB%A6%84%20%EB%B6%80%EC%82%B0%EC%97%AC%ED%96%89_%EC%85%8B%EC%A7%B8%EB%82%A0_%ED%91%B9%ED%91%B9%EC%B0%8C%EB%8A%94%20%EB%82%A0%EC%94%A8%EC%86%8D%EC%9D%98%20%EB%8F%99%EB%B0%B1%EC%84%AC%20%EC%82%B0%EC%B1%85%26%EC%86%8D%EC%94%A8%EC%9B%90%ED%95%9C%20%EB%8C%80%EA%B5%AC%ED%83%95%EC%97%90%EC%84%9C%20%EC%95%84%EC%B9%A8%EC%8B%9D%EC%82%AC%26%EA%B8%B0%EC%9E%A5%EC%9D%98%20%EC%86%8C%EB%AC%B8%EB%82%9C%20%EA%B8%B0%EC%9E%A5%EB%B0%80%EB%A9%B4%EC%A0%84%EB%AC%B8%EC%A0%90%26%EC%A0%84%EA%B5%AD%20%EC%B5%9C%EC%95%85%EC%9D%98%20%EB%8F%84%EB%A1%9C%EA%B5%90%ED%86%B5%20%EC%A7%80%EC%98%A5%EC%9D%B8%20%EB%B6%80%EC%82%B0\", artclSumryCont: \"\", artclRgstrId: \"sjs10020\", cntsLstModYmdtc: \"\", cntsFstRgstYmdtc: \"20210726093231\", thmnlImgPath: \"https%3A%2F%2Fsearch.pstatic.net%2Fcommon%2F%3Fsrc%3Dhttp%253A%252F%252Fblogfiles.naver.net%252FMjAyMTA3MjRfNjIg%252FMDAxNjI3MTI1ODE3ODI5.tDqmyZqzgJQEMv2bRFHunzVesbBmoF7Q9dqcoHbWcXog.1p8kxVWC7bhEk1xdAzGJo7VmWa9MkePEwBHN-Q7gVNwg.JPEG.sjs10020%252F20210716_065355.jpg%26type%3Dff332_332\"}, img6 : {schRsltCatDtlCd: \"TSH\", schSvcCatDtlCd: \"IMG\", svcDtlCd: \"BLG\", orgncArtclId: \"blog128980934%7C9%7C222261553993\", cntsUrl: \"http%3A%2F%2Fblog.naver.com%2Fmostra1%2F222261553993\", orgncSvcId: \"IMG\", orgncSvcNm: \"%EB%B8%94%EB%A1%9C%EA%B7%B8\", reportKwdNm: \"%EB%B6%80%EC%82%B0%EB%82%A0%EC%94%A8\", artclTitle: \"%EC%8B%A4%EC%8B%9C%EA%B0%84%20%EB%B6%80%EC%82%B0%20%EB%82%A0%EC%94%A8%20-%2021.03.02.%ED%99%94%EC%9A%94%EC%9D%BC\", artclSumryCont: \"\", artclRgstrId: \"mostra1\", cntsLstModYmdtc: \"\", cntsFstRgstYmdtc: \"20210302101457\", thmnlImgPath: \"https%3A%2F%2Fsearch.pstatic.net%2Fcommon%2F%3Fsrc%3Dhttp%253A%252F%252Fblogfiles.naver.net%252FMjAyMTAzMDJfOTUg%252FMDAxNjE0NjQ3NDY2MTYw.SmnHT_u3i_7-6gaZqmqGlfBTnchhyq0BgkThwDijZvcg.y_VlMrUoQl9Wpx9kKDzjYWGcQY_fiY1YhWJ5u6jCMFcg.JPEG.mostra1%252FKakaoTalk_20210302_100832689.jpg%26type%3Dff332_332\"}, img7 : {schRsltCatDtlCd: \"TSH\", schSvcCatDtlCd: \"IMG\", svcDtlCd: \"BLG\", orgncArtclId: \"blog4570855%7C16%7C222445736391\", cntsUrl: \"http%3A%2F%2Fblog.naver.com%2Fsy0god%2F222445736391\", orgncSvcId: \"IMG\", orgncSvcNm: \"%EB%B8%94%EB%A1%9C%EA%B7%B8\", reportKwdNm: \"%EB%B6%80%EC%82%B0%EB%82%A0%EC%94%A8\", artclTitle: \"%5B%EC%86%8C%EC%86%8C%ED%95%9C%EC%9D%BC%EC%83%81%5D%20%EC%83%9D%EA%B0%81%EB%B3%B4%EB%8B%A4%20%EC%A2%8B%EC%95%98%EB%8D%98%20%EC%8B%9C%ED%8B%B0%EB%B7%B0%20%EB%A1%AF%EB%8D%B0%ED%98%B8%ED%85%94%EB%B6%80%EC%82%B0%2001%20%EA%B0%9D%EC%8B%A4%ED%8E%B8\", artclSumryCont: \"\", artclRgstrId: \"sy0god\", cntsLstModYmdtc: \"\", cntsFstRgstYmdtc: \"20210726070540\", thmnlImgPath: \"https%3A%2F%2Fsearch.pstatic.net%2Fcommon%2F%3Fsrc%3Dhttp%253A%252F%252Fblogfiles.naver.net%252FMjAyMTA3MjVfMTcw%252FMDAxNjI3MTkwMDg5MzYy.qVD_Rl4FzqsH3Acq64LNo4BFvJwpF-TgHQ03Y5mWf4Qg.vC5z87ejrfOqJ7kUfH725FWGEKoQ6C29AwJ3QhuAnMsg.JPEG.sy0god%252FKakaoTalk_20210725_103144303.jpg%26type%3Dff332_332\"}, img8 : {schRsltCatDtlCd: \"TSH\", schSvcCatDtlCd: \"IMG\", svcDtlCd: \"BLG\", orgncArtclId: \"blog46437202%7C14%7C222052040871\", cntsUrl: \"http%3A%2F%2Fblog.naver.com%2Fshiny1672%2F222052040871\", orgncSvcId: \"IMG\", orgncSvcNm: \"%EB%B8%94%EB%A1%9C%EA%B7%B8\", reportKwdNm: \"%EB%B6%80%EC%82%B0%EB%82%A0%EC%94%A8\", artclTitle: \"%EB%B6%80%EC%82%B0%20%EB%82%A0%EC%94%A8%20%ED%9C%B4%EA%B0%80%EC%B2%A0%20%EB%AC%BC%EB%86%80%EC%9D%B4%20%EC%95%88%EC%A0%84%EC%A3%BC%EC%9D%98%20%ED%95%98%EC%84%B8%EC%9A%94~\", artclSumryCont: \"\", artclRgstrId: \"shiny1672\", cntsLstModYmdtc: \"\", cntsFstRgstYmdtc: \"20200805165116\", thmnlImgPath: \"https%3A%2F%2Fsearch.pstatic.net%2Fcommon%2F%3Fsrc%3Dhttp%253A%252F%252Fblogfiles.naver.net%252FMjAyMDA4MDVfMTAy%252FMDAxNTk2NjEzMjg0MDU1.jdreRcy2DavY-5wda9pwHwIXq-aPMkG1oebtopvAFPAg.8bN3EmWWyutpb3e3gyQ5sK_CD-TPz5btG8KUNH7v9NIg.PNG.shiny1672%252Fqw.png%26type%3Dff332_332\"}, img9 : {schRsltCatDtlCd: \"TSH\", schSvcCatDtlCd: \"IMG\", svcDtlCd: \"BLG\", orgncArtclId: \"blog128980934%7C9%7C222279319587\", cntsUrl: \"http%3A%2F%2Fblog.naver.com%2Fmostra1%2F222279319587\", orgncSvcId: \"IMG\", orgncSvcNm: \"%EB%B8%94%EB%A1%9C%EA%B7%B8\", reportKwdNm: \"%EB%B6%80%EC%82%B0%EB%82%A0%EC%94%A8\", artclTitle: \"%EC%8B%A4%EC%8B%9C%EA%B0%84%20%EB%B6%80%EC%82%B0%20%EB%82%A0%EC%94%A8(%EA%B4%91%EC%95%88%EB%A6%AC%EB%82%A0%EC%94%A8)%20-%2021.03.18.%EB%AA%A9%EC%9A%94%EC%9D%BC\", artclSumryCont: \"\", artclRgstrId: \"mostra1\", cntsLstModYmdtc: \"\", cntsFstRgstYmdtc: \"20210318105922\", thmnlImgPath: \"https%3A%2F%2Fsearch.pstatic.net%2Fcommon%2F%3Fsrc%3Dhttp%253A%252F%252Fblogfiles.naver.net%252FMjAyMTAzMThfOTAg%252FMDAxNjE2MDMyNTUzNDQ0.2hT5_Xr4gI5nZ7MYfdXBZFVb9feu8AE1gjyQMf0rxTUg.up6_m82xZjN7z1TE4ZZ4T89MEuumB8v5Imhs9H8R2fkg.JPEG.mostra1%252FKakaoTalk_20210318_105411763.jpg%26type%3Dff332_332\"} } ); }); }; var requirejs = naver.common.gv.REQUIRE_JS; naver.common.load_js(window.require ? null : requirejs, startApplication, true, 150); })(); </script> <link rel=\"stylesheet\" type=\"text/css\" href=\"https://ssl.pstatic.net/sstatic/search/pc/css/sp_nreview_210520.css\"> <section class=\"sc_new sp_nreview _prs_rvw _au_view_collection\"> <div class=\"api_subject_bx\"> <div class=\"api_title_area\"> <h2 class=\"api_title\">VIEW</h2> <div class=\"api_title_sub\"> <div role=\"listbox\" class=\"review_filter_area\"> <a href=\"?query=%EB%B6%80%EC%82%B0%EB%82%A0%EC%94%A8&nso=&where=view&sm=tab_viw.all&mode=normal\" class=\"api_sub_option\" role=\"option\" aria-selected=\"true\" onclick=\"return goOtherCR(this, \\'a=rvw.sourceall&u=\\'+urlencode(this.href));\">전체</a> <a href=\"?query=%EB%B6%80%EC%82%B0%EB%82%A0%EC%94%A8&nso=&where=blog&sm=tab_viw.all\" class=\"api_sub_option\" role=\"option\" aria-selected=\"false\" onclick=\"return goOtherCR(this, \\'a=rvw.sourceblog&u=\\'+urlencode(this.href));\">블로그</a> <a href=\"?query=%EB%B6%80%EC%82%B0%EB%82%A0%EC%94%A8&nso=&where=article&sm=tab_viw.all\" class=\"api_sub_option\" role=\"option\" aria-selected=\"false\" onclick=\"return goOtherCR(this, \\'a=rvw.sourcecafe&u=\\'+urlencode(this.href));\">카페</a> </div><div role=\"listbox\" class=\"review_option_area\" aria-label=\"뷰타입 필터를 선택하세요\"> <a href=\"?query=%EB%B6%80%EC%82%B0%EB%82%A0%EC%94%A8&nso=&where=view&sm=tab_viw.all&mode=normal\" role=\"option\" class=\"item\" aria-selected=\"true\" onclick=\"return goOtherCR(this, \\'a=rvw.optiontext&u=\\'+urlencode(this.href));\"><i class=\"spnew api_ico_view type_default\">기본뷰</i></a> <a href=\"?query=%EB%B6%80%EC%82%B0%EB%82%A0%EC%94%A8&nso=&where=view&sm=tab_viw.all&mode=timeline\" role=\"option\" class=\"item\" aria-selected=\"false\" onclick=\"return goOtherCR(this, \\'a=rvw.optionday&u=\\'+urlencode(this.href));\"><i class=\"spnew api_ico_view type_timeline\">타임라인뷰</i></a> <a href=\"?query=%EB%B6%80%EC%82%B0%EB%82%A0%EC%94%A8&nso=&where=view&sm=tab_viw.all&mode=image\" role=\"option\" class=\"item\" aria-selected=\"false\" onclick=\"return goOtherCR(this, \\'a=rvw.optionimg&u=\\'+urlencode(this.href));\"><i class=\"spnew api_ico_view type_media\">멀티미디어뷰</i></a> </div></div></div><div class=\"_svp_list\"> <tag-toggle data-selected-class=\"mod_bg\"> <div class=\"api_pcpg_wrap _open_target\" data-open-class=\"open\"> <tab-list data-selected-class=\"mod_bg\" data-index=\"tag\" data-aria-attr=\"aria-pressed\"> <div class=\"api_flicking_wrap api_group_tag _scroller\"> <div class=\"flick_bx\"> <a ondragstart=\"return false\" href=\"#\" class=\"tag mod_bg _tab\" aria-pressed=\"true\" data-index=\"topic0\" role=\"button\" onClick=\" tCR(\\'a=rvw.topic&i=90187dce_000000000000&g=&u=javascript\\'); return false;\"><span class=\"txt\">전체</span></a> </div> <div class=\"flick_bx\"> <a ondragstart=\"return false\" href=\"#\" class=\"tag  _tab\" data-index=\"topic1\" role=\"button\" onClick=\" tCR(\\'a=rvw*k.topic&i=90187dce_000000000000&g=%EC%84%9C%EC%9A%B8%EB%82%A0%EC%94%A8&u=javascript\\'); return false;\"><span class=\"txt\">서울날씨</span></a> </div> <div class=\"flick_bx\"> <a ondragstart=\"return false\" href=\"#\" class=\"tag  _tab\" data-index=\"topic2\" role=\"button\" onClick=\" tCR(\\'a=rvw*k.topic&i=90187dce_000000000000&g=%ED%94%BC%ED%95%B4&u=javascript\\'); return false;\"><span class=\"txt\">피해</span></a> </div> <div class=\"flick_bx\"> <a ondragstart=\"return false\" href=\"#\" class=\"tag  _tab\" data-index=\"topic3\" role=\"button\" onClick=\" tCR(\\'a=rvw*k.topic&i=90187dce_000000000000&g=%EB%AF%B8%EC%84%B8%EB%A8%BC%EC%A7%80&u=javascript\\'); return false;\"><span class=\"txt\">미세먼지</span></a> </div> <div class=\"flick_bx\"> <a ondragstart=\"return false\" href=\"#\" class=\"tag  _tab\" data-index=\"topic4\" role=\"button\" onClick=\" tCR(\\'a=rvw*i.topic&i=90187dce_000000000000&g=%EC%B9%B4%ED%8E%98%EA%B8%80&u=javascript\\'); return false;\"><span class=\"txt\">카페글</span></a> </div> <div class=\"flick_bx\"> <a ondragstart=\"return false\" href=\"#\" class=\"tag  _tab\" data-index=\"topic5\" role=\"button\" onClick=\" tCR(\\'a=rvw*k.topic&i=90187dce_000000000000&g=%EC%9D%BC%EA%B8%B0%EC%98%88%EB%B3%B4&u=javascript\\'); return false;\"><span class=\"txt\">일기예보</span></a> </div> <div class=\"flick_bx\"> <a ondragstart=\"return false\" href=\"#\" class=\"tag  _tab\" data-index=\"topic6\" role=\"button\" onClick=\" tCR(\\'a=rvw*k.topic&i=90187dce_000000000000&g=%EC%A3%BC%EB%A7%90%EB%82%A0%EC%94%A8&u=javascript\\'); return false;\"><span class=\"txt\">주말날씨</span></a> </div> </div><div class=\"api_btn_page type_tag\"> <div class=\"btn_prev _prev\" style=\"display:none;\"><a href=\"javascript:;\" role=\"button\" class=\"btn\" onclick=\"tCR(\\'a=rvw.topicscroll\\');\"><i class=\"spnew ico_arr\">이전</i></a></div> <div class=\"btn_next _next\" style=\"display:none;\"><a href=\"javascript:;\" role=\"button\" class=\"btn\" onclick=\"tCR(\\'a=rvw.topicscroll\\');\"><i class=\"spnew ico_arr\">다음</i></a></div> </div></tab-list> </div></tag-toggle> <panel-list data-index=\"tag\"> <div class=\"_panel\" data-index=\"topic0\"> <ul class=\"lst_total _list_base\"> <li class=\"bx _svp_item\" data-cr-rank=\"1\" data-cr-area=\"rvw*x\" data-cr-gdid=\"90000003_0000000000000033C8DEB138\"> <div class=\"total_wrap api_ani_send\"> <div class=\"total_area\"> <div class=\"total_info\"> <div class=\"api_save_group _keep_wrap\"> <a href=\"#\" role=\"button\" class=\"btn_save _keep_trigger\" data-url=\"https://blog.naver.com/hp0210/222413369656\" onclick=\"tCR(\\'a=rvw*x.kep&r=1&i=90000003_0000000000000033C8DEB138&u=javascript\\'); return false;\" aria-pressed=\"false\"><i class=\"spnew ico_save\">문서 저장하기</i></a> <div class=\"api_ly_save _keep_save_layer\"> <a href=\"#\" role=\"button\" class=\"spnew_af item item_save _keep_save\" data-cr-on=\"a=rvw*x.kepon&r=1&i=90000003_0000000000000033C8DEB138&u=javascript\" data-cr-off=\"a=rvw*x.kepoff&r=1&i=90000003_0000000000000033C8DEB138&u=javascript\">Keep에 저장</a> <a href=\"https://keep.naver.com/\" class=\"spnew_af item item_quick\" target=\"_blank\" onClick=\"return goOtherCR(this,\\'a=rvw*x.kephome&r=1&i=90000003_0000000000000033C8DEB138&u=\\'+urlencode(this.href));\">Keep 바로가기</a> </div></div><div class=\"total_sub\"> <a href=\"https://blog.naver.com/hp0210\" class=\"sub_thumb\" target=\"_blank\" onClick=\"return goOtherCR(this, \\'a=rvw*x.writer&r=1&i=90000003_0000000000000033C8DEB138&u=\\'+urlencode(this.href))\"> <span class=\"thumb\"><img src=\"https://search.pstatic.net/common/?src=http%3A%2F%2Fblogpfthumb.phinf.naver.net%2F20160807_123%2Fhp0210_1470562707029DuH1V_PNG%2Fsmall_001.png&type=f54_54\" width=\"20\" height=\"20\" alt=\"\" class=\"\" onError=\"this.src=\\'data:image/gif;base64,R0lGODlhAQABAIAAAAAAAP///yH5BAEAAAAALAAAAAABAAEAAAIBRAA7\\';this.className=\\'bg_npimg\\'\"></span> </a> <span class=\"elss etc_dsc\"> <span class=\"etc_dsc_group\"> <span class=\"etc_dsc_area\"> <span class=\"sub_time sub_txt\">2021.06.29.</span> </span><span class=\"elss etc_dsc_inner\"> <a href=\"https://blog.naver.com/hp0210\" class=\"sub_txt sub_name\" target=\"_blank\" onClick=\"return goOtherCR(this, \\'a=rvw*x.writer&r=1&i=90000003_0000000000000033C8DEB138&u=\\'+urlencode(this.href))\">더많은 세상을 보여줄게</a> </span> </span></span></div></div><a href=\"https://blog.naver.com/hp0210/222413369656\" class=\"api_txt_lines total_tit\" data-recommend=\"1\" target=\"_blank\" onClick=\"return goOtherCR(this, \\'a=rvw*x.link&r=1&i=90000003_0000000000000033C8DEB138&u=\\'+urlencode(this.href))\"><mark>부산</mark> 가볼만한곳 해운대 요트투어 바다 <mark>날씨</mark>까지 화창했어요</a> <div class=\"api_pcpg_wrap  _freescroll_wrap\"> <div class=\"api_flicking_wrap review_thumb_group _svp_content _freescroll_flicking\"> <div class=\"flick_bx\"> <a ondragstart=\"return false\" href=\"https://blog.naver.com/hp0210/222413369656\" class=\"thumb \" data-recommend=\"1\" target=\"_blank\" onClick=\"return goOtherCR(this, \\'a=rvw*x.link&r=1&i=90000003_0000000000000033C8DEB138&u=\\'+urlencode(this.href))\"> <img src=\"https://search.pstatic.net/common/?src=http%3A%2F%2Fblogfiles.naver.net%2FMjAyMTA2MjJfMTE5%2FMDAxNjI0MzIyNzk4MDc5.H7rJEp13m4vUBqPxeuqwXmcg4-wVJsuwLJmkIC7wLCog.R1qjSV_EIVsGeibGSL4AQEKRSY7ECzeHE3nEi_Kke0Mg.JPEG.hp0210%2FDSC_3677.jpg%23999x665&type=b220\" height=\"90\" alt=\"\" class=\"\" onError=\"this.src=\\'data:image/gif;base64,R0lGODlhAQABAIAAAAAAAP///yH5BAEAAAAALAAAAAABAAEAAAIBRAA7\\';this.className=\\'bg_nimg\\';this.width=132;this.alt=\\'이미지준비중\\';\"> </a> </div><div class=\"flick_bx\"> <a ondragstart=\"return false\" href=\"javascript:;\" class=\"thumb _svp_trigger type_video\" data-auto-play=\"true\" data-source=\"naver\" data-is-visible-close-btn=\"true\" data-api=\"https://s.search.naver.com/p/videosearch/search.naver?where=inkey&vid=90000003_0000000000000033C8DEB138%3A39\"> <img src=\"https://search.pstatic.net/common/?src=http%3A%2F%2Fimage.nmv.naver.net%2Fblog_2021_06_28_376%2F16ad7ed9-d80f-11eb-bde8-48df379cc9e4_04.jpg%23152x114%23m&type=f302_186\" height=\"90\" alt=\"\" class=\"\" onError=\"this.src=\\'data:image/gif;base64,R0lGODlhAQABAIAAAAAAAP///yH5BAEAAAAALAAAAAABAAEAAAIBRAA7\\';this.className=\\'bg_nimg\\';this.width=132;this.alt=\\'이미지준비중\\';\"> <i class=\"spnew api_ico_video quick\">동영상 바로재생</i> <span class=\"thumb_time\" aria-label=\"재생시간\"><span aria-label=\"01:00\">01:00</span></span> </a> </div><div class=\"flick_bx\"> <a ondragstart=\"return false\" href=\"https://blog.naver.com/hp0210/222413369656\" class=\"thumb \" data-recommend=\"1\" target=\"_blank\" onClick=\"return goOtherCR(this, \\'a=rvw*x.link&r=1&i=90000003_0000000000000033C8DEB138&u=\\'+urlencode(this.href))\"> <img src=\"https://search.pstatic.net/common/?src=http%3A%2F%2Fblogfiles.naver.net%2FMjAyMTA2MjJfODQg%2FMDAxNjI0MzIyODYxMjM1.w12dj2JdmBMeU_f6LB2Q1tL_InQw12KwWgTKc1IZC2Ug.kvI7wIDKWfr_0luGxR8OaW3sgnbwdtWxsDv7TiDIVZUg.JPEG.hp0210%2FDSC_3627.jpg%23999x665&type=b220\" height=\"90\" alt=\"\" class=\"\" onError=\"this.src=\\'data:image/gif;base64,R0lGODlhAQABAIAAAAAAAP///yH5BAEAAAAALAAAAAABAAEAAAIBRAA7\\';this.className=\\'bg_nimg\\';this.width=132;this.alt=\\'이미지준비중\\';\"> </a> </div><div class=\"flick_bx\"> <a ondragstart=\"return false\" href=\"https://blog.naver.com/hp0210/222413369656\" class=\"thumb \" data-recommend=\"1\" target=\"_blank\" onClick=\"return goOtherCR(this, \\'a=rvw*x.link&r=1&i=90000003_0000000000000033C8DEB138&u=\\'+urlencode(this.href))\"> <img src=\"https://search.pstatic.net/common/?src=http%3A%2F%2Fblogfiles.naver.net%2FMjAyMTA2MjJfMjU4%2FMDAxNjI0MzIyNzk3MTMy.oqSz_qDX-soP406k_xJbB_O1LL-wSfHDNmgMcWcU5L4g.7tX7daTCv6HaiyYufR8Uwngmo6IMUWtZZElr3YPWN3wg.JPEG.hp0210%2FDSC_3625.jpg%23999x665&type=b220\" height=\"90\" alt=\"\" class=\"\" onError=\"this.src=\\'data:image/gif;base64,R0lGODlhAQABAIAAAAAAAP///yH5BAEAAAAALAAAAAABAAEAAAIBRAA7\\';this.className=\\'bg_nimg\\';this.width=132;this.alt=\\'이미지준비중\\';\"> </a> </div><div class=\"flick_bx\"> <a ondragstart=\"return false\" href=\"https://blog.naver.com/hp0210/222413369656\" class=\"thumb \" data-recommend=\"1\" target=\"_blank\" onClick=\"return goOtherCR(this, \\'a=rvw*x.link&r=1&i=90000003_0000000000000033C8DEB138&u=\\'+urlencode(this.href))\"> <img src=\"https://search.pstatic.net/common/?src=http%3A%2F%2Fblogfiles.naver.net%2FMjAyMTA2MjJfNyAg%2FMDAxNjI0MzIyNzk5NzM4.HIOI_FFZ_lQXby1Yx6P2BcJq8ORNuJUIJH4yEQzq__4g.U5v2sibaO4XauLAxLzCb3PWfkDSOojj2DR0NDXlKfjEg.JPEG.hp0210%2FDSC_3802.jpg%23999x665&type=b220\" height=\"90\" alt=\"\" class=\"\" onError=\"this.src=\\'data:image/gif;base64,R0lGODlhAQABAIAAAAAAAP///yH5BAEAAAAALAAAAAABAAEAAAIBRAA7\\';this.className=\\'bg_nimg\\';this.width=132;this.alt=\\'이미지준비중\\';\"> </a> </div><div class=\"flick_bx\"> <a ondragstart=\"return false\" href=\"https://blog.naver.com/hp0210/222413369656\" class=\"thumb \" data-recommend=\"1\" target=\"_blank\" onClick=\"return goOtherCR(this, \\'a=rvw*x.link&r=1&i=90000003_0000000000000033C8DEB138&u=\\'+urlencode(this.href))\"> <img src=\"https://search.pstatic.net/common/?src=http%3A%2F%2Fblogfiles.naver.net%2FMjAyMTA2MjhfNDAg%2FMDAxNjI0ODQ0NDUzMTE3.ApksSazr5HachNXkFnX9VomQd9dVcM8Lxw4Wq4Bqn1kg.f_yMrpONNfx54I4rqeJN3G870YgtQIePgj8l9G2MpZ4g.JPEG.hp0210%2FDSC_3382.jpg%23999x665&type=b220\" height=\"90\" alt=\"\" class=\"\" onError=\"this.src=\\'data:image/gif;base64,R0lGODlhAQABAIAAAAAAAP///yH5BAEAAAAALAAAAAABAAEAAAIBRAA7\\';this.className=\\'bg_nimg\\';this.width=132;this.alt=\\'이미지준비중\\';\"> </a> </div><div class=\"flick_bx\"> <a ondragstart=\"return false\" href=\"https://blog.naver.com/hp0210/222413369656\" class=\"thumb \" data-recommend=\"1\" target=\"_blank\" onClick=\"return goOtherCR(this, \\'a=rvw*x.link&r=1&i=90000003_0000000000000033C8DEB138&u=\\'+urlencode(this.href))\"> <img src=\"https://search.pstatic.net/common/?src=http%3A%2F%2Fblogfiles.naver.net%2FMjAyMTA2MjhfMTAy%2FMDAxNjI0ODQ0NDUzNDYw.Vu_7cd-ADmVsgnbyg-PFXGpa7kxLnIVMLiDzCStoGjcg.IQ1FffYVX3aCKF1cgFlTgeGnJBlR4-eHWobtJeMrloog.JPEG.hp0210%2FDSC_3464.jpg%23999x665&type=b220\" height=\"90\" alt=\"\" class=\"\" onError=\"this.src=\\'data:image/gif;base64,R0lGODlhAQABAIAAAAAAAP///yH5BAEAAAAALAAAAAABAAEAAAIBRAA7\\';this.className=\\'bg_nimg\\';this.width=132;this.alt=\\'이미지준비중\\';\"> </a> </div><div class=\"flick_bx\"> <a ondragstart=\"return false\" href=\"https://blog.naver.com/hp0210/222413369656\" class=\"thumb \" data-recommend=\"1\" target=\"_blank\" onClick=\"return goOtherCR(this, \\'a=rvw*x.link&r=1&i=90000003_0000000000000033C8DEB138&u=\\'+urlencode(this.href))\"> <img src=\"https://search.pstatic.net/common/?src=http%3A%2F%2Fblogfiles.naver.net%2FMjAyMTA2MjhfMTQ1%2FMDAxNjI0ODQ0NDUzNDU1.nxEkRdMPzMsG-lxi0Sd0NBy-nSsjOM86F_cFVp4azzgg.ftKigbUnipOoCVKtAfpHqN7X4t1IJlL3swy-9uUQShYg.JPEG.hp0210%2FDSC_3469.jpg%23999x665&type=b220\" height=\"90\" alt=\"\" class=\"\" onError=\"this.src=\\'data:image/gif;base64,R0lGODlhAQABAIAAAAAAAP///yH5BAEAAAAALAAAAAABAAEAAAIBRAA7\\';this.className=\\'bg_nimg\\';this.width=132;this.alt=\\'이미지준비중\\';\"> </a> </div><div class=\"flick_bx\"> <a ondragstart=\"return false\" href=\"https://blog.naver.com/hp0210/222413369656\" class=\"thumb \" data-recommend=\"1\" target=\"_blank\" onClick=\"return goOtherCR(this, \\'a=rvw*x.link&r=1&i=90000003_0000000000000033C8DEB138&u=\\'+urlencode(this.href))\"> <img src=\"https://search.pstatic.net/common/?src=http%3A%2F%2Fblogfiles.naver.net%2FMjAyMTA2MjhfMTkw%2FMDAxNjI0ODQ0NTA2NTUz.3_WQiRb932kxeGFNVQ84evIN30WQYfBsxwYmqWYksIog.ahnzn-zdCBkk8JJcyZw44ONGphdk7sUdnIkrGYWHHEYg.JPEG.hp0210%2FDSC_3521.jpg%23999x665&type=b220\" height=\"90\" alt=\"\" class=\"\" onError=\"this.src=\\'data:image/gif;base64,R0lGODlhAQABAIAAAAAAAP///yH5BAEAAAAALAAAAAABAAEAAAIBRAA7\\';this.className=\\'bg_nimg\\';this.width=132;this.alt=\\'이미지준비중\\';\"> </a> </div><div class=\"flick_bx\"> <a ondragstart=\"return false\" href=\"https://blog.naver.com/hp0210/222413369656\" class=\"thumb \" data-recommend=\"1\" target=\"_blank\" onClick=\"return goOtherCR(this, \\'a=rvw*x.link&r=1&i=90000003_0000000000000033C8DEB138&u=\\'+urlencode(this.href))\"> <img src=\"https://search.pstatic.net/common/?src=http%3A%2F%2Fblogfiles.naver.net%2FMjAyMTA2MjhfMjcw%2FMDAxNjI0ODQ0NTA2OTU2.vV57ZVVVg8IjqqIHoWHD5ltbIqhtkrZzmiPbGSIjN90g.9WG8cWSogoWfZV3d9eU0vB5R641-6C37HokTKN5coj8g.JPEG.hp0210%2FDSC_3548.jpg%23999x665&type=b220\" height=\"90\" alt=\"\" class=\"\" onError=\"this.src=\\'data:image/gif;base64,R0lGODlhAQABAIAAAAAAAP///yH5BAEAAAAALAAAAAABAAEAAAIBRAA7\\';this.className=\\'bg_nimg\\';this.width=132;this.alt=\\'이미지준비중\\';\"> </a> </div><div class=\"flick_bx\"> <a ondragstart=\"return false\" href=\"https://blog.naver.com/hp0210/222413369656\" class=\"thumb \" data-recommend=\"1\" target=\"_blank\" onClick=\"return goOtherCR(this, \\'a=rvw*x.link&r=1&i=90000003_0000000000000033C8DEB138&u=\\'+urlencode(this.href))\"> <img src=\"https://search.pstatic.net/common/?src=http%3A%2F%2Fblogfiles.naver.net%2FMjAyMTA2MjhfMjQ3%2FMDAxNjI0ODQ0NTA2NTg3.h6eAGCaTVQ-_jbe5P6saJSo2DXpkmRkCCmwZSLta6UAg.tefQb1B2NOQQSD-ibg7gNNR4ehOilFMdOT3XXWa6-6Mg.JPEG.hp0210%2FDSC_3519.jpg%23999x665&type=b220\" height=\"90\" alt=\"\" class=\"\" onError=\"this.src=\\'data:image/gif;base64,R0lGODlhAQABAIAAAAAAAP///yH5BAEAAAAALAAAAAABAAEAAAIBRAA7\\';this.className=\\'bg_nimg\\';this.width=132;this.alt=\\'이미지준비중\\';\"> </a> </div></div><div class=\"video_common_player_wrap _svp_target\" style=\"display: none;\"></div> <div class=\"api_btn_page type_small type_inside type_transparent _page_wrap\"> <div class=\"btn_prev _prev\" style=\"display:none;\"><a href=\"javascript:;\" role=\"button\" class=\"btn\" onclick=\"tCR(\\'a=rvw*x.linkfrk\\');\"><i class=\"spnew ico_arr\">이전</i></a></div> <div class=\"btn_next _next\" style=\"display:none;\"><a href=\"javascript:;\" role=\"button\" class=\"btn\" onclick=\"tCR(\\'a=rvw*x.linkfrk\\');\"><i class=\"spnew ico_arr\">다음</i></a></div> </div></div><div class=\"total_group\"> <div class=\"total_dsc_wrap\"> <a href=\"https://blog.naver.com/hp0210/222413369656\" class=\"total_dsc\" data-recommend=\"1\" target=\"_blank\" onClick=\"return goOtherCR(this, \\'a=rvw*x.link&r=1&i=90000003_0000000000000033C8DEB138&u=\\'+urlencode(this.href))\"> <div class=\"api_txt_lines dsc_txt\">1박2일의 짧은 여행기간이라서 그때까지 <mark>부산 날씨</mark>가 개지 않았다면 이번 여행에선 요트투어를 즐길 수 없게 되는 거라 좀 걱정이 되었습니다. 하지만 부산 해운대의 날씨 요정님께서 부지런히 아침부처 공주네가 있는...</div> </a> </div></div></div></div><div class=\"total_tag_area\"> <a href=\"?where=view&sm=tab_viw.all&query=%EB%B6%80%EC%82%B0%EA%B0%80%EB%B3%BC%EB%A7%8C%ED%95%9C%EA%B3%B3\" class=\"tag\" role=\"button\" onclick=\"return goOtherCR(this, \\'a=rvw*x.usertag&r=1&i=90000003_0000000000000033C8DEB138&u=\\'+urlencode(this.href))\"><span class=\"txt\">#부산가볼만한곳</span></a> <a href=\"?where=view&sm=tab_viw.all&query=%EB%B6%80%EC%82%B0%EC%9A%94%ED%8A%B8%ED%88%AC%EC%96%B4\" class=\"tag\" role=\"button\" onclick=\"return goOtherCR(this, \\'a=rvw*x.usertag&r=1&i=90000003_0000000000000033C8DEB138&u=\\'+urlencode(this.href))\"><span class=\"txt\">#부산요트투어</span></a> <a href=\"?where=view&sm=tab_viw.all&query=%EB%B6%80%EC%82%B0%ED%95%B4%EC%9A%B4%EB%8C%80%EA%B0%80%EB%B3%BC%EB%A7%8C%ED%95%9C%EA%B3%B3\" class=\"tag\" role=\"button\" onclick=\"return goOtherCR(this, \\'a=rvw*x.usertag&r=1&i=90000003_0000000000000033C8DEB138&u=\\'+urlencode(this.href))\"><span class=\"txt\">#부산해운대가볼만한곳</span></a> <a href=\"?where=view&sm=tab_viw.all&query=%ED%95%B4%EC%9A%B4%EB%8C%80%EC%9A%94%ED%8A%B8%ED%88%AC%EC%96%B4\" class=\"tag\" role=\"button\" onclick=\"return goOtherCR(this, \\'a=rvw*x.usertag&r=1&i=90000003_0000000000000033C8DEB138&u=\\'+urlencode(this.href))\"><span class=\"txt\">#해운대요트투어</span></a> <a href=\"?where=view&sm=tab_viw.all&query=%EB%B6%80%EC%82%B0%EB%B0%94%EB%8B%A4\" class=\"tag\" role=\"button\" onclick=\"return goOtherCR(this, \\'a=rvw*x.usertag&r=1&i=90000003_0000000000000033C8DEB138&u=\\'+urlencode(this.href))\"><span class=\"txt\">#부산바다</span></a> <a href=\"?where=view&sm=tab_viw.all&query=%EB%B6%80%EC%82%B0%EB%82%A0%EC%94%A8\" class=\"tag\" role=\"button\" onclick=\"return goOtherCR(this, \\'a=rvw*x.usertag&r=1&i=90000003_0000000000000033C8DEB138&u=\\'+urlencode(this.href))\"><span class=\"txt\">#부산날씨</span></a> </div><div class=\"total_link_area\"> <div class=\"link_inner\"> <a href=\"https://blog.naver.com/hp0210/222009773499\" class=\"link elss\" target=\"_blank\" onclick=\"return goOtherCR(this, \\'a=rvw*x.series&r=1&i=90000003_0000000000000033B0D04DBB&u=\\'+urlencode(this.href))\"><mark>부산</mark> 여행코스 여름 <mark>날씨</mark>까지 판타스틱했던 1박2일(#부산여행 #부산여행코스)</a> <a href=\"https://blog.naver.com/hp0210/222069784074\" class=\"link elss\" target=\"_blank\" onclick=\"return goOtherCR(this, \\'a=rvw*x.series&r=1&i=90000003_0000000000000033B463FE0A&u=\\'+urlencode(this.href))\"><mark>부산</mark> 여행 <mark>날씨</mark>만큼 예뻤던 장림포구 부네치아(#부네치아 #장림포구)</a> </div></div></li><li class=\"bx _svp_item\" data-cr-rank=\"2\" data-cr-area=\"rvw*w\" data-cr-gdid=\"90000003_0000000000000033CA8893AA\"> <div class=\"total_wrap api_ani_send\"> <div class=\"total_area\"> <div class=\"total_info\"> <div class=\"api_save_group _keep_wrap\"> <a href=\"#\" role=\"button\" class=\"btn_save _keep_trigger\" data-url=\"https://blog.naver.com/hug387/222441280426\" onclick=\"tCR(\\'a=rvw*w.kep&r=2&i=90000003_0000000000000033CA8893AA&u=javascript\\'); return false;\" aria-pressed=\"false\"><i class=\"spnew ico_save\">문서 저장하기</i></a> <div class=\"api_ly_save _keep_save_layer\"> <a href=\"#\" role=\"button\" class=\"spnew_af item item_save _keep_save\" data-cr-on=\"a=rvw*w.kepon&r=2&i=90000003_0000000000000033CA8893AA&u=javascript\" data-cr-off=\"a=rvw*w.kepoff&r=2&i=90000003_0000000000000033CA8893AA&u=javascript\">Keep에 저장</a> <a href=\"https://keep.naver.com/\" class=\"spnew_af item item_quick\" target=\"_blank\" onClick=\"return goOtherCR(this,\\'a=rvw*w.kephome&r=2&i=90000003_0000000000000033CA8893AA&u=\\'+urlencode(this.href));\">Keep 바로가기</a> </div></div><div class=\"total_sub\"> <a href=\"https://blog.naver.com/hug387\" class=\"sub_thumb\" target=\"_blank\" onClick=\"return goOtherCR(this, \\'a=rvw*w.writer&r=2&i=90000003_0000000000000033CA8893AA&u=\\'+urlencode(this.href))\"> <span class=\"thumb\"><img src=\"https://search.pstatic.net/common/?src=http%3A%2F%2Fblogpfthumb.phinf.naver.net%2FMjAyMDA5MjRfMjE4%2FMDAxNjAwOTIwODQzODU4.OYVaVevXRzd47JXuHc-e6yRbmaWh4mLZOdal5RZkiYsg.BaajOHw99vUkwpi2Q3zBoX0Cx5HeDczJPlYoye01gFog.PNG.hug387%2FprofileImage.png&type=f54_54\" width=\"20\" height=\"20\" alt=\"\" class=\"\" onError=\"this.src=\\'data:image/gif;base64,R0lGODlhAQABAIAAAAAAAP///yH5BAEAAAAALAAAAAABAAEAAAIBRAA7\\';this.className=\\'bg_npimg\\'\"></span> </a> <span class=\"elss etc_dsc\"> <span class=\"etc_dsc_group\"> <span class=\"etc_dsc_area\"> <span class=\"sub_txt stress\">인플루언서</span><span class=\"sub_time sub_txt\">2021.07.22.</span> </span><span class=\"elss etc_dsc_inner\"> <a href=\"https://blog.naver.com/hug387\" class=\"sub_txt sub_name\" target=\"_blank\" onClick=\"return goOtherCR(this, \\'a=rvw*w.writer&r=2&i=90000003_0000000000000033CA8893AA&u=\\'+urlencode(this.href))\">어여쁜 유지니아</a> </span> </span></span></div></div><a href=\"https://blog.naver.com/hug387/222441280426\" class=\"api_txt_lines total_tit\" data-recommend=\"1\" target=\"_blank\" onClick=\"return goOtherCR(this, \\'a=rvw*w.link&r=2&i=90000003_0000000000000033CA8893AA&u=\\'+urlencode(this.href))\"><mark>부산</mark> 송정 서핑 강습 베어브라더 #라이클 예약♥ #<mark>날씨</mark> #송정해수욕장</a> <div class=\"api_pcpg_wrap  _freescroll_wrap\"> <div class=\"api_flicking_wrap review_thumb_group _svp_content _freescroll_flicking\"> <div class=\"flick_bx\"> <a ondragstart=\"return false\" href=\"https://blog.naver.com/hug387/222441280426\" class=\"thumb \" data-recommend=\"1\" target=\"_blank\" onClick=\"return goOtherCR(this, \\'a=rvw*w.link&r=2&i=90000003_0000000000000033CA8893AA&u=\\'+urlencode(this.href))\"> <img src=\"https://search.pstatic.net/common/?src=http%3A%2F%2Fblogfiles.naver.net%2FMjAyMTA3MjJfMjMy%2FMDAxNjI2OTQ1MDc2NDgw.vchhXCTZ4vwXzcZmECYzXhb5vJe7e6x-B0XWTvi-UIsg.s4xrLNgvW5qwPnxA9gfqgXif6sd76RDuKbHkNP9h7GAg.JPEG.hug387%2F600CDB39-0F8C-4964-B92C-9AB56AF416F1.jpg%23900x953&type=b220\" height=\"90\" alt=\"\" class=\"\" onError=\"this.src=\\'data:image/gif;base64,R0lGODlhAQABAIAAAAAAAP///yH5BAEAAAAALAAAAAABAAEAAAIBRAA7\\';this.className=\\'bg_nimg\\';this.width=132;this.alt=\\'이미지준비중\\';\"> </a> </div><div class=\"flick_bx\"> <a ondragstart=\"return false\" href=\"javascript:;\" class=\"thumb _svp_trigger type_video\" data-auto-play=\"true\" data-source=\"naver\" data-is-visible-close-btn=\"true\" data-api=\"https://s.search.naver.com/p/videosearch/search.naver?where=inkey&vid=90000003_0000000000000033CA8893AA%3A28\"> <img src=\"https://search.pstatic.net/common/?src=http%3A%2F%2Fimage.nmv.naver.net%2Fblog_2021_07_21_966%2F8414d901-e97b-11eb-83be-505dac8c3607_04.jpg%23152x114%23m&type=f302_186\" height=\"90\" alt=\"\" class=\"\" onError=\"this.src=\\'data:image/gif;base64,R0lGODlhAQABAIAAAAAAAP///yH5BAEAAAAALAAAAAABAAEAAAIBRAA7\\';this.className=\\'bg_nimg\\';this.width=132;this.alt=\\'이미지준비중\\';\"> <i class=\"spnew api_ico_video quick\">동영상 바로재생</i> <span class=\"thumb_time\" aria-label=\"재생시간\"><span aria-label=\"00:28\">00:28</span></span> </a> </div><div class=\"flick_bx\"> <a ondragstart=\"return false\" href=\"https://blog.naver.com/hug387/222441280426\" class=\"thumb \" data-recommend=\"1\" target=\"_blank\" onClick=\"return goOtherCR(this, \\'a=rvw*w.link&r=2&i=90000003_0000000000000033CA8893AA&u=\\'+urlencode(this.href))\"> <img src=\"https://search.pstatic.net/common/?src=http%3A%2F%2Fblogfiles.naver.net%2FMjAyMTA3MjJfNTIg%2FMDAxNjI2ODg0NzIxOTM2.wsvUSeliuygOCjG64B1vBXZrydAw3pi_xdooHKU60H8g.dUZlxE_rRQeUxwswojHImsuStegzprgF2g1u9EHnLmYg.JPEG.hug387%2FIMG_5854.jpg%23900x674&type=b220\" height=\"90\" alt=\"\" class=\"\" onError=\"this.src=\\'data:image/gif;base64,R0lGODlhAQABAIAAAAAAAP///yH5BAEAAAAALAAAAAABAAEAAAIBRAA7\\';this.className=\\'bg_nimg\\';this.width=132;this.alt=\\'이미지준비중\\';\"> </a> </div><div class=\"flick_bx\"> <a ondragstart=\"return false\" href=\"https://blog.naver.com/hug387/222441280426\" class=\"thumb \" data-recommend=\"1\" target=\"_blank\" onClick=\"return goOtherCR(this, \\'a=rvw*w.link&r=2&i=90000003_0000000000000033CA8893AA&u=\\'+urlencode(this.href))\"> <img src=\"https://search.pstatic.net/common/?src=http%3A%2F%2Fblogfiles.naver.net%2FMjAyMTA3MjJfMTMy%2FMDAxNjI2ODg0NzY2MDY5.3J0oAywH8LEp2_FKPHLOLCYiRwi-665v4ksuVrUsg0Mg.qnPICTLNR4gvjkYhi6hLYPfLroudt8x_VQ9p2Enr6k8g.JPEG.hug387%2F0D38A78C-B157-4C81-B4D0-2ECB9932EEF1.jpg%23900x1120&type=b220\" height=\"90\" alt=\"\" class=\"\" onError=\"this.src=\\'data:image/gif;base64,R0lGODlhAQABAIAAAAAAAP///yH5BAEAAAAALAAAAAABAAEAAAIBRAA7\\';this.className=\\'bg_nimg\\';this.width=132;this.alt=\\'이미지준비중\\';\"> </a> </div><div class=\"flick_bx\"> <a ondragstart=\"return false\" href=\"https://blog.naver.com/hug387/222441280426\" class=\"thumb \" data-recommend=\"1\" target=\"_blank\" onClick=\"return goOtherCR(this, \\'a=rvw*w.link&r=2&i=90000003_0000000000000033CA8893AA&u=\\'+urlencode(this.href))\"> <img src=\"https://search.pstatic.net/common/?src=http%3A%2F%2Fblogfiles.naver.net%2FMjAyMTA3MjJfMzMg%2FMDAxNjI2ODg0NzA1NTcz.On-poAmnffh2M3qDL3tGaNXh-jf99A4y76RrMLndy3Eg.u5Z3JPBex-isjZr67wbW1CfHpj51l1oTsGp2YeSSqdMg.JPEG.hug387%2FIMG_5850.jpg%23900x674&type=b220\" height=\"90\" alt=\"\" class=\"\" onError=\"this.src=\\'data:image/gif;base64,R0lGODlhAQABAIAAAAAAAP///yH5BAEAAAAALAAAAAABAAEAAAIBRAA7\\';this.className=\\'bg_nimg\\';this.width=132;this.alt=\\'이미지준비중\\';\"> </a> </div><div class=\"flick_bx\"> <a ondragstart=\"return false\" href=\"https://blog.naver.com/hug387/222441280426\" class=\"thumb \" data-recommend=\"1\" target=\"_blank\" onClick=\"return goOtherCR(this, \\'a=rvw*w.link&r=2&i=90000003_0000000000000033CA8893AA&u=\\'+urlencode(this.href))\"> <img src=\"https://search.pstatic.net/common/?src=http%3A%2F%2Fblogfiles.naver.net%2FMjAyMTA3MjJfMTEy%2FMDAxNjI2ODg0NzEwNjg3.0YH7PNu6jEemPbmLjsNVPkSTuXhz4gr05MsfPeDviLIg.XNOLaHrQPROLtDySa_HRGqUBJ72RYbAJ2pJrFKUTGIUg.JPEG.hug387%2FIMG_5851.jpg%23900x674&type=b220\" height=\"90\" alt=\"\" class=\"\" onError=\"this.src=\\'data:image/gif;base64,R0lGODlhAQABAIAAAAAAAP///yH5BAEAAAAALAAAAAABAAEAAAIBRAA7\\';this.className=\\'bg_nimg\\';this.width=132;this.alt=\\'이미지준비중\\';\"> </a> </div><div class=\"flick_bx\"> <a ondragstart=\"return false\" href=\"https://blog.naver.com/hug387/222441280426\" class=\"thumb \" data-recommend=\"1\" target=\"_blank\" onClick=\"return goOtherCR(this, \\'a=rvw*w.link&r=2&i=90000003_0000000000000033CA8893AA&u=\\'+urlencode(this.href))\"> <img src=\"https://search.pstatic.net/common/?src=http%3A%2F%2Fblogfiles.naver.net%2FMjAyMTA3MjJfNDcg%2FMDAxNjI2ODg0NzE5MzAw.IHNDDGfjlGJ8uzY6BDddt0xVl4296NkYFE5UjS9CHt8g.n6NmgN0jWiXcCISxDzBbsZz_4oXcvwX0wq4PxWOfTJEg.JPEG.hug387%2FIMG_5853.jpg%23900x674&type=b220\" height=\"90\" alt=\"\" class=\"\" onError=\"this.src=\\'data:image/gif;base64,R0lGODlhAQABAIAAAAAAAP///yH5BAEAAAAALAAAAAABAAEAAAIBRAA7\\';this.className=\\'bg_nimg\\';this.width=132;this.alt=\\'이미지준비중\\';\"> </a> </div><div class=\"flick_bx\"> <a ondragstart=\"return false\" href=\"https://blog.naver.com/hug387/222441280426\" class=\"thumb \" data-recommend=\"1\" target=\"_blank\" onClick=\"return goOtherCR(this, \\'a=rvw*w.link&r=2&i=90000003_0000000000000033CA8893AA&u=\\'+urlencode(this.href))\"> <img src=\"https://search.pstatic.net/common/?src=http%3A%2F%2Fblogfiles.naver.net%2FMjAyMTA3MjJfMTc0%2FMDAxNjI2OTQ3MzU4NzUw.7-0gPrCeSRKGHyTKi4TYyoEI5kEMewDrKiFnZlmRNwwg.kg7dDIHvtnsIuuZn0gq8pR_2WlGgytaNxM7QFj5ARZsg.JPEG.hug387%2F102.JPG%233000x2000&type=b220\" height=\"90\" alt=\"\" class=\"\" onError=\"this.src=\\'data:image/gif;base64,R0lGODlhAQABAIAAAAAAAP///yH5BAEAAAAALAAAAAABAAEAAAIBRAA7\\';this.className=\\'bg_nimg\\';this.width=132;this.alt=\\'이미지준비중\\';\"> </a> </div><div class=\"flick_bx\"> <a ondragstart=\"return false\" href=\"https://blog.naver.com/hug387/222441280426\" class=\"thumb \" data-recommend=\"1\" target=\"_blank\" onClick=\"return goOtherCR(this, \\'a=rvw*w.link&r=2&i=90000003_0000000000000033CA8893AA&u=\\'+urlencode(this.href))\"> <img src=\"https://search.pstatic.net/common/?src=http%3A%2F%2Fblogfiles.naver.net%2FMjAyMTA3MjJfMjI0%2FMDAxNjI2OTQ1MjgxMDUy.Gl4qCDr9INK5CdBsLsXdguOvhiADe96T6GxkahJNDogg.s3PbuMnc7OLAv2weWMV3ZFtnCqYjCbmHugT1AO-ZB_Ug.JPEG.hug387%2FIMG_7757.jpg%23900x1949&type=b220\" height=\"90\" alt=\"\" class=\"\" onError=\"this.src=\\'data:image/gif;base64,R0lGODlhAQABAIAAAAAAAP///yH5BAEAAAAALAAAAAABAAEAAAIBRAA7\\';this.className=\\'bg_nimg\\';this.width=132;this.alt=\\'이미지준비중\\';\"> </a> </div><div class=\"flick_bx\"> <a ondragstart=\"return false\" href=\"https://blog.naver.com/hug387/222441280426\" class=\"thumb \" data-recommend=\"1\" target=\"_blank\" onClick=\"return goOtherCR(this, \\'a=rvw*w.link&r=2&i=90000003_0000000000000033CA8893AA&u=\\'+urlencode(this.href))\"> <img src=\"https://search.pstatic.net/common/?src=http%3A%2F%2Fblogfiles.naver.net%2FMjAyMTA3MjJfMjE3%2FMDAxNjI2OTQ1MjgxOTA0.ljA9F34xBApJn4bA93nSSOf33BrtURvEwEbH8j6TwyIg.RL7_K7YyCXZr-LP4ykk6vUkYNS4aKHubDHqMgM79xhwg.JPEG.hug387%2FIMG_7760.jpg%23900x1949&type=b220\" height=\"90\" alt=\"\" class=\"\" onError=\"this.src=\\'data:image/gif;base64,R0lGODlhAQABAIAAAAAAAP///yH5BAEAAAAALAAAAAABAAEAAAIBRAA7\\';this.className=\\'bg_nimg\\';this.width=132;this.alt=\\'이미지준비중\\';\"> </a> </div><div class=\"flick_bx\"> <a ondragstart=\"return false\" href=\"https://blog.naver.com/hug387/222441280426\" class=\"thumb \" data-recommend=\"1\" target=\"_blank\" onClick=\"return goOtherCR(this, \\'a=rvw*w.link&r=2&i=90000003_0000000000000033CA8893AA&u=\\'+urlencode(this.href))\"> <img src=\"https://search.pstatic.net/common/?src=http%3A%2F%2Fblogfiles.naver.net%2FMjAyMTA3MjJfMjky%2FMDAxNjI2OTQ2Mjk3ODQ2.QcVw5_X7KJfKXv843dTxJqbY37n7Yv1WwObfCpLeabkg.lrdPYG0IJA-vpkrqm7rXHNKrNQqHGNv_SlUWL8nRDWYg.PNG.hug387%2FX1.png%23977x718&type=b220\" height=\"90\" alt=\"\" class=\"\" onError=\"this.src=\\'data:image/gif;base64,R0lGODlhAQABAIAAAAAAAP///yH5BAEAAAAALAAAAAABAAEAAAIBRAA7\\';this.className=\\'bg_nimg\\';this.width=132;this.alt=\\'이미지준비중\\';\"> </a> </div></div><div class=\"video_common_player_wrap _svp_target\" style=\"display: none;\"></div> <div class=\"api_btn_page type_small type_inside type_transparent _page_wrap\"> <div class=\"btn_prev _prev\" style=\"display:none;\"><a href=\"javascript:;\" role=\"button\" class=\"btn\" onclick=\"tCR(\\'a=rvw*w.linkfrk\\');\"><i class=\"spnew ico_arr\">이전</i></a></div> <div class=\"btn_next _next\" style=\"display:none;\"><a href=\"javascript:;\" role=\"button\" class=\"btn\" onclick=\"tCR(\\'a=rvw*w.linkfrk\\');\"><i class=\"spnew ico_arr\">다음</i></a></div> </div></div><div class=\"total_group\"> <div class=\"total_dsc_wrap\"> <a href=\"https://blog.naver.com/hug387/222441280426\" class=\"total_dsc\" data-recommend=\"1\" target=\"_blank\" onClick=\"return goOtherCR(this, \\'a=rvw*w.link&r=2&i=90000003_0000000000000033CA8893AA&u=\\'+urlencode(this.href))\"> <div class=\"api_txt_lines dsc_txt\">좋았습니당 :D 날씨 좀 더 선선했으면 나도 여기 앉아서 한참 쉬었을텐데 더웠어 ㅋㅋㅋㅋ 암튼!! 작년에도, 올해도 너무 재밌게 잘타구 왔다! <mark>부산 날씨</mark> 까지 좋아서 더 재밌게 잘놀다왔당 ♥ 저는 다음주에도 친구랑 부산...</div> </a> </div></div></div></div><div class=\"total_tag_area\"> <a href=\"?where=view&sm=tab_viw.all&query=%EB%B6%80%EC%82%B0\" class=\"tag\" role=\"button\" onclick=\"return goOtherCR(this, \\'a=rvw*w.usertag&r=2&i=90000003_0000000000000033CA8893AA&u=\\'+urlencode(this.href))\"><span class=\"txt\">#부산</span></a> <a href=\"?where=view&sm=tab_viw.all&query=%EB%B6%80%EC%82%B0%EC%86%A1%EC%A0%95\" class=\"tag\" role=\"button\" onclick=\"return goOtherCR(this, \\'a=rvw*w.usertag&r=2&i=90000003_0000000000000033CA8893AA&u=\\'+urlencode(this.href))\"><span class=\"txt\">#부산송정</span></a> <a href=\"?where=view&sm=tab_viw.all&query=%EB%B6%80%EC%82%B0%EC%86%A1%EC%A0%95%ED%95%B4%EC%88%98%EC%9A%95%EC%9E%A5\" class=\"tag\" role=\"button\" onclick=\"return goOtherCR(this, \\'a=rvw*w.usertag&r=2&i=90000003_0000000000000033CA8893AA&u=\\'+urlencode(this.href))\"><span class=\"txt\">#부산송정해수욕장</span></a> <a href=\"?where=view&sm=tab_viw.all&query=%EC%86%A1%EC%A0%95%ED%95%B4%EC%88%98%EC%9A%95%EC%9E%A5\" class=\"tag\" role=\"button\" onclick=\"return goOtherCR(this, \\'a=rvw*w.usertag&r=2&i=90000003_0000000000000033CA8893AA&u=\\'+urlencode(this.href))\"><span class=\"txt\">#송정해수욕장</span></a> <a href=\"?where=view&sm=tab_viw.all&query=%EC%84%9C%ED%95%91\" class=\"tag\" role=\"button\" onclick=\"return goOtherCR(this, \\'a=rvw*w.usertag&r=2&i=90000003_0000000000000033CA8893AA&u=\\'+urlencode(this.href))\"><span class=\"txt\">#서핑</span></a> <a href=\"?where=view&sm=tab_viw.all&query=%EC%84%9C%ED%95%91%EC%98%88%EC%95%BD\" class=\"tag\" role=\"button\" onclick=\"return goOtherCR(this, \\'a=rvw*w.usertag&r=2&i=90000003_0000000000000033CA8893AA&u=\\'+urlencode(this.href))\"><span class=\"txt\">#서핑예약</span></a> <a href=\"?where=view&sm=tab_viw.all&query=%EC%86%A1%EC%A0%95%EC%84%9C%ED%95%91\" class=\"tag\" role=\"button\" onclick=\"return goOtherCR(this, \\'a=rvw*w.usertag&r=2&i=90000003_0000000000000033CA8893AA&u=\\'+urlencode(this.href))\"><span class=\"txt\">#송정서핑</span></a> <a href=\"?where=view&sm=tab_viw.all&query=%EC%84%9C%ED%95%91%EA%B0%95%EC%8A%B5\" class=\"tag\" role=\"button\" onclick=\"return goOtherCR(this, \\'a=rvw*w.usertag&r=2&i=90000003_0000000000000033CA8893AA&u=\\'+urlencode(this.href))\"><span class=\"txt\">#서핑강습</span></a> <a href=\"?where=view&sm=tab_viw.all&query=%EB%B6%80%EC%82%B0%EC%84%9C%ED%95%91\" class=\"tag\" role=\"button\" onclick=\"return goOtherCR(this, \\'a=rvw*w.usertag&r=2&i=90000003_0000000000000033CA8893AA&u=\\'+urlencode(this.href))\"><span class=\"txt\">#부산서핑</span></a> <a href=\"?where=view&sm=tab_viw.all&query=%EB%B6%80%EC%82%B0%EC%84%9C%ED%95%91%EA%B0%95%EC%8A%B5\" class=\"tag\" role=\"button\" onclick=\"return goOtherCR(this, \\'a=rvw*w.usertag&r=2&i=90000003_0000000000000033CA8893AA&u=\\'+urlencode(this.href))\"><span class=\"txt\">#부산서핑강습</span></a> </div><div class=\"total_link_area\"> <div class=\"link_inner\"> <a href=\"https://blog.naver.com/hug387/222033175010\" class=\"link elss\" target=\"_blank\" onclick=\"return goOtherCR(this, \\'a=rvw*w.series&r=2&i=90000003_0000000000000033B23561E2&u=\\'+urlencode(this.href))\"><mark>부산</mark> 파라다이스 호텔 수영장 &amp; 씨메르 스파 /아쉬운거, 가려움ㅠㅠ #<mark>날씨</mark> 흐린날(#부산 #해운대)</a> <a href=\"https://blog.naver.com/hug387/222352323993\" class=\"link elss\" target=\"_blank\" onclick=\"return goOtherCR(this, \\'a=rvw*w.series&r=2&i=90000003_0000000000000033C53B3599&u=\\'+urlencode(this.href))\">익스피디아 5월 할인코드 5만원 추가할인! <mark>부산날씨</mark> 좋았던날(#익스피디아 #익스피디아5월할인코드)</a> </div></div></li><li class=\"bx _svp_item\" data-cr-rank=\"3\" data-cr-area=\"rvw*f\" data-cr-gdid=\"90000003_0000000000000033C2D983EE\"> <div class=\"total_wrap api_ani_send\"> <div class=\"total_area\"> <div class=\"total_info\"> <div class=\"api_save_group _keep_wrap\"> <a href=\"#\" role=\"button\" class=\"btn_save _keep_trigger\" data-url=\"https://blog.naver.com/goldpfeil/222312367086\" onclick=\"tCR(\\'a=rvw*f.kep&r=3&i=90000003_0000000000000033C2D983EE&u=javascript\\'); return false;\" aria-pressed=\"false\"><i class=\"spnew ico_save\">문서 저장하기</i></a> <div class=\"api_ly_save _keep_save_layer\"> <a href=\"#\" role=\"button\" class=\"spnew_af item item_save _keep_save\" data-cr-on=\"a=rvw*f.kepon&r=3&i=90000003_0000000000000033C2D983EE&u=javascript\" data-cr-off=\"a=rvw*f.kepoff&r=3&i=90000003_0000000000000033C2D983EE&u=javascript\">Keep에 저장</a> <a href=\"https://keep.naver.com/\" class=\"spnew_af item item_quick\" target=\"_blank\" onClick=\"return goOtherCR(this,\\'a=rvw*f.kephome&r=3&i=90000003_0000000000000033C2D983EE&u=\\'+urlencode(this.href));\">Keep 바로가기</a> </div></div><div class=\"total_sub\"> <a href=\"https://blog.naver.com/goldpfeil\" class=\"sub_thumb\" target=\"_blank\" onClick=\"return goOtherCR(this, \\'a=rvw*f.writer&r=3&i=90000003_0000000000000033C2D983EE&u=\\'+urlencode(this.href))\"> <span class=\"thumb\"><img src=\"https://search.pstatic.net/common/?src=http%3A%2F%2Fblogpfthumb.phinf.naver.net%2FMjAxOTAxMDdfMTk0%2FMDAxNTQ2ODY3NTAxNjk0.fL_0L4d8X2vtyHwRPKUyB3cGA2kYMm2zKVhA49YkDXQg.GqA_Pvu-wa_unTfq0XcijQhTQ9g7HtlgR4ITWwcr8MYg.JPEG.goldpfeil%2FIMG_8157.jpg&type=f54_54\" width=\"20\" height=\"20\" alt=\"\" class=\"\" onError=\"this.src=\\'data:image/gif;base64,R0lGODlhAQABAIAAAAAAAP///yH5BAEAAAAALAAAAAABAAEAAAIBRAA7\\';this.className=\\'bg_npimg\\'\"></span> </a> <span class=\"elss etc_dsc\"> <span class=\"etc_dsc_group\"> <span class=\"etc_dsc_area\"> <span class=\"sub_txt stress\">인플루언서</span><span class=\"sub_time sub_txt\">2021.04.16.</span> </span><span class=\"elss etc_dsc_inner\"> <a href=\"https://blog.naver.com/goldpfeil\" class=\"sub_txt sub_name\" target=\"_blank\" onClick=\"return goOtherCR(this, \\'a=rvw*f.writer&r=3&i=90000003_0000000000000033C2D983EE&u=\\'+urlencode(this.href))\">허브허브의 여행 &amp; 패션</a> </span> </span></span></div></div><a href=\"https://blog.naver.com/goldpfeil/222312367086\" class=\"api_txt_lines total_tit\" data-recommend=\"1\" target=\"_blank\" onClick=\"return goOtherCR(this, \\'a=rvw*f.link&r=3&i=90000003_0000000000000033C2D983EE&u=\\'+urlencode(this.href))\"><mark>부산 날씨</mark> 흐렸다 맑음! 3박 4일 부산여행 코스</a> <div class=\"total_group\"> <div class=\"total_dsc_wrap\"> <a href=\"https://blog.naver.com/goldpfeil/222312367086\" class=\"total_dsc\" data-recommend=\"1\" target=\"_blank\" onClick=\"return goOtherCR(this, \\'a=rvw*f.link&r=3&i=90000003_0000000000000033C2D983EE&u=\\'+urlencode(this.href))\"> <div class=\"api_txt_lines dsc_txt\">부산 여행을 다녀왔습니다! 이번에는 3박 4일 꽉찬 일정으로 아주 널널하게 다녀왔지요^^ 2월 <mark>부산 날씨</mark>가 꽤... 부산여행 4일차!! 날씨는 더 대박 이었어요~~~~ 어쩜 이렇게 하늘이 파라고 예쁠까요?? #부산가볼만한곳 제...</div> </a> </div></div></div><a href=\"https://blog.naver.com/goldpfeil/222312367086\" class=\"thumb_single\" data-recommend=\"1\" target=\"_blank\" onClick=\"return goOtherCR(this, \\'a=rvw*f.link&r=3&i=90000003_0000000000000033C2D983EE&u=\\'+urlencode(this.href))\"> <span class=\"thumb_fix \"><img src=\"https://search.pstatic.net/common/?src=http%3A%2F%2Fblogfiles.naver.net%2FMjAyMTA0MTZfMTQw%2FMDAxNjE4NTYxNTY2MTcw.Jv6ggypw7Rkp7uRH6jvjz137rAVS-OQ9OyVEwYXaGBUg.xRgZM6iqkRXqL-p5KZFMAHlEHsb8V-escUiSHjIw-UIg.JPEG.goldpfeil%2FKakaoTalk_20210416_165459899_08.jpg%231440x1440&type=ff264_180\" width=\"132\" height=\"90\" alt=\"\" class=\"thumb api_get\" onError=\"this.src=\\'data:image/gif;base64,R0lGODlhAQABAIAAAAAAAP///yH5BAEAAAAALAAAAAABAAEAAAIBRAA7\\';this.className=\\'bg_nimg\\';this.width=132;this.alt=\\'이미지준비중\\';\"><span class=\"thumb_count\">42</span></span> </a> </div><div class=\"total_tag_area\"> <a href=\"?where=view&sm=tab_viw.all&query=%EB%8B%A4%EB%A6%AC%EC%A7%91\" class=\"tag\" role=\"button\" onclick=\"return goOtherCR(this, \\'a=rvw*f.usertag&r=3&i=90000003_0000000000000033C2D983EE&u=\\'+urlencode(this.href))\"><span class=\"txt\">#다리집</span></a> <a href=\"?where=view&sm=tab_viw.all&query=%EC%8A%A4%EC%B9%B4%EC%9D%B4%EC%BA%A1%EC%8A%90\" class=\"tag\" role=\"button\" onclick=\"return goOtherCR(this, \\'a=rvw*f.usertag&r=3&i=90000003_0000000000000033C2D983EE&u=\\'+urlencode(this.href))\"><span class=\"txt\">#스카이캡슐</span></a> <a href=\"?where=view&sm=tab_viw.all&query=%ED%8F%AC%EB%A0%88%EC%8A%A4%ED%8A%B8%EC%BD%9C%EB%93%9C%EB%B8%8C%EB%A3%A8\" class=\"tag\" role=\"button\" onclick=\"return goOtherCR(this, \\'a=rvw*f.usertag&r=3&i=90000003_0000000000000033C2D983EE&u=\\'+urlencode(this.href))\"><span class=\"txt\">#포레스트콜드브루</span></a> <a href=\"?where=view&sm=tab_viw.all&query=%EC%9E%A5%EB%A6%BC%ED%8F%AC%EA%B5%AC\" class=\"tag\" role=\"button\" onclick=\"return goOtherCR(this, \\'a=rvw*f.usertag&r=3&i=90000003_0000000000000033C2D983EE&u=\\'+urlencode(this.href))\"><span class=\"txt\">#장림포구</span></a> <a href=\"?where=view&sm=tab_viw.all&query=%EB%B6%80%EB%84%A4%EC%B9%98%EC%95%84\" class=\"tag\" role=\"button\" onclick=\"return goOtherCR(this, \\'a=rvw*f.usertag&r=3&i=90000003_0000000000000033C2D983EE&u=\\'+urlencode(this.href))\"><span class=\"txt\">#부네치아</span></a> <a href=\"?where=view&sm=tab_viw.all&query=%EB%B6%80%EC%82%B0%EA%B0%80%EB%B3%BC%EB%A7%8C%ED%95%9C%EA%B3%B3\" class=\"tag\" role=\"button\" onclick=\"return goOtherCR(this, \\'a=rvw*f.usertag&r=3&i=90000003_0000000000000033C2D983EE&u=\\'+urlencode(this.href))\"><span class=\"txt\">#부산가볼만한곳</span></a> <a href=\"?where=view&sm=tab_viw.all&query=%ED%9D%B0%EC%97%AC%EC%9A%B8%EB%AC%B8%ED%99%94%EB%A7%88%EC%9D%84\" class=\"tag\" role=\"button\" onclick=\"return goOtherCR(this, \\'a=rvw*f.usertag&r=3&i=90000003_0000000000000033C2D983EE&u=\\'+urlencode(this.href))\"><span class=\"txt\">#흰여울문화마을</span></a> <a href=\"?where=view&sm=tab_viw.all&query=%EB%B6%80%EC%82%B0%EC%98%81%EB%8F%84%EC%B9%B4%ED%8E%98\" class=\"tag\" role=\"button\" onclick=\"return goOtherCR(this, \\'a=rvw*f.usertag&r=3&i=90000003_0000000000000033C2D983EE&u=\\'+urlencode(this.href))\"><span class=\"txt\">#부산영도카페</span></a> <a href=\"?where=view&sm=tab_viw.all&query=%EC%97%90%ED%85%8C%EB%A5%B4\" class=\"tag\" role=\"button\" onclick=\"return goOtherCR(this, \\'a=rvw*f.usertag&r=3&i=90000003_0000000000000033C2D983EE&u=\\'+urlencode(this.href))\"><span class=\"txt\">#에테르</span></a> <a href=\"?where=view&sm=tab_viw.all&query=%EB%B3%80%ED%98%B8%EC%9D%B8\" class=\"tag\" role=\"button\" onclick=\"return goOtherCR(this, \\'a=rvw*f.usertag&r=3&i=90000003_0000000000000033C2D983EE&u=\\'+urlencode(this.href))\"><span class=\"txt\">#변호인</span></a> </div></li><li class=\"bx _svp_item\" data-cr-rank=\"4\" data-cr-area=\"rvw*f\" data-cr-gdid=\"90000003_0000000000000033BE8EFBB2\"> <div class=\"total_wrap api_ani_send\"> <div class=\"total_area\"> <div class=\"total_info\"> <div class=\"api_save_group _keep_wrap\"> <a href=\"#\" role=\"button\" class=\"btn_save _keep_trigger\" data-url=\"https://blog.naver.com/bahna2/222240373682\" onclick=\"tCR(\\'a=rvw*f.kep&r=4&i=90000003_0000000000000033BE8EFBB2&u=javascript\\'); return false;\" aria-pressed=\"false\"><i class=\"spnew ico_save\">문서 저장하기</i></a> <div class=\"api_ly_save _keep_save_layer\"> <a href=\"#\" role=\"button\" class=\"spnew_af item item_save _keep_save\" data-cr-on=\"a=rvw*f.kepon&r=4&i=90000003_0000000000000033BE8EFBB2&u=javascript\" data-cr-off=\"a=rvw*f.kepoff&r=4&i=90000003_0000000000000033BE8EFBB2&u=javascript\">Keep에 저장</a> <a href=\"https://keep.naver.com/\" class=\"spnew_af item item_quick\" target=\"_blank\" onClick=\"return goOtherCR(this,\\'a=rvw*f.kephome&r=4&i=90000003_0000000000000033BE8EFBB2&u=\\'+urlencode(this.href));\">Keep 바로가기</a> </div></div><div class=\"total_sub\"> <a href=\"https://blog.naver.com/bahna2\" class=\"sub_thumb\" target=\"_blank\" onClick=\"return goOtherCR(this, \\'a=rvw*f.writer&r=4&i=90000003_0000000000000033BE8EFBB2&u=\\'+urlencode(this.href))\"> <span class=\"thumb\"><img src=\"https://search.pstatic.net/common/?src=http%3A%2F%2Fblogpfthumb.phinf.naver.net%2FMjAyMTA0MjlfMjA2%2FMDAxNjE5Njc3OTE4Mjk2.ojAyauC7rJ-vnRIIFr_xkJfcljQfKSCU2Ppkjoxgh4Ug._xIZG8TR1k438pmckheA7eXrCjlbjMR4QV0imfE8O2og.PNG.bahna2%2FprofileImage.png&type=f54_54\" width=\"20\" height=\"20\" alt=\"\" class=\"\" onError=\"this.src=\\'data:image/gif;base64,R0lGODlhAQABAIAAAAAAAP///yH5BAEAAAAALAAAAAABAAEAAAIBRAA7\\';this.className=\\'bg_npimg\\'\"></span> </a> <span class=\"elss etc_dsc\"> <span class=\"etc_dsc_group\"> <span class=\"etc_dsc_area\"> <span class=\"sub_txt stress\">인플루언서</span><span class=\"sub_time sub_txt\">2021.02.11.</span> </span><span class=\"elss etc_dsc_inner\"> <a href=\"https://blog.naver.com/bahna2\" class=\"sub_txt sub_name\" target=\"_blank\" onClick=\"return goOtherCR(this, \\'a=rvw*f.writer&r=4&i=90000003_0000000000000033BE8EFBB2&u=\\'+urlencode(this.href))\">Travel portfolio</a> </span> </span></span></div></div><a href=\"https://blog.naver.com/bahna2/222240373682\" class=\"api_txt_lines total_tit\" data-recommend=\"1\" target=\"_blank\" onClick=\"return goOtherCR(this, \\'a=rvw*f.link&r=4&i=90000003_0000000000000033BE8EFBB2&u=\\'+urlencode(this.href))\"><mark>부산 날씨</mark>와 여행코스 영도 흰여울 문화마을 예쁜 카페</a> <div class=\"total_group\"> <div class=\"total_dsc_wrap\"> <a href=\"https://blog.naver.com/bahna2/222240373682\" class=\"total_dsc\" data-recommend=\"1\" target=\"_blank\" onClick=\"return goOtherCR(this, \\'a=rvw*f.link&r=4&i=90000003_0000000000000033BE8EFBB2&u=\\'+urlencode(this.href))\"> <div class=\"api_txt_lines dsc_txt\"><mark>부산 날씨</mark>와 옷차림은?! 2월 <mark>부산 날씨</mark>는 비교적 따뜻한 편이라 두꺼운 외투를 입지 않고 다닐 만큼 날씨가... 초에 부산 여행 가시는 분들도 <mark>부산 날씨</mark> 꼭 확인하고 얇은 외투도 필수입니다. 4. 흰여울 문화마을 신기여울...</div> </a> </div></div></div><a href=\"https://blog.naver.com/bahna2/222240373682\" class=\"thumb_single\" data-recommend=\"1\" target=\"_blank\" onClick=\"return goOtherCR(this, \\'a=rvw*f.link&r=4&i=90000003_0000000000000033BE8EFBB2&u=\\'+urlencode(this.href))\"> <span class=\"thumb_fix \"><img src=\"https://search.pstatic.net/common/?src=http%3A%2F%2Fblogfiles.naver.net%2FMjAyMTAyMTFfNTkg%2FMDAxNjEzMDI4MTczOTgy.0jSQn-CNPvdkBbCn82TqIZIRvi1Czvq0s_c8QjTKPfQg.ax8e7pjTMXdjSnpIDeSpkuIhK_yjTXwvyyHh6BmCGR0g.JPEG.bahna2%2F3Q5A5282.jpg%23966x644&type=ff264_180\" width=\"132\" height=\"90\" alt=\"\" class=\"thumb api_get\" onError=\"this.src=\\'data:image/gif;base64,R0lGODlhAQABAIAAAAAAAP///yH5BAEAAAAALAAAAAABAAEAAAIBRAA7\\';this.className=\\'bg_nimg\\';this.width=132;this.alt=\\'이미지준비중\\';\"><span class=\"thumb_count\">41</span></span> </a> </div><div class=\"total_tag_area\"> <a href=\"?where=view&sm=tab_viw.all&query=%EB%B6%80%EC%82%B0\" class=\"tag\" role=\"button\" onclick=\"return goOtherCR(this, \\'a=rvw*f.usertag&r=4&i=90000003_0000000000000033BE8EFBB2&u=\\'+urlencode(this.href))\"><span class=\"txt\">#부산</span></a> <a href=\"?where=view&sm=tab_viw.all&query=%EB%B6%80%EC%82%B0%EC%97%AC%ED%96%89\" class=\"tag\" role=\"button\" onclick=\"return goOtherCR(this, \\'a=rvw*f.usertag&r=4&i=90000003_0000000000000033BE8EFBB2&u=\\'+urlencode(this.href))\"><span class=\"txt\">#부산여행</span></a> <a href=\"?where=view&sm=tab_viw.all&query=%EC%98%81%EB%8F%84\" class=\"tag\" role=\"button\" onclick=\"return goOtherCR(this, \\'a=rvw*f.usertag&r=4&i=90000003_0000000000000033BE8EFBB2&u=\\'+urlencode(this.href))\"><span class=\"txt\">#영도</span></a> <a href=\"?where=view&sm=tab_viw.all&query=%ED%9D%B0%EC%97%AC%EC%9A%B8%EB%AC%B8%ED%99%94%EB%A7%88%EC%9D%84\" class=\"tag\" role=\"button\" onclick=\"return goOtherCR(this, \\'a=rvw*f.usertag&r=4&i=90000003_0000000000000033BE8EFBB2&u=\\'+urlencode(this.href))\"><span class=\"txt\">#흰여울문화마을</span></a> <a href=\"?where=view&sm=tab_viw.all&query=%EB%B6%80%EC%82%B0%EB%82%A0%EC%94%A8\" class=\"tag\" role=\"button\" onclick=\"return goOtherCR(this, \\'a=rvw*f.usertag&r=4&i=90000003_0000000000000033BE8EFBB2&u=\\'+urlencode(this.href))\"><span class=\"txt\">#부산날씨</span></a> </div></li><li class=\"bx _svp_item\" data-cr-rank=\"5\" data-cr-area=\"rvw*f\" data-cr-gdid=\"90000003_0000000000000033C526C252\"> <div class=\"total_wrap api_ani_send\"> <div class=\"total_area\"> <div class=\"total_info\"> <div class=\"api_save_group _keep_wrap\"> <a href=\"#\" role=\"button\" class=\"btn_save _keep_trigger\" data-url=\"https://blog.naver.com/namnaraum/222350983762\" onclick=\"tCR(\\'a=rvw*f.kep&r=5&i=90000003_0000000000000033C526C252&u=javascript\\'); return false;\" aria-pressed=\"false\"><i class=\"spnew ico_save\">문서 저장하기</i></a> <div class=\"api_ly_save _keep_save_layer\"> <a href=\"#\" role=\"button\" class=\"spnew_af item item_save _keep_save\" data-cr-on=\"a=rvw*f.kepon&r=5&i=90000003_0000000000000033C526C252&u=javascript\" data-cr-off=\"a=rvw*f.kepoff&r=5&i=90000003_0000000000000033C526C252&u=javascript\">Keep에 저장</a> <a href=\"https://keep.naver.com/\" class=\"spnew_af item item_quick\" target=\"_blank\" onClick=\"return goOtherCR(this,\\'a=rvw*f.kephome&r=5&i=90000003_0000000000000033C526C252&u=\\'+urlencode(this.href));\">Keep 바로가기</a> </div></div><div class=\"total_sub\"> <a href=\"https://blog.naver.com/namnaraum\" class=\"sub_thumb\" target=\"_blank\" onClick=\"return goOtherCR(this, \\'a=rvw*f.writer&r=5&i=90000003_0000000000000033C526C252&u=\\'+urlencode(this.href))\"> <span class=\"thumb\"><img src=\"https://search.pstatic.net/common/?src=http%3A%2F%2Fblogpfthumb.phinf.naver.net%2FMjAyMTA0MjBfMzMg%2FMDAxNjE4OTI0OTQ1NTQ2.gN_5_mpyhE_1qpjDV7-tE1HgzkLpoG2RBky7bkk12b0g.-D-xIZn2oVM86a9ytsgWQOWGI86kMPbhzozCfkIiS7Ig.JPEG.namnaraum%2FIMG_0307_1.JPG&type=f54_54\" width=\"20\" height=\"20\" alt=\"\" class=\"\" onError=\"this.src=\\'data:image/gif;base64,R0lGODlhAQABAIAAAAAAAP///yH5BAEAAAAALAAAAAABAAEAAAIBRAA7\\';this.className=\\'bg_npimg\\'\"></span> </a> <span class=\"elss etc_dsc\"> <span class=\"etc_dsc_group\"> <span class=\"etc_dsc_area\"> <span class=\"sub_txt stress\">인플루언서</span><span class=\"sub_time sub_txt\">2021.05.14.</span> </span><span class=\"elss etc_dsc_inner\"> <a href=\"https://blog.naver.com/namnaraum\" class=\"sub_txt sub_name\" target=\"_blank\" onClick=\"return goOtherCR(this, \\'a=rvw*f.writer&r=5&i=90000003_0000000000000033C526C252&u=\\'+urlencode(this.href))\">남다른 남나르</a> </span> </span></span></div></div><a href=\"https://blog.naver.com/namnaraum/222350983762\" class=\"api_txt_lines total_tit\" data-recommend=\"1\" target=\"_blank\" onClick=\"return goOtherCR(this, \\'a=rvw*f.link&r=5&i=90000003_0000000000000033C526C252&u=\\'+urlencode(this.href))\">청사포 다릿돌 전망대 입장료 겁 없음 feat. 화창한 <mark>부산 날씨</mark></a> <div class=\"total_group\"> <div class=\"total_dsc_wrap\"> <a href=\"https://blog.naver.com/namnaraum/222350983762\" class=\"total_dsc\" data-recommend=\"1\" target=\"_blank\" onClick=\"return goOtherCR(this, \\'a=rvw*f.link&r=5&i=90000003_0000000000000033C526C252&u=\\'+urlencode(this.href))\"> <div class=\"api_txt_lines dsc_txt\">화창한 <mark>부산 날씨</mark> 유리로 된 스카이워크를 건너면서 바다 위를 걷는 기분을 느낄 수 있는 곳. 나란 겁쟁이... 화창한 날씨여야 덜 무서울 듯 - 운영 시간 : 오전 9시 ~ 오후 6시 (입장 마감 5:55) - 반드시 덧신 착용 부산의 세...</div> </a> </div></div></div><a href=\"https://blog.naver.com/namnaraum/222350983762\" class=\"thumb_single\" data-recommend=\"1\" target=\"_blank\" onClick=\"return goOtherCR(this, \\'a=rvw*f.link&r=5&i=90000003_0000000000000033C526C252&u=\\'+urlencode(this.href))\"> <span class=\"thumb_fix \"><img src=\"https://search.pstatic.net/common/?src=http%3A%2F%2Fblogfiles.naver.net%2FMjAyMTA1MTRfMjc4%2FMDAxNjIwOTgzODMyMzI3.12hs7Y8g--LFF2HFMzXywti82V_dulWmufx-Svj1sp4g.hCNXKo7_jHEiWGwY6sFAjNBfkiXl0xlrIhLRFIr5xssg.JPEG.namnaraum%2FIMG_%252854%2529.jpg%232880x1920&type=ff264_180\" width=\"132\" height=\"90\" alt=\"\" class=\"thumb api_get\" onError=\"this.src=\\'data:image/gif;base64,R0lGODlhAQABAIAAAAAAAP///yH5BAEAAAAALAAAAAABAAEAAAIBRAA7\\';this.className=\\'bg_nimg\\';this.width=132;this.alt=\\'이미지준비중\\';\"><span class=\"thumb_count\">26</span></span> </a> </div><div class=\"total_tag_area\"> <a href=\"?where=view&sm=tab_viw.all&query=%EB%B6%80%EC%82%B0%EC%B2%AD%EC%82%AC%ED%8F%AC\" class=\"tag\" role=\"button\" onclick=\"return goOtherCR(this, \\'a=rvw*f.usertag&r=5&i=90000003_0000000000000033C526C252&u=\\'+urlencode(this.href))\"><span class=\"txt\">#부산청사포</span></a> <a href=\"?where=view&sm=tab_viw.all&query=%EC%B2%AD%EC%82%AC%ED%8F%AC%EB%8B%A4%EB%A6%BF%EB%8F%8C%EC%A0%84%EB%A7%9D%EB%8C%80\" class=\"tag\" role=\"button\" onclick=\"return goOtherCR(this, \\'a=rvw*f.usertag&r=5&i=90000003_0000000000000033C526C252&u=\\'+urlencode(this.href))\"><span class=\"txt\">#청사포다릿돌전망대</span></a> <a href=\"?where=view&sm=tab_viw.all&query=%EC%B2%AD%EC%82%AC%ED%8F%AC%EB%8B%A4%EB%A6%BF%EB%8F%8C%EC%A0%84%EB%A7%9D%EB%8C%80%EC%9E%85%EC%9E%A5%EB%A3%8C\" class=\"tag\" role=\"button\" onclick=\"return goOtherCR(this, \\'a=rvw*f.usertag&r=5&i=90000003_0000000000000033C526C252&u=\\'+urlencode(this.href))\"><span class=\"txt\">#청사포다릿돌전망대입장료</span></a> <a href=\"?where=view&sm=tab_viw.all&query=%EA%B2%81%EC%97%86%EC%9D%8C\" class=\"tag\" role=\"button\" onclick=\"return goOtherCR(this, \\'a=rvw*f.usertag&r=5&i=90000003_0000000000000033C526C252&u=\\'+urlencode(this.href))\"><span class=\"txt\">#겁없음</span></a> <a href=\"?where=view&sm=tab_viw.all&query=%EB%B6%80%EC%82%B0%ED%99%94%EC%B0%BD%ED%95%9C%EB%82%A0%EC%94%A8\" class=\"tag\" role=\"button\" onclick=\"return goOtherCR(this, \\'a=rvw*f.usertag&r=5&i=90000003_0000000000000033C526C252&u=\\'+urlencode(this.href))\"><span class=\"txt\">#부산화창한날씨</span></a> <a href=\"?where=view&sm=tab_viw.all&query=%EB%B6%80%EC%82%B0%EB%82%A0%EC%94%A8\" class=\"tag\" role=\"button\" onclick=\"return goOtherCR(this, \\'a=rvw*f.usertag&r=5&i=90000003_0000000000000033C526C252&u=\\'+urlencode(this.href))\"><span class=\"txt\">#부산날씨</span></a> </div><div class=\"total_link_area\"> <div class=\"link_inner\"> <a href=\"https://blog.naver.com/namnaraum/222247355228\" class=\"link elss\" target=\"_blank\" onclick=\"return goOtherCR(this, \\'a=rvw*f.series&r=5&i=90000003_0000000000000033BEF9835C&u=\\'+urlencode(this.href))\"><mark>부산</mark> 해운대 갈만한곳 <mark>날씨</mark> 좋은 날 청사포 w.감성 버스정류장(#부산청사포 #청사포감성버스정류장)</a> <a href=\"https://blog.naver.com/namnaraum/222396772796\" class=\"link elss\" target=\"_blank\" onclick=\"return goOtherCR(this, \\'a=rvw*f.series&r=5&i=90000003_0000000000000033C7E171BC&u=\\'+urlencode(this.href))\"><mark>부산</mark> 여름 <mark>날씨</mark> 바다뷰 호텔 호캉스 즐기고 캐시백 받기(#샵백 #shopback)</a> </div></div></li><li class=\"bx _svp_item\" data-cr-rank=\"6\" data-cr-area=\"rvw*t\" data-cr-gdid=\"90000004_011EA92D0018E70100000000\"> <div class=\"total_wrap api_ani_send\"> <div class=\"total_area\"> <div class=\"total_info\"> <div class=\"api_save_group _keep_wrap\"> <a href=\"#\" role=\"button\" class=\"btn_save _keep_trigger\" data-url=\"https://cafe.naver.com/hotellife/1632001\" onclick=\"tCR(\\'a=rvw*t.kep&r=6&i=90000004_011EA92D0018E70100000000&u=javascript\\'); return false;\" aria-pressed=\"false\"><i class=\"spnew ico_save\">문서 저장하기</i></a> <div class=\"api_ly_save _keep_save_layer\"> <a href=\"#\" role=\"button\" class=\"spnew_af item item_save _keep_save\" data-cr-on=\"a=rvw*t.kepon&r=6&i=90000004_011EA92D0018E70100000000&u=javascript\" data-cr-off=\"a=rvw*t.kepoff&r=6&i=90000004_011EA92D0018E70100000000&u=javascript\">Keep에 저장</a> <a href=\"https://keep.naver.com/\" class=\"spnew_af item item_quick\" target=\"_blank\" onClick=\"return goOtherCR(this,\\'a=rvw*t.kephome&r=6&i=90000004_011EA92D0018E70100000000&u=\\'+urlencode(this.href));\">Keep 바로가기</a> </div></div><div class=\"total_sub\"> <a href=\"https://cafe.naver.com/hotellife\" class=\"sub_thumb\" target=\"_blank\" onClick=\"return goOtherCR(this, \\'a=rvw*t.writer&r=6&i=90000004_011EA92D0018E70100000000&u=\\'+urlencode(this.href))\"> <span class=\"thumb\"><img src=\"https://search.pstatic.net/common/?src=http%3A%2F%2Fcafefiles.naver.net%2F20151215_4%2Fvq33dett_1450172560638Hxxqv_PNG%2Fsusasa_logo_920x920.png&type=f54_54\" width=\"20\" height=\"20\" alt=\"\" class=\"\" onError=\"this.src=\\'data:image/gif;base64,R0lGODlhAQABAIAAAAAAAP///yH5BAEAAAAALAAAAAABAAEAAAIBRAA7\\';this.className=\\'bg_npimg\\'\"></span> </a> <span class=\"elss etc_dsc\"> <span class=\"etc_dsc_group\"> <span class=\"etc_dsc_area\"> <i class=\"spnew api_ico_total\">대표</i><span class=\"sub_time sub_txt\">2021.05.24.</span> </span><span class=\"elss etc_dsc_inner\"> <a href=\"https://cafe.naver.com/hotellife\" class=\"sub_txt sub_name\" target=\"_blank\" onClick=\"return goOtherCR(this, \\'a=rvw*t.writer&r=6&i=90000004_011EA92D0018E70100000000&u=\\'+urlencode(this.href))\">[스사사] 스마트컨슈머들의 호텔/항공/VIP카드/여행 이야기</a> </span> </span></span></div></div><a href=\"https://cafe.naver.com/hotellife/1632001\" class=\"api_txt_lines total_tit\" data-recommend=\"1\" target=\"_blank\" onClick=\"return goOtherCR(this, \\'a=rvw*t.link&r=6&i=90000004_011EA92D0018E70100000000&u=\\'+urlencode(this.href))\"><mark>부산 날씨</mark> 마! 직이네~!!</a> <div class=\"total_group\"> <div class=\"total_dsc_wrap\"> <a href=\"https://cafe.naver.com/hotellife/1632001\" class=\"total_dsc\" data-recommend=\"1\" target=\"_blank\" onClick=\"return goOtherCR(this, \\'a=rvw*t.link&r=6&i=90000004_011EA92D0018E70100000000&u=\\'+urlencode(this.href))\"> <div class=\"api_txt_lines dsc_txt\">안녕하세요 최고가입니다 <mark>부산 날씨</mark> 마! 직이네요~!! <mark>부산</mark> 해운대 낮에는 초여름 <mark>날씨</mark>고 미세 먼지 없이 하늘 또한 구름 한점 없이 깨끗하네요 해수욕 즐기는 분들도 계시네요 맑은 하늘과 바다 보니 기분이 아주 좋네요...</div> </a> </div></div></div><a href=\"https://cafe.naver.com/hotellife/1632001\" class=\"thumb_single\" data-recommend=\"1\" target=\"_blank\" onClick=\"return goOtherCR(this, \\'a=rvw*t.link&r=6&i=90000004_011EA92D0018E70100000000&u=\\'+urlencode(this.href))\"> <span class=\"thumb_fix \"><img src=\"https://search.pstatic.net/common/?src=http%3A%2F%2Fcafefiles.naver.net%2FMjAyMTA1MjRfMTI5%2FMDAxNjIxODQyMjc2ODcx.N9bgHmyKU5H5RYpzl5aE26qu0kBqKCRUUGpznsP-Ed4g.xNhcQBMGbp5-mZ8nJL-mNgF6jD3YuHWwbvBAjUVFM34g.JPEG%2FIMG_0229.JPG%231280x1706&type=ff264_180\" width=\"132\" height=\"90\" alt=\"\" class=\"thumb api_get\" onError=\"this.src=\\'data:image/gif;base64,R0lGODlhAQABAIAAAAAAAP///yH5BAEAAAAALAAAAAABAAEAAAIBRAA7\\';this.className=\\'bg_nimg\\';this.width=132;this.alt=\\'이미지준비중\\';\"></span> </a> </div><div class=\"total_comment\"> <div class=\"api_pcpg_wrap _freescroll_wrap\"> <div class=\"api_flicking_wrap list_comment _freescroll_flicking\"> <div class=\"flick_bx\"> <a ondragstart=\"return false\" href=\"https://cafe.naver.com/hotellife/1632001\" class=\"bx_inner\" target=\"_blank\" onclick=\"return goOtherCR(this, \\'a=rvw*t.cmt&r=6&i=90000004_011EA92D0018E70100000000&u=\\'+urlencode(this.href))\"> <div class=\"txt_area\"> <p class=\"txt\"><i class=\"ico_reply\">RE</i>부러워요. 서울은 미세먼지 점점.. 공격해오는 느낌입니다. <mark>부산</mark>최고네요.</p> </div> </a> </div><div class=\"flick_bx\"> <a ondragstart=\"return false\" href=\"https://cafe.naver.com/hotellife/1632001\" class=\"bx_inner\" target=\"_blank\" onclick=\"return goOtherCR(this, \\'a=rvw*t.cmt&r=6&i=90000004_011EA92D0018E70100000000&u=\\'+urlencode(this.href))\"> <div class=\"txt_area\"> <p class=\"txt\"><i class=\"ico_reply\">RE</i>집이 <mark>부산</mark>인데 가지도 못하고 경기도에서 구경만 하고 있네요ㅠㅠ</p> </div> </a> </div><div class=\"flick_bx\"> <a ondragstart=\"return false\" href=\"https://cafe.naver.com/hotellife/1632001\" class=\"bx_inner\" target=\"_blank\" onclick=\"return goOtherCR(this, \\'a=rvw*t.cmt&r=6&i=90000004_011EA92D0018E70100000000&u=\\'+urlencode(this.href))\"> <div class=\"txt_area\"> <p class=\"txt\"><i class=\"ico_reply\">RE</i>아침에 비와서 못놀다가 점심때쯤 나갔다왔어요. 오늘은 레이트 체크아웃도 한시까지가 최대네요. 예약손님이 많대요~</p> </div> </a> </div><div class=\"flick_bx\"> <a ondragstart=\"return false\" href=\"https://cafe.naver.com/hotellife/1632001\" class=\"bx_inner\" target=\"_blank\" onclick=\"return goOtherCR(this, \\'a=rvw*t.cmt&r=6&i=90000004_011EA92D0018E70100000000&u=\\'+urlencode(this.href))\"> <div class=\"txt_area\"> <p class=\"txt\"><i class=\"ico_reply\">RE</i>비오고 햇빛쨍쨍~~미세먼지없이 넘 좋아요 즐거운 여행되셔요~~^^</p> </div> </a> </div><div class=\"flick_bx\"> <a ondragstart=\"return false\" href=\"https://cafe.naver.com/hotellife/1632001\" class=\"bx_inner\" target=\"_blank\" onclick=\"return goOtherCR(this, \\'a=rvw*t.cmt&r=6&i=90000004_011EA92D0018E70100000000&u=\\'+urlencode(this.href))\"> <div class=\"txt_area\"> <p class=\"txt\"><i class=\"ico_reply\">RE</i>사진에 글씨를 편집한건줄 알았는데 창문에 쓰인 글씨인거죠? 정말 <mark>날씨</mark>와 하늘이 예술이네요^^</p> </div> </a> </div></div><div class=\"api_btn_page type_small _page_wrap\"> <div class=\"btn_prev _prev\" style=\"display:none;\" data-move-range=\"640\"><a href=\"javascript:;\" role=\"button\" class=\"btn\" onclick=\"tCR(\\'a=rvw*t.linkfrk\\');\"><i class=\"spnew ico_arr\">이전</i></a></div> <div class=\"btn_next _next\" style=\"display:none;\" data-move-range=\"640\"><a href=\"javascript:;\" role=\"button\" class=\"btn\" onclick=\"tCR(\\'a=rvw*t.linkfrk\\');\"><i class=\"spnew ico_arr\">다음</i></a></div> </div></div></div><div class=\"total_link_area\"> <div class=\"link_inner\"> <a href=\"https://cafe.naver.com/hotellife/1598777\" class=\"link elss\" target=\"_blank\" onclick=\"return goOtherCR(this, \\'a=rvw*t.series&r=6&i=90000004_011EA92D0018653900000000&u=\\'+urlencode(this.href))\">오늘 <mark>부산 날씨</mark>가 넘 좋아요.</a> <a href=\"https://cafe.naver.com/hotellife/1596143\" class=\"link elss\" target=\"_blank\" onclick=\"return goOtherCR(this, \\'a=rvw*t.series&r=6&i=90000004_011EA92D00185AEF00000000&u=\\'+urlencode(this.href))\">오늘<mark>부산날씨</mark>너무 좋아요ㅎㅎ</a> </div></div></li><li class=\"bx _svp_item\" data-cr-rank=\"7\" data-cr-area=\"rvw*p\" data-cr-gdid=\"00055f7ca0_0001e96bac\"> <div class=\"total_wrap api_ani_send\"> <div class=\"total_area\"> <div class=\"total_info\"> <div class=\"api_save_group _keep_wrap\"> <a href=\"#\" role=\"button\" class=\"btn_save _keep_trigger\" data-url=\"https://post.naver.com/viewer/postView.naver?volumeNo=32074668&memberNo=45080544&vType=VERTICAL\" onclick=\"tCR(\\'a=rvw*p.kep&r=7&i=00055f7ca0_0001e96bac&u=javascript\\'); return false;\" aria-pressed=\"false\"><i class=\"spnew ico_save\">문서 저장하기</i></a> <div class=\"api_ly_save _keep_save_layer\"> <a href=\"#\" role=\"button\" class=\"spnew_af item item_save _keep_save\" data-cr-on=\"a=rvw*p.kepon&r=7&i=00055f7ca0_0001e96bac&u=javascript\" data-cr-off=\"a=rvw*p.kepoff&r=7&i=00055f7ca0_0001e96bac&u=javascript\">Keep에 저장</a> <a href=\"https://keep.naver.com/\" class=\"spnew_af item item_quick\" target=\"_blank\" onClick=\"return goOtherCR(this,\\'a=rvw*p.kephome&r=7&i=00055f7ca0_0001e96bac&u=\\'+urlencode(this.href));\">Keep 바로가기</a> </div></div><div class=\"total_sub\"> <a href=\"https://post.naver.com/my.naver?memberNo=45080544\" class=\"sub_thumb\" target=\"_blank\" onClick=\"return goOtherCR(this, \\'a=rvw*p.writer&r=7&i=00055f7ca0_0001e96bac&u=\\'+urlencode(this.href))\"> <span class=\"thumb\"><img src=\"https://search.pstatic.net/common/?src=https%3A%2F%2Fpost-phinf.pstatic.net%2FMjAxOTA0MDdfMjQg%2FMDAxNTU0NjE2NDA0MDI4.zcrbMkpGUzE2nPgWExsJdaBtLvIeG6T_gEbjK1KEZx0g.ecxQPgEOpnzwAJoszfHALlUHxP-2waGE2yL3ENOj4Jcg.JPEG%2Fpost_752123350943065739.jpg&type=f54_54\" width=\"20\" height=\"20\" alt=\"\" class=\"\" onError=\"this.src=\\'data:image/gif;base64,R0lGODlhAQABAIAAAAAAAP///yH5BAEAAAAALAAAAAABAAEAAAIBRAA7\\';this.className=\\'bg_npimg\\'\"></span> </a> <span class=\"elss etc_dsc\"> <span class=\"etc_dsc_group\"> <span class=\"etc_dsc_area\"> <i class=\"spnew api_icon_official2\">공식</i><span class=\"sub_time sub_txt\">3일 전</span> </span><span class=\"elss etc_dsc_inner\"> <a href=\"https://post.naver.com/my.naver?memberNo=45080544\" class=\"sub_txt sub_name\" target=\"_blank\" onClick=\"return goOtherCR(this, \\'a=rvw*p.writer&r=7&i=00055f7ca0_0001e96bac&u=\\'+urlencode(this.href))\">남도일보</a> </span> </span></span></div></div><a href=\"https://post.naver.com/viewer/postView.naver?volumeNo=32074668&memberNo=45080544&vType=VERTICAL\" class=\"api_txt_lines total_tit\" data-recommend=\"1\" target=\"_blank\" onClick=\"return goOtherCR(this, \\'a=rvw*p.link&r=7&i=00055f7ca0_0001e96bac&u=\\'+urlencode(this.href))\">[<mark>날씨</mark>] 8월 첫 주말 <mark>날씨</mark>예보 전국 흐리고 비...사회적 거리두기 3 4단계</a> <div class=\"total_group\"> <div class=\"total_dsc_wrap\"> <a href=\"https://post.naver.com/viewer/postView.naver?volumeNo=32074668&memberNo=45080544&vType=VERTICAL\" class=\"total_dsc\" data-recommend=\"1\" target=\"_blank\" onClick=\"return goOtherCR(this, \\'a=rvw*p.link&r=7&i=00055f7ca0_0001e96bac&u=\\'+urlencode(this.href))\"> <div class=\"api_txt_lines dsc_txt\">대구\\xa0<mark>날씨</mark> : [구름많음, 흐리고 가끔 비] (25∼35) &lt;20, 60&gt;▲ <mark>부산 날씨</mark>\\xa0: [흐리고 한때 비, 구름많고 한때 비 곳] (26∼32) &lt;60, 60&gt;▲ 울산\\xa0<mark>날씨</mark> : [구름많고 한때 비, 구름많고 한때 비] (23∼33) &lt;60, 60&gt;▲ 창원\\xa0<mark>날씨</mark>...</div> </a> </div></div></div><a href=\"https://post.naver.com/viewer/postView.naver?volumeNo=32074668&memberNo=45080544&vType=VERTICAL\" class=\"thumb_single\" data-recommend=\"1\" target=\"_blank\" onClick=\"return goOtherCR(this, \\'a=rvw*p.link&r=7&i=00055f7ca0_0001e96bac&u=\\'+urlencode(this.href))\"> <span class=\"thumb_fix \"><img src=\"https://search.pstatic.net/common/?src=https%3A%2F%2Fpost-phinf.pstatic.net%2FMjAyMTA3MzBfMjM5%2FMDAxNjI3NjE4NTg3MjYx.9N5TJvET3qANg0kSyBDM6pkot9aefBqhRnUWRCgTtiMg.f-0yaTGzqsDbuGTY9gr6HFM30npf78eQljURlQEcMbsg.PNG%2FI8grSr88davd6cZ8wg459UNOTCpo.jpg&type=ff264_180\" width=\"132\" height=\"90\" alt=\"\" class=\"thumb api_get\" onError=\"this.src=\\'data:image/gif;base64,R0lGODlhAQABAIAAAAAAAP///yH5BAEAAAAALAAAAAABAAEAAAIBRAA7\\';this.className=\\'bg_nimg\\';this.width=132;this.alt=\\'이미지준비중\\';\"><span class=\"thumb_count\">4</span></span> </a> </div><div class=\"total_tag_area\"> <a href=\"?where=view&sm=tab_viw.all&query=%EB%82%A0%EC%94%A8%EC%98%88%EB%B3%B4\" class=\"tag\" role=\"button\" onclick=\"return goOtherCR(this, \\'a=rvw*p.usertag&r=7&i=00055f7ca0_0001e96bac&u=\\'+urlencode(this.href))\"><span class=\"txt\">#날씨예보</span></a> <a href=\"?where=view&sm=tab_viw.all&query=%EC%A3%BC%EB%A7%90%EB%82%A0%EC%94%A8\" class=\"tag\" role=\"button\" onclick=\"return goOtherCR(this, \\'a=rvw*p.usertag&r=7&i=00055f7ca0_0001e96bac&u=\\'+urlencode(this.href))\"><span class=\"txt\">#주말날씨</span></a> <a href=\"?where=view&sm=tab_viw.all&query=%EB%82%A0%EC%94%A8\" class=\"tag\" role=\"button\" onclick=\"return goOtherCR(this, \\'a=rvw*p.usertag&r=7&i=00055f7ca0_0001e96bac&u=\\'+urlencode(this.href))\"><span class=\"txt\">#날씨</span></a> <a href=\"?where=view&sm=tab_viw.all&query=%EA%B8%B0%EC%83%81%EC%B2%AD\" class=\"tag\" role=\"button\" onclick=\"return goOtherCR(this, \\'a=rvw*p.usertag&r=7&i=00055f7ca0_0001e96bac&u=\\'+urlencode(this.href))\"><span class=\"txt\">#기상청</span></a> <a href=\"?where=view&sm=tab_viw.all&query=%EA%B8%B0%EC%83%81%ED%8A%B9%EB%B3%B4\" class=\"tag\" role=\"button\" onclick=\"return goOtherCR(this, \\'a=rvw*p.usertag&r=7&i=00055f7ca0_0001e96bac&u=\\'+urlencode(this.href))\"><span class=\"txt\">#기상특보</span></a> <a href=\"?where=view&sm=tab_viw.all&query=%EC%82%AC%ED%9A%8C%EC%A0%81%EA%B1%B0%EB%A6%AC%EB%91%90%EA%B8%B0\" class=\"tag\" role=\"button\" onclick=\"return goOtherCR(this, \\'a=rvw*p.usertag&r=7&i=00055f7ca0_0001e96bac&u=\\'+urlencode(this.href))\"><span class=\"txt\">#사회적거리두기</span></a> <a href=\"?where=view&sm=tab_viw.all&query=%EC%82%AC%ED%9A%8C%EC%A0%81%EA%B1%B0%EB%A6%AC%EB%91%90%EA%B8%B04%EB%8B%A8%EA%B3%84\" class=\"tag\" role=\"button\" onclick=\"return goOtherCR(this, \\'a=rvw*p.usertag&r=7&i=00055f7ca0_0001e96bac&u=\\'+urlencode(this.href))\"><span class=\"txt\">#사회적거리두기4단계</span></a> <a href=\"?where=view&sm=tab_viw.all&query=%EC%82%AC%ED%9A%8C%EC%A0%81%EA%B1%B0%EB%A6%AC%EB%91%90%EA%B8%B01%EB%8B%A8%EA%B3%84\" class=\"tag\" role=\"button\" onclick=\"return goOtherCR(this, \\'a=rvw*p.usertag&r=7&i=00055f7ca0_0001e96bac&u=\\'+urlencode(this.href))\"><span class=\"txt\">#사회적거리두기1단계</span></a> </div></li><li class=\"bx _svp_item\" data-cr-rank=\"8\" data-cr-area=\"rvw*f\" data-cr-gdid=\"90000003_0000000000000033C603CD66\"> <div class=\"total_wrap api_ani_send\"> <div class=\"total_area\"> <div class=\"total_info\"> <div class=\"api_save_group _keep_wrap\"> <a href=\"#\" role=\"button\" class=\"btn_save _keep_trigger\" data-url=\"https://blog.naver.com/ultrabat/222365470054\" onclick=\"tCR(\\'a=rvw*f.kep&r=8&i=90000003_0000000000000033C603CD66&u=javascript\\'); return false;\" aria-pressed=\"false\"><i class=\"spnew ico_save\">문서 저장하기</i></a> <div class=\"api_ly_save _keep_save_layer\"> <a href=\"#\" role=\"button\" class=\"spnew_af item item_save _keep_save\" data-cr-on=\"a=rvw*f.kepon&r=8&i=90000003_0000000000000033C603CD66&u=javascript\" data-cr-off=\"a=rvw*f.kepoff&r=8&i=90000003_0000000000000033C603CD66&u=javascript\">Keep에 저장</a> <a href=\"https://keep.naver.com/\" class=\"spnew_af item item_quick\" target=\"_blank\" onClick=\"return goOtherCR(this,\\'a=rvw*f.kephome&r=8&i=90000003_0000000000000033C603CD66&u=\\'+urlencode(this.href));\">Keep 바로가기</a> </div></div><div class=\"total_sub\"> <a href=\"https://blog.naver.com/ultrabat\" class=\"sub_thumb\" target=\"_blank\" onClick=\"return goOtherCR(this, \\'a=rvw*f.writer&r=8&i=90000003_0000000000000033C603CD66&u=\\'+urlencode(this.href))\"> <span class=\"thumb\"><img src=\"https://search.pstatic.net/common/?src=http%3A%2F%2Fblogpfthumb.phinf.naver.net%2FMjAxOTAyMDZfMTcx%2FMDAxNTQ5NDE1MDk5Njcx.hRg2pfTA6EpytZLvRZflwoqs8j05LxA4BIzWChZ9Esgg.YCxrZY63Jb_fQRGF7REk5kWiQx7oKNXt2tWcLVnMYzQg.JPEG.ultrabat%2F%2525C4%2525B3%2525B8%2525AF%2525C5%2525CD.jpg&type=f54_54\" width=\"20\" height=\"20\" alt=\"\" class=\"\" onError=\"this.src=\\'data:image/gif;base64,R0lGODlhAQABAIAAAAAAAP///yH5BAEAAAAALAAAAAABAAEAAAIBRAA7\\';this.className=\\'bg_npimg\\'\"></span> </a> <span class=\"elss etc_dsc\"> <span class=\"etc_dsc_group\"> <span class=\"etc_dsc_area\"> <span class=\"sub_txt stress\">인플루언서</span><span class=\"sub_time sub_txt\">2021.05.25.</span> </span><span class=\"elss etc_dsc_inner\"> <a href=\"https://blog.naver.com/ultrabat\" class=\"sub_txt sub_name\" target=\"_blank\" onClick=\"return goOtherCR(this, \\'a=rvw*f.writer&r=8&i=90000003_0000000000000033C603CD66&u=\\'+urlencode(this.href))\">Shoot for the Sky!</a> </span> </span></span></div></div><a href=\"https://blog.naver.com/ultrabat/222365470054\" class=\"api_txt_lines total_tit\" data-recommend=\"1\" target=\"_blank\" onClick=\"return goOtherCR(this, \\'a=rvw*f.link&r=8&i=90000003_0000000000000033C603CD66&u=\\'+urlencode(this.href))\"><mark>부산 날씨</mark> 대박적 하루 - 부산 여행 5일 중 첫날 이야기</a> <div class=\"total_group\"> <div class=\"total_dsc_wrap\"> <a href=\"https://blog.naver.com/ultrabat/222365470054\" class=\"total_dsc\" data-recommend=\"1\" target=\"_blank\" onClick=\"return goOtherCR(this, \\'a=rvw*f.link&r=8&i=90000003_0000000000000033C603CD66&u=\\'+urlencode(this.href))\"> <div class=\"api_txt_lines dsc_txt\">그리고 바로 어제가 그 여행의 첫날이었는데 대박적인 <mark>부산 날씨</mark> 덕분에 기분 좋은 하루를 보냈답니다. 이번 부산 여행은 KTX를 이용해서 내려왔답니다. 그 덕분에 일정의 피로도는 많이 경감이 되었는데요. 매번 차를...</div> </a> </div></div></div><a href=\"https://blog.naver.com/ultrabat/222365470054\" class=\"thumb_single\" data-recommend=\"1\" target=\"_blank\" onClick=\"return goOtherCR(this, \\'a=rvw*f.link&r=8&i=90000003_0000000000000033C603CD66&u=\\'+urlencode(this.href))\"> <span class=\"thumb_fix \"><img src=\"https://search.pstatic.net/common/?src=http%3A%2F%2Fblogfiles.naver.net%2FMjAyMTA1MjVfMjQ0%2FMDAxNjIxODgwNDA3NDgz.X6xV4DKISnFmwBZa6PMCh_FJmNjCP0S3bjJdGxgu3qQg.4Jmw32qDbBfQUE16eGHyP8RyaVLmcFXUqni79LStqpog.PNG.ultrabat%2Fqntksdugod.png%23740x740&type=ff264_180\" width=\"132\" height=\"90\" alt=\"\" class=\"thumb api_get\" onError=\"this.src=\\'data:image/gif;base64,R0lGODlhAQABAIAAAAAAAP///yH5BAEAAAAALAAAAAABAAEAAAIBRAA7\\';this.className=\\'bg_nimg\\';this.width=132;this.alt=\\'이미지준비중\\';\"><span class=\"thumb_count\">9</span></span> </a> </div><div class=\"total_tag_area\"> <a href=\"?where=view&sm=tab_viw.all&query=%EB%B6%80%EC%82%B0%EB%82%A0%EC%94%A8\" class=\"tag\" role=\"button\" onclick=\"return goOtherCR(this, \\'a=rvw*f.usertag&r=8&i=90000003_0000000000000033C603CD66&u=\\'+urlencode(this.href))\"><span class=\"txt\">#부산날씨</span></a> <a href=\"?where=view&sm=tab_viw.all&query=%EB%B6%80%EC%82%B0%EC%97%AC%ED%96%89\" class=\"tag\" role=\"button\" onclick=\"return goOtherCR(this, \\'a=rvw*f.usertag&r=8&i=90000003_0000000000000033C603CD66&u=\\'+urlencode(this.href))\"><span class=\"txt\">#부산여행</span></a> <a href=\"?where=view&sm=tab_viw.all&query=4%EB%B0%955%EC%9D%BC\" class=\"tag\" role=\"button\" onclick=\"return goOtherCR(this, \\'a=rvw*f.usertag&r=8&i=90000003_0000000000000033C603CD66&u=\\'+urlencode(this.href))\"><span class=\"txt\">#4박5일</span></a> </div></li></ul><more-button> <div class=\"api_more_wrap\"> <a href=\"?query=%EB%B6%80%EC%82%B0%EB%82%A0%EC%94%A8&nso=&where=view&sm=tab_nmr&mode=normal\" class=\"api_more\" onclick=\"return goOtherCR(this, \\'a=rvw.more&u=\\'+urlencode(this.href));\">VIEW 더보기<i class=\"spnew ico_arr\"></i></a> </div></more-button> </div><div class=\"_panel\" data-index=\"topic1\"><html-api data-url=\"https://s.search.naver.com/p/review/search.naver?rev=44&where=nexearch&api_type=9&query=%EB%B6%80%EC%82%B0%EB%82%A0%EC%94%A8&nso=&nqx_theme=%7B%22theme%22%3A%7B%22main%22%3A%7B%22name%22%3A%22weather_domestic%22%7D%7D%7D&main_q=%EB%B6%80%EC%82%B0%EB%82%A0%EC%94%A8%20%EC%84%9C%EC%9A%B8%EB%82%A0%EC%94%A8&mode=normal&q_material=&ac=0&aq=0&spq=1&st_coll=&topic_r_cat=29&\" data-selector=\\'[\"html\"]\\'></html-api></div> <div class=\"_panel\" data-index=\"topic2\"><html-api data-url=\"https://s.search.naver.com/p/review/search.naver?rev=44&where=nexearch&api_type=9&query=%EB%B6%80%EC%82%B0%EB%82%A0%EC%94%A8&nso=&nqx_theme=%7B%22theme%22%3A%7B%22main%22%3A%7B%22name%22%3A%22weather_domestic%22%7D%7D%7D&main_q=%EB%B6%80%EC%82%B0%EB%82%A0%EC%94%A8%20%ED%94%BC%ED%95%B4&mode=normal&q_material=&ac=0&aq=0&spq=1&st_coll=&topic_r_cat=29&\" data-selector=\\'[\"html\"]\\'></html-api></div> <div class=\"_panel\" data-index=\"topic3\"><html-api data-url=\"https://s.search.naver.com/p/review/search.naver?rev=44&where=nexearch&api_type=9&query=%EB%B6%80%EC%82%B0%EB%82%A0%EC%94%A8&nso=&nqx_theme=%7B%22theme%22%3A%7B%22main%22%3A%7B%22name%22%3A%22weather_domestic%22%7D%7D%7D&main_q=%EB%B6%80%EC%82%B0%EB%82%A0%EC%94%A8%20%EB%AF%B8%EC%84%B8%EB%A8%BC%EC%A7%80&mode=normal&q_material=&ac=0&aq=0&spq=1&st_coll=&topic_r_cat=32&\" data-selector=\\'[\"html\"]\\'></html-api></div> <div class=\"_panel\" data-index=\"topic4\"><html-api data-url=\"https://s.search.naver.com/p/review/search.naver?rev=44&where=nexearch&api_type=9&query=%EB%B6%80%EC%82%B0%EB%82%A0%EC%94%A8&nso=&nqx_theme=%7B%22theme%22%3A%7B%22main%22%3A%7B%22name%22%3A%22weather_domestic%22%7D%7D%7D&main_q=%EB%B6%80%EC%82%B0%EB%82%A0%EC%94%A8&mode=normal&q_material=&ac=0&aq=0&spq=1&st_coll=cafe&topic_r_cat=29&\" data-selector=\\'[\"html\"]\\'></html-api></div> <div class=\"_panel\" data-index=\"topic5\"><html-api data-url=\"https://s.search.naver.com/p/review/search.naver?rev=44&where=nexearch&api_type=9&query=%EB%B6%80%EC%82%B0%EB%82%A0%EC%94%A8&nso=&nqx_theme=%7B%22theme%22%3A%7B%22main%22%3A%7B%22name%22%3A%22weather_domestic%22%7D%7D%7D&main_q=%EB%B6%80%EC%82%B0%EB%82%A0%EC%94%A8%20%EC%9D%BC%EA%B8%B0%EC%98%88%EB%B3%B4&mode=normal&q_material=&ac=0&aq=0&spq=1&st_coll=&topic_r_cat=31&\" data-selector=\\'[\"html\"]\\'></html-api></div> <div class=\"_panel\" data-index=\"topic6\"><html-api data-url=\"https://s.search.naver.com/p/review/search.naver?rev=44&where=nexearch&api_type=9&query=%EB%B6%80%EC%82%B0%EB%82%A0%EC%94%A8&nso=&nqx_theme=%7B%22theme%22%3A%7B%22main%22%3A%7B%22name%22%3A%22weather_domestic%22%7D%7D%7D&main_q=%EB%B6%80%EC%82%B0%EB%82%A0%EC%94%A8%20%EC%A3%BC%EB%A7%90%EB%82%A0%EC%94%A8&mode=normal&q_material=&ac=0&aq=0&spq=1&st_coll=&topic_r_cat=18&\" data-selector=\\'[\"html\"]\\'></html-api></div> </panel-list></div><load-condition-view> <div class=\"review_error _loading\" style=\"display:none;\"> <div class=\"api_error_wrap\"> <div class=\"api_loading\"> <img src=\"https://ssl.pstatic.net/sstatic/search/pc/2016/img/blank.gif\" width=\"100%\" height=\"10\" alt=\"로딩중\" class=\"bg_loading\"> <p class=\"dsc_loading\">정보를 가져오는 중입니다.</p> </div> </div> </div> <div class=\"review_error _no_result\" style=\"display: none;\"> <div class=\"api_error_wrap\"> <i class=\"spnew api_ico_search_big\"></i> <strong class=\"tit_message\">검색결과가 없습니다.</strong> <p class=\"dsc_message\">옵션을 재선택 하시거나 초기화 해보시기 바랍니다.</p> <a href=\"#\" class=\"btn_retry _retry\" onclick=\"tCR(\\'a=rvw.refresh\\'); setTimeout(jq.proxy(location, \\'reload\\'), 100); return false;\"><i class=\"spnew api_ico_retry\"></i>초기화</a> </div> </div> <div class=\"review_error _error\" style=\"display: none;\"> <div class=\"api_error_wrap\"> <i class=\"spnew api_ico_alert_big\"></i> <strong class=\"tit_message\">죄송합니다. 일시적인 오류입니다.</strong> <p class=\"dsc_message\">잠시 후 다시 시도해주십시오.</p> <a href=\"#\" class=\"btn_retry _retry\" onclick=\"tCR(\\'a=rvw.retry\\'); return false;\"><i class=\"spnew api_ico_retry\"></i>재시도</a> </div> </div> </load-condition-view> </div></section><script> (function() { var jsFileURL = \"https://ssl.pstatic.net/sstatic/au/pc/view/naver.search.view.Controller_210518.js\"; var startViewApplication = function () { var $base = jQuery(\"._au_view_collection\"); var oView = new naver.search.view.Controller($base.get(0), { \"isCollection\": true, \"htmlApi\": { \"getHTMLFromResponse\": function(res, targetElement) { var selectorJsonString = targetElement.getAttribute(\"data-selector\"); var selectorList = JSON.parse(selectorJsonString); var html = \"\"; selectorList.forEach(function(propertyName) { html += res[propertyName]; }); return html; } } }).on({ \"moveEnd\": function(we) { }, \"crossDisplay\": function(we) { tCR(\\'a=rvw.crossdisplay\\'); } }); oView.active(); $base.find(\"._svp_content\").show(); $base.find(\"._svp_target\").hide(); $base.find(\"._svp_item\").removeClass(\"video_on\"); }; naver.common.load_js(jsFileURL, startViewApplication, true, 150); })(); </script> <script> (function($) { var requirejs = naver.common.gv.REQUIRE_JS; var startVideoApplication = function () { var $base = $(\"._au_view_collection\"); var require = window.require.config({\"context\": \"search_common_modules\"}); require([\"VideoPlayer\"], function() { var oVideoPlayer = new naver.common.VideoPlayer({ \"$base\": $base, \"template\": \"pc_common\" }); oVideoPlayer.on({ \"triggerClick\": function(e) { var $item = e.$item; tCR(\"a=\" + $item.data(\"cr-area\") + \".trigger&i=\" + $item.data(\"cr-gdid\") + \"&r=\" + $item.data(\"cr-rank\") ); }, \"closeClick\": function(e) { var $item = e.$item; tCR(\"a=\" + $item.data(\"cr-area\") + \".close\"); } }); }); }; var jsFileURL = naver.common.gv.VIDEOPLAYER_JS; var startVideoPlayer = function() { var require = window.require.config({ \"context\": \"search_common_modules\", \"paths\": { \"VideoPlayer\": jsFileURL.replace(/\\\\.js$/, \"\") } }); require([\"VideoPlayer\"], function() { naver.common.VideoPlayer.WEB_PLAYER_JS = naver.common.gv.VIDEO_WEBPLAYER_JS; }); }; var videoPlayerCallback = function () { startVideoPlayer(); startVideoApplication(); }; naver.common.load_js(window.require ? null : requirejs, videoPlayerCallback, true, 50); })(jQuery); </script> <script> (function() { var startPwcApplication = function() { var require = window.require.config({ \"context\": \"pwc-in-view.\", \"paths\": { \"Controller\": \"https://ssl.pstatic.net/sstatic/au/pc/powercontent-in-view/Controller_201028\" } }); define(\"jquery\", [], function() { return jQuery; }); require([\"Controller\"], function(Controller) { var $base = jQuery(\"body\"); new Controller($base); }); }; var requirejs = naver.common.gv.REQUIRE_JS; naver.common.load_js(window.require ? null : requirejs, startPwcApplication, true, 150); })(); </script> <div id=\"place-app-root\" class=\"place-app-root\">\\n      \\n      <div id=\"place-style-loader\"><style id=\"e7d1c6\" type=\"text/css\" data-isomorphic-style=\"true\">:root{--place-color-border1:226,229,232;--place-color-border2:236,240,242;--place-color-border3:234,238,242;--place-color-border4:242,244,246;--place-color-border5:244,246,247;--place-color-border6:0,0,0,.02;--place-color-border7:226,229,232;--place-color-border9:0,0,1,.04;--place-color-border10:227,230,232;--place-color-border11:28,185,65;--place-color-border12:225,225,225;--place-color-border13:222,224,226;--place-color-border14:147,199,250;--place-color-border15:217,218,219;--place-color-border16:203,222,237;--place-color-border17:239,241,242;--place-color-border18:234,235,236;--place-color-border19:222,224,226;--place-color-border20:234,235,236;--place-color-border21:217,218,219;--place-color-border22:156,165,174;--place-color-border23:234,238,242;--place-color-border24:252,244,246;--place-color-border25:234,238,242;--place-color-bg1:233,236,239;--place-color-bg2:255,255,255;--place-color-bg3:248,250,251;--place-color-bg4:244,247,248;--place-color-bg5:250,251,252;--place-color-bg6:223,226,231;--place-color-bg7:0,199,60;--place-color-bg8:248,250,251;--place-color-bg9:0,0,0,.1;--place-color-bg10:243,249,254;--place-color-bg11:245,247,248;--place-color-bg12:159,164,170;--place-color-bg13:194,201,205;--place-color-bg14:201,201,202;--place-color-bg15:158,158,158;--place-color-bg16:233,239,242;--place-color-bg17:165,173,181;--place-color-bg18:255,255,255;--place-color-bg19:255,255,149;--place-color-bg20:252,252,252;--place-color-bg21:255,255,255;--place-color-bg22:252,253,253;--place-color-bg23:248,250,251;--place-color-bg24:248,250,251;--place-color-bg25:244,247,248;--place-color-text1:0,0,0;--place-color-text2:36,36,36;--place-color-text3:66,66,66;--place-color-text4:102,102,102;--place-color-text5:143,143,143;--place-color-text6:51,51,51;--place-color-text8:0,207,91;--place-color-text9:10,190,22;--place-color-text10:255,87,87;--place-color-text11:18,110,205;--place-color-text12:154,154,154;--place-color-text15:144,144,144;--place-color-text16:184,184,184;--place-color-text17:53,62,95;--place-color-link:0,104,195;--place-color-link-pc:12,67,183;--place-color-link-visited:153,32,155;--place-color-bg101:255,255,255;--place-color-bg102:219,223,227;--place-color-bg103:255,255,255;--place-color-bg104:238,244,252;--place-color-bg105:84,84,84;--place-color-bg107:51,51,51;--place-color-bg108:0,0,0;--place-color-bg109:172,174,176;--place-color-bg110:40,57,83;--place-color-bg111:35,31,32;--place-color-bg112:238,244,246;--place-color-bg113:56,56,56;--place-color-bg114:238,244,246;--place-color-bg115:235,251,246;--place-color-text101:145,168,194;--place-color-label-bg:229,249,238;--place-color-ad-text:3,133,255;--place-color-ad-bg:43,152,235;--place-color-ad-label-text:69,108,186;--place-color-ad-label-border:197,212,245;--place-color-zeropay:42,54,148;--place-color-datalab:30,30,30;--place-color-filter-bg:255,255,255;--place-color-profile-bg:199,204,208;--place-color-profile-icon:255,255,255,1}@media(prefers-color-scheme: dark){:root .place_apply_darkmode{--place-color-border1:44,44,47;--place-color-border2:70,70,73;--place-color-border3:79,79,79;--place-color-border4:70,70,73;--place-color-border5:70,70,73;--place-color-border6:0,0,0,.02;--place-color-border7:70,70,73;--place-color-border9:254,254,253,.04;--place-color-border10:79,79,79;--place-color-border11:3,201,91;--place-color-border12:70,70,73;--place-color-border13:70,70,73;--place-color-border14:66,98,123;--place-color-border15:84,84,87;--place-color-border16:84,84,87;--place-color-border17:70,70,73;--place-color-border18:70,70,73;--place-color-border19:70,70,73;--place-color-border20:70,70,73;--place-color-border21:84,84,87;--place-color-border22:84,84,87;--place-color-border23:77,77,80;--place-color-border24:77,77,80;--place-color-border25:72,72,76;--place-color-bg1:48,48,51;--place-color-bg2:57,57,60;--place-color-bg3:61,61,64;--place-color-bg4:65,65,68;--place-color-bg5:65,65,68;--place-color-bg6:165,165,167;--place-color-bg7:3,201,91;--place-color-bg8:57,57,60;--place-color-bg9:153,153,153,.1;--place-color-bg10:45,49,56;--place-color-bg11:65,65,68;--place-color-bg12:165,165,167;--place-color-bg13:65,65,68;--place-color-bg14:98,98,98;--place-color-bg15:98,98,98;--place-color-bg16:63,63,67;--place-color-bg17:72,72,75;--place-color-bg18:65,65,68;--place-color-bg19:66,66,43;--place-color-bg20:72,72,75;--place-color-bg21:72,72,75;--place-color-bg22:56,56,59;--place-color-bg23:65,65,68;--place-color-bg24:53,53,56;--place-color-bg25:63,63,66;--place-color-text1:240,240,242;--place-color-text2:240,240,242;--place-color-text3:218,221,224;--place-color-text4:165,165,167;--place-color-text5:145,145,146;--place-color-text6:218,221,224;--place-color-text8:3,199,90;--place-color-text9:3,201,91;--place-color-text10:238,83,83;--place-color-text11:41,131,225;--place-color-text12:145,145,146;--place-color-text15:145,145,146;--place-color-text16:145,145,146;--place-color-text17:165,165,167;--place-color-link:95,165,248;--place-color-link-pc:95,165,248;--place-color-link-visited:151,119,185;--place-color-bg101:0,0,0;--place-color-bg102:56,56,59;--place-color-bg103:125,127,133;--place-color-bg104:32,32,35;--place-color-bg105:233,236,239;--place-color-bg107:112,117,129;--place-color-bg108:101,101,101;--place-color-bg109:84,86,92;--place-color-bg110:164,179,196;--place-color-bg111:255,255,255;--place-color-bg112:48,48,51;--place-color-bg113:77,80,87;--place-color-bg114:56,56,59;--place-color-bg115:60,66,65;--place-color-text101:155,178,204;--place-color-label-bg:77,77,81;--place-color-ad-text:130,196,255;--place-color-ad-bg:255,255,255;--place-color-ad-label-text:218,218,219;--place-color-ad-label-border:104,104,104;--place-color-zeropay:255,255,255;--place-color-datalab:255,255,255;--place-color-filter-bg:53,53,56;--place-color-profile-bg:65,65,68;--place-color-profile-icon:169,175,185,.24}}.place-app-root,.place-modal-root{word-break:break-all;font-size:1.6rem;line-height:2rem}.place-app-root img,.place-app-root svg,.place-modal-root img,.place-modal-root svg{display:inline-block;vertical-align:top}.place-app-root input,.place-app-root select,.place-app-root button,.place-modal-root input,.place-modal-root select,.place-modal-root button{border-radius:0;-webkit-appearance:none}.place-app-root button,.place-modal-root button{padding:0;border:0;background:none}.place-app-root mark,.place-modal-root mark{background:none;font-weight:700;color:inherit}.place-app-root button,.place-app-root [role=button],.place-modal-root button,.place-modal-root [role=button]{cursor:pointer}.place-app-root *[role=button],.place-modal-root *[role=button]{cursor:pointer}.place_thumb{display:block;position:relative;width:100%}.place_thumb::before{position:absolute;top:0;right:0;bottom:0;left:0;z-index:10;border:1px solid rgba(0,0,0,.06);content:\"\"}.place_thumb_count{display:block;position:absolute;right:0;bottom:0;z-index:20;min-width:24px;height:24px;padding:0 2px;border:1px solid rgba(7,7,7,.1);background:rgba(0,0,0,.3);box-sizing:border-box;font-size:1.4rem;color:#fff;line-height:2.2rem;text-align:center;text-shadow:0 1px 1px rgba(0,0,0,.4)}.place_thumb_count em{overflow:hidden;position:absolute;width:1px;height:1px;margin:-1px;padding:0;border:0;clip:rect(0, 0, 0, 0)}.place_thumb_more{position:absolute;right:0;bottom:0;z-index:20;width:27px;height:27px;background:rgba(0,0,0,.5)}.place_thumb_more::before{position:absolute;top:50%;left:50%;transform:translate(-50%, -50%);width:16px;height:16px;background:url(data:image/png;base64,iVBORw0KGgoAAAANSUhEUgAAACAAAAAgCAYAAABzenr0AAAAAXNSR0IArs4c6QAABBlJREFUWAm1V01LlFEUnnFsZhxnSm1GwxDcVOugRRBJbYIiJlqKDYUbd2Krtsb8BWtRIbhIVxIEmrSJQKWVgroZRAY/RiwH81vnZT56ntf3DPf9mBkd88Dxfp17znOfc+47V7frRNxoapS+0T13UzA85NFK3+SUgam1UC/UY4zR/Bdh0BxUg2ahNhAMzJN7C4XCPtoLEbfbHYRjskAwJhHaCeQipaR/LjAFRQHa6xgcQ21oi0aVO0ylH6ymFFNJtykNTsgY/AB6XgBKbP2QBEDGCUBULz7VkH0GFjWhtRpiLOxJq9qrB2DgS8Z+2nCNRZmXGjDWTI3qzLRgGZBu3qByt8izsbHRc3R0NHZ8fDy2srLyGPb6jSsHwBLHNtQp7erqChweHn6Afurr62O1O/l0+/3+W9AHPp/vocfjaVPtWAdXUDC6sA9Va0NyR8dCNbp6v3ZpaemJ7E0mk88wT6qtPsPd3d2t6+vrcdouLy/3wsYPrXFCi3ldJHBtf39/sL293YniwsDAwK9MJjMB/T40NDSFnU6pyw8ODu7ncjkWt02saIUBgvPFYrFm5O3H3t7e53A4HMIcTyhsECTHddB6qA9Kf5xTWW3EOJhKpd5YGcC8ja4GzPG0enDk9qdQvLOzM9zU1HTZWBcQbGlfPz8/fwctwRBIg+xD/0wAaBzo7OxskeDZbDadz+cP6NACgpXM04a2trYGsKwtLi6+wJggr1YLoDkajbZKcOTt98jIyP3p6ennKojGxkamKsBg6XT6nQQjiLm5uVeYb5U59E/PQEdHxw01+Pj4+F044PUKzszMRAXE9vb2SCQSuaYE18DONyOoNjk52VMVgN3d3Slu5MmN4MwpC4saUEGgOBMScGFh4SXWIyqgswAoFoxDcP2LBeeseBsI2GuJRCKGNbJEsNaU8FpWTEERAAruj3JyCQ4fuhRBoOKfIh1/jaJjLRAcbwSL8vLm5ub7szBQvLOjo6P34IAOrcExpQtBcM03PDzcwtYYc55CEJwLVwUAG5ugvNfiEF2bcI2BCIStass+WSiyin7JFJA2J6ETOj+NqMHFnqCoFcUJAH8kKOrv+cnM6f8SvPgpu4sATD8eyFuq7I7qFk0xVBdCE18nFylk0xEEGeBzWTOezqSOOaUSHNfZ0kHJfy6wVkoYlIejenBtbfVC52Ikj1H+ZlMz+LS+1TRtIh6P82YQRDXKoDyIF19XYRzDE7EhwrSc3oc33Bc8ox7hLfAVtXEom6ppsd/t9Xpv1tXV3V5bW+tta2v7CD8akVmFjOiKtLB1hUKhqNXoPGMAKabUCQB962mZnZ19jT7pd4E+Nx6TOiCOzyqynz5WV1eT2E8Qpi+Y1aekQvLmlC7rnkpjOQALWi/qSk4rrVcKWGpdgLj+ATmPA0yWJNGtAAAAAElFTkSuQmCC) no-repeat 0 0;background-size:16px;content:\"\"}.place_thumb_event{position:absolute;top:0;right:0}.place_thumb_top_left_label{position:absolute;top:0;left:0;z-index:20}.place_thumb_top_left_label .place_icon_new_opening{width:46px;height:20px}.place_thumb_icon_video{position:absolute;bottom:3px;left:5px;z-index:20}.place_thumb_icon_video::before{display:inline-block;width:28px;height:32px;background:url(data:image/png;base64,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) no-repeat 0 0;background-size:28px 32px;vertical-align:top;content:\"\"}.place_thumb_icon_view360{position:absolute;bottom:10px;left:10px;z-index:20}.place_thumb_icon_view360::before{display:inline-block;width:41px;height:28px;background:url(data:image/png;base64,iVBORw0KGgoAAAANSUhEUgAAAFIAAAA4CAYAAABuQ6+nAAAAAXNSR0IArs4c6QAAFYlJREFUeAHlmgl0lUWahkF2ZFV2EG5IgEBEE1kVpDVAi4CIDjqttjoHnLEV28FlnBmnFXHDA3pGdMAFd0VAxgUVFXdRg7YeEUVQEJBFUERA9hAS5n3+3Pda9ycJCN3qGeucN7V99dVXb321/HVTudJvO1RODt9xyMaeIBOmg+Ifk1V/TP6mUhBn8uKxiTB5jikP05aL4t8ikSbR8SFiwmmTA2FGiQuTcZlk/taINGHEEBgH5SGBkEgZsdM/G5F0THBcmiv7r41ybCm3dexyx3F5l5cn73piZCCwShI4E2l7ppIRacWKdwvEDuWS+bfySA8gjEkbNoQYEkyE08i5LNSBvPOkCciF8lFhssyyxE5bbyhnIqup0DCZyJtE5IoEysrrV1WlsxAlDuKPjXaMQUwQsJHVlTZcZo+wJ7g9MWUebKgvbGMZx66zfsf0S9o2OaaMuhpPPPFEj82bN88oLi5esHPnzje++OKLS5o2bVo7WY88ukP7lE0PVB5MCJWbAA+I2IMkJjCr3m+YdYMy6gjWE7alzF7h9s7TxrLu23nq3Kdj2xwR+fDDD+ede+65T1euXBnCUmHNmjUPtGzZcrQKdgqFAp7JUnf/Sv4Y6Phggo3CcHRhjD2hhtKGvdHegKzbhrH1UG89xPYK6kN50u7XfcT7DNsja3l0Vr///vuvr127dnt54srnnnvuprp16xbWq1evveKjFy9e/MiCBQu2SY4J92SHE6ji0oBhBxrCAaEHmEgGU1OoJdROJBINTz755GZK1xEOpUygDpn40mPg0ZJL1iNXnqz7szxy6K/TqlWrBqeeempL0sky94lt7rNKrVq1MpSv9OWXX75y+umnv33ttdfeR17hkNNOOy2h2OOk7G8WrJQY4uw5EILBhwnNhcTTTz997jfffDOrqKjo+z179pQIe3bv3r19y5Ytn3/wwQc35uXlHY1cUr6R4oZJkEZHmxEjRnTfunXrR9u2bftsx44d7F+frlu3bqLqGgv0BUi3EDL69+/fdeHChZMk+7W6K6ZP7XuFmzZt+vCll14aJZmOQjuhrZAptJe+55GT7m/feuutscq/Sb6kpGS3Jr+TZJoI9QQmiUlm3AcUTB4KTJ6XB4qZYWa7vtCkZs2abVasWDEZYyoKGuzq4cOH91abDAHPwWNBK4GBZn/77bezQx0iZcvNN998rOogrqmQkr/qqqv6b9++fXkoH09/9dVXM6pXr34UuoUOxGPGjBkkvdvjskuXLr1d9UcITGxdAWdhBRwQkfY8ExhfSiiHRDqKvFEG3Bw3qry8vHNhw4YNj1RbiGsjJIQsIUf71b/F27333nvXqA6PQhbCWwuZ7dq1y8XT4/Jl5T/66KMJagOZOQIel3PdddcN1qS9pMld+cMPP3z4/vvvX6VybGLCGBfbBQ5zQESaRC9f9hUTF+1DykMgbt9AaNSnT58MLd/vwgEov2PJkiWzX3jhhUnyiHfDOtLTp0//k9qy5CIPUXzUSSed1K+wsHBDKKuBFqiui8DgIZuBEnd69dVXrw5llS5Rn6+9++67j2pZLw3rZM/WDh069FI7thYmEUKB017+TBJez9hwFsYPFzjVfgUINInMgAmEPEhjL2OWDo+hyZAhQ7K0/12opX3Xhg0bCrQ/bnz++edvlFw/YaBwijb1OeHA5s6de5vKcwW8JE/oofYvhzK7du3aooNjmOp6CshCJgOGgDztawWh/Mcff/y/Kh8AdNCdKk9bH9Y/++yz/6U6JoU+TSC60JstMEEs6/0mMs4uBBJMJPUmE9fGIwEbb81rrrmm1fXXX4/7M1OVZODWbt26zWrTps34ww47bES1atXyBw8ePEtVvj5UWrt27WpkHbSUdirtyar5yCOP5Ldu3bq/64nltZNnzpy5JSlnO6L4lFNOadaoUaMeltchUXTxxRdPVX430CrY9s4770x3PXH37t1PVuR9voquOCMmTpwIoYzXsPc5bweTSMQPcSogFA9xEn2gQB4ufugVV1yRoRN5nDbqv5544okYEBGpmLsWA9gVgHxE5HnnnddCp3W+8lGQlxSLpAXKQGT1Ll26HHbGGWdcWVpb+ldLfHNOTk5HLdPzH3rooRN69+7NKZ2azEGDBnXUZTo1Du2VqwoKCjZIpiiJ3W+++eb8Um2lf+vXr99BKRwEu6vo4t1L5E/TJI+74IILOPgie5Ix47dsWaSqOj2YQHsgpLE/cPyzX7TTwdB53rx548NTTvvTH1VH58hxwjFQTlPadFi0aNE98rqFusJwJUkLWtaPSqavcCKxri7PpQmUkdEy3zRlypTrJM+E9J0xY8YtoZg88A2VHy8cJ3DC98rIyPh9KIPXVq1aFRk8udv333//V9drD902Z86c61XOsm8vMA7Gxq0ETiCZCYBUOIsCGQIFBmWQyUzQKPLESy+9NFN71xO5ublXHnLIIZRFQR2HCrn145UALywW+S31pdBRXw9sAVGQ4UsnTZp0w7HHHssSjPo6//zzE9nZ2Sy5CoO2i/pnn3326Mcff3yABGs2aNCAiUsF2bNdmVT/ShcvX758B0RZiM/B448/vp7yHrOrKlWpUqW26q7RipugbQrHYKysALYSOAlJ3ItI1UdKIQVBe2W0hMaOHdt53Lhxj+qzKRvBgw2HH3545plnnvmHESNGJKQrIvKSSy4ZqAHSdyrosNqh5bZIHv11qjCZ0FfIhdomOPQYXCrI20yYY+o8wSk5TSx9UR7Kper1aHHCa6+99qC2oyNUCJkQiWNhr8lUMuKNOAr2QoTrCJzIrYT248eP/4NmeYtd37EMLtSyvVOD4aQrb2m3nzVr1r9qO7h3/vz5U0XKR25PrP1vi2b9HLUfomvKirDuu+++W6ZD4QLVnSEMe/LJJ+8O60k/+OCDdzz22GMTw/Jly5a9KnmWLcsaHKeJyw9llC6WU/RSXVchT/fIYbpevRWTibK65K8eOnToCZJjmTPO8F4ZEpryRGYW5tkXmwuZ+fn5x/EFEu9A+91XN9xwwzDJ4KFtkvLsI4D9kVnMFCD5GAGj+woDXn/99YdDfW+//fZ0lQ/F+8Ly22677WaV0wf4B6AtYXkoowNoplbKTWGZZBZK9kShTxK/00HyT6EMd1TVdRN8l+TAzH3mmWf+Q3bs5TQbN26cp5sE1yXGxPjYL+EKzqKtjT8E7xUwHC01xTXuu+++UfrkYxZSQUoX6ht0uK4+i1TI6cypzJ5EQB/Kq2lvrKUBtE7m0Rt1OHXq1PeVTgVdlTK1L1UWWDapoGesTcqgF0RLUJP6Q0pACfVRr6CgYHVYphM50axZMw8SW6rKITqEMnKEFcoXCdhfKHAFK5TnvTR69OgL9d39vfKpoH0498UXXxypAmwE6GVM5k3J0gFCHvshTMN41uWXXz5Yyzf68PdsyoA1vXr16q96ZjJLYPnjhY2I77jjju6rVq2aoEfSd3WybxUKtcfgUfnCScJALce0U/brr7+ep/LBepxY636IdaI/qfKhRr9+/YbLW9K+iXU/nKb6U7QNfBG21U3iHpXT30k1atQYoG1jWVivdmNVx2ppK7B6GEdCYIUdo7vxBbJ9V9iGQyy5xO2VHFZwBncQmvIiZpGvFpRma/9LW4Iovf322y9RXVfqBQyARPYM2jWWAXlcLUIDNIiFDzzwwF+uvvrqP+tF6L812xvDeu2fT6htf+KwXHpKdFF+YfLkyWN1GZ8UJ1qyJbrP/om2r7zySto+CeEvv/zy3XfddddofUm9EdNbpC+wPmqHI7DaGAMnP9tZhsAy76mvo6lhO9KfffbZfapj7LRjzHAGkay2FJF8AnLIsBxz5FWLQ0Xaez5TeS8Bb2Qm8VyUMTN4Mm1brF+//pmwXUVpDXizLsD/qHa9O3bs2F9kfVWRfFj3ySefPKp22HOcLukDtO+lfQaGsmFaK2aG2rDUcQQI5Eyw/RBEXVd9GAwL25HmPqw6PiXhiPHWFljmexHJEk0IneXKaZu/DMdzegrMGAcMRkAiE1BHgNRmffv27aRJmBs3Ip7Hc/WlcpHacBjlEev0PJN3wbhsPK873hvaC1kZTCrIvffee4fL5q1x2TCv1TFP9+BcyWN/UwESsR2QxjlYutjTR5f/NH3Kb1R5Z4H2cMXY04hkA6XQRB6lPSKNSD1GPKx6iPSMIFtXYFYApFLWkiuRiB/Ls1Q4ENIicJe84im9RA+SbEehvdAuGXfUOLtpW7lb3pq2BahpsTz2C52sIyXbKSnP8mTgtM/WTWKI9kseZtP2dunapB+0Jrdt2xYSEoJXEwSyPLEfr4TckMjN2OwQEJmQXBqRlVWAW1YRIBOlEFpX96fZeoZPfY1o8HN0BfhP1W0VtgjbBE68IoGAHvYL9ETQI2p1HTbN9AXTUhfgmtp3VssL1+jORrvdSfhUxhbsAOipetZZZzUeOHBgW20rW7XPLtXkbFc5/cXbegx4R9Vhw4Y10uHUpnHjxnW1R67T7zLL9fsL9nJKG9bDjSAcP+TWVd+Z+nqarnQq6Dt+ib7STlfBZgF9OwX0FYdEYgSnUESkrh8Tmjdv3k/5KLAUdWqdoQfXVSqAzFARZBBMZkSE8sQYST8Ao4tjcNs4kegCboccbU0i6fLa0icghH2aPHTQnjr0Y2cNAc+MlrpuDf/cs2fPEcqngiZluh6Rx6jAjgSRkS4MJaAQpIz99NNPX6fCQd/X1fTUNEp5vA3CAZ2TN1noQDGzRCc7BAjHk4idppx6PBNZBhjCXkO99dDGCNsiYznLhv3Rp9u5L08AduNAjIGxRDjnnHOO0BfXH5VPBS3vEnnoDBV4EtBh3lKeYk9CYbS8tSzq65FiVri80frhhx8+oE7uURJjTQgGugOUOzDbYXDHYYwMYFAh3BaDQVme7L6swx7s2Drcn9SkvBAZEwmBjLuWXvmb6l31juRTm4pKg16Vns3IyLhaOVajx24PL0GZA51hMIQUadPeodftsa503LVr1+F67rpCewVLgG0AYAQeykSwTKw3JAC9Ibw06ZcBe2DeDhgkZSEZJjUem+RQf5hGnoAu9OOFJo/lzBhqaz9urq1rUpxE3QY26+31fyRjj4ZA2+DJTA2CDiCD07eJkBBydAm936dWGOunhIX6TDxbMlwVOEUzhdZCc6GxwEWdkxB9kI7BJpxB0Bd56rh6NNFhcqF+PBuj36TbKd9WyBCOENDZSEAfg/akQQh2mxwvUev2nocN9IFNjK2F0Eagnxyhy5QpU67ULWNdOEbSur3s5GolmWwBW7ADmxkD/TLZqcBM4QEYQufcCTEecjrrh6Rp8Q7I6wAqFtGPde7cuY/kjhY6ClkCRrYUmgp0zAAYiEnFEECeOuRa64Uo+hFLN4YletXB+CMFBgCprQRIwDbaeSUwGQa2U27dJo+JbSagIyGYwFz9E8CAlStXpv3s67FqfLv1NXaF5Dsl22Enk0l/TCKcwV0qkIFZGIZpDGGAkJHFb8G6PjzuDuIxryk65SbolDtB8rkCBHQQmIiEwEziBRjCoCCXmDx9ZAjZBQUFY0LdunLN1iPuQNWhk0kyobTjywJSIQuQxmbKTRx90ndCYIKZFGzL0+flMJ3CM3kPCPt0mpd4XdX+RbKQiH1MBP0wWTgcJMJZZSEtUEAlTLM0uGxjFAOFkCO1Cf+7Lrdpt313TMyH/bJly2bq3jZSe2g3tYEADIeE9gJ6MCqRBMRQjkxXPTakPWigU/1t13PZpCZNmvSSDPrQhR68Hg/DPkAa0iinD4hDN/JcxHN1n/2d9sC/rF279m2pjv77gz7iQZ+Ciy666KJBybYJxZDIROHt4ZKGs70ChTBcFpnMLIPudNlll/Ha8n6883heM7pBJ92LelC4Ua/fQ9X2GAEijhIgDpCmvKdwgh4nbo/rcV6X4RW6fl0muR5CngA5eAteZkBajoDeXP0s0XXUqFGn619RbtFHwHt8VVlfWTH7oW4lE/Rshn5WFJOC9++TxDij5A2TynLHlQGzgbfWeOqpp34/YMCAUboe4Q37DDwqaKaX6pBaqiW7VPvhcj1nrZ89e/YWfV8zeTX1f4qD9FhwUUXKNDlz9O8pd+pHrzWSKxZKRFgl2dKwR48ejfWJmcjMzOyk61s2p69+5MKL9hVKVq9e/fItt9yiuZq4XMKFAXYpXSTsFuhvTwzKlh3K8kyMaSCw2bOEWFqd9HtyF3ncaL1TLi9rhvenjANLh8sGeTkkr9qfNjyo6IB4R5+OC9R27b48rTydalekSX1Rz39najx4OF6YEFiBbGscauyJ4XLGweAoLexVkKylPAQeA/BO9lBgL60uj6ihffG4/Pz8oXqd7q3Xbrz2Vxu0TejsXDxbP1M8q1XwrQzF6+x5jvFCPDDyesXcG/FGguPSnP6WRyQCJpI0s2DECTWxUaxv0dq6vHbXj/3HitQu+pEpK/wBH2U/d5AHb5O3z9cpPXfatGlv3XnnnStlA0sVsuKg3Ms4vHR7Sat671ARkUi73qQSQ2jooXipAZlORzLas+qMHDkyR3fNTiI2S7+zZB566KFHyGv3Z++Sup8WtFx36rltuZb9Yv2M8XlBQcGnmtjPtQXYw0yUiQzz9kDvhRBJqJBEBEwU6YqCiUTGZBKb0DCGSPKOSZv8lFfrc+xw/btLa/34xT8QNBEaK31kixYtOInLDdrvSvSwO08H1Hp9iWzS/rxBD7br9UW0Sr9IrtTDwjo1tid5WRLby8J0WOY2xCbOS9hxuXbtL5FWECfUpJogExYnL55Hzp7LRg5q6bfrIfrh/8/uLB7rv87m63f2CbfeeuvnqsPDTERIgtMhiZSRN5y3LHFInolzrOqKA4P5KcGdeQKcxxCTHJJaFtGuN5EmpERXKa4dewW+gfWPBpN0NZqtSmQ4ELwkTZhJwSanK4ot5zGoWeoQoewnhZ9KpJW7c4gibWKJQ1LJGxAYpvFS9lQTWay9c6fyqaD9rlAPGVP17y0P6nt/sypMookMSbRN9L+vNPUEyzkdFR7InwMl0n2FBlEGUYQwjqdNJkSmLU0RmfJIfYm8oUPiNv2kukpykG0SSYOySIwT43zcznhe6g4uHCyR8d7jBoYkWtZEetnRJvKiOnXq6AOocIm+uW/SP6jOTZZDmMmLeyJtQygb5cM4TNs+yv5fBMj00ubyXkdoOGHChCOzsrJaKd0iCR4LeMnhVSf8yvA1Cx3ecz1BnjxV/XzhF+lUwwsHDREQYngvhQV7rZexY3uWvRHZXzT8UkQyaAgjmDhip6MK/YEok2nSwthyv3j8SxJpr4QEp+P2QBohTp7LS2t/BX/jhv/cJrn/eIwdIVlOO/657dxnfx7APgX/zgIV2fGrJe/vzMlvU/3/ARBbVJPFegzyAAAAAElFTkSuQmCC) no-repeat 0 0;background-size:41px 28px;vertical-align:top;content:\"\"}.place_thumb_running_time{position:absolute;right:0;bottom:0;z-index:20;padding:0 4px;background:rgba(0,0,0,.3);font-size:1.4rem;color:#fff;line-height:2.4rem;text-shadow:0 1px 1px 0 rgba(0,0,0,.4)}.place_thumb_streetview{position:absolute;bottom:6px;left:9px;z-index:20}.place_thumb_streetview::before{display:inline-block;width:21px;height:24px;background:url(\"data:image/png;base64,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\") no-repeat 0 0;background-size:21px 24px;vertical-align:top;content:\"\"}.place_thumb_top_left_label{position:absolute;top:0;left:0;z-index:20}.place_thumb_top_left_label .place_icon_popular_style{width:65px;height:20px}.place_blind{overflow:hidden;position:absolute;width:1px;height:1px;margin:-1px;padding:0;border:0;clip:rect(0, 0, 0, 0)}.place_label_bg{fill:#e5f9ee;fill:rgba(var(--place-color-label-bg), 1)}.place_icon_face_border{fill:#b8b8b8;fill:rgba(var(--place-color-text16), 1)}.place_icon_facility_border{fill:#666;fill:rgba(var(--place-color-text4), 1)}.place_icon_100years{fill:#231f20;fill:rgba(var(--place-color-bg111), 1)}.place_icon_zeropay{fill:#2a3694;fill:rgba(var(--place-color-zeropay), 1)}.place_icon_datalab{fill:#1e1e1e;fill:rgba(var(--place-color-datalab), 1)}.place_ad_label_border{fill:#c5d4f5;fill:rgba(var(--place-color-ad-label-border), 1)}.place_ad_label_text{fill:#456cba;fill:rgba(var(--place-color-ad-label-text), 1)}.place_profile_bg{fill:#c7ccd0;fill:rgba(var(--place-color-profile-bg), 1)}.place_profile_icon{fill:#fff;fill:rgba(var(--place-color-profile-icon))}</style><style id=\"538bd0\" type=\"text/css\" data-isomorphic-style=\"true\">._3okJt{position:relative;background:#ececec}._3okJt:first-child::before{display:none}._3okJt::before,._3okJt::after{position:absolute;right:0;left:0;z-index:50;height:1px;background:rgba(0,0,0,.05);content:\"\"}._3okJt::before{top:0}._3okJt::after{bottom:0}._3okJt ._3Gpfh{position:absolute;top:14px;right:14px;padding:9px 8px 7px 10px;border:solid 1px rgba(0,0,0,.1);border-radius:2px;background:rgba(255,255,255,.95);background:rgba(var(--place-color-bg2), 0.95);background-clip:padding-box;box-sizing:border-box;font-size:1.2rem;color:#242424;color:rgba(var(--place-color-text2), 1);line-height:1.5rem}._3okJt ._3Gpfh:hover{text-decoration:none}._3okJt ._3Gpfh ._3-HEM{fill:#333;fill:rgba(var(--place-color-text6), 1);width:13px;height:13px;margin:1px 0 0 7px}._3okJt ._2dy2c{position:absolute;right:14px;bottom:14px}._3okJt ._2dy2c ._1OJjY,._3okJt ._2dy2c ._3EOxi{display:block;position:relative;width:35px;height:35px;border:1px solid rgba(0,0,0,.1);background:rgba(255,255,255,.95);background:rgba(var(--place-color-bg2), 0.95);background-clip:padding-box}._3okJt ._2dy2c ._1OJjY ._3-HEM::before,._3okJt ._2dy2c ._3EOxi ._3-HEM::before,._3okJt ._2dy2c ._1OJjY ._3-HEM::after,._3okJt ._2dy2c ._3EOxi ._3-HEM::after{position:absolute;top:50%;left:50%;transform:translate(-50%, -50%);display:block;background:#242424;background:rgba(var(--place-color-text2), 1);content:\"\"}._3okJt ._2dy2c ._3EOxi{border-radius:2px 2px 0 0}._3okJt ._2dy2c ._3EOxi ._3-HEM::before{width:15px;height:1px}._3okJt ._2dy2c ._3EOxi ._3-HEM::after{width:1px;height:15px}._3okJt ._2dy2c ._1OJjY{border-top:0;border-radius:0 0 2px 2px}._3okJt ._2dy2c ._1OJjY::before{display:block;position:absolute;top:-1px;right:0;left:0;height:1px;background:#e2e5e8;background:rgba(var(--place-color-border1), 1);content:\"\"}._3okJt ._2dy2c ._1OJjY ._3-HEM::before{width:15px;height:1px}</style><style id=\"c810ca\" type=\"text/css\" data-isomorphic-style=\"true\">.sc_new._1hPYK .api_title_area .api_sub_link._1hPYK .item+.item::before{margin:0 7px}.sc_new._1hPYK .api_title_area .ly_api_info{display:block}.sc_new._1hPYK .api_title_area .ly_api_info .dsc._1sTQX{overflow:hidden}.sc_new._1hPYK .api_title_area .ly_api_info .dsc._1sTQX dt{float:left;margin-right:8px;font-weight:bold}.sc_new._1hPYK .api_title_area .ly_api_info .dsc._1sTQX dt~dt{clear:both}.sc_new._1hPYK .api_title_area .ly_api_info .dsc._1sTQX dd{overflow:hidden}</style><style id=\"58a15d\" type=\"text/css\" data-isomorphic-style=\"true\">._2iQyi{position:relative;background:#ececec}._2iQyi:first-child::before{display:none}._2iQyi::before,._2iQyi::after{position:absolute;right:0;left:0;height:1px;background:rgba(0,0,0,.05);content:\"\"}._2iQyi::before{top:0}._2iQyi::after{bottom:0}._2iQyi .MmzhC{position:absolute;top:14px;right:14px;padding:9px 8px 7px 10px;border:solid 1px rgba(0,0,0,.1);border-radius:2px;background:rgba(255,255,255,.95);background:rgba(var(--place-color-bg2), 0.95);background-clip:padding-box;box-sizing:border-box;font-size:1.2rem;color:#242424;color:rgba(var(--place-color-text2), 1);line-height:1.5rem}._2iQyi .MmzhC:hover{text-decoration:none}._2iQyi .MmzhC ._2IncG{fill:#333;fill:rgba(var(--place-color-text6), 1);width:13px;height:13px;margin:1px 0 0 7px}._2iQyi ._2IP74{position:absolute;right:14px;bottom:14px}._2iQyi ._2IP74 ._1icuD,._2iQyi ._2IP74 ._2L1KX{display:block;position:relative;width:35px;height:35px;border:1px solid rgba(0,0,0,.1);background:rgba(255,255,255,.95);background:rgba(var(--place-color-bg2), 0.95);background-clip:padding-box}._2iQyi ._2IP74 ._1icuD ._2IncG::before,._2iQyi ._2IP74 ._2L1KX ._2IncG::before,._2iQyi ._2IP74 ._1icuD ._2IncG::after,._2iQyi ._2IP74 ._2L1KX ._2IncG::after{position:absolute;top:50%;left:50%;transform:translate(-50%, -50%);display:block;background:#242424;background:rgba(var(--place-color-text2), 1);content:\"\"}._2iQyi ._2IP74 ._2L1KX{border-radius:2px 2px 0 0}._2iQyi ._2IP74 ._2L1KX ._2IncG::before{width:15px;height:1px}._2iQyi ._2IP74 ._2L1KX ._2IncG::after{width:1px;height:15px}._2iQyi ._2IP74 ._1icuD{border-top:0;border-radius:0 0 2px 2px}._2iQyi ._2IP74 ._1icuD::before{display:block;position:absolute;top:-1px;right:0;left:0;height:1px;background:#e2e5e8;background:rgba(var(--place-color-border1), 1);content:\"\"}._2iQyi ._2IP74 ._1icuD ._2IncG::before{width:15px;height:1px}</style><style id=\"c0c766\" type=\"text/css\" data-isomorphic-style=\"true\">._1SV-R{display:flex;align-items:center;justify-content:center}._1SV-R ._2cu7P{display:inline-block;opacity:0;background:#00c73c;background:rgba(var(--place-color-bg7), 1);animation:_2ammi .5s cubic-bezier(0.22, 0.61, 0.36, 1) infinite alternate}._1SV-R ._2cu7P+._2cu7P{animation-delay:.2s}._1SV-R ._2cu7P+._2cu7P+._2cu7P{animation-delay:.4s}._1SV-R._1Q6j_{position:fixed;top:0;right:0;bottom:0;left:0;z-index:7000;background:rgba(255,255,255,.6)}@keyframes _2ammi{0%{opacity:0;transform:scale(0)}100%{opacity:1;transform:scale(1)}}</style><style id=\"3d5a09\" type=\"text/css\" data-isomorphic-style=\"true\">._3smbt{display:flex;flex-wrap:wrap}</style><style id=\"ca1fb7\" type=\"text/css\" data-isomorphic-style=\"true\">._3aXCL{display:flex;flex-wrap:wrap}._2u3bt{padding:4px 0;border-top:1px solid #f3f3f4}._2u3bt._1zTER{border-top:0}</style><style id=\"3d5aa3\" type=\"text/css\" data-isomorphic-style=\"true\">._22p-O{position:relative;padding:18px 18px 20px}._22p-O+._22p-O{border-top:1px solid;border-color:#ecf0f2;border-color:rgba(var(--place-color-border2), 1)}.XNxh9{float:right;margin:4px 0 0 14px;border-radius:6px}.XNxh9 .place_thumb{overflow:hidden;border-radius:6px}.XNxh9 .place_thumb::before{border-radius:6px}._3ZU00._1rBq3{min-height:91px}._3LMxZ{display:block}._3LMxZ:hover{text-decoration:none}._2w9xx ._2s4DU{display:block;display:-webkit-box;overflow:hidden;max-height:4.6rem;line-height:2.3rem;text-overflow:ellipsis;-webkit-box-orient:vertical;-webkit-line-clamp:2;white-space:normal;color:#0068c3;color:rgba(var(--place-color-link), 1)}._2w9xx ._3pMji{margin-right:3px}._2w9xx ._3Apve{margin-right:6px;font-size:1.8rem;font-weight:500;letter-spacing:-0.3px}._2w9xx ._3FwQ3{flex:none;position:relative}._2w9xx ._3FwQ3 ._1txqh{margin-top:4px;margin-right:6px}._2w9xx ._3FwQ3._10Wty ._1txqh{fill:#00c73c;fill:rgba(var(--place-color-bg7), 1);width:14px;height:14px}._2w9xx ._3B6hV{display:inline-block;font-size:1.4rem;color:#8f8f8f;color:rgba(var(--place-color-text5), 1);vertical-align:top}._2w9xx ._3B6hV._2Gvew{color:#744ba5}._1B9G6{margin-top:6px}._2w9xx+._1oH7-{margin-top:5px}._1oH7-{margin-top:3px;font-size:1.5rem;color:#424242;color:rgba(var(--place-color-text3), 1);letter-spacing:-0.2px;line-height:2.1rem}._1oH7-.sHjQd ._1txqh{margin:7px 5px 0}._1oH7-._1aW_P{color:#8f8f8f;color:rgba(var(--place-color-text5), 1)}._1oH7-._1aW_P em{font-weight:500;color:#424242;color:rgba(var(--place-color-text3), 1)}._1oH7-._29cCG{display:block;overflow:hidden;text-overflow:ellipsis;white-space:nowrap;position:relative;margin-top:3px;font-size:1.5rem;color:#8f8f8f;color:rgba(var(--place-color-text5), 1);word-break:break-all}._1oH7-._29cCG ._6ZZsR{color:inherit}._1oH7-._29cCG ._6ZZsR+._6ZZsR::before{display:inline-block;width:1px;height:13px;margin:4px 8px 0;background:#e1e1e1;background:rgba(var(--place-color-border12), 1);content:\"\"}._1z35p{padding-top:10px}._22p-O:not(._2NEjP) ._1z35p{clear:both}._22p-O._2NEjP,._22p-O.m29At{position:relative}._22p-O._2NEjP ._2w9xx ._2s4DU,._22p-O.m29At ._2w9xx ._2s4DU{color:#0c43b7;color:rgba(var(--place-color-link-pc), 1);text-decoration:none}._22p-O._2NEjP{padding:18px 25px}._22p-O._2NEjP ._2w9xx ._3Apve{font-weight:700;letter-spacing:-1px}._22p-O._2NEjP ._2w9xx ._3FwQ3 ._1txqh{margin-top:4px}._22p-O._2NEjP ._1z35p{padding-top:10px}._22p-O._2NEjP:hover{background:#f7f9fa}._22p-O.m29At{width:50%;border-top:0;box-sizing:border-box}._22p-O.m29At:nth-child(2n+1){padding:20px 13px 20px 20px}._22p-O.m29At:nth-child(2n+1):not(:first-child)::before{position:absolute;top:0;right:13px;left:20px;height:1px;background:#f3f3f4;content:\"\"}._22p-O.m29At:nth-child(2n){padding:20px 20px 20px 13px}._22p-O.m29At:nth-child(2n):not(:nth-child(2))::before{position:absolute;top:0;right:20px;left:13px;height:1px;background:#f3f3f4;content:\"\"}._22p-O.m29At ._3LMxZ:hover ._2w9xx ._2s4DU ._3Apve{text-decoration:underline}._22p-O.m29At ._3ZU00._1rBq3{min-height:96px}._22p-O.m29At ._2w9xx ._2s4DU{display:block;display:-webkit-box;overflow:hidden;max-height:4rem;line-height:2rem;text-overflow:ellipsis;-webkit-box-orient:vertical;-webkit-line-clamp:2;white-space:normal}._22p-O.m29At ._2w9xx ._2s4DU ._3Apve{font-size:1.6rem;font-weight:600}._22p-O.m29At ._2w9xx ._2s4DU ._3FwQ3 ._1txqh{margin-top:3px}._22p-O.m29At ._2w9xx ._2s4DU ._3B6hV{font-size:1.3rem}._22p-O.m29At ._1B9G6{margin-top:3px}._22p-O.m29At ._1oH7-{font-size:1.3rem}._22p-O.m29At ._1oH7-._29cCG ._6ZZsR+._6ZZsR::before{height:12px}._22p-O.m29At ._1oH7-._1lPUe{position:relative}._22p-O.m29At ._1oH7-._1lPUe ._3hrTs{display:inline-block;height:13px;margin:4px 0 0 3px;vertical-align:top}._22p-O.m29At ._1oH7-._1lPUe ._3hrTs ._1txqh{fill:#8f8f8f;fill:rgba(var(--place-color-text5), 1);width:13px;height:13px}._22p-O.m29At ._1oH7-._1lPUe ._2W2WB{position:absolute;top:24px;right:0;left:0;z-index:100;padding:12px 48px 12px 18px;border:1px solid;border-color:#cbdeed;border-color:rgba(var(--place-color-border16), 1);border-radius:5px;background:#fff;background:rgba(var(--place-color-bg2), 1);box-shadow:0 3px 6px 0 rgba(0,0,0,.1);font-size:1.3rem;color:#424242;color:rgba(var(--place-color-text3), 1);line-height:2.1rem;word-break:break-all}._22p-O.m29At ._1oH7-._1lPUe ._2W2WB em{color:#0abe16;color:rgba(var(--place-color-text9), 1)}._22p-O.m29At ._1oH7-._1lPUe ._2W2WB ._3Yd7d ._1lPUe{margin-left:4px;font-weight:500;color:#242424;color:rgba(var(--place-color-text2), 1)}._22p-O.m29At ._1oH7-._1lPUe ._2W2WB ._2qHM1{position:absolute;top:0;right:0;width:48px;height:48px}._22p-O.m29At ._1oH7-._1lPUe ._2W2WB ._2qHM1 ._1txqh{position:absolute;top:50%;left:50%;transform:translate(-50%, -50%);fill:#424242;fill:rgba(var(--place-color-text3), 1);width:12px;height:12px}._22p-O.m29At ._2frKa{font-size:1.3rem}._22p-O._293u6 ._21AKB{margin-top:5px;font-size:1.5rem;color:#aaa;text-align:right}._22p-O._293u6 ._2w9xx ._3Apve{padding-left:45px}._22p-O._293u6.m29At{background:#fafcff}</style><style id=\"9c4202\" type=\"text/css\" data-isomorphic-style=\"true\">._2e7PJ{display:flex;font-size:1.5rem;letter-spacing:-0.2px;line-height:2.1rem}._2e7PJ ._1U4fn{overflow:hidden;color:#424242;color:rgba(var(--place-color-text3), 1)}._2e7PJ ._1U4fn+._1U4fn{display:flex;flex:1}._2e7PJ ._1U4fn+._1U4fn::before{display:inline-block;flex:none;width:1px;height:13px;margin:4px 8px 0;background:#e1e1e1;background:rgba(var(--place-color-border12), 1);content:\"\"}._2e7PJ ._1U4fn._3dF7-{color:#ff5757;color:rgba(var(--place-color-text10), 1)}._2e7PJ ._1AEUt{display:inline-flex;overflow:hidden;max-width:100%;color:#424242;color:rgba(var(--place-color-text3), 1);text-decoration:none}._2e7PJ ._1AEUt ._3hCbH{display:block;overflow:hidden;text-overflow:ellipsis;white-space:nowrap}._2e7PJ ._1AEUt ._3nlmL{display:inline-block;flex:none;height:7px;margin:7px 0 0 6px;vertical-align:top}._2e7PJ ._1AEUt ._3NEMz{fill:#424242;fill:rgba(var(--place-color-text3), 1);width:12px;height:7px;transition:.2s cubic-bezier(0.65, 0.05, 0.36, 1)}._2e7PJ ._1AEUt[aria-expanded=true] ._3NEMz{transform:rotate(-180deg)}._2e7PJ ._31NhQ{position:absolute;right:18px;left:18px;z-index:100;margin-top:28px;padding:15px 18px;border:1px solid;border-color:#cbdeed;border-color:rgba(var(--place-color-border16), 1);border-radius:5px;background:#fff;background:rgba(var(--place-color-bg2), 1);box-shadow:0 3px 6px 0 rgba(0,0,0,.1)}._2e7PJ ._31NhQ ._2b9ic{font-size:1.5rem;color:#424242;color:rgba(var(--place-color-text3), 1);line-height:2.1rem}._2e7PJ ._31NhQ ._2b9ic ._9j0L4{display:inline-block;margin:2px 6px 0 0;padding:1px 2px;border:1px solid;border-color:#dee0e2;border-color:rgba(var(--place-color-border19), 1);border-radius:1px;background:#fff;background:rgba(var(--place-color-bg2), 1);box-sizing:border-box;font-size:1.1rem;font-weight:500;color:#909090;color:rgba(var(--place-color-text15), 1);line-height:1.3rem;vertical-align:top}._2e7PJ ._31NhQ ._2b9ic ._9j0L4._3ls-i{background:#f8fafb;background:rgba(var(--place-color-bg3), 1);margin-right:3px}._2e7PJ ._31NhQ ._2b9ic .Yl1tM{display:inline-block;margin-left:5px;vertical-align:top}._2e7PJ ._31NhQ ._2b9ic+._2b9ic{margin-top:6px}._2e7PJ.ghcna{font-size:1.3rem}._2e7PJ.ghcna ._31NhQ{right:13px;left:20px;margin-top:24px;padding:12px 18px}._2e7PJ.ghcna ._31NhQ ._2b9ic{font-size:1.3rem}._2e7PJ.ghcna ._31NhQ ._2b9ic+._2b9ic{margin-top:2px}._2e7PJ.ghcna ._31NhQ._3sBDF{right:20px;left:13px}._2e7PJ._3XQz6 ._31NhQ{right:25px;left:25px}</style><style id=\"7c6cfa\" type=\"text/css\" data-isomorphic-style=\"true\">._1B1Xo{margin:0 -18px}._1B1Xo ._3oB_i{overflow:hidden;overflow-x:auto;white-space:nowrap;padding:0 18px}._1B1Xo ._3oB_i .is_mobile,.place_on_nmap ._1B1Xo ._3oB_i{-webkit-overflow-scrolling:touch}._1B1Xo ._3oB_i::-webkit-scrollbar{width:6px;height:6px}._1B1Xo ._3oB_i::-webkit-scrollbar-thumb{border-radius:3px;background:#c4c6c8}._1B1Xo ._3oB_i::-webkit-scrollbar-track-piece{background:#e9ecef;background:rgba(var(--place-color-bg1), 1)}.place_on_mobileweb ._1B1Xo ._3oB_i::-webkit-scrollbar,.place_on_nmap ._1B1Xo ._3oB_i::-webkit-scrollbar{display:none}._1B1Xo ._1U--J{display:inline-block;position:relative;margin:5px 5px 0 0;border:1px solid;border-color:#eaebec;border-color:rgba(var(--place-color-border18), 1);border-radius:19px;background:#fff;background:rgba(var(--place-color-bg2), 1);vertical-align:top}._1B1Xo ._1U--J .wJICq{display:inline-block;position:relative;padding:5px 10px 5px 5px;font-size:1.5rem;color:#424242;color:rgba(var(--place-color-text3), 1);letter-spacing:-0.3px;line-height:2.4rem;white-space:nowrap;vertical-align:top}._1B1Xo ._1U--J .wJICq ._3LH5o{display:inline-block;position:relative;width:24px;height:24px;margin:0 4px 0 0;border-radius:50%;background:rgba(3,199,90,.06);vertical-align:top}._1B1Xo ._1U--J .wJICq ._2rLvC{position:absolute;top:50%;left:50%;transform:translate(-50%, -50%);fill:#00c73c;fill:rgba(var(--place-color-bg7), 1);width:12px;height:12px}._1B1Xo ._1U--J .wJICq[aria-pressed=true]{color:#0abe16;color:rgba(var(--place-color-text9), 1)}._1B1Xo ._1U--J:last-child{margin-right:0}@media all and (max-width: 320px){._1B1Xo ._1U--J{margin-right:4px;border-radius:16px}._1B1Xo ._1U--J .wJICq{padding:5px 8px 5px 5px;font-size:1.4rem}._1B1Xo ._1U--J .wJICq ._3LH5o{width:20px;height:20px;margin-right:3px}._1B1Xo ._1U--J .wJICq ._3LH5o.rQfCe ._2rLvC{width:8px;height:8px}._1B1Xo ._1U--J .wJICq ._2rLvC{width:10px;height:10px}}._1B1Xo._1hw6g,._1B1Xo._2V5oO{margin:0}._1B1Xo._1hw6g ._3oB_i,._1B1Xo._2V5oO ._3oB_i{overflow:visible;padding:0}._1B1Xo._1hw6g ._1U--J,._1B1Xo._2V5oO ._1U--J{border-color:#eef0f4}._1B1Xo._1hw6g ._1U--J .wJICq,._1B1Xo._2V5oO ._1U--J .wJICq{padding:4px 8px 4px 4px;font-size:1.3rem;line-height:2.1rem}._1B1Xo._1hw6g ._1U--J .wJICq ._3LH5o,._1B1Xo._2V5oO ._1U--J .wJICq ._3LH5o{width:21px;height:21px}._1B1Xo._1hw6g ._1U--J .wJICq ._2rLvC,._1B1Xo._2V5oO ._1U--J .wJICq ._2rLvC{width:13px;height:13px}._1B1Xo._1hw6g ._1U--J .wJICq:hover,._1B1Xo._2V5oO ._1U--J .wJICq:hover{text-decoration:none}._1B1Xo._1hw6g ._1U--J._1pJxB .wJICq,._1B1Xo._1hw6g ._1U--J._2CTQv .wJICq,._1B1Xo._2V5oO ._1U--J._1pJxB .wJICq,._1B1Xo._2V5oO ._1U--J._2CTQv .wJICq{width:29px;height:29px;padding:0}._1B1Xo._1hw6g ._1U--J._1pJxB .wJICq ._2rLvC,._1B1Xo._1hw6g ._1U--J._2CTQv .wJICq ._2rLvC,._1B1Xo._2V5oO ._1U--J._1pJxB .wJICq ._2rLvC,._1B1Xo._2V5oO ._1U--J._2CTQv .wJICq ._2rLvC{fill:#222;width:17px;height:17px}._1B1Xo._1hw6g ._1U--J:hover{border-color:#00cf5b;border-color:rgba(var(--place-color-text8), 1)}._1B1Xo._1hw6g ._1U--J:hover .wJICq{color:#00cf5b;color:rgba(var(--place-color-text8), 1)}._1B1Xo._1hw6g ._1U--J:hover .wJICq ._2rLvC{fill:#00cf5b;fill:rgba(var(--place-color-text8), 1)}._1B1Xo._2V5oO ._1U--J._og64 .wJICq{position:relative;padding:7px 7px 6px 10px;line-height:1.6rem}._1B1Xo._2V5oO ._1U--J._og64 .wJICq+.wJICq{margin-left:1px;padding-right:10px;padding-left:7px;color:#0375f4}._1B1Xo._2V5oO ._1U--J._og64 .wJICq+.wJICq::before{position:absolute;top:50%;left:-1px;width:1px;height:10px;background:#e1e1e1;background:rgba(var(--place-color-border12), 1);transform:translateY(-50%);content:\"\"}._1B1Xo._2V5oO ._1U--J._og64 .wJICq:hover{color:#0375f4}._1B1Xo._2V5oO ._1U--J._og64 .wJICq:hover::after{position:absolute;top:-1px;right:-4px;bottom:-1px;left:-1px;border:1px solid #0475f4;border-radius:19px;content:\"\"}._1B1Xo._2V5oO ._1U--J._og64 .wJICq:hover+.wJICq::before{content:none}._1B1Xo._2V5oO ._1U--J._og64 .wJICq:hover:last-child::after{right:-1px;left:-4px}._1B1Xo._2V5oO ._1U--J._og64 .wJICq:hover:last-child::before{background:transparent}._1B1Xo._2V5oO ._1U--J:not(._og64):hover{border-color:#0375f4}._1B1Xo._2V5oO ._1U--J:not(._og64):hover .wJICq{color:#0375f4}._1B1Xo._2V5oO ._1U--J:not(._og64):hover .wJICq ._2rLvC{fill:#0375f4}</style></div>\\n      <div id=\"place-modal-root\"></div>\\n      <div id=\"loc-main-section-root\"><section class=\"sc_new _1hPYK\" data-laim-exp-id=\"loc_plc\"><div class=\"api_subject_bx\"><div class=\"api_title_area\"><h2 class=\"api_title\">플레이스<div class=\"api_title_inner\"></div></h2><div class=\"api_title_sub\"><div class=\"api_sub_link _1hPYK\"><a href=\"#\" target=\"_self\" role=\"button\" class=\"item\">내 업체 등록</a><a href=\"#\" target=\"_self\" role=\"button\" class=\"item\">신규장소 등록</a></div></div></div><div><div style=\"height:250px\"><div class=\"_1SV-R \" style=\"height:100%\"><span class=\"place_blind\">로딩중</span><span class=\"_2cu7P\" style=\"width:10px;height:10px\"></span><span class=\"_2cu7P\" style=\"width:10px;height:10px;margin-right:5px;margin-left:5px\"></span><span class=\"_2cu7P\" style=\"width:10px;height:10px\"></span></div></div><ul class=\"_3smbt\"><li class=\"_22p-O m29At\" data-loc_plc-doc-id=\"1517794037\"><div class=\"XNxh9\"><a href=\"https://map.naver.com/v5/search/부산날씨/place/1517794037?placePath=%2Fphoto%3Fentry%3Dpll%26from%3Dnx%26fromNxList%3Dtrue&amp;placeSearchOption=entry%3Dpll%26fromNxList%3Dtrue\" target=\"_blank\" role=\"button\" class=\"place_thumb\"><div style=\"height:92px\" class=\"lazyload-placeholder\"></div><span class=\"place_thumb_count\"><em>이미지수</em>9</span></a></div><div class=\"_3ZU00 _1rBq3\"><a href=\"https://map.naver.com/v5/search/부산날씨/place/1517794037?placePath=%3Fentry%3Dpll%26from%3Dnx%26fromNxList%3Dtrue&amp;placeSearchOption=entry%3Dpll%26fromNxList%3Dtrue\" target=\"_blank\" role=\"button\" class=\"_3LMxZ\"><div class=\"_2w9xx\"><div class=\"_2s4DU\"><span class=\"_3Apve\">비트포비아 서면던전</span><span class=\"_3FwQ3\"><span class=\"place_blind\">네이버페이</span><svg xmlns=\"http://www.w3.org/2000/svg\" viewBox=\"0 0 43 16\" width=\"43\" height=\"16\" class=\"_1txqh\" aria-hidden=\"true\"><path fill=\"#1e9bf5\" d=\"M30 1h12c.6 0 1 .4 1 1v11c0 .6-.4 1-1 1H30V1z\"></path><path fill=\"#03c75a\" d=\"M0 1.9v11.3c0 .5.4.9.9.9h29.4c.4 0 .8-.3.8-.7V1.7c0-.4-.3-.7-.8-.7H.9c-.5 0-.9.4-.9.9z\"></path><path fill=\"#fff\" d=\"M36.2 8.6c.8 0 1.7.4 1.7 1.3V11h-1.7V8.6zm1.7-4.5v2.6h2.5v1.7h-6.8V6.6h2.5V4.1h1.8zM1 2v11h11V2H1zm8.5 8.5H7.7l-2.2-3v3h-2v-6h1.8l2.2 3v-3h2v6zm15.7-5.1l1 3.2 1-3.2h1.1L26 11.6l-1-.3.6-1.4L24 5.5l1.2-.1zm-3.6-.1c.3 0 .5 0 .7.1l.6.3c.2.1.3.3.4.4.1.2.1.4.1.6v3.1h-.9v-.5c0 .1-.1.2-.2.3s-.2.1-.3.2c-.1.1-.2.1-.4.1h-.4c-.5 0-.9-.1-1.1-.3s-.4-.6-.4-1v-.3c0-.2 0-.3.1-.5s.2-.3.3-.4.3-.2.5-.3c.2-.1.5-.1.8-.1h1v-.1c0-.3-.1-.5-.2-.6s-.3-.2-.6-.2c-.5 0-.9.1-1.3.4l-.5-.7c.2-.2.5-.3.8-.4s.6-.1 1-.1zM17.2 4c.4 0 .7 0 .9.1.3.1.5.2.6.3.2.1.3.3.4.5s.1.4.1.7v.2c0 .2 0 .5-.1.7s-.2.4-.4.6c-.2.2-.4.3-.6.4s-.5.1-.9.1H16v2.2h-1V4h2.2zm5.2 3.9h-1c-.3 0-.5.1-.6.1-.1.1-.2.2-.2.4v.1c0 .1.1.3.2.3.1.1.3.2.5.2.4 0 .7-.1.9-.3.1-.1.1-.2.2-.3v-.5zm-5.2-3h-1.1v1.8h1c.3 0 .6-.1.8-.2.2-.1.3-.4.3-.7v-.1c0-.2 0-.3-.1-.4 0-.1-.1-.2-.2-.2-.1-.1-.2-.1-.3-.1-.1-.1-.3-.1-.4-.1z\"></path></svg></span><span class=\"_3B6hV\">방탈출카페</span></div></div></a><div class=\"_1oH7- _1lPUe\">0507-1483-4888<a href=\"#\" target=\"_self\" role=\"button\" class=\"_3hrTs\"><span class=\"place_blind\">안내</span><svg xmlns=\"http://www.w3.org/2000/svg\" viewBox=\"0 0 15 15\" class=\"_1txqh\" aria-hidden=\"true\"><path d=\"M7.5 0a7.5 7.5 0 1 1 0 15 7.5 7.5 0 0 1 0-15zm0 1a6.5 6.5 0 1 0 0 13 6.5 6.5 0 0 0 0-13zM8 6v6H7V6h1zm-.5-2.5a.75.75 0 1 1 0 1.5.75.75 0 0 1 0-1.5z\"></path></svg></a></div><div class=\"_1B9G6\"><div class=\"_2e7PJ ghcna\"><span class=\"_1U4fn\"><a href=\"#\" target=\"_self\" role=\"button\" class=\"_1AEUt\" aria-haspopup=\"true\" aria-expanded=\"false\"><span class=\"_3hCbH\">부산 부산진구 전포동</span><span class=\"_3nlmL\"><svg xmlns=\"http://www.w3.org/2000/svg\" viewBox=\"0 0 12 7\" class=\"_3NEMz\" aria-hidden=\"true\"><path d=\"M6 5.59L11.35 0l.65.7L6 7 0 .7.65 0z\"></path></svg></span></a></span></div></div><a href=\"https://map.naver.com/v5/search/부산날씨/place/1517794037?placePath=%3Fentry%3Dpll%26from%3Dnx%26fromNxList%3Dtrue&amp;placeSearchOption=entry%3Dpll%26fromNxList%3Dtrue\" target=\"_blank\" role=\"button\" class=\"_3LMxZ\"><div class=\"_1oH7- _29cCG\"><span class=\"_6ZZsR\">평일 <time dateTime=\"12:00\">12:00</time><span><span class=\"place_blind\">부터</span>~</span><time dateTime=\"24:00\">24:00</time> | 주말 <time dateTime=\"09:30\">09:30</time><span><span class=\"place_blind\">부터</span>~</span><time dateTime=\"24:00\">24:00</time></span></div></a></div><div class=\"_1z35p\" data-nclicks-area-code=\"\"><div class=\"_1B1Xo _1hw6g\"><div class=\"_3oB_i\"><span class=\"_1U--J _1pJxB\"><a href=\"https://map.naver.com/v5/directions/-/14367182.378122363,4184915.915187899,비트포비아 서면던전,1517794037,PLACE_POI/-/car\" target=\"_blank\" role=\"button\" class=\"wJICq\"><span class=\"place_blind\">길찾기</span><svg xmlns=\"http://www.w3.org/2000/svg\" viewBox=\"0 0 20 20\" class=\"_2rLvC\" aria-hidden=\"true\"><path d=\"M11.95 3.81l-3.4 3.3-1.1-1.14L12.74.8l5.3 5.17-1.1 1.15-3.4-3.3v7.64h-9v8.26h-1.6V9.86h9V3.8z\"></path></svg></a></span><span class=\"_1U--J _2CTQv\"><a href=\"https://map.naver.com/v5/entry/place/1517794037?p=M6IfGGF8_kXrYR4WCZolhA,6.21,10.00,Float\" target=\"_blank\" role=\"button\" class=\"wJICq\"><span class=\"place_blind\">거리뷰</span><svg xmlns=\"http://www.w3.org/2000/svg\" viewBox=\"0 0 20 20\" class=\"_2rLvC\" aria-hidden=\"true\"><path d=\"M10 0c4.4 0 7.95 3.5 7.95 7.79a7.6 7.6 0 0 1-1.23 4.15l-6.33 8.02a.5.5 0 0 1-.78 0l-6.38-8.1A7.6 7.6 0 0 1 2.05 7.8 7.89 7.89 0 0 1 10 0zm0 1.54A6.38 6.38 0 0 0 3.55 7.8c0 1.18.34 2.33.96 3.28l5.5 6.92 5.44-6.86a6.08 6.08 0 0 0 1-3.34A6.37 6.37 0 0 0 10 1.54zM6.75 6.92h6.5a.5.5 0 0 1 .5.5v.54a.5.5 0 0 1-.5.5h-6.5a.5.5 0 0 1-.5-.5v-.54a.5.5 0 0 1 .5-.5z\"></path></svg></a></span><span class=\"_1U--J\"><a href=\"https://map.naver.com/v5/search/부산날씨/place/1517794037?placeSearchOption=fromNxList%3Dtrue%26noredirect%3D1%26entry%3Dpll&amp;c=14367182.378122363%2C4184915.915187899%2C13%2C0%2C0%2C0%2Cdh&amp;placePath=%2Fbooking%3FbookingRedirectUrl%3Dhttps%3A%2F%2Fm.booking.naver.com%2Fbooking%2F12%2Fbizes%2F304416%3Ftheme%3Dplace%26entry%3Dpll%26entry%3Dpll&amp;area=pll\" target=\"_blank\" role=\"button\" class=\"wJICq\"><span class=\"_3LH5o\"><svg xmlns=\"http://www.w3.org/2000/svg\" viewBox=\"0 0 16 16\" class=\"_2rLvC\" aria-hidden=\"true\"><path d=\"M11.4 1.3h4.2V16H.4V1.3h4.1V0h1.1v1.3h4.9V0h1.1l-.2 1.3zm3.2 2.1H1.4V15h13.1l.1-11.6zM6.7 8.8v3.4H4.6V5.9h2.1l2.5 3.4V5.9h2.1v6.3h-2L6.7 8.8z\"></path></svg></span>예약</a></span><span class=\"_1U--J\"><a href=\"#\" id=\"_.share\" class=\"wJICq naver-splugin spi_sns_share\" target=\"_self\" data-style=\"type_a\" data-title=\"비트포비아 서면던전\\n부산 부산진구 동천로 66 5층\" data-line-template-type=\"custom_web\" data-line-title=\"비트포비아 서면던전\" data-line-description=\"부산 부산진구 동천로 66 5층\" data-kakaotalk-template-type=\"custom_web\" data-kakaotalk-title=\"비트포비아 서면던전\" data-kakaotalk-description=\"부산 부산진구 동천로 66 5층\\n방문자리뷰 206 · ★4.75 · 평일 12:00~24:00 | 주말 09:30~24:00\" data-kakaotalk-image-url=\"https://ldb-phinf.pstatic.net/20191111_286/1573469258161fRkdU_JPEG/dmyQ7ZxM3_nNH1YvMYhc6BON.jpg\" data-kakaotalk-button-text=\"네이버 플레이스로 보기\" data-url-extra=\"비트포비아 서면던전\\n부산 부산진구 동천로 66 5층\" data-friend-display=\"on\" data-kakaostory-display=\"off\" data-bookmark-display=\"off\" data-memo-display=\"off\" data-mail-display=\"off\" data-keep-display=\"on\" data-use-short-url=\"on\"><span class=\"_3LH5o\"><svg xmlns=\"http://www.w3.org/2000/svg\" viewBox=\"0 0 20 20\" class=\"_2rLvC\" aria-hidden=\"true\"><path d=\"M15.6 17.6H1.4V6.4h4.58V5H0v14h17v-4.35h-1.4v2.95zm-4.18-8.26h3.03v3.47L20 7.41 14.45 2v3.35h-3.03c-3.6 0-5.66 3.53-5.97 7.7 0 0 1.42-3.71 5.96-3.71z\"></path></svg></span>공유</a></span></div></div></div></li><li class=\"_22p-O m29At\" data-loc_plc-doc-id=\"604275987\"><div class=\"XNxh9\"><a href=\"https://map.naver.com/v5/search/부산날씨/place/604275987?placePath=%2Fphoto%3Fentry%3Dpll%26from%3Dnx%26fromNxList%3Dtrue&amp;placeSearchOption=entry%3Dpll%26fromNxList%3Dtrue\" target=\"_blank\" role=\"button\" class=\"place_thumb\"><div style=\"height:92px\" class=\"lazyload-placeholder\"></div><span class=\"place_thumb_count\"><em>이미지수</em>15</span></a></div><div class=\"_3ZU00 _1rBq3\"><a href=\"https://map.naver.com/v5/search/부산날씨/place/604275987?placePath=%3Fentry%3Dpll%26from%3Dnx%26fromNxList%3Dtrue&amp;placeSearchOption=entry%3Dpll%26fromNxList%3Dtrue\" target=\"_blank\" role=\"button\" class=\"_3LMxZ\"><div class=\"_2w9xx\"><div class=\"_2s4DU\"><span class=\"_3Apve\">윤식당 차돌박이</span><span class=\"_3B6hV\">육류,고기요리</span></div></div></a><div class=\"_1oH7- _1lPUe\">051-731-3338</div><div class=\"_1B9G6\"><div class=\"_2e7PJ ghcna\"><span class=\"_1U4fn\"><a href=\"#\" target=\"_self\" role=\"button\" class=\"_1AEUt\" aria-haspopup=\"true\" aria-expanded=\"false\"><span class=\"_3hCbH\">부산 해운대구 우동</span><span class=\"_3nlmL\"><svg xmlns=\"http://www.w3.org/2000/svg\" viewBox=\"0 0 12 7\" class=\"_3NEMz\" aria-hidden=\"true\"><path d=\"M6 5.59L11.35 0l.65.7L6 7 0 .7.65 0z\"></path></svg></span></a></span></div></div><a href=\"https://map.naver.com/v5/search/부산날씨/place/604275987?placePath=%3Fentry%3Dpll%26from%3Dnx%26fromNxList%3Dtrue&amp;placeSearchOption=entry%3Dpll%26fromNxList%3Dtrue\" target=\"_blank\" role=\"button\" class=\"_3LMxZ\"><div class=\"_1oH7- _29cCG\"><span class=\"_6ZZsR\">매일 <time dateTime=\"11:30\">11:30</time><span><span class=\"place_blind\">부터</span>~</span><time dateTime=\"22:00\">22:00</time> <time dateTime=\"15:00\">15:00</time><span><span class=\"place_blind\">부터</span>~</span><time dateTime=\"17:00\">17:00</time>브레이크타임 라스트오더 21시까지 | 매일 <time dateTime=\"11:30\">11:30</time><span><span class=\"place_blind\">부터</span>~</span><time dateTime=\"15:00\">15:00</time> 점심특선</span></div></a></div><div class=\"_1z35p\" data-nclicks-area-code=\"\"><div class=\"_1B1Xo _1hw6g\"><div class=\"_3oB_i\"><span class=\"_1U--J _1pJxB\"><a href=\"https://map.naver.com/v5/directions/-/14376545.093138669,4184935.112891672,윤식당 차돌박이,604275987,PLACE_POI/-/car\" target=\"_blank\" role=\"button\" class=\"wJICq\"><span class=\"place_blind\">길찾기</span><svg xmlns=\"http://www.w3.org/2000/svg\" viewBox=\"0 0 20 20\" class=\"_2rLvC\" aria-hidden=\"true\"><path d=\"M11.95 3.81l-3.4 3.3-1.1-1.14L12.74.8l5.3 5.17-1.1 1.15-3.4-3.3v7.64h-9v8.26h-1.6V9.86h9V3.8z\"></path></svg></a></span><span class=\"_1U--J _2CTQv\"><a href=\"https://map.naver.com/v5/entry/place/604275987?p=vZoY9ScIkuAx6Gn_YcHhkw,-158.41,10.00,Float\" target=\"_blank\" role=\"button\" class=\"wJICq\"><span class=\"place_blind\">거리뷰</span><svg xmlns=\"http://www.w3.org/2000/svg\" viewBox=\"0 0 20 20\" class=\"_2rLvC\" aria-hidden=\"true\"><path d=\"M10 0c4.4 0 7.95 3.5 7.95 7.79a7.6 7.6 0 0 1-1.23 4.15l-6.33 8.02a.5.5 0 0 1-.78 0l-6.38-8.1A7.6 7.6 0 0 1 2.05 7.8 7.89 7.89 0 0 1 10 0zm0 1.54A6.38 6.38 0 0 0 3.55 7.8c0 1.18.34 2.33.96 3.28l5.5 6.92 5.44-6.86a6.08 6.08 0 0 0 1-3.34A6.37 6.37 0 0 0 10 1.54zM6.75 6.92h6.5a.5.5 0 0 1 .5.5v.54a.5.5 0 0 1-.5.5h-6.5a.5.5 0 0 1-.5-.5v-.54a.5.5 0 0 1 .5-.5z\"></path></svg></a></span><span class=\"_1U--J\"><a href=\"#\" id=\"_.share\" class=\"wJICq naver-splugin spi_sns_share\" target=\"_self\" data-style=\"type_a\" data-title=\"윤식당 차돌박이\\n부산 해운대구 마린시티1로 127 아라트리움\" data-line-template-type=\"custom_web\" data-line-title=\"윤식당 차돌박이\" data-line-description=\"부산 해운대구 마린시티1로 127 아라트리움\" data-kakaotalk-template-type=\"custom_web\" data-kakaotalk-title=\"윤식당 차돌박이\" data-kakaotalk-description=\"부산 해운대구 마린시티1로 127 아라트리움\\n방문자리뷰 469 · ★4.54 · 매일 11:30~22:00 15:00~17:00브레이크타임 라스트오더 21시까지 | 매일 11:30~15:00 점심특선\" data-kakaotalk-image-url=\"https://ldb-phinf.pstatic.net/20210118_219/1610949792861pPT1y_JPEG/0FJcHp1rfLt1VepwOTX3neia.jpg\" data-kakaotalk-button-text=\"네이버 플레이스로 보기\" data-url-extra=\"윤식당 차돌박이\\n부산 해운대구 마린시티1로 127 아라트리움\" data-friend-display=\"on\" data-kakaostory-display=\"off\" data-bookmark-display=\"off\" data-memo-display=\"off\" data-mail-display=\"off\" data-keep-display=\"on\" data-use-short-url=\"on\"><span class=\"_3LH5o\"><svg xmlns=\"http://www.w3.org/2000/svg\" viewBox=\"0 0 20 20\" class=\"_2rLvC\" aria-hidden=\"true\"><path d=\"M15.6 17.6H1.4V6.4h4.58V5H0v14h17v-4.35h-1.4v2.95zm-4.18-8.26h3.03v3.47L20 7.41 14.45 2v3.35h-3.03c-3.6 0-5.66 3.53-5.97 7.7 0 0 1.42-3.71 5.96-3.71z\"></path></svg></span>공유</a></span></div></div></div></li><li class=\"_22p-O m29At\" data-loc_plc-doc-id=\"1112145591\"><div class=\"XNxh9\"><a href=\"https://map.naver.com/v5/search/부산날씨/place/1112145591?placePath=%2Fphoto%3Fentry%3Dpll%26from%3Dnx%26fromNxList%3Dtrue&amp;placeSearchOption=entry%3Dpll%26fromNxList%3Dtrue\" target=\"_blank\" role=\"button\" class=\"place_thumb\"><div style=\"height:92px\" class=\"lazyload-placeholder\"></div><span class=\"place_thumb_count\"><em>이미지수</em>3</span></a></div><div class=\"_3ZU00 _1rBq3\"><a href=\"https://map.naver.com/v5/search/부산날씨/place/1112145591?placePath=%3Fentry%3Dpll%26from%3Dnx%26fromNxList%3Dtrue&amp;placeSearchOption=entry%3Dpll%26fromNxList%3Dtrue\" target=\"_blank\" role=\"button\" class=\"_3LMxZ\"><div class=\"_2w9xx\"><div class=\"_2s4DU\"><span class=\"_3Apve\">두루미202</span><span class=\"_3B6hV\">일식당</span></div></div></a><div class=\"_1oH7- _1lPUe\">0507-1439-2239<a href=\"#\" target=\"_self\" role=\"button\" class=\"_3hrTs\"><span class=\"place_blind\">안내</span><svg xmlns=\"http://www.w3.org/2000/svg\" viewBox=\"0 0 15 15\" class=\"_1txqh\" aria-hidden=\"true\"><path d=\"M7.5 0a7.5 7.5 0 1 1 0 15 7.5 7.5 0 0 1 0-15zm0 1a6.5 6.5 0 1 0 0 13 6.5 6.5 0 0 0 0-13zM8 6v6H7V6h1zm-.5-2.5a.75.75 0 1 1 0 1.5.75.75 0 0 1 0-1.5z\"></path></svg></a></div><div class=\"_1B9G6\"><div class=\"_2e7PJ ghcna\"><span class=\"_1U4fn\"><a href=\"#\" target=\"_self\" role=\"button\" class=\"_1AEUt\" aria-haspopup=\"true\" aria-expanded=\"false\"><span class=\"_3hCbH\">부산 수영구 민락동</span><span class=\"_3nlmL\"><svg xmlns=\"http://www.w3.org/2000/svg\" viewBox=\"0 0 12 7\" class=\"_3NEMz\" aria-hidden=\"true\"><path d=\"M6 5.59L11.35 0l.65.7L6 7 0 .7.65 0z\"></path></svg></span></a></span></div></div><a href=\"https://map.naver.com/v5/search/부산날씨/place/1112145591?placePath=%3Fentry%3Dpll%26from%3Dnx%26fromNxList%3Dtrue&amp;placeSearchOption=entry%3Dpll%26fromNxList%3Dtrue\" target=\"_blank\" role=\"button\" class=\"_3LMxZ\"><div class=\"_1oH7- _29cCG\"><span class=\"_6ZZsR\">매일 <time dateTime=\"17:00\">17:00</time><span><span class=\"place_blind\">부터</span>~</span><time dateTime=\"00:00\">00:00</time> Last Oder : 23:00</span></div></a></div><div class=\"_1z35p\" data-nclicks-area-code=\"\"><div class=\"_1B1Xo _1hw6g\"><div class=\"_3oB_i\"><span class=\"_1U--J _1pJxB\"><a href=\"https://map.naver.com/v5/directions/-/14373495.940966342,4184925.473189449,두루미202,1112145591,PLACE_POI/-/car\" target=\"_blank\" role=\"button\" class=\"wJICq\"><span class=\"place_blind\">길찾기</span><svg xmlns=\"http://www.w3.org/2000/svg\" viewBox=\"0 0 20 20\" class=\"_2rLvC\" aria-hidden=\"true\"><path d=\"M11.95 3.81l-3.4 3.3-1.1-1.14L12.74.8l5.3 5.17-1.1 1.15-3.4-3.3v7.64h-9v8.26h-1.6V9.86h9V3.8z\"></path></svg></a></span><span class=\"_1U--J _2CTQv\"><a href=\"https://map.naver.com/v5/entry/place/1112145591?p=IaShG0Eo4r18MR5d3fCs8g,148.71,10.00,Float\" target=\"_blank\" role=\"button\" class=\"wJICq\"><span class=\"place_blind\">거리뷰</span><svg xmlns=\"http://www.w3.org/2000/svg\" viewBox=\"0 0 20 20\" class=\"_2rLvC\" aria-hidden=\"true\"><path d=\"M10 0c4.4 0 7.95 3.5 7.95 7.79a7.6 7.6 0 0 1-1.23 4.15l-6.33 8.02a.5.5 0 0 1-.78 0l-6.38-8.1A7.6 7.6 0 0 1 2.05 7.8 7.89 7.89 0 0 1 10 0zm0 1.54A6.38 6.38 0 0 0 3.55 7.8c0 1.18.34 2.33.96 3.28l5.5 6.92 5.44-6.86a6.08 6.08 0 0 0 1-3.34A6.37 6.37 0 0 0 10 1.54zM6.75 6.92h6.5a.5.5 0 0 1 .5.5v.54a.5.5 0 0 1-.5.5h-6.5a.5.5 0 0 1-.5-.5v-.54a.5.5 0 0 1 .5-.5z\"></path></svg></a></span><span class=\"_1U--J\"><a href=\"#\" id=\"_.share\" class=\"wJICq naver-splugin spi_sns_share\" target=\"_self\" data-style=\"type_a\" data-title=\"두루미202\\n부산 수영구 광안로61번길 8 1층\" data-line-template-type=\"custom_web\" data-line-title=\"두루미202\" data-line-description=\"부산 수영구 광안로61번길 8 1층\" data-kakaotalk-template-type=\"custom_web\" data-kakaotalk-title=\"두루미202\" data-kakaotalk-description=\"부산 수영구 광안로61번길 8 1층\\n방문자리뷰 86 · ★4.46 · 매일 17:00~00:00 Last Oder : 23:00\" data-kakaotalk-image-url=\"https://ldb-phinf.pstatic.net/20210325_130/1616672850916oR5KQ_JPEG/v3sNJHcTB7YnWNqc499hKH6a.jpg\" data-kakaotalk-button-text=\"네이버 플레이스로 보기\" data-url-extra=\"두루미202\\n부산 수영구 광안로61번길 8 1층\" data-friend-display=\"on\" data-kakaostory-display=\"off\" data-bookmark-display=\"off\" data-memo-display=\"off\" data-mail-display=\"off\" data-keep-display=\"on\" data-use-short-url=\"on\"><span class=\"_3LH5o\"><svg xmlns=\"http://www.w3.org/2000/svg\" viewBox=\"0 0 20 20\" class=\"_2rLvC\" aria-hidden=\"true\"><path d=\"M15.6 17.6H1.4V6.4h4.58V5H0v14h17v-4.35h-1.4v2.95zm-4.18-8.26h3.03v3.47L20 7.41 14.45 2v3.35h-3.03c-3.6 0-5.66 3.53-5.97 7.7 0 0 1.42-3.71 5.96-3.71z\"></path></svg></span>공유</a></span></div></div></div></li><li class=\"_22p-O m29At\" data-loc_plc-doc-id=\"1217188999\"><div class=\"XNxh9\"><a href=\"https://map.naver.com/v5/search/부산날씨/place/1217188999?placePath=%2Fphoto%3Fentry%3Dpll%26from%3Dnx%26fromNxList%3Dtrue&amp;placeSearchOption=entry%3Dpll%26fromNxList%3Dtrue\" target=\"_blank\" role=\"button\" class=\"place_thumb\"><div style=\"height:92px\" class=\"lazyload-placeholder\"></div><span class=\"place_thumb_count\"><em>이미지수</em>4</span></a></div><div class=\"_3ZU00 _1rBq3\"><a href=\"https://map.naver.com/v5/search/부산날씨/place/1217188999?placePath=%3Fentry%3Dpll%26from%3Dnx%26fromNxList%3Dtrue&amp;placeSearchOption=entry%3Dpll%26fromNxList%3Dtrue\" target=\"_blank\" role=\"button\" class=\"_3LMxZ\"><div class=\"_2w9xx\"><div class=\"_2s4DU\"><span class=\"_3Apve\">JMFC실내축구센터</span><span class=\"_3B6hV\">축구교실</span></div></div></a><div class=\"_1oH7- _1lPUe\">010-2201-6571</div><div class=\"_1B9G6\"><div class=\"_2e7PJ ghcna\"><span class=\"_1U4fn\"><a href=\"#\" target=\"_self\" role=\"button\" class=\"_1AEUt\" aria-haspopup=\"true\" aria-expanded=\"false\"><span class=\"_3hCbH\">부산 수영구 민락동</span><span class=\"_3nlmL\"><svg xmlns=\"http://www.w3.org/2000/svg\" viewBox=\"0 0 12 7\" class=\"_3NEMz\" aria-hidden=\"true\"><path d=\"M6 5.59L11.35 0l.65.7L6 7 0 .7.65 0z\"></path></svg></span></a></span></div></div><a href=\"https://map.naver.com/v5/search/부산날씨/place/1217188999?placePath=%3Fentry%3Dpll%26from%3Dnx%26fromNxList%3Dtrue&amp;placeSearchOption=entry%3Dpll%26fromNxList%3Dtrue\" target=\"_blank\" role=\"button\" class=\"_3LMxZ\"><div class=\"_1oH7- _29cCG\"><span class=\"_6ZZsR\">평일 <time dateTime=\"11:00\">11:00</time><span><span class=\"place_blind\">부터</span>~</span><time dateTime=\"20:00\">20:00</time> | 주말 <time dateTime=\"14:00\">14:00</time><span><span class=\"place_blind\">부터</span>~</span><time dateTime=\"20:00\">20:00</time></span></div></a></div><div class=\"_1z35p\" data-nclicks-area-code=\"\"><div class=\"_1B1Xo _1hw6g\"><div class=\"_3oB_i\"><span class=\"_1U--J _1pJxB\"><a href=\"https://map.naver.com/v5/directions/-/14374855.86439367,4185046.296843184,JMFC실내축구센터,1217188999,PLACE_POI/-/car\" target=\"_blank\" role=\"button\" class=\"wJICq\"><span class=\"place_blind\">길찾기</span><svg xmlns=\"http://www.w3.org/2000/svg\" viewBox=\"0 0 20 20\" class=\"_2rLvC\" aria-hidden=\"true\"><path d=\"M11.95 3.81l-3.4 3.3-1.1-1.14L12.74.8l5.3 5.17-1.1 1.15-3.4-3.3v7.64h-9v8.26h-1.6V9.86h9V3.8z\"></path></svg></a></span><span class=\"_1U--J _2CTQv\"><a href=\"https://map.naver.com/v5/entry/place/1217188999?p=SygORfweJnT-_UAP1Y9G8A,-5.61,10.00,Float\" target=\"_blank\" role=\"button\" class=\"wJICq\"><span class=\"place_blind\">거리뷰</span><svg xmlns=\"http://www.w3.org/2000/svg\" viewBox=\"0 0 20 20\" class=\"_2rLvC\" aria-hidden=\"true\"><path d=\"M10 0c4.4 0 7.95 3.5 7.95 7.79a7.6 7.6 0 0 1-1.23 4.15l-6.33 8.02a.5.5 0 0 1-.78 0l-6.38-8.1A7.6 7.6 0 0 1 2.05 7.8 7.89 7.89 0 0 1 10 0zm0 1.54A6.38 6.38 0 0 0 3.55 7.8c0 1.18.34 2.33.96 3.28l5.5 6.92 5.44-6.86a6.08 6.08 0 0 0 1-3.34A6.37 6.37 0 0 0 10 1.54zM6.75 6.92h6.5a.5.5 0 0 1 .5.5v.54a.5.5 0 0 1-.5.5h-6.5a.5.5 0 0 1-.5-.5v-.54a.5.5 0 0 1 .5-.5z\"></path></svg></a></span><span class=\"_1U--J\"><a href=\"#\" id=\"_.share\" class=\"wJICq naver-splugin spi_sns_share\" target=\"_self\" data-style=\"type_a\" data-title=\"JMFC실내축구센터\\n부산 수영구 광안해변로344번길 9-15 월드비치빌 4층\" data-line-template-type=\"custom_web\" data-line-title=\"JMFC실내축구센터\" data-line-description=\"부산 수영구 광안해변로344번길 9-15 월드비치빌 4층\" data-kakaotalk-template-type=\"custom_web\" data-kakaotalk-title=\"JMFC실내축구센터\" data-kakaotalk-description=\"부산 수영구 광안해변로344번길 9-15 월드비치빌 4층\\n축구교실 · 평일 11:00~20:00 | 주말 14:00~20:00\" data-kakaotalk-image-url=\"https://ldb-phinf.pstatic.net/20180322_130/1521646018481ABeeA_JPEG/r2sydDhsJPYJaIfzdTAocxra.jpg\" data-kakaotalk-button-text=\"네이버 플레이스로 보기\" data-url-extra=\"JMFC실내축구센터\\n부산 수영구 광안해변로344번길 9-15 월드비치빌 4층\" data-friend-display=\"on\" data-kakaostory-display=\"off\" data-bookmark-display=\"off\" data-memo-display=\"off\" data-mail-display=\"off\" data-keep-display=\"on\" data-use-short-url=\"on\"><span class=\"_3LH5o\"><svg xmlns=\"http://www.w3.org/2000/svg\" viewBox=\"0 0 20 20\" class=\"_2rLvC\" aria-hidden=\"true\"><path d=\"M15.6 17.6H1.4V6.4h4.58V5H0v14h17v-4.35h-1.4v2.95zm-4.18-8.26h3.03v3.47L20 7.41 14.45 2v3.35h-3.03c-3.6 0-5.66 3.53-5.97 7.7 0 0 1.42-3.71 5.96-3.71z\"></path></svg></span>공유</a></span></div></div></div></li></ul></div><div class=\"api_more_wrap\"><a href=\"https://map.naver.com/v5/search/부산날씨?placeSearchOption=fromNxList%3Dtrue%26noredirect%3D1%26entry%3Dpll\" target=\"_blank\" role=\"button\" class=\"api_more\">부산날씨<!-- --> 더보기<i class=\"spnew ico_arr\"></i></a></div></div></section></div>\\n      <script>\\n    \\n    (typeof window.naver === \\'undefined\\') && (window.naver = {});\\n    var naver=typeof naver === \"object\"?naver:{}; naver.place=naver.place||{}; naver.place.salt=naver.place.salt||{};naver.place.salt.config=naver.place.salt.config||{\"phase\":\"real\",\"thumbnail\":{\"https\":\"https://search.pstatic.net/common/\"},\"videoInfra\":{\"serviceName\":\"place\",\"script\":\"https://sstatic-rmcnmv.pstatic.net/js/webplayer_4.19.10.mo.7d4f84b5.min.js\",\"serviceId\":2040,\"phase\":\"real\"},\"nidlogin\":\"https://nid.naver.com/nidlogin.login?svctype=262144\",\"styleLoaderElemId\":\"place-style-loader\",\"isNmap\":false,\"isPcmap\":false,\"isNxPc\":true,\"deviceType\":\"pc\",\"isNpay\":false,\"serverSide\":null,\"domain\":\"https://p.place.naver.com\",\"cdnOrigin\":\"https://p-place.pstatic.net\",\"api\":{\"origin\":\"https://p-api.place.naver.com\",\"timeout\":5000},\"socialPlugin\":{\"hostname\":\"https://ssl.pstatic.net/spi\",\"mobilePath\":\"/js/release/ko_KR/splugin.m.js\",\"pcPath\":\"/js/release/ko_KR/splugin.js\"},\"reactionDomain\":\"https://common.like.naver.com\",\"smartPlaceDomain\":{\"mobile\":\"https://m.smartplace.naver.com\"},\"sogumDomain\":{\"mobile\":\"https://m.store.naver.com\",\"api\":\"https://m.store.naver.com/sogum/api\"},\"universalDomain\":\"https://nmap.place.naver.com\",\"shareDomain\":\"https://m.place.naver.com\",\"pcmapDomain\":\"https://map.naver.com\",\"panorama\":{\"streetViewUrl\":\"https://app.map.naver.com/panorama/\"},\"nxStaticMapUrlPrefix\":\"https://simg.pstatic.net/static.map/v2/map/staticmap.bin?crs=EPSG:4326\",\"myplace\":{\"origin\":\"https://m.place.naver.com\",\"reviewTab\":\"https://m.place.naver.com/my?tab=review\"},\"staticMap\":{\"https\":\"https://simg.pstatic.net/static.map/v2/map/staticmap.bin\",\"version\":\"http://static.map.naver.net/lastversion\"},\"bookingUrl\":{\"pc\":\"https://booking.naver.com\",\"mobile\":\"https://m.booking.naver.com\"},\"nxDirectionsSearchUrlPrefix\":{\"mobile\":\"https://m.search.naver.com/search.naver?where=m\"},\"pcmapTargetOrigin\":\"https://map.naver.com\",\"vaccine\":{\"hostname\":\"https://v-search.nid.naver.com\",\"reservationPath\":\"/reservation/standby\",\"alarmPath\":\"/register/standby\"},\"npay\":{\"chat\":{\"hostname\":\"https://talk.naver.com\",\"serviceCode\":\"ct\",\"partnerId\":\"wcaf33\",\"defaultParams\":\"?front.footer=hide&front.setting=hide&back=hide&front.home=hide#nafullscreen\"},\"menu\":{\"hostname\":\"https://new-m.pay.naver.com\",\"path\":\"/payservice\"}},\"devTools\":{\"isEnableApolloClientDevTools\":false,\"isActiveSsr\":true,\"sentry\":{\"dsn\":\"https://17fe6794b964420199807554b9c55cc8@l.place.naver.com/sentry/2\",\"environment\":\"real\",\"debug\":false,\"enabled\":true}}};\\n    naver.search = naver.search || {};\\n    naver.search.ext = naver.search.ext || {};\\n    naver.search.ext.loc = naver.search.ext.loc || {};\\n    naver.search.ext.loc.area_plus = naver.search.ext.loc.area_plus || {};\\n    naver.search.ext.loc.salt = naver.search.ext.loc.salt || {};\\n    naver.search.ext.loc.salt.matchPath = \\'/nx/place/list\\';\\n    naver.search.ext.loc.salt.laimAreaId = \\'loc_plc\\';\\n    naver.search.ext.loc.salt.query = \"{\\\\\"query\\\\\":\\\\\"부산날씨\\\\\",\\\\\"x\\\\\":\\\\\"\\\\\",\\\\\"y\\\\\":\\\\\"\\\\\",\\\\\"ip\\\\\":\\\\\"35.201.229.46\\\\\",\\\\\"start\\\\\":1,\\\\\"display\\\\\":23,\\\\\"adult\\\\\":false,\\\\\"spq\\\\\":true,\\\\\"queryRank\\\\\":\\\\\"\\\\\",\\\\\"companySid\\\\\":\\\\\"\\\\\",\\\\\"highlight\\\\\":true,\\\\\"sessionId\\\\\":\\\\\"AmcJBUalXKR4MVr7MTcCjQ==\\\\\",\\\\\"sm\\\\\":\\\\\"\\\\\",\\\\\"ssc\\\\\":\\\\\"tab.nx.all\\\\\"}\" || {};\\n    naver.search.ext.loc.salt.location = {\"country\":\"TW\"} || {};\\n    naver.search.ext.loc.salt.bookingUrlParam = {\"entry\":\"pll\"} || {};\\n    naver.search.ext.loc.salt.nickname = \\'\\';\\n    naver.search.ext.loc.salt.userId = \\'\\';\\n    naver.search.ext.loc.salt.__APOLLO_STATE__ = {\"$ROOT_QUERY.nxPlaces({\\\\\"input\\\\\":{\\\\\"adult\\\\\":false,\\\\\"companySid\\\\\":\\\\\"\\\\\",\\\\\"display\\\\\":23,\\\\\"highlight\\\\\":true,\\\\\"ip\\\\\":\\\\\"35.201.229.46\\\\\",\\\\\"query\\\\\":\\\\\"부산날씨\\\\\",\\\\\"queryRank\\\\\":\\\\\"\\\\\",\\\\\"sessionId\\\\\":\\\\\"AmcJBUalXKR4MVr7MTcCjQ==\\\\\",\\\\\"spq\\\\\":true,\\\\\"start\\\\\":1,\\\\\"x\\\\\":\\\\\"\\\\\",\\\\\"y\\\\\":\\\\\"\\\\\"}})\":{\"searchByAddress({\\\\\"onlyAddressType\\\\\":true})\":null,\"__typename\":\"PlacesResult\",\"localType\":3,\"subPath\":\"list\",\"query\":{\"type\":\"id\",\"generated\":true,\"id\":\"$ROOT_QUERY.nxPlaces({\\\\\"input\\\\\":{\\\\\"adult\\\\\":false,\\\\\"companySid\\\\\":\\\\\"\\\\\",\\\\\"display\\\\\":23,\\\\\"highlight\\\\\":true,\\\\\"ip\\\\\":\\\\\"35.201.229.46\\\\\",\\\\\"query\\\\\":\\\\\"부산날씨\\\\\",\\\\\"queryRank\\\\\":\\\\\"\\\\\",\\\\\"sessionId\\\\\":\\\\\"AmcJBUalXKR4MVr7MTcCjQ==\\\\\",\\\\\"spq\\\\\":true,\\\\\"start\\\\\":1,\\\\\"x\\\\\":\\\\\"\\\\\",\\\\\"y\\\\\":\\\\\"\\\\\"}}).query\",\"typename\":\"QueryItem\"},\"searchGuide\":null,\"total\":4,\"items\":[{\"type\":\"id\",\"generated\":false,\"id\":\"PlaceSummary:1517794037\",\"typename\":\"PlaceSummary\"},{\"type\":\"id\",\"generated\":false,\"id\":\"PlaceSummary:604275987\",\"typename\":\"PlaceSummary\"},{\"type\":\"id\",\"generated\":false,\"id\":\"PlaceSummary:1112145591\",\"typename\":\"PlaceSummary\"},{\"type\":\"id\",\"generated\":false,\"id\":\"PlaceSummary:1217188999\",\"typename\":\"PlaceSummary\"}],\"queryString\":\"pr=place_nx&version=1.1.3&section=site&section=query&in_enc=utf-8&site_start=1&site_display=23&force_use_center_coord=1&query_rank=0&query=%EB%B6%80%EC%82%B0%EB%82%A0%EC%94%A8&site_sort=0&ip=35.201.229.46&boost_partner=1&cid_correct=1&ssid=AmcJBUalXKR4MVr7MTcCjQ%3D%3D&hl=4&on_apt_dong=1&ic=nx&force_match_keyword=1\",\"siteSort\":\"0\"},\"$ROOT_QUERY.nxPlaces({\\\\\"input\\\\\":{\\\\\"adult\\\\\":false,\\\\\"companySid\\\\\":\\\\\"\\\\\",\\\\\"display\\\\\":23,\\\\\"highlight\\\\\":true,\\\\\"ip\\\\\":\\\\\"35.201.229.46\\\\\",\\\\\"query\\\\\":\\\\\"부산날씨\\\\\",\\\\\"queryRank\\\\\":\\\\\"\\\\\",\\\\\"sessionId\\\\\":\\\\\"AmcJBUalXKR4MVr7MTcCjQ==\\\\\",\\\\\"spq\\\\\":true,\\\\\"start\\\\\":1,\\\\\"x\\\\\":\\\\\"\\\\\",\\\\\"y\\\\\":\\\\\"\\\\\"}}).query\":{\"regionType\":\"normal\",\"regionInfo\":[{\"type\":\"id\",\"generated\":true,\"id\":\"$ROOT_QUERY.nxPlaces({\\\\\"input\\\\\":{\\\\\"adult\\\\\":false,\\\\\"companySid\\\\\":\\\\\"\\\\\",\\\\\"display\\\\\":23,\\\\\"highlight\\\\\":true,\\\\\"ip\\\\\":\\\\\"35.201.229.46\\\\\",\\\\\"query\\\\\":\\\\\"부산날씨\\\\\",\\\\\"queryRank\\\\\":\\\\\"\\\\\",\\\\\"sessionId\\\\\":\\\\\"AmcJBUalXKR4MVr7MTcCjQ==\\\\\",\\\\\"spq\\\\\":true,\\\\\"start\\\\\":1,\\\\\"x\\\\\":\\\\\"\\\\\",\\\\\"y\\\\\":\\\\\"\\\\\"}}).query.regionInfo.0\",\"typename\":\"RegionInfo\"}],\"businessType\":\"category\",\"jibun\":null,\"san\":null,\"__typename\":\"QueryItem\"},\"$ROOT_QUERY.nxPlaces({\\\\\"input\\\\\":{\\\\\"adult\\\\\":false,\\\\\"companySid\\\\\":\\\\\"\\\\\",\\\\\"display\\\\\":23,\\\\\"highlight\\\\\":true,\\\\\"ip\\\\\":\\\\\"35.201.229.46\\\\\",\\\\\"query\\\\\":\\\\\"부산날씨\\\\\",\\\\\"queryRank\\\\\":\\\\\"\\\\\",\\\\\"sessionId\\\\\":\\\\\"AmcJBUalXKR4MVr7MTcCjQ==\\\\\",\\\\\"spq\\\\\":true,\\\\\"start\\\\\":1,\\\\\"x\\\\\":\\\\\"\\\\\",\\\\\"y\\\\\":\\\\\"\\\\\"}}).query.regionInfo.0\":{\"name\":\"부산광역시\",\"id\":null,\"region\":[{\"type\":\"id\",\"generated\":true,\"id\":\"$ROOT_QUERY.nxPlaces({\\\\\"input\\\\\":{\\\\\"adult\\\\\":false,\\\\\"companySid\\\\\":\\\\\"\\\\\",\\\\\"display\\\\\":23,\\\\\"highlight\\\\\":true,\\\\\"ip\\\\\":\\\\\"35.201.229.46\\\\\",\\\\\"query\\\\\":\\\\\"부산날씨\\\\\",\\\\\"queryRank\\\\\":\\\\\"\\\\\",\\\\\"sessionId\\\\\":\\\\\"AmcJBUalXKR4MVr7MTcCjQ==\\\\\",\\\\\"spq\\\\\":true,\\\\\"start\\\\\":1,\\\\\"x\\\\\":\\\\\"\\\\\",\\\\\"y\\\\\":\\\\\"\\\\\"}}).query.regionInfo.0.region.0\",\"typename\":\"Region\"}],\"x\":\"129.0750223\",\"y\":\"35.1798160\",\"lx\":\"128.7586700\",\"ly\":\"34.8314431\",\"rx\":\"129.3069988\",\"ry\":\"35.3943440\",\"__typename\":\"RegionInfo\"},\"$ROOT_QUERY.nxPlaces({\\\\\"input\\\\\":{\\\\\"adult\\\\\":false,\\\\\"companySid\\\\\":\\\\\"\\\\\",\\\\\"display\\\\\":23,\\\\\"highlight\\\\\":true,\\\\\"ip\\\\\":\\\\\"35.201.229.46\\\\\",\\\\\"query\\\\\":\\\\\"부산날씨\\\\\",\\\\\"queryRank\\\\\":\\\\\"\\\\\",\\\\\"sessionId\\\\\":\\\\\"AmcJBUalXKR4MVr7MTcCjQ==\\\\\",\\\\\"spq\\\\\":true,\\\\\"start\\\\\":1,\\\\\"x\\\\\":\\\\\"\\\\\",\\\\\"y\\\\\":\\\\\"\\\\\"}}).query.regionInfo.0.region.0\":{\"rcode\":\"08\",\"name\":\"부산광역시\",\"__typename\":\"Region\"},\"PlaceSummary:1517794037\":{\"id\":\"1517794037\",\"gdid\":\"1517794037,5:0.000000:0.321586:0.268877\",\"name\":\"비트포비아 서면던전\",\"subwayId\":null,\"normalizedName\":\"비트포비아 서면던전\",\"category\":\"방탈출카페\",\"categoryCodeList\":{\"type\":\"json\",\"json\":[\"221986\",\"221989\",\"230101\",\"1003320\"]},\"dbType\":\"drt\",\"distance\":\"13468km\",\"roadAddress\":\"부산 부산진구 동천로 66 5층\",\"address\":\"전포동 683-5\",\"fullAddress\":\"부산광역시 부산진구 전포동 683-5\",\"commonAddress\":\"부산 부산진구 전포동\",\"bookingUrl\":\"https:\\\\u002F\\\\u002Fm.booking.naver.com\\\\u002Fbooking\\\\u002F12\\\\u002Fbizes\\\\u002F304416\",\"phone\":\"051-818-4888\",\"virtualPhone\":\"0507-1483-4888\",\"businessHours\":\"평일 12:00~24:00 | 주말 09:30~24:00\",\"daysOff\":null,\"imageUrl\":\"https:\\\\u002F\\\\u002Fldb-phinf.pstatic.net\\\\u002F20191111_286\\\\u002F1573469258161fRkdU_JPEG\\\\u002FdmyQ7ZxM3_nNH1YvMYhc6BON.jpg\",\"imageCount\":9,\"x\":\"129.0625952\",\"y\":\"35.1546393\",\"cid\":\"1003320\",\"poiInfo\":null,\"isDelivery\":false,\"isCvsDelivery\":false,\"isPollingStation\":false,\"menus\":{\"type\":\"json\",\"json\":[\"1인가격 (2인이상 입장가능) 25,000\"]},\"streetPanorama\":{\"type\":\"id\",\"generated\":false,\"id\":\"Panorama:M6IfGGF8\\\\u002FkXrYR4WCZolhA==\",\"typename\":\"Panorama\"},\"isPublicGas\":null,\"isTableOrder\":false,\"isPreOrder\":false,\"isTakeOut\":false,\"hasBooking\":true,\"naverBookingCategory\":\"예약\",\"bookingDisplayName\":\"visitor_review\",\"bookingBusinessId\":\"304416\",\"bookingVisitId\":\"\",\"bookingPickupId\":\"\",\"easyOrder\":null,\"baemin\":null,\"yogiyo\":null,\"hasNPay\":true,\"talktalkUrl\":null,\"visitorReviewCount\":\"206\",\"visitorReviewScore\":\"4.75\",\"blogCafeReviewCount\":\"202\",\"bookingReviewCount\":\"190\",\"naverBookingHubId\":null,\"bookingHubUrl\":null,\"bookingHubButtonName\":null,\"newOpening\":null,\"__typename\":\"PlaceSummary\"},\"Panorama:M6IfGGF8\\\\u002FkXrYR4WCZolhA==\":{\"id\":\"M6IfGGF8\\\\u002FkXrYR4WCZolhA==\",\"pan\":\"6.21\",\"tilt\":\"10.00\",\"lat\":\"35.1545013\",\"lon\":\"129.0625802\",\"__typename\":\"Panorama\"},\"PlaceSummary:604275987\":{\"id\":\"604275987\",\"gdid\":\"604275987,5:0.000000:0.335108:0.244780\",\"name\":\"윤식당 차돌박이\",\"subwayId\":null,\"normalizedName\":\"윤식당 차돌박이\",\"category\":\"육류,고기요리\",\"categoryCodeList\":{\"type\":\"json\",\"json\":[\"220036\",\"220037\",\"220075\",\"220733\"]},\"dbType\":\"drt\",\"distance\":\"13475km\",\"roadAddress\":\"부산 해운대구 마린시티1로 127 아라트리움\",\"address\":\"우동 1436-2\",\"fullAddress\":\"부산광역시 해운대구 우동 1436-2\",\"commonAddress\":\"부산 해운대구 우동\",\"bookingUrl\":null,\"phone\":\"051-731-3338\",\"virtualPhone\":null,\"businessHours\":\"매일 11:30~22:00 15:00~17:00브레이크타임 라스트오더 21시까지 | 매일 11:30~15:00 점심특선\",\"daysOff\":null,\"imageUrl\":\"https:\\\\u002F\\\\u002Fldb-phinf.pstatic.net\\\\u002F20210118_219\\\\u002F1610949792861pPT1y_JPEG\\\\u002F0FJcHp1rfLt1VepwOTX3neia.jpg\",\"imageCount\":15,\"x\":\"129.1467019\",\"y\":\"35.1547803\",\"cid\":\"220733\",\"poiInfo\":null,\"isDelivery\":false,\"isCvsDelivery\":false,\"isPollingStation\":false,\"menus\":{\"type\":\"json\",\"json\":[\"10첩반상 점심특선 18,000\",\"20첩반상 삼합정식 33,000\",\"묵은지 차돌박이 삼합 1++ 25,000\",\"묵은지 차돌박이 1++ 21,000\",\"갈비살1++ 28,000\",\"꽃갈비살 33,000\",\"안창살1++ 33,000\",\"특미 육회 25,000\",\"생선구이 5,000\",\"계란찜 3,000\"]},\"streetPanorama\":{\"type\":\"id\",\"generated\":false,\"id\":\"Panorama:vZoY9ScIkuAx6Gn\\\\u002FYcHhkw==\",\"typename\":\"Panorama\"},\"isPublicGas\":null,\"isTableOrder\":null,\"isPreOrder\":null,\"isTakeOut\":null,\"hasBooking\":false,\"naverBookingCategory\":null,\"bookingDisplayName\":\"visitor_review\",\"bookingBusinessId\":null,\"bookingVisitId\":\"\",\"bookingPickupId\":\"\",\"easyOrder\":null,\"baemin\":null,\"yogiyo\":null,\"hasNPay\":false,\"talktalkUrl\":null,\"visitorReviewCount\":\"469\",\"visitorReviewScore\":\"4.54\",\"blogCafeReviewCount\":\"841\",\"bookingReviewCount\":\"0\",\"naverBookingHubId\":null,\"bookingHubUrl\":null,\"bookingHubButtonName\":null,\"newOpening\":null,\"__typename\":\"PlaceSummary\"},\"Panorama:vZoY9ScIkuAx6Gn\\\\u002FYcHhkw==\":{\"id\":\"vZoY9ScIkuAx6Gn\\\\u002FYcHhkw==\",\"pan\":\"-158.41\",\"tilt\":\"10.00\",\"lat\":\"35.1550690\",\"lon\":\"129.1468166\",\"__typename\":\"Panorama\"},\"PlaceSummary:1112145591\":{\"id\":\"1112145591\",\"gdid\":\"1112145591,5:0.000000:0.288443:0.241258\",\"name\":\"두루미202\",\"subwayId\":null,\"normalizedName\":\"두루미202\",\"category\":\"일식당\",\"categoryCodeList\":{\"type\":\"json\",\"json\":[\"220036\",\"220038\",\"220081\",\"220804\"]},\"dbType\":\"drt\",\"distance\":\"13472km\",\"roadAddress\":\"부산 수영구 광안로61번길 8 1층\",\"address\":\"민락동 179-7\",\"fullAddress\":\"부산광역시 수영구 민락동 179-7\",\"commonAddress\":\"부산 수영구 민락동\",\"bookingUrl\":null,\"phone\":\"070-8886-2222\",\"virtualPhone\":\"0507-1439-2239\",\"businessHours\":\"매일 17:00~00:00 Last Oder : 23:00\",\"daysOff\":null,\"imageUrl\":\"https:\\\\u002F\\\\u002Fldb-phinf.pstatic.net\\\\u002F20210325_130\\\\u002F1616672850916oR5KQ_JPEG\\\\u002Fv3sNJHcTB7YnWNqc499hKH6a.jpg\",\"imageCount\":3,\"x\":\"129.1193109\",\"y\":\"35.1547095\",\"cid\":\"220804\",\"poiInfo\":null,\"isDelivery\":false,\"isCvsDelivery\":false,\"isPollingStation\":false,\"menus\":{\"type\":\"json\",\"json\":[\"모츠나베(소) 27,000\",\"마늘볶음밥 6,000\",\"철판 야끼소바 15,000\",\"오꼬노미야끼 18,000\",\"가니미소마요밥 7,000\",\"명란감자전 13,000\",\"가니미소명란구이 15,000\",\"하이볼 8,000\",\"츄하이 5,000\",\"자몽구이 6,000\"]},\"streetPanorama\":{\"type\":\"id\",\"generated\":false,\"id\":\"Panorama:IaShG0Eo4r18MR5d3fCs8g==\",\"typename\":\"Panorama\"},\"isPublicGas\":null,\"isTableOrder\":null,\"isPreOrder\":null,\"isTakeOut\":null,\"hasBooking\":false,\"naverBookingCategory\":null,\"bookingDisplayName\":\"visitor_review\",\"bookingBusinessId\":null,\"bookingVisitId\":\"\",\"bookingPickupId\":\"\",\"easyOrder\":null,\"baemin\":null,\"yogiyo\":null,\"hasNPay\":false,\"talktalkUrl\":null,\"visitorReviewCount\":\"86\",\"visitorReviewScore\":\"4.46\",\"blogCafeReviewCount\":\"111\",\"bookingReviewCount\":\"0\",\"naverBookingHubId\":null,\"bookingHubUrl\":null,\"bookingHubButtonName\":null,\"newOpening\":null,\"__typename\":\"PlaceSummary\"},\"Panorama:IaShG0Eo4r18MR5d3fCs8g==\":{\"id\":\"IaShG0Eo4r18MR5d3fCs8g==\",\"pan\":\"148.71\",\"tilt\":\"10.00\",\"lat\":\"35.1547930\",\"lon\":\"129.1192600\",\"__typename\":\"Panorama\"},\"PlaceSummary:1217188999\":{\"id\":\"1217188999\",\"gdid\":\"1217188999,5:0.000000:0.117662:0.211927\",\"name\":\"JMFC실내축구센터\",\"subwayId\":null,\"normalizedName\":\"JMFC실내축구센터\",\"category\":\"축구교실\",\"categoryCodeList\":{\"type\":\"json\",\"json\":[\"222412\",\"222416\",\"222449\",\"222506\"]},\"dbType\":\"drt\",\"distance\":\"13473km\",\"roadAddress\":\"부산 수영구 광안해변로344번길 9-15 월드비치빌 4층\",\"address\":\"민락동 110-36 월드비치빌 4층\",\"fullAddress\":\"부산광역시 수영구 민락동 110-36 월드비치빌 4층\",\"commonAddress\":\"부산 수영구 민락동\",\"bookingUrl\":null,\"phone\":\"010-2201-6571\",\"virtualPhone\":null,\"businessHours\":\"평일 11:00~20:00 | 주말 14:00~20:00\",\"daysOff\":null,\"imageUrl\":\"https:\\\\u002F\\\\u002Fldb-phinf.pstatic.net\\\\u002F20180322_130\\\\u002F1521646018481ABeeA_JPEG\\\\u002Fr2sydDhsJPYJaIfzdTAocxra.jpg\",\"imageCount\":4,\"x\":\"129.1315273\",\"y\":\"35.1555969\",\"cid\":\"222506\",\"poiInfo\":null,\"isDelivery\":false,\"isCvsDelivery\":false,\"isPollingStation\":false,\"menus\":null,\"streetPanorama\":{\"type\":\"id\",\"generated\":false,\"id\":\"Panorama:SygORfweJnT+\\\\u002FUAP1Y9G8A==\",\"typename\":\"Panorama\"},\"isPublicGas\":null,\"isTableOrder\":null,\"isPreOrder\":null,\"isTakeOut\":null,\"hasBooking\":false,\"naverBookingCategory\":null,\"bookingDisplayName\":\"visitor_review\",\"bookingBusinessId\":null,\"bookingVisitId\":\"\",\"bookingPickupId\":\"\",\"easyOrder\":null,\"baemin\":null,\"yogiyo\":null,\"hasNPay\":false,\"talktalkUrl\":null,\"visitorReviewCount\":\"11\",\"visitorReviewScore\":null,\"blogCafeReviewCount\":\"0\",\"bookingReviewCount\":\"0\",\"naverBookingHubId\":null,\"bookingHubUrl\":null,\"bookingHubButtonName\":null,\"newOpening\":null,\"__typename\":\"PlaceSummary\"},\"Panorama:SygORfweJnT+\\\\u002FUAP1Y9G8A==\":{\"id\":\"SygORfweJnT+\\\\u002FUAP1Y9G8A==\",\"pan\":\"-5.61\",\"tilt\":\"10.00\",\"lat\":\"35.1554543\",\"lon\":\"129.1315413\",\"__typename\":\"Panorama\"},\"ROOT_QUERY\":{\"nxPlaces({\\\\\"input\\\\\":{\\\\\"adult\\\\\":false,\\\\\"companySid\\\\\":\\\\\"\\\\\",\\\\\"display\\\\\":23,\\\\\"highlight\\\\\":true,\\\\\"ip\\\\\":\\\\\"35.201.229.46\\\\\",\\\\\"query\\\\\":\\\\\"부산날씨\\\\\",\\\\\"queryRank\\\\\":\\\\\"\\\\\",\\\\\"sessionId\\\\\":\\\\\"AmcJBUalXKR4MVr7MTcCjQ==\\\\\",\\\\\"spq\\\\\":true,\\\\\"start\\\\\":1,\\\\\"x\\\\\":\\\\\"\\\\\",\\\\\"y\\\\\":\\\\\"\\\\\"}})\":{\"type\":\"id\",\"generated\":true,\"id\":\"$ROOT_QUERY.nxPlaces({\\\\\"input\\\\\":{\\\\\"adult\\\\\":false,\\\\\"companySid\\\\\":\\\\\"\\\\\",\\\\\"display\\\\\":23,\\\\\"highlight\\\\\":true,\\\\\"ip\\\\\":\\\\\"35.201.229.46\\\\\",\\\\\"query\\\\\":\\\\\"부산날씨\\\\\",\\\\\"queryRank\\\\\":\\\\\"\\\\\",\\\\\"sessionId\\\\\":\\\\\"AmcJBUalXKR4MVr7MTcCjQ==\\\\\",\\\\\"spq\\\\\":true,\\\\\"start\\\\\":1,\\\\\"x\\\\\":\\\\\"\\\\\",\\\\\"y\\\\\":\\\\\"\\\\\"}})\",\"typename\":\"PlacesResult\"},\"nxPlaces({\\\\\"input\\\\\":{\\\\\"adult\\\\\":false,\\\\\"companySid\\\\\":\\\\\"\\\\\",\\\\\"deviceType\\\\\":\\\\\"mobile\\\\\",\\\\\"display\\\\\":23,\\\\\"highlight\\\\\":true,\\\\\"ip\\\\\":\\\\\"35.201.229.46\\\\\",\\\\\"query\\\\\":\\\\\"부산날씨\\\\\",\\\\\"queryRank\\\\\":\\\\\"\\\\\",\\\\\"sessionId\\\\\":\\\\\"AmcJBUalXKR4MVr7MTcCjQ==\\\\\",\\\\\"sm\\\\\":\\\\\"\\\\\",\\\\\"spq\\\\\":true,\\\\\"ssc\\\\\":\\\\\"tab.nx.all\\\\\",\\\\\"start\\\\\":1,\\\\\"x\\\\\":\\\\\"\\\\\",\\\\\"y\\\\\":\\\\\"\\\\\"}})\":{\"type\":\"id\",\"generated\":true,\"id\":\"$ROOT_QUERY.nxPlaces({\\\\\"input\\\\\":{\\\\\"adult\\\\\":false,\\\\\"companySid\\\\\":\\\\\"\\\\\",\\\\\"deviceType\\\\\":\\\\\"mobile\\\\\",\\\\\"display\\\\\":23,\\\\\"highlight\\\\\":true,\\\\\"ip\\\\\":\\\\\"35.201.229.46\\\\\",\\\\\"query\\\\\":\\\\\"부산날씨\\\\\",\\\\\"queryRank\\\\\":\\\\\"\\\\\",\\\\\"sessionId\\\\\":\\\\\"AmcJBUalXKR4MVr7MTcCjQ==\\\\\",\\\\\"sm\\\\\":\\\\\"\\\\\",\\\\\"spq\\\\\":true,\\\\\"ssc\\\\\":\\\\\"tab.nx.all\\\\\",\\\\\"start\\\\\":1,\\\\\"x\\\\\":\\\\\"\\\\\",\\\\\"y\\\\\":\\\\\"\\\\\"}})\",\"typename\":\"PlacesResult\"},\"adBusinesses({\\\\\"input\\\\\":{\\\\\"businessType\\\\\":\\\\\"place\\\\\",\\\\\"country\\\\\":\\\\\"TW\\\\\",\\\\\"deviceType\\\\\":\\\\\"pc\\\\\",\\\\\"isNx\\\\\":true,\\\\\"localQueryString\\\\\":\\\\\"pr=place_nx&version=1.1.3&section=site&section=query&in_enc=utf-8&site_start=1&site_display=23&force_use_center_coord=1&query_rank=0&query=%EB%B6%80%EC%82%B0%EB%82%A0%EC%94%A8&site_sort=0&ip=35.201.229.46&boost_partner=1&cid_correct=1&ssid=AmcJBUalXKR4MVr7MTcCjQ%3D%3D&hl=4&on_apt_dong=1&ic=nx&force_match_keyword=1\\\\\",\\\\\"query\\\\\":\\\\\"부산날씨\\\\\",\\\\\"siteSort\\\\\":\\\\\"0\\\\\",\\\\\"ssc\\\\\":\\\\\"tab.nx.all\\\\\"}})\":{\"type\":\"id\",\"generated\":true,\"id\":\"$ROOT_QUERY.adBusinesses({\\\\\"input\\\\\":{\\\\\"businessType\\\\\":\\\\\"place\\\\\",\\\\\"country\\\\\":\\\\\"TW\\\\\",\\\\\"deviceType\\\\\":\\\\\"pc\\\\\",\\\\\"isNx\\\\\":true,\\\\\"localQueryString\\\\\":\\\\\"pr=place_nx&version=1.1.3&section=site&section=query&in_enc=utf-8&site_start=1&site_display=23&force_use_center_coord=1&query_rank=0&query=%EB%B6%80%EC%82%B0%EB%82%A0%EC%94%A8&site_sort=0&ip=35.201.229.46&boost_partner=1&cid_correct=1&ssid=AmcJBUalXKR4MVr7MTcCjQ%3D%3D&hl=4&on_apt_dong=1&ic=nx&force_match_keyword=1\\\\\",\\\\\"query\\\\\":\\\\\"부산날씨\\\\\",\\\\\"siteSort\\\\\":\\\\\"0\\\\\",\\\\\"ssc\\\\\":\\\\\"tab.nx.all\\\\\"}})\",\"typename\":\"PlaceAdsResult\"}},\"$ROOT_QUERY.nxPlaces({\\\\\"input\\\\\":{\\\\\"adult\\\\\":false,\\\\\"companySid\\\\\":\\\\\"\\\\\",\\\\\"deviceType\\\\\":\\\\\"mobile\\\\\",\\\\\"display\\\\\":23,\\\\\"highlight\\\\\":true,\\\\\"ip\\\\\":\\\\\"35.201.229.46\\\\\",\\\\\"query\\\\\":\\\\\"부산날씨\\\\\",\\\\\"queryRank\\\\\":\\\\\"\\\\\",\\\\\"sessionId\\\\\":\\\\\"AmcJBUalXKR4MVr7MTcCjQ==\\\\\",\\\\\"sm\\\\\":\\\\\"\\\\\",\\\\\"spq\\\\\":true,\\\\\"ssc\\\\\":\\\\\"tab.nx.all\\\\\",\\\\\"start\\\\\":1,\\\\\"x\\\\\":\\\\\"\\\\\",\\\\\"y\\\\\":\\\\\"\\\\\"}})\":{\"searchByAddress({\\\\\"onlyAddressType\\\\\":true})\":null,\"__typename\":\"PlacesResult\",\"localType\":3,\"subPath\":\"list\",\"query\":{\"type\":\"id\",\"generated\":true,\"id\":\"$ROOT_QUERY.nxPlaces({\\\\\"input\\\\\":{\\\\\"adult\\\\\":false,\\\\\"companySid\\\\\":\\\\\"\\\\\",\\\\\"deviceType\\\\\":\\\\\"mobile\\\\\",\\\\\"display\\\\\":23,\\\\\"highlight\\\\\":true,\\\\\"ip\\\\\":\\\\\"35.201.229.46\\\\\",\\\\\"query\\\\\":\\\\\"부산날씨\\\\\",\\\\\"queryRank\\\\\":\\\\\"\\\\\",\\\\\"sessionId\\\\\":\\\\\"AmcJBUalXKR4MVr7MTcCjQ==\\\\\",\\\\\"sm\\\\\":\\\\\"\\\\\",\\\\\"spq\\\\\":true,\\\\\"ssc\\\\\":\\\\\"tab.nx.all\\\\\",\\\\\"start\\\\\":1,\\\\\"x\\\\\":\\\\\"\\\\\",\\\\\"y\\\\\":\\\\\"\\\\\"}}).query\",\"typename\":\"QueryItem\"},\"searchGuide\":null,\"total\":4,\"items\":[{\"type\":\"id\",\"generated\":false,\"id\":\"PlaceSummary:1517794037\",\"typename\":\"PlaceSummary\"},{\"type\":\"id\",\"generated\":false,\"id\":\"PlaceSummary:604275987\",\"typename\":\"PlaceSummary\"},{\"type\":\"id\",\"generated\":false,\"id\":\"PlaceSummary:1112145591\",\"typename\":\"PlaceSummary\"},{\"type\":\"id\",\"generated\":false,\"id\":\"PlaceSummary:1217188999\",\"typename\":\"PlaceSummary\"}],\"queryString\":\"pr=place_nx&version=1.1.3&section=site&section=query&in_enc=utf-8&site_start=1&site_display=23&force_use_center_coord=1&query_rank=0&query=%EB%B6%80%EC%82%B0%EB%82%A0%EC%94%A8&site_sort=0&ip=35.201.229.46&boost_partner=1&cid_correct=1&ssid=AmcJBUalXKR4MVr7MTcCjQ%3D%3D&hl=4&on_apt_dong=1&ic=nx&force_match_keyword=1\",\"siteSort\":\"0\"},\"$ROOT_QUERY.nxPlaces({\\\\\"input\\\\\":{\\\\\"adult\\\\\":false,\\\\\"companySid\\\\\":\\\\\"\\\\\",\\\\\"deviceType\\\\\":\\\\\"mobile\\\\\",\\\\\"display\\\\\":23,\\\\\"highlight\\\\\":true,\\\\\"ip\\\\\":\\\\\"35.201.229.46\\\\\",\\\\\"query\\\\\":\\\\\"부산날씨\\\\\",\\\\\"queryRank\\\\\":\\\\\"\\\\\",\\\\\"sessionId\\\\\":\\\\\"AmcJBUalXKR4MVr7MTcCjQ==\\\\\",\\\\\"sm\\\\\":\\\\\"\\\\\",\\\\\"spq\\\\\":true,\\\\\"ssc\\\\\":\\\\\"tab.nx.all\\\\\",\\\\\"start\\\\\":1,\\\\\"x\\\\\":\\\\\"\\\\\",\\\\\"y\\\\\":\\\\\"\\\\\"}}).query\":{\"regionType\":\"normal\",\"regionInfo\":[{\"type\":\"id\",\"generated\":true,\"id\":\"$ROOT_QUERY.nxPlaces({\\\\\"input\\\\\":{\\\\\"adult\\\\\":false,\\\\\"companySid\\\\\":\\\\\"\\\\\",\\\\\"deviceType\\\\\":\\\\\"mobile\\\\\",\\\\\"display\\\\\":23,\\\\\"highlight\\\\\":true,\\\\\"ip\\\\\":\\\\\"35.201.229.46\\\\\",\\\\\"query\\\\\":\\\\\"부산날씨\\\\\",\\\\\"queryRank\\\\\":\\\\\"\\\\\",\\\\\"sessionId\\\\\":\\\\\"AmcJBUalXKR4MVr7MTcCjQ==\\\\\",\\\\\"sm\\\\\":\\\\\"\\\\\",\\\\\"spq\\\\\":true,\\\\\"ssc\\\\\":\\\\\"tab.nx.all\\\\\",\\\\\"start\\\\\":1,\\\\\"x\\\\\":\\\\\"\\\\\",\\\\\"y\\\\\":\\\\\"\\\\\"}}).query.regionInfo.0\",\"typename\":\"RegionInfo\"}],\"businessType\":\"category\",\"jibun\":null,\"san\":null,\"__typename\":\"QueryItem\"},\"$ROOT_QUERY.nxPlaces({\\\\\"input\\\\\":{\\\\\"adult\\\\\":false,\\\\\"companySid\\\\\":\\\\\"\\\\\",\\\\\"deviceType\\\\\":\\\\\"mobile\\\\\",\\\\\"display\\\\\":23,\\\\\"highlight\\\\\":true,\\\\\"ip\\\\\":\\\\\"35.201.229.46\\\\\",\\\\\"query\\\\\":\\\\\"부산날씨\\\\\",\\\\\"queryRank\\\\\":\\\\\"\\\\\",\\\\\"sessionId\\\\\":\\\\\"AmcJBUalXKR4MVr7MTcCjQ==\\\\\",\\\\\"sm\\\\\":\\\\\"\\\\\",\\\\\"spq\\\\\":true,\\\\\"ssc\\\\\":\\\\\"tab.nx.all\\\\\",\\\\\"start\\\\\":1,\\\\\"x\\\\\":\\\\\"\\\\\",\\\\\"y\\\\\":\\\\\"\\\\\"}}).query.regionInfo.0\":{\"name\":\"부산광역시\",\"id\":null,\"region\":[{\"type\":\"id\",\"generated\":true,\"id\":\"$ROOT_QUERY.nxPlaces({\\\\\"input\\\\\":{\\\\\"adult\\\\\":false,\\\\\"companySid\\\\\":\\\\\"\\\\\",\\\\\"deviceType\\\\\":\\\\\"mobile\\\\\",\\\\\"display\\\\\":23,\\\\\"highlight\\\\\":true,\\\\\"ip\\\\\":\\\\\"35.201.229.46\\\\\",\\\\\"query\\\\\":\\\\\"부산날씨\\\\\",\\\\\"queryRank\\\\\":\\\\\"\\\\\",\\\\\"sessionId\\\\\":\\\\\"AmcJBUalXKR4MVr7MTcCjQ==\\\\\",\\\\\"sm\\\\\":\\\\\"\\\\\",\\\\\"spq\\\\\":true,\\\\\"ssc\\\\\":\\\\\"tab.nx.all\\\\\",\\\\\"start\\\\\":1,\\\\\"x\\\\\":\\\\\"\\\\\",\\\\\"y\\\\\":\\\\\"\\\\\"}}).query.regionInfo.0.region.0\",\"typename\":\"Region\"}],\"x\":\"129.0750223\",\"y\":\"35.1798160\",\"lx\":\"128.7586700\",\"ly\":\"34.8314431\",\"rx\":\"129.3069988\",\"ry\":\"35.3943440\",\"__typename\":\"RegionInfo\"},\"$ROOT_QUERY.nxPlaces({\\\\\"input\\\\\":{\\\\\"adult\\\\\":false,\\\\\"companySid\\\\\":\\\\\"\\\\\",\\\\\"deviceType\\\\\":\\\\\"mobile\\\\\",\\\\\"display\\\\\":23,\\\\\"highlight\\\\\":true,\\\\\"ip\\\\\":\\\\\"35.201.229.46\\\\\",\\\\\"query\\\\\":\\\\\"부산날씨\\\\\",\\\\\"queryRank\\\\\":\\\\\"\\\\\",\\\\\"sessionId\\\\\":\\\\\"AmcJBUalXKR4MVr7MTcCjQ==\\\\\",\\\\\"sm\\\\\":\\\\\"\\\\\",\\\\\"spq\\\\\":true,\\\\\"ssc\\\\\":\\\\\"tab.nx.all\\\\\",\\\\\"start\\\\\":1,\\\\\"x\\\\\":\\\\\"\\\\\",\\\\\"y\\\\\":\\\\\"\\\\\"}}).query.regionInfo.0.region.0\":{\"rcode\":\"08\",\"name\":\"부산광역시\",\"__typename\":\"Region\"},\"$ROOT_QUERY.adBusinesses({\\\\\"input\\\\\":{\\\\\"businessType\\\\\":\\\\\"place\\\\\",\\\\\"country\\\\\":\\\\\"TW\\\\\",\\\\\"deviceType\\\\\":\\\\\"pc\\\\\",\\\\\"isNx\\\\\":true,\\\\\"localQueryString\\\\\":\\\\\"pr=place_nx&version=1.1.3&section=site&section=query&in_enc=utf-8&site_start=1&site_display=23&force_use_center_coord=1&query_rank=0&query=%EB%B6%80%EC%82%B0%EB%82%A0%EC%94%A8&site_sort=0&ip=35.201.229.46&boost_partner=1&cid_correct=1&ssid=AmcJBUalXKR4MVr7MTcCjQ%3D%3D&hl=4&on_apt_dong=1&ic=nx&force_match_keyword=1\\\\\",\\\\\"query\\\\\":\\\\\"부산날씨\\\\\",\\\\\"siteSort\\\\\":\\\\\"0\\\\\",\\\\\"ssc\\\\\":\\\\\"tab.nx.all\\\\\"}})\":{\"total\":0,\"isExpandedType\":false,\"items\":[],\"__typename\":\"PlaceAdsResult\"}};\\n    naver.search.ext.loc.salt.__PLACE_STATE__ = {\"locale\":\"ko\",\"localeResources\":{\"ko\":{\"translation\":{\"home\":\"홈\",\"feed\":\"소식\",\"emptyFeed\":\"소식\",\"menu\":\"메뉴\",\"emptyMenu\":\"메뉴\",\"review\":\"리뷰\",\"photo\":\"사진\",\"location\":\"지도\",\"around\":\"주변\",\"amusement\":\"즐길거리\",\"room\":\"객실\",\"price\":\"가격\",\"emptyPrice\":\"가격\",\"stylist\":\"스타일리스트\",\"style\":\"시술\",\"styleinfo\":\"시술정보\",\"shoppingProduction\":\"상품\",\"bookingDeliveryItem\":\"상품\",\"traditionalMarket\":\"장보기\",\"oilPrice\":\"유가정보\",\"ticket\":\"티켓\",\"ncr\":\"공연·행사\",\"innerBusiness\":\"내부시설\",\"booking\":\"예약\",\"emptyBooking\":\"예약\",\"booking_room\":\"객실 예약\",\"booking_ticket\":\"예매\",\"movie_tab\":\"예매\",\"navi_start\":\"출발\",\"navi_destination\":\"도착\",\"blog\":\"블로그\",\"blog_review\":\"블로그리뷰\",\"also_searched_place\":\"함께 많이 찾아본 곳\",\"related_link\":\"관련 링크\",\"naver_search_link\":\"통합검색 결과보기\",\"order\":\"주문\",\"orderer\":\"주문자\",\"orderer_review\":\"주문자{{separator}}리뷰\",\"booking_review\":\"예약자 리뷰\",\"customer\":\"예약자\",\"customer_review\":\"예약자{{separator}}리뷰\",\"book_and_order\":\"예약·주문\",\"book_and_order_review\":\"예약·주문 리뷰\",\"booking_and_qna\":\"예약 및 이용 안내\",\"bookmark\":\"저장하기\",\"route\":\"길찾기\",\"share\":\"공유\",\"address\":\"주소\",\"qna\":\"문의\",\"road_address\":\"도로명\",\"old_address\":\"지번\",\"clipboard\":\"복사\",\"map\":\"지도\",\"navigation\":\"내비게이션\",\"roadview\":\"거리뷰\",\"show_map\":\"지도보기\",\"show_list\":\"목록보기\",\"show_more\":\"더보기\",\"services\":\"일반예약상품\",\"review_photos\":\"예약자 사진\",\"less\":\"접기\",\"saved\":\"저장됨\",\"save\":\"저장\",\"transit\":\"대중교통\",\"car\":\"자동차\",\"walk\":\"도보\",\"prev\":\"이전\",\"next\":\"다음\",\"booking_pickup\":\"포장예약\",\"delivery\":\"배달\",\"delivery_preparing\":\"배달준비중\",\"delivery_closed\":\"배달종료\",\"standard\":\"기본\",\"call\":\"전화\",\"details\":\"소개\",\"unfold\":\"펼쳐보기\",\"menu_table\":\"가격표\",\"view_images\":\"이미지로 보기\",\"free\":\"무료\",\"page\":\"페이지\",\"when\":\"기간\",\"rates\":\"요금\",\"host\":\"주최\",\"prices\":\"가격비교\",\"exhibitions\":\"전시\",\"event_exhibitions\":\"전시·행사\",\"event_festival\":\"축제·행사\",\"visit\":\"방문\",\"visitor\":\"방문자\",\"visitor_review\":\"방문자{{separator}}리뷰\",\"ticketer\":\"예매자\",\"ticketer_review\":\"예매자{{separator}}리뷰\",\"nPayPromotion\":\"N예약 혜택\",\"nDeliveryPromotion\":\"N배달 혜택\",\"waiting\":\"대기현황\",\"michelin\":\"미쉐린 가이드\",\"receipt\":\"영수증\",\"recentlyBooked\":\"최근 {{text}}명 예약\",\"krw\":\"{{text}}원\",\"all_review\":\"전체 리뷰\",\"by_latest\":\"최신순\",\"by_rating\":\"평점순\",\"highest_rated\":\"평점높은순\",\"lowest_rated\":\"평점낮은순\",\"set_search_location\":\"검색 위치 설정\",\"centerBy_map\":\"현재 지도 중심\",\"centerBy_my\":\"내 위치 중심\",\"sortBy\":\"정렬 기준\",\"sortBy_precision\":\"관련도순\",\"sortBy_reviewCount\":\"리뷰순\",\"sortBy_distance\":\"거리순\",\"sortBy_price\":\"가격순\",\"cancel\":\"취소\",\"smartOrder\":\"스마트주문\",\"gift\":\"선물하기\",\"michelin_guide\":\"미쉐린 가이드 서울\",\"chefs_commitments\":\"셰프와 레스토랑의 다짐\",\"popular_menu\":\"인기메뉴\"}}}};\\n    (function (urls) {\\n      var newUrls = urls;\\n      if (!(newUrls && newUrls.length > 0)) return;\\n      for (var i=0; i < newUrls.length; i++) {\\n      nhn.common.load_js(newUrls[i],function(){},false);\\n      }\\n    })([\\'https://p-place.pstatic.net/assets/place/js/es2017.min.shim.0826.js\\',\\'https://p-place.pstatic.net/assets/place/js/smoothscroll.shim.0529.js\\',\\'https://p-place.pstatic.net/assets/place/js/nxplace.pc.nxPlacePcList.b69983e15e97c70f83a2.js?jsversion=new\\']);\\n    nhn.common.load_js(\\'https://ssl.pstatic.net/adimg3.search/adpost/js/ad.js\\',function(){},true);\\n  </script>\\n    </div>\\n  <section class=\"sc_new sp_nvideo _au_video_collection _prs_vdo_lst\"> <div class=\"api_subject_bx _list_type\"> <div class=\"api_title_area\"> <h2 class=\"api_title\">동영상</h2> </div> <ul class=\"video_default_list _svp_list\"> <li class=\"video_item \" > <div class=\"video_bx api_ani_send\"> <div class=\"thumb_area\"> <a href=\"http://news.naver.com/main/read.nhn?mode=LPOD&mid=tvh&oid=422&aid=0000497798\" target=\"_blank\" class=\"link\" onclick=\"goOtherCR(this, \\'a=vdo_lst*g.thum&r=1&i=1016616097_08138262_000000000000000000497798&g=\\'+ urlencode(\\'1:1:0:1111|08138262_000000000000000000497798:4220000497798\\') +\\'&u=\\'+urlencode(this.href));\" > <img src=\"https://search.pstatic.net/common/?src=https%3A%2F%2Fimgnews.pstatic.net%2Fimage%2F422%2F2021%2F08%2F02%2Fcover_cover_MYH20210802009500038_20210802130814027.jpg%3Ftype%3Dw540&type=ac324_186\" onError=\"$Element(this).className(\\'bg_nimg2\\').attr({src:\\'data:image/gif;base64,R0lGODlhAQABAIAAAAAAAP///yH5BAEAAAAALAAAAAABAAEAAAIBRAA7\\',alt:\\'이미지준비중\\'})\" width=\"162\" height=\"93\" alt=\"[날씨] 곳곳 비, 시간\" class=\"thumb api_get\"> <i class=\"spnew api_ico_video quick\">동영상 바로재생 버튼</i> <span class=\"time\" aria-label=\"재생시간 00:01:33\">01:33</span> </a> </div> <div class=\"info_area\"> <div class=\"api_save_group _keep_wrap\"> <a href=\"#\" role=\"button\" class=\"btn_save _keep_trigger\" data-cr-on=\"a=vdo_lst.kep\" data-url=\"http://news.naver.com/main/read.nhn?mode=LPOD&mid=tvh&oid=422&aid=0000497798\" aria-pressed=\"false\"><i class=\"spnew ico_save\">문서 저장하기</i></a> <div class=\"api_ly_save _keep_save_layer\"> <a href=\"#\" role=\"button\" class=\"spnew_af item item_report _report\" onclick=\"tCR(\\'a=vdo_lst.report&u=javascript\\');return false;\" data-report=\"\" data-toggle-class=\"active\" data-on-text=\"신고된 영상입니다.\">신고하기</a> <a href=\"#\" role=\"button\" class=\"spnew_af item item_save _keep_save\" data-cr-on=\"a=vdo_lst.kepon\" data-cr-off=\"a=vdo_lst.kepoff\">Keep에 저장</a> <a href=\"https://keep.naver.com/\" onClick=\"return goOtherCR(this,\\'a=vdo_lst.kephome&r=&i=&u=\\'+urlencode(this.href));\" class=\"spnew_af item item_quick\">Keep 바로가기</a> </div> </div> <a class=\"info_title _ellipsis\" style=\"max-height:45px\" target=\"_blank\" href=\"http://news.naver.com/main/read.nhn?mode=LPOD&mid=tvh&oid=422&aid=0000497798\" onClick=\"goOtherCR(this, \\'a=vdo_lst*g.tit&r=1&i=1016616097_08138262_000000000000000000497798&g=\\'+ urlencode(\\'1:1:0:1111|08138262_000000000000000000497798:4220000497798\\') +\\'&u=\\'+urlencode(this.href))\" > <span class=\"text _text\">[<strong class=\"hl\">날씨</strong>] 곳곳 비, 시간당 50㎜ 호우…낮 무더위 계속</span> </a> <div class=\"info_sub\"> <div class=\"desc_group\"> <span class=\"origin\">네이버 뉴스</span><a href=\"http://www.yonhapnewstv.co.kr\" target=\"_blank\" onclick=\"goOtherCR(this, \\'a=vdo_lst*g.cha&r=1&i=1016616097_08138262_000000000000000000497798&g=\\'+ urlencode(\\'1:1:0:1111|08138262_000000000000000000497798:4220000497798\\') +\\'&u=\\'+urlencode(this.href))\" class=\"channel\" title=\"연합뉴스TV\">연합뉴스TV</a></div> <div class=\"desc_group\"><span class=\"desc\">8분 전</span></div> </div> </div> </div> </li> <li class=\"video_item _svp_item \" data-cr-area=\"vdo_lst*d\" data-cr-prefix=\"vdo_lst\" data-cr-gdid=\"2550431020_88172b92_000021653805\" data-cr-gparam=\"2:1:0:1111|88172b92_000021653805:0\" data-cr-rank=\"2\" data-cr-url=\"https://tv.naver.com/v/21653805\" > <div class=\"video_bx api_ani_send _svp_content\"> <div class=\"thumb_area\"> <a href=\"https://tv.naver.com/v/21653805\" target=\"_blank\" class=\"link _svp_trigger\" data-auto-play=\"true\" data-source=\"naver\" data-is-visible-close-btn=\"true\" data-api=\"https://s.search.naver.com/p/video/search.naver?where=inkey&amp;vid=88172b92_000021653805:0&amp;ie=&ie=utf8&amp;rev=44\" > <img src=\"https://search.pstatic.net/common/?src=https%3A%2F%2Fphinf.pstatic.net%2Ftvcast%2F20210802_34%2FcC6nd_1627875819558023Wd_JPEG%2Fcover_0011093881_001_20210802124305269.jpg&type=ac324_186\" onError=\"$Element(this).className(\\'bg_nimg2\\').attr({src:\\'data:image/gif;base64,R0lGODlhAQABAIAAAAAAAP///yH5BAEAAAAALAAAAAABAAEAAAIBRAA7\\',alt:\\'이미지준비중\\'})\" width=\"162\" height=\"93\" alt=\"[뉴스12 날씨] 밤까지\" class=\"thumb api_get\"> <i class=\"spnew api_ico_video quick\">동영상 바로재생 버튼</i> <span class=\"time\" aria-label=\"재생시간 00:01:37\">01:37</span> </a> </div> <div class=\"info_area\"> <div class=\"api_save_group _keep_wrap\"> <a href=\"#\" role=\"button\" class=\"btn_save _keep_trigger\" data-cr-on=\"a=vdo_lst.kep\" data-url=\"https://tv.naver.com/v/21653805\" aria-pressed=\"false\"><i class=\"spnew ico_save\">문서 저장하기</i></a> <div class=\"api_ly_save _keep_save_layer\"> <a href=\"#\" role=\"button\" class=\"spnew_af item item_report _report\" onclick=\"tCR(\\'a=vdo_lst.report&u=javascript\\');return false;\" data-report=\"\" data-toggle-class=\"active\" data-on-text=\"신고된 영상입니다.\">신고하기</a> <a href=\"#\" role=\"button\" class=\"spnew_af item item_save _keep_save\" data-cr-on=\"a=vdo_lst.kepon\" data-cr-off=\"a=vdo_lst.kepoff\">Keep에 저장</a> <a href=\"https://keep.naver.com/\" onClick=\"return goOtherCR(this,\\'a=vdo_lst.kephome&r=&i=&u=\\'+urlencode(this.href));\" class=\"spnew_af item item_quick\">Keep 바로가기</a> </div> </div> <a class=\"info_title _ellipsis\" style=\"max-height:45px\" target=\"_blank\" href=\"https://tv.naver.com/v/21653805\" onClick=\"goOtherCR(this, \\'a=vdo_lst*d.tit&r=2&i=2550431020_88172b92_000021653805&g=\\'+ urlencode(\\'2:1:0:1111|88172b92_000021653805:0\\') +\\'&u=\\'+urlencode(this.href))\" > <span class=\"text _text\">[뉴스12 <strong class=\"hl\">날씨</strong>] 밤까지 곳에 따라 강한 비…많은 곳 최고 90mm</span> </a> <div class=\"info_sub\"> <div class=\"desc_group\"> <span class=\"origin\">네이버TV</span><a href=\"https://tv.naver.com/kbsnews\" target=\"_blank\" onclick=\"goOtherCR(this, \\'a=vdo_lst*d.cha&r=2&i=2550431020_88172b92_000021653805&g=\\'+ urlencode(\\'2:1:0:1111|88172b92_000021653805:0\\') +\\'&u=\\'+urlencode(this.href))\" class=\"channel\" title=\"KBS뉴스\">KBS뉴스</a></div> <div class=\"desc_group\"><span class=\"desc\"><i class=\"spnew api_ico_count\">재생수</i>120</span><span class=\"desc\">33분 전</span></div> </div> </div> </div> <div class=\"video_common_player_wrap _svp_target\"></div> </li> <li class=\"video_item _svp_item \" data-cr-area=\"vdo_lst*d\" data-cr-prefix=\"vdo_lst\" data-cr-gdid=\"2550431020_8814ab3d_000021653001\" data-cr-gparam=\"3:1:0:1111|8814ab3d_000021653001:0\" data-cr-rank=\"3\" data-cr-url=\"https://tv.naver.com/v/21653001\" > <div class=\"video_bx api_ani_send _svp_content\"> <div class=\"thumb_area\"> <a href=\"https://tv.naver.com/v/21653001\" target=\"_blank\" class=\"link _svp_trigger\" data-auto-play=\"true\" data-source=\"naver\" data-is-visible-close-btn=\"true\" data-api=\"https://s.search.naver.com/p/video/search.naver?where=inkey&amp;vid=8814ab3d_000021653001:0&amp;ie=&ie=utf8&amp;rev=44\" > <img src=\"https://search.pstatic.net/common/?src=https%3A%2F%2Fphinf.pstatic.net%2Ftvcast%2F20210802_214%2FheXEX_1627872689470fPaAq_JPEG%2Fcover_cover_202108021144502260_t_20210802115106361.jpg&type=ac324_186\" onError=\"$Element(this).className(\\'bg_nimg2\\').attr({src:\\'data:image/gif;base64,R0lGODlhAQABAIAAAAAAAP///yH5BAEAAAAALAAAAAABAAEAAAIBRAA7\\',alt:\\'이미지준비중\\'})\" width=\"162\" height=\"93\" alt=\"[날씨] 오늘 무더위 속\" class=\"thumb api_get\"> <i class=\"spnew api_ico_video quick\">동영상 바로재생 버튼</i> <span class=\"time\" aria-label=\"재생시간 00:00:55\">00:55</span> </a> </div> <div class=\"info_area\"> <div class=\"api_save_group _keep_wrap\"> <a href=\"#\" role=\"button\" class=\"btn_save _keep_trigger\" data-cr-on=\"a=vdo_lst.kep\" data-url=\"https://tv.naver.com/v/21653001\" aria-pressed=\"false\"><i class=\"spnew ico_save\">문서 저장하기</i></a> <div class=\"api_ly_save _keep_save_layer\"> <a href=\"#\" role=\"button\" class=\"spnew_af item item_report _report\" onclick=\"tCR(\\'a=vdo_lst.report&u=javascript\\');return false;\" data-report=\"\" data-toggle-class=\"active\" data-on-text=\"신고된 영상입니다.\">신고하기</a> <a href=\"#\" role=\"button\" class=\"spnew_af item item_save _keep_save\" data-cr-on=\"a=vdo_lst.kepon\" data-cr-off=\"a=vdo_lst.kepoff\">Keep에 저장</a> <a href=\"https://keep.naver.com/\" onClick=\"return goOtherCR(this,\\'a=vdo_lst.kephome&r=&i=&u=\\'+urlencode(this.href));\" class=\"spnew_af item item_quick\">Keep 바로가기</a> </div> </div> <a class=\"info_title _ellipsis\" style=\"max-height:45px\" target=\"_blank\" href=\"https://tv.naver.com/v/21653001\" onClick=\"goOtherCR(this, \\'a=vdo_lst*d.tit&r=3&i=2550431020_8814ab3d_000021653001&g=\\'+ urlencode(\\'3:1:0:1111|8814ab3d_000021653001:0\\') +\\'&u=\\'+urlencode(this.href))\" > <span class=\"text _text\">[<strong class=\"hl\">날씨</strong>] 오늘 무더위 속 국지성 호우...시간당 50mm↑</span> </a> <div class=\"info_sub\"> <div class=\"desc_group\"> <span class=\"origin\">네이버TV</span><a href=\"https://tv.naver.com/ytnnews24\" target=\"_blank\" onclick=\"goOtherCR(this, \\'a=vdo_lst*d.cha&r=3&i=2550431020_8814ab3d_000021653001&g=\\'+ urlencode(\\'3:1:0:1111|8814ab3d_000021653001:0\\') +\\'&u=\\'+urlencode(this.href))\" class=\"channel\" title=\"뉴스는 YTN\">뉴스는 YTN</a></div> <div class=\"desc_group\"><span class=\"desc\"><i class=\"spnew api_ico_count\">재생수</i>2,113</span><span class=\"desc\">1시간 전</span></div> </div> </div> </div> <div class=\"video_common_player_wrap _svp_target\"></div> </li> <li class=\"video_item _svp_item \" data-cr-area=\"vdo_lst*d\" data-cr-prefix=\"vdo_lst\" data-cr-gdid=\"2550431020_8815b1c9_000021652610\" data-cr-gparam=\"4:1:0:1111|8815b1c9_000021652610:0\" data-cr-rank=\"4\" data-cr-url=\"https://tv.naver.com/v/21652610\" > <div class=\"video_bx api_ani_send _svp_content\"> <div class=\"thumb_area\"> <a href=\"https://tv.naver.com/v/21652610\" target=\"_blank\" class=\"link _svp_trigger\" data-auto-play=\"true\" data-source=\"naver\" data-is-visible-close-btn=\"true\" data-api=\"https://s.search.naver.com/p/video/search.naver?where=inkey&amp;vid=8815b1c9_000021652610:0&amp;ie=&ie=utf8&amp;rev=44\" > <img src=\"https://search.pstatic.net/common/?src=https%3A%2F%2Fphinf.pstatic.net%2Ftvcast%2F20210802_279%2FmeLxE_1627871267594hJqf0_JPEG%2Fcover_cover_MYH20210802007700038_20210802112713622.jpg&type=ac324_186\" onError=\"$Element(this).className(\\'bg_nimg2\\').attr({src:\\'data:image/gif;base64,R0lGODlhAQABAIAAAAAAAP///yH5BAEAAAAALAAAAAABAAEAAAIBRAA7\\',alt:\\'이미지준비중\\'})\" width=\"162\" height=\"93\" alt=\"[날씨톡톡] 오랜만에 \" class=\"thumb api_get\"> <i class=\"spnew api_ico_video quick\">동영상 바로재생 버튼</i> <span class=\"time\" aria-label=\"재생시간 00:01:30\">01:30</span> </a> </div> <div class=\"info_area\"> <div class=\"api_save_group _keep_wrap\"> <a href=\"#\" role=\"button\" class=\"btn_save _keep_trigger\" data-cr-on=\"a=vdo_lst.kep\" data-url=\"https://tv.naver.com/v/21652610\" aria-pressed=\"false\"><i class=\"spnew ico_save\">문서 저장하기</i></a> <div class=\"api_ly_save _keep_save_layer\"> <a href=\"#\" role=\"button\" class=\"spnew_af item item_report _report\" onclick=\"tCR(\\'a=vdo_lst.report&u=javascript\\');return false;\" data-report=\"\" data-toggle-class=\"active\" data-on-text=\"신고된 영상입니다.\">신고하기</a> <a href=\"#\" role=\"button\" class=\"spnew_af item item_save _keep_save\" data-cr-on=\"a=vdo_lst.kepon\" data-cr-off=\"a=vdo_lst.kepoff\">Keep에 저장</a> <a href=\"https://keep.naver.com/\" onClick=\"return goOtherCR(this,\\'a=vdo_lst.kephome&r=&i=&u=\\'+urlencode(this.href));\" class=\"spnew_af item item_quick\">Keep 바로가기</a> </div> </div> <a class=\"info_title _ellipsis\" style=\"max-height:45px\" target=\"_blank\" href=\"https://tv.naver.com/v/21652610\" onClick=\"goOtherCR(this, \\'a=vdo_lst*d.tit&r=4&i=2550431020_8815b1c9_000021652610&g=\\'+ urlencode(\\'4:1:0:1111|8815b1c9_000021652610:0\\') +\\'&u=\\'+urlencode(this.href))\" > <span class=\"text _text\">[<strong class=\"hl\">날씨</strong>톡톡] 오랜만에 마주한 \\'여름비\\'…오늘 전국 영향</span> </a> <div class=\"info_sub\"> <div class=\"desc_group\"> <span class=\"origin\">네이버TV</span><a href=\"https://tv.naver.com/yonhapnewstv\" target=\"_blank\" onclick=\"goOtherCR(this, \\'a=vdo_lst*d.cha&r=4&i=2550431020_8815b1c9_000021652610&g=\\'+ urlencode(\\'4:1:0:1111|8815b1c9_000021652610:0\\') +\\'&u=\\'+urlencode(this.href))\" class=\"channel\" title=\"연합뉴스TV\">연합뉴스TV</a></div> <div class=\"desc_group\"><span class=\"desc\"><i class=\"spnew api_ico_count\">재생수</i>2,046</span><span class=\"desc\">1시간 전</span></div> </div> </div> </div> <div class=\"video_common_player_wrap _svp_target\"></div> </li> </ul> <div class=\"api_more_wrap\"> <a onclick=\"return goOtherCR(this, \\'a=vdo_lst.more&r=&i=&u=\\'+urlencode(this.href))\" href=\"?where=video&ie=utf8&nso=&sm=tab_nmr&query=%EB%B6%80%EC%82%B0%EB%82%A0%EC%94%A8\" class=\"api_more\">동영상 더보기<i class=\"spnew ico_arr\"></i></a> </div> </div> <form id=\"VideoSearchResultReportForm\" target=\"VideoSearchResultReport\" action=\"https://s.search.naver.com/n/srm/report\" method=\"post\" style=\"display:none\"> <textarea id=\"VideoSearchResultReportSendData\" name=\"sendData\" cols=\"100\" rows=\"100\" title=\"빈텍스트상자\"></textarea> </form> <iframe name=\"VideoSearchResultReport\" style=\"display:none\" title=\"빈프레임\"></iframe> <script> (function($) { var requirejs = naver.common.gv.REQUIRE_JS; var $base = $(\"._au_video_collection\"); var startApplication = function () { var require = window.require.config({ \"context\": \"au_video\", \"paths\": { \"Controller\": \"https://ssl.pstatic.net/sstatic/au/pc/video/naver.search.video.Controller_201218\" } }); define(\"jquery\", [], function () { return jQuery; }); require([\"Controller\"], function (Controller) { new naver.search.video.Controller( $base,{ \"reportUrl\": \"https://s.search.naver.com/n/srm/report\" } ); }); }; naver.common.load_js(window.require ? null : requirejs, startApplication, true, 150); })(jQuery); </script> <script> (function () { var startApplication = function () { var javascriptFile = \"https://ssl.pstatic.net/sstatic/au/module/multi-ellipsis/multi-ellipsis-0.1.12.min.js\"; var require = window.require.config({ /* [AU] 주제 문자열(주제별로 유니크해야 함) 지정. 여기선 임의로 \\'subject-id\\'를 지정. */ \"paths\": { \"@sau/multi-ellipsis\": javascriptFile.replace(/\\\\.js$/, \"\") } }); define(\"jquery\", [], function () { return jQuery; }); require([\"@sau/multi-ellipsis\"], function (ellipsisFactory) { var $ellipsis = jQuery(\"._au_video_collection ._ellipsis\"); var ellipsis = $ellipsis.map(function(_, el) { new ellipsisFactory.HtmlTextEllipsis(el, {\"notFixedWidth\": true}); }); }); }; var requirejs = naver.common.gv.REQUIRE_JS; naver.common.load_js(window.require ? null : requirejs, startApplication, true, 150); })(); </script> <script> (function($) { var requirejs = naver.common.gv.REQUIRE_JS; var startVideoApplication = function () { var $base = $(\"._au_video_collection\"); var require = window.require.config({\"context\": \"search_common_modules\"}); require([\"VideoPlayer\"], function() { var oVideoPlayerList = new naver.common.VideoPlayer({ \"$base\": $base.find(\"._list_type\"), \"template\": \"pc_common\" }); oVideoPlayerList.on({ \"triggerClick\": function(e) { var $item = e.$item; var area = $item.attr(\"data-cr-area\") || \"\"; var gdid = $item.attr(\"data-cr-gdid\") || \"\"; var rank = $item.attr(\"data-cr-rank\") || \"\"; var gparam = $item.attr(\"data-cr-gparam\") || \"\"; var url = $item.attr(\"data-cr-url\") || \"\"; tCR(\"a=\"+ area + \".thum&i=\" + gdid + \"&r=\" + rank + \"&g=\" + encodeURI(gparam) + \"&u=\" + encodeURI(url)); }, \"closeClick\": function(e) { var $item = e.$item; var area = $item.attr(\"data-cr-area\") || \"\"; var gdid = $item.attr(\"data-cr-gdid\") || \"\"; var rank = $item.attr(\"data-cr-rank\") || \"\"; var gparam = $item.attr(\"data-cr-gparam\") || \"\"; var url = $item.attr(\"data-cr-url\") || \"\"; tCR(\"a=\"+ area + \".close&i=\" + gdid + \"&r=\" + rank + \"&g=\" + encodeURI(gparam) + \"&u=\" + encodeURI(url)); } }); }); }; var jsVidePlayerFileURL = naver.common.gv.VIDEOPLAYER_JS; var startVideoPlayer = function() { var require = window.require.config({ \"context\": \"search_common_modules\", \"paths\": { \"VideoPlayer\": jsVidePlayerFileURL.replace(/\\\\.js$/, \"\") } }); require([\"VideoPlayer\"], function() { /* 동영상 웹 플레이어 JS 경로 */ naver.common.VideoPlayer.WEB_PLAYER_JS = naver.common.gv.VIDEO_WEBPLAYER_JS; }); }; var videoPlayerCallback = function () { startVideoPlayer(); startVideoApplication(); }; naver.common.load_js(window.require ? null : requirejs, videoPlayerCallback, true, 150); })(jQuery); </script> </section> <div class=\"api_sc_page_wrap\"> <div class=\"sc_page\"> <a role=\"button\" class=\"btn_prev\" aria-disabled=\"true\"><i class=\"spnew ico_page_arr\">이전</i></a> <div class=\"sc_page_inner\"> <a href=\"?query=%EB%B6%80%EC%82%B0%EB%82%A0%EC%94%A8&sm=tab_pge&where=nexearch\" onclick=\"return goOtherCR(this, \\'a=pag.pag&r=1&i=&u=\\'+urlencode(this.href ? this.href : location.href))\" role=\"button\" class=\"btn\" aria-pressed=\"true\">1</a> <a href=\"?display=15&f=&filetype=0&page=2&query=%EB%B6%80%EC%82%B0%EB%82%A0%EC%94%A8&research_url=&sm=tab_pge&start=1&where=web\" onclick=\"return goOtherCR(this, \\'a=pag.pag&r=2&i=&u=\\'+urlencode(this.href ? this.href : location.href))\" role=\"button\" class=\"btn\" aria-pressed=\"false\">2</a> <a href=\"?display=15&f=&filetype=0&page=3&query=%EB%B6%80%EC%82%B0%EB%82%A0%EC%94%A8&research_url=&sm=tab_pge&start=16&where=web\" onclick=\"return goOtherCR(this, \\'a=pag.pag&r=3&i=&u=\\'+urlencode(this.href ? this.href : location.href))\" role=\"button\" class=\"btn\" aria-pressed=\"false\">3</a> <a href=\"?display=15&f=&filetype=0&page=4&query=%EB%B6%80%EC%82%B0%EB%82%A0%EC%94%A8&research_url=&sm=tab_pge&start=31&where=web\" onclick=\"return goOtherCR(this, \\'a=pag.pag&r=4&i=&u=\\'+urlencode(this.href ? this.href : location.href))\" role=\"button\" class=\"btn\" aria-pressed=\"false\">4</a> <a href=\"?display=15&f=&filetype=0&page=5&query=%EB%B6%80%EC%82%B0%EB%82%A0%EC%94%A8&research_url=&sm=tab_pge&start=46&where=web\" onclick=\"return goOtherCR(this, \\'a=pag.pag&r=5&i=&u=\\'+urlencode(this.href ? this.href : location.href))\" role=\"button\" class=\"btn\" aria-pressed=\"false\">5</a> <a href=\"?display=15&f=&filetype=0&page=6&query=%EB%B6%80%EC%82%B0%EB%82%A0%EC%94%A8&research_url=&sm=tab_pge&start=61&where=web\" onclick=\"return goOtherCR(this, \\'a=pag.pag&r=6&i=&u=\\'+urlencode(this.href ? this.href : location.href))\" role=\"button\" class=\"btn\" aria-pressed=\"false\">6</a> <a href=\"?display=15&f=&filetype=0&page=7&query=%EB%B6%80%EC%82%B0%EB%82%A0%EC%94%A8&research_url=&sm=tab_pge&start=76&where=web\" onclick=\"return goOtherCR(this, \\'a=pag.pag&r=7&i=&u=\\'+urlencode(this.href ? this.href : location.href))\" role=\"button\" class=\"btn\" aria-pressed=\"false\">7</a> <a href=\"?display=15&f=&filetype=0&page=8&query=%EB%B6%80%EC%82%B0%EB%82%A0%EC%94%A8&research_url=&sm=tab_pge&start=91&where=web\" onclick=\"return goOtherCR(this, \\'a=pag.pag&r=8&i=&u=\\'+urlencode(this.href ? this.href : location.href))\" role=\"button\" class=\"btn\" aria-pressed=\"false\">8</a> <a href=\"?display=15&f=&filetype=0&page=9&query=%EB%B6%80%EC%82%B0%EB%82%A0%EC%94%A8&research_url=&sm=tab_pge&start=106&where=web\" onclick=\"return goOtherCR(this, \\'a=pag.pag&r=9&i=&u=\\'+urlencode(this.href ? this.href : location.href))\" role=\"button\" class=\"btn\" aria-pressed=\"false\">9</a> <a href=\"?display=15&f=&filetype=0&page=10&query=%EB%B6%80%EC%82%B0%EB%82%A0%EC%94%A8&research_url=&sm=tab_pge&start=121&where=web\" onclick=\"return goOtherCR(this, \\'a=pag.pag&r=10&i=&u=\\'+urlencode(this.href ? this.href : location.href))\" role=\"button\" class=\"btn\" aria-pressed=\"false\">10</a> </div> <a href=\"?display=15&f=&filetype=0&page=11&query=%EB%B6%80%EC%82%B0%EB%82%A0%EC%94%A8&research_url=&sm=tab_pge&start=1&where=web\" onclick=\"return goOtherCR(this, \\'a=pag.pag&r=11&i=&u=\\'+urlencode(this.href ? this.href : location.href))\" role=\"button\" class=\"btn_next\" aria-disabled=\"false\"><i class=\"spnew ico_page_arr\">다음</i></a> </div> </div> </div><div id=\"sub_pack\" class=\"sub_pack\"><section class=\"sc_new sp_nkeyword\" id=\"nx_right_related_keywords\"> <div class=\"api_subject_bx _related_box\"> <div class=\"api_title_area\"> <h2 class=\"api_title\">연관 검색어<a href=\"https://help.naver.com/support/alias/search/word/word_1.naver\" class=\"api_link_help\" onclick=\"return goOtherCR(this, \\'a=rsk_top.guide&r=&i=&u=\\'+urlencode(urlexpand(this.href)));\" target=\"_blank\"><i class=\"spnew api_ico_help\">도움말</i></a></h2> <div class=\"api_title_sub\"> <a href=\"https://help.naver.com/support/alias/search/word/word_2.naver\" class=\"btn_report\" onclick=\"return goOtherCR(this, \\'a=rsk_top.report&r=&i=&u=\\'+urlencode(urlexpand(this.href)));\" target=\"_blank\"><span class=\"txt\">신고</span></a><a href=\"#\" onclick=\"return tCR(\\'a=rsk_top.1fold&r=1&i=\\');\" class=\"btn_close _close\"><i class=\"spnew api_ico_close4\">검색어제안 기능 닫기</i></a> </div> </div> <div class=\"related_srch\"> <ul class=\"lst_related_srch _list_box\"> <li class=\"item\"> <a class=\"keyword\" href=\"?where=nexearch&query=%EC%84%9C%EC%9A%B8+%EB%82%A0%EC%94%A8&ie=utf8&sm=tab_she&qdt=0\" onclick=\"return goOtherCR(this, \\'a=rsk_top*q.list1&r=1&u=\\' + urlencode(this.href))\"> <div class=\"tit\">서울 날씨</div> </a> </li> <li class=\"item\"> <a class=\"keyword\" href=\"?where=nexearch&query=%EB%8C%80%EA%B5%AC%EB%82%A0%EC%94%A8&ie=utf8&sm=tab_she&qdt=0\" onclick=\"return goOtherCR(this, \\'a=rsk_top*q.list1&r=2&u=\\' + urlencode(this.href))\"> <div class=\"tit\">대구날씨</div> </a> </li> <li class=\"item\"> <a class=\"keyword\" href=\"?where=nexearch&query=%EA%B2%BD%EC%A3%BC+%EB%82%A0%EC%94%A8&ie=utf8&sm=tab_she&qdt=0\" onclick=\"return goOtherCR(this, \\'a=rsk_top*q.list1&r=3&u=\\' + urlencode(this.href))\"> <div class=\"tit\">경주 날씨</div> </a> </li> <li class=\"item\"> <a class=\"keyword\" href=\"?where=nexearch&query=%EB%82%A0%EC%94%A8&ie=utf8&sm=tab_she&qdt=0\" onclick=\"return goOtherCR(this, \\'a=rsk_top*q.list1&r=4&u=\\' + urlencode(this.href))\"> <div class=\"tit\">날씨</div> </a> </li> <li class=\"item\"> <a class=\"keyword\" href=\"?where=nexearch&query=%EC%96%91%EC%82%B0+%EB%82%A0%EC%94%A8&ie=utf8&sm=tab_she&qdt=0\" onclick=\"return goOtherCR(this, \\'a=rsk_top*q.list1&r=5&u=\\' + urlencode(this.href))\"> <div class=\"tit\">양산 날씨</div> </a> </li> <li class=\"item\"> <a class=\"keyword\" href=\"?where=nexearch&query=%EC%9A%B8%EC%82%B0+%EB%82%A0%EC%94%A8&ie=utf8&sm=tab_she&qdt=0\" onclick=\"return goOtherCR(this, \\'a=rsk_top*q.list1&r=6&u=\\' + urlencode(this.href))\"> <div class=\"tit\">울산 날씨</div> </a> </li> <li class=\"item\"> <a class=\"keyword\" href=\"?where=nexearch&query=%EB%B6%80%EC%82%B0+%EC%BD%94%EB%A1%9C%EB%82%98&ie=utf8&sm=tab_she&qdt=0\" onclick=\"return goOtherCR(this, \\'a=rsk_top*q.list1&r=7&u=\\' + urlencode(this.href))\"> <div class=\"tit\">부산 코로나</div> </a> </li> <li class=\"item\"> <a class=\"keyword\" href=\"?where=nexearch&query=%EB%8C%80%EC%A0%84+%EB%82%A0%EC%94%A8&ie=utf8&sm=tab_she&qdt=0\" onclick=\"return goOtherCR(this, \\'a=rsk_top*q.list1&r=8&u=\\' + urlencode(this.href))\"> <div class=\"tit\">대전 날씨</div> </a> </li> <li class=\"item\"> <a class=\"keyword\" href=\"?where=nexearch&query=%EB%B0%80%EC%96%91+%EB%82%A0%EC%94%A8&ie=utf8&sm=tab_she&qdt=0\" onclick=\"return goOtherCR(this, \\'a=rsk_top*q.list1&r=9&u=\\' + urlencode(this.href))\"> <div class=\"tit\">밀양 날씨</div> </a> </li> <li class=\"item\"> <a class=\"keyword\" href=\"?where=nexearch&query=%ED%8F%AC%ED%95%AD+%EB%82%A0%EC%94%A8&ie=utf8&sm=tab_she&qdt=0\" onclick=\"return goOtherCR(this, \\'a=rsk_top*q.list1&r=10&u=\\' + urlencode(this.href))\"> <div class=\"tit\">포항 날씨</div> </a> </li> </ul> <div class=\"btn_area\"> <a href=\"#\" role=\"button\" class=\"btn_more _more\" style=\"display:none\" onclick=\"return tCR(\\'a=rsk_top.open\\');\"><i class=\"spnew api_ico_open\">더보기</i></a> </div> <div class=\"closed\">1주일간 닫힘 상태가 유지됩니다. 다시 보시겠습니까?<a href=\"#\" onclick=\"return tCR(\\'a=rsk_top.1unfold&r=1&i=\\');\" class=\"btn_open _open\">열기</a></div> </div> </div> </section> <script> (function() { var startApplication = function() { var jsFile = \"https://ssl.pstatic.net/sstatic/au/pc/related_keyword/Controller_210623.js\"; var require = window.require.config({ \"context\": \"_au_related_keyword\", \"paths\": { /* Controller.js의 경로 지정. */ \"Controller\": jsFile.replace(/\\\\.js$/, \"\"), } }); /* module define은 require의 context별로 호출해야함. */ define(\"jquery\", [], function() { return jQuery; }); require([\"Controller\"], function(Controller) { var ck = \"qre\"; new Controller(jQuery(\"#nx_right_related_keywords\"), { /* 초기 닫힘 상태 설정 */ isClosed: !!nx_get_cookie(ck) }) /* 열기 이벤트 */ .on(\"open\", function(e){ /* 쿠키 제거 */ nx_set_cookie(ck, \"\", -1, nx_au_cookie_domain); }) /* 닫기 이벤트 */ .on(\"close\", function(e){ var date = new Date(); date.setDate(date.getDate() + 7); /* 쿠키 저장 */ nx_set_cookie(ck, 1, date, nx_au_cookie_domain); }) }); }; var requirejs = naver.common.gv.REQUIRE_JS; naver.common.load_js(window.require ? null : requirejs, startApplication, true, 50); })(); </script> <section class=\"sc_new\"> <div class=\"api_subject_bx\"> <div class=\"api_common_banner\"> <a href=\"https://m.news.naver.com/covid19/index.nhn\" class=\"spnew_bf item\" target=\"_blank\" onclick=\"return goOtherCR(this, \\'a=bnr.link&r=1&i=&u=\\'+urlencode(this.href));\"> <div class=\"ico_area\"><img src=\"data:image/png;base64,iVBORw0KGgoAAAANSUhEUgAAADwAAAA8CAYAAAA6/NlyAAAAAXNSR0IArs4c6QAAAERlWElmTU0AKgAAAAgAAYdpAAQAAAABAAAAGgAAAAAAA6ABAAMAAAABAAEAAKACAAQAAAABAAAAPKADAAQAAAABAAAAPAAAAACL3+lcAAANMUlEQVRoBe1aC3BVxRn+zjn3JiEhD5JATCAhIgRGUx7y1iiPitCgSRGpSH2lUq11LLXaqviiQKvOWFuHFhURHETHAvJSg9aSACIEAeUtUhM0QEKQR4A8IPfec/r/u2cPN4+be6+B6XQmO3POv+ff/f/9v//ff3fvJkB7afdAuwfaPdDugXYPtHvgf+UB7VIOPGOGpX/jKRqmaci1gB40WBosK9XStDQeV7NQAQ2VFrQKDVaZZaGwp3t0yYwZmnmp7LokgO+avu4nlmbeasK8CZbWxQLBDbGQc45R1w80zVi6ePaoj0IUC7nbRQV8+xNFIwDrBXqGsgUaWW9R2JhyUXWmXJq2C6bfi7ptcbm0x96aNXq9H7tN1YsC+I6ninr7fHiJIpkbjjU8OENXRgRyiK7phbqB3y2ePfrrcPS31FeN1VJbSLzJTxTlUS4uJrCxyngZv+biHGgOrh1wp24HvLlAI452VnPhjndnj17diB3mhx5m/0bdb3u8+EnTxEofgZWrjAZFOW4SiKRctyxVZ+pfl47wl/GvS1kaw4OVPGYjI8L8+MERpoEXmpZ5j8bAAi5KrF7FnS1TdaZcwm2XUjRF3lz6/KgC+yss8oMA3/pY8VMUolnBADSdwnfmXoExw7rC7TKEkV6fiQ1fHMW85So1Gzuk6aLWKMc1PL3shR/PDgstdQ57Sv/s8aKJFKiZPBCtv2I8puIhex1KddOk2Ns0OSESuTkZDlgWNHQdowal4fK0jlIP46UipzDJsz6Wtx/WLXhEO5qemXMeeeMhKRH6OyzAt00vzvaaWGRSAvobowxke0WdqbBBd+jZWh/qz3kEV/XnGdDg9eHE6QYHiALkOI6dScrUo1smxjfsxd9rlmoFdZtenvv7eSOE0hBfrhD7iW4eD/5KhkSL0VsQ7No5GtOmXInLkjrgrcJSfFJSIXpxjtee8+LpV3fg+gEpyBuRIVSs2XSYpnQVTp1tkNrsHMjNScekGzJR+X0dXn53H6pO1Iv2gd5DKGjYilTztBpdy6krXUIfKYoRjMpkCtaL2ic+VjTWNLVnhKViX6HwcBiFkQCDnflAf6QmR8Nt6OiXlYiVxeUUOdkvKT4SfXt1QkpiB5rCsWLEihN1QseZOg9q6r2sDFERBp79ZX8x9RPjIjEkOxmHdhzA/aeLMMmzE7HWeSGrXl2sszGZ1/2qalXJh9sUrzUqk7C1HtTGZ+Iva9Z/SWD7Bur60sMDkZlKQBgfOaK65jzunbkZnTtFoiCvJ4ZelUx8WtNtP0lnyb6sc+eBk1iw6gCqTp7HvKeuQVyMG1ZNDYwPl0PfuPZCxxYMKDWSa9/u/FJcKGfwkCLcaeDoCSas3ygjBeWB2V0iysBdtAK73bQk0DezK76vRywZ/egdV6H7ZbwoMbd5EVyS4TQYMywNLpodSbEuJGxdB9f8OdBK1QreXFZxEq26iArPt97lWz7eoHiBaEg57LUwkQ0W24JNWaHAawN8a00Z7s3viTO1Hpw604AeXWPFw9HmoqgUkn6SLY7PBNhbulQT0LnAsUrVHJRuMjKx1ujdP2hH6tCy2/0k73ttm7tyf80xWngSbIiOGC9G/gcPt0uHh5bxu8f3wISRGY2OkEol4xeOUgxFK47AWP4OtP27FScoLdWT8LprGPYZKWxHdWqfjl3m3T9IbgUBpING+OiBmpF0XBRgG238pJAPBrRFCcr6PR4LfTLjCWy6M5x/ZLnueFghpzzVCylPPy2iUMuDqSMcoHJK64BFxkCsdWeJ7Uw6HQlsK4l8EkBMsIMC9pnaWAbFhRXzPsmUi2TLfVIw6DVlXKbjAH+wTt4rOdNHINcS2BVAXa0Sb5V6NQMrjGz80+iHc5rbyQs1js+0xpKCtgK2MsQupAwlrGoAFSTpDtCWFCW2HsV3rCeGkGFZYmp7d8JY8Q5QFXqefkZ5Ot81BFWIle5WgyhKemnbzHDGDFAJGmGatmk8lWVRaGWEb7sxHVnd4vD+xsPYcaCatp4kYQz3dkTUwCxytALGsrfDytOT8al4vn4gvJlZKBjVDYeO1uGdjw8SOB7EVm5TXZdXR2rIlmhQwOS1NF6cZLlAr+mbjDvHXS7YfXvFY/KTm5GeEtMYKIMkEd5PeerqGylPaSqHVOIS4L3pVuyK7oPdi/Zj4d1XolPHCHIqUHm8Hmu3VjVTw7Y2YzZhBAdsmam8OHHxX7RSEqNsHhAV6cJvJ2fhqh7xnOCyMFC6BtE3rIURRp7C5YZv9Dj4xtwMKzIKV9Kx88FJvdApNkI4jx3IY6t1xR5NEDIz1f+7pXpQwJqm1xFQiY7QyKmqUBE+qjJv1KAU2cZAaSTOUxdtM+Hkqdl/MLz5t8NKSpYA6B1PUR0zNFXoVmNJr5ItPA49TLnQYkpn1dZLUMDkyQoClNhUjRpEOIBGXbO5Ej27xaKn64zcT/ftaioS8NtKz4T3lp/DuqK36KNA8BiHquqw65tqjM/hG16pgoncLYhSnftzodOg/LUiP1t8hwCY74yR3VS64tg5x4A6+iX05pJ9+EPCHhjHd4Sep7HxlKeTYA2/jm5z1eyxR7LBrf70CAo3VWJodhL4BwgXPrYyTHUGuDC9tbYDpvlSwV6Uha2Q/v9s9wm8vqoMvdNjUP3+Giz0bETHY/bPPNU9EOU8HTkW5rg8WBEX1gIVWSFGHxzRLXtPiDH/tGAffjqyK76jVZoXLI4wlws7iLjNaDtg+nm3R6NrSamcskQYwqYB3/67BOOtEqSjWnyH8rL6UZ5OoDxNlHlq+08RewGQYHeXVuN4tUfk6P7yGjy/SP2QkOOrnGbKxUe2ylrgd9AprRv6Sp/X9yKrYMW8/3XHKTxIQAfjcGDNTVqsbt3hozw1e/ZxWsR8cSLFA9gP8fhMPmfJNwKsyl3HKzZAcRKlujqRGi59paM8QMUWDdBqs0c88Olu2ouzY3EeBdZ25OMrGPaFbOuS1Ep56qP91Bx+PRlvzxAWUkBtBWyIWgCZLv74OyxeU073XhroyOjfi+rSbCFjf5HmPeteyfmR3TEgCRphljQ0rLrZ3Jv9C2yng13jG4fAmt0wR94I37h8sZ8KE8luJ1q2oAIqINEHtzMvhw42N9BW17lTBBa+/x2WFR8R+apuMllcuYEpzb6g0WUZ+sUevEw3i/dMw6aQwXKelt77NF6kI+GpBkPORGWdQC6BMUs9bAVf88x9rxS7S0/T7UkMXQpEgf7MgoKbM4nyvksrM6UUU/HwZT5rtzQfjbI4OJIQAd/w6jPvliMh6Emf89Q7bTq8Ux9CdLdUOmMfxT2ztmPlhko0eOSR0omwDZyN9BGKj7ZUib4r1lciNpqud2wH8bpx/NR5eHyUVDS1hYOY+teBN4pfyVErWqu4Q5rSrOGU1XFqhlb9YUvaqhGFZXHXIv/Xk5EQK/fK+I5uGJQLZ2q9eHlJKeatOoirsxKQ1T0Wd46l38tk+dJ1R7Cv9Ay2f32abjXJIWI+a0iMj3CGOVvnxR8X7LcdwNHkJttbVKfcrXUZkc86AkEqIU1p1jHgtecK/4Pkr/z1eSkj3rb6YZI5BQure2La3/ai9HAtas978Y/3DooLATH1aBrW1Zs0ZX1ITYx0oteFLufPNTDfSzxL7K1M5ywtFde65XTKenTOHnxNWxLjlFNZUZ7OVNf1F9fNHXLU367W6n4Tq7Vusu3gfY/06WxU7462GlzrrUzMMYfTn/DpptIubAArZMqFvE91NlNDXLQLS/48CJHuC/eGHFD+68SUGdtw7GRLh5bmGqV2aTYtYJsTIruMWjOnV4graYg5LM0HLp/3l/0HkJL3sJVb9bg5FkesOAFH/iWQjSCAfA9NVNZZknn8i0qXYJU3bEq/YRET5RJO4iMis5nKujw+yshKPaIuZcvNDsaEcMBKa/gdZhly/5Z+8Hk+I7EYf1EGxosMUy6qzpTL7WO6Iv+6y+iSXWYSHy7+9fn3WPBBuewQ+rsWhvvaz18bujN0EdnTNiVcMWDY1M10uWe+R5FIdJQ0Qcj56L9v+k9xHlFNdxlXdhBHUcoIi5p4kP1I29NJHfrEkvnD14k+Yb4cW8OUE90HP7C1BzwNqykP6R6CJ69/hjGDOMpo7qDqTLk0aVdgmcrmxg6g7nvhjsjb+srgMtHhB7xCXqVb0s0DR5hJw6ltBduo8ktQO3cdHrXTYi0wM/WvC1khL9sZrnj8eZa2IiYiYVhbwJJaERSmbS6Dppbkmqb5HCFy/v7UbMqyE4Rb7InVZEo0izCbp1m7dN31xLb5wwrbbCQpaFOE/Q1gg/Iyhg+wdNxFdpZxhFi9olynHUjwmPLDkVVURtleieWRsYx15WVcO+BigeXRbVdz9eKWgQWbr6Y/m+fRqTGfNPeX2huHVEXbWbSg7YBurTIsffX2hcO/uLgWXbDgUuhtpHPgfdtSfec9PTTdTKV/60ij1TiVO9AUrqQ/FlZYpl5pRLrLts8bFPS83khx+0e7B9o90O6Bdg+0e6DdA/9XHvgvMc/4R1gfN40AAAAASUVORK5CYII=\" width=\"30\" height=\"30\" alt=\"\" class=\"ico\"></div> <div class=\"dsc_area\"> <strong class=\"elss tit\">코로나19</strong> <p class=\"elss dsc\">확진현황 및 백신·접종 정보</p> </div> </a> <a href=\"?where=nexearch&query=%EC%BD%94%EB%A1%9C%EB%82%9819+%EC%84%A0%EB%B3%84%EC%A7%84%EB%A3%8C%EC%86%8C&sm=tab_etc\" class=\"spnew_bf item\" onclick=\"return goOtherCR(this, \\'a=bnr.link&r=2&i=&u=\\'+urlencode(this.href));\"> <div class=\"ico_area\"><img src=\"data:image/png;base64,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\" width=\"30\" height=\"30\" alt=\"\" class=\"ico\"></div> <div class=\"dsc_area\"> <strong class=\"elss tit\">선별 진료소</strong> <p class=\"elss dsc\">내주변 진료소 찾기</p> </div> </a> <a href=\"https://news.naver.com/main/factcheck/main.nhn?section=%C4%DA%B7%CE%B3%AA%B9%E9%BD%C5\" class=\"spnew_bf item\" target=\"_blank\" onclick=\"return goOtherCR(this, \\'a=bnr.link&r=3&i=&u=\\'+urlencode(this.href));\"> <div class=\"ico_area\"><img src=\"data:image/png;base64,iVBORw0KGgoAAAANSUhEUgAAADwAAAA8CAYAAAA6/NlyAAAAAXNSR0IArs4c6QAAAERlWElmTU0AKgAAAAgAAYdpAAQAAAABAAAAGgAAAAAAA6ABAAMAAAABAAEAAKACAAQAAAABAAAAPKADAAQAAAABAAAAPAAAAACL3+lcAAAMWElEQVRoBe1afXBU1RU/b99uvjGKIVgClWYERQqoY2eq41fRmdrpjFURP7CthYwjrV8QWUGnINQqppQR0Kq1IgpGq1isdTKgItUhCFYqAlXwK2JBEhEKmA1Ikn2353fOu7tvs0l2k0j7z15973f2vHvPPb9zzr3vIxDlWi4CuQjkIpCLQC4CuQj8vyLgHM2JjTHOsuhDkw6ECq9rcfKGtDiR0kNOXvFBpyjy2H9qY+RQIxmzmxxnN5FpIHLr6KElbzmOY46WX0eF8JPTHop+4ZRMbHD7D28OFbqG0v1ftncJ83SYrxEEQcihUKjJM+ZvjMudh5eu/qaJf6OEl059oGpbZOD8HW7/UjjaGSGre2ofEwZJ9EPnzppDa50Q3e48XLuhs8u90XU5V0+MPR1ddP5HVFa7PTywIkjAyun5JarduzjrKThIKxzXRJ2Hn+ay71sL9W040ZJbH4y+Fhq2Zps7sMIDMz6AOLhCEwgZzWLKDyi7OYznXW7aaaO5fsJFMq4Ppz4RfnDqI8tXFYyoaXbyQp444ZBFFKqSU1Q+VubCMh5fB1FFkdmGRTGnBiQYTPo4z/NWmeuvubkPfKnXhGuqn3jnjbxhV2DLUTLIJm9PklWjMpMWHcgHZNFxCUBrfFTZ83UcBA+hw3VFyNxcJr0oXnXNgt6S7hXhhVMeXf52+NunKzlJgBDlu1AAdXuAzjb0RxPkk2ZYMSj7RpQjOmMcAOQF47fGJ13Vq0z3mPDiWxdF1+WdNE4c53xY1HzBH+RK/CKPswcZqDJnXHQ6zt5tgSIzOYsgbbjcLYoMu9ChGXO/mXRlj9d0jwgvvXnR+a/nDb+vnf1iv+FLyqYkyfD1kInvKRaDsug6WcMIDzJt/0O0ION/PTTDnGru57lxzzxnJk2oBP9sW48Ibw/1r22h/BAczuaQbHLfTjMsNnCCLSWK7ELuOuNMS/oK4Mdxca91XrZk0S9rwotvWlD1fqSiwpaklK74a9ctT49ytrqgLETgJIhZVCV0vhIEVNZ0shrlizGSUQ6EykCRUWaeudz84qrvg0w2LWvC/3Ir5ovDQkQzogRZlnWbXM92YujR7PUg2pVuUYiBAAhincua4V8+shpXcBK0swLjXlvWWc6K8B9vXBT9JFxWqg5jQrhpXbWI0hV/BEXmTFiUYOE6suQjNgDJMEjhYKsJhCzNIi77MlDsJPCctp+Py2oDy4pwo1M6UW454igTBIocQMzt+yQIOSUoNjCKKc4LsXRCqZN0MiFmlCDwTCY+3prpDsPdXcQ1zoDz0ykrh0smUKIygZYq5GFDjqFLzqugkZWldGy/PIodbqePdzbTK2810oate3mntmNSZ1J7CA0a44ByckaOIfP2eqKWmGgdCRjCZpcGywMGEo0cndJPOhNdwjYn83O3NeqrU8FN/Zn+a3BTWdW7eYMv1UdFtuW/0rmuQ9f+6Ds05ZpTqLKihIoLw+SGHCrMd6liQBGdd3o5DS4voi0fHaAjbfABTiePq2Pr5W0KQXNCLoXvuZ/ccy6g0NnnkvfPtxKkJRi+W86p3yX3rvvI/d5Z5AyqILN+bdJhQyXuC8+vmrN1266kMl3KWNJ7QgXXIamSWHbY4tQJI+iqi04UkulmVQPSc288TfpgXPDRE4Z0Q/LRN+IcP4DCv75HMh4saWcEk43OJCcvPzmdOqPOsdxu2n+cvNi5lJFwM+UPQX7kAHGWzx5VRhecUZ6w+OaWL6l6wSa6fHo9/apmI634+06596LD0G8V04SLh8o4wqMnlHjcVEHRxCn+yEIyrUdwlYT0zHuVNH6fOorc25Nkzb4vKb7sMenrZ0BkDmClKrs+ZyQcC+WXIpBy+BmePO6khMUXXt9Fdz/+Pm3b8RUdPhKnTxtb6E8vNtD82u2JPleMHSIln7Aj9nQTknstXzDvbab2mjmppGfNJefcsUx2ViKzINs25w4yTU1cAHjJQIXoywaHc1Bi0i6EjIS/cgqL7V0DG02/4ggdX6pldSDWSo+/1MDBQKnjzQiBUVy9cQ9t5vWLhrU99IQSTqz2A2I1w55FyOa9LemkfzklSXavknX2NCH0YtsifrCFvhPebwojdrMBoeKC5Ma+fUezbEiYOnV63Zy2fKyE4cwxJWEmmFzHIIibtEXI8vS09V2K3zc7kWmMRTMgO3sG0Rf83U+yyuMRJI2yyPwynpFw0nu1m3bWb1BWjQxZ2aJmFL8kWz7qVWhss2N9tIYscjchD7RD0lBJJtS2o8VguhOdUoWMJd2v/VAbgmgDGTscT1g45cR+FObbE3zu7Bh9knzLk/4HYm1qg3+pLR0kJP3BkB2+x4anz06UsZ3MKRtAkdk1ROUnSGDsOItwgOVG278rzEi4xBxusSWNFXcg1k57D+puigeNqksq2baWMPyGDBx7ZjmNGXaszMuvcfTJLjbDjStXmk2GRSiF7Iw55OTrHiFl/If5ZI74u7dP2mHSUk0IEI8Daf/g79vdt4yEi8zXB0EAh72PPrD8k4TVcT+ooLuqRtDJJ5ZQQX6Yb0NFdMNllTT9Zycn+jz76i5qPhSXzCIgkmE+yVuQjzRyFEXu+E2A7B5qnRUlb80r1DZ3VirpOTVk+MkMTulXEHWQ31szEs64hkviR3aaCA0V77Ebc0jXbtpHa3gXRhbRzj2tTA750eH06e4WeqLuMwmYPqVxB96lpSGKyBH/jtw4LY0sfdGk3Xgja7t3JkXuvFv6OGXlFJ44mdp5c2PWagOSYxoYum0ZM1xuYk+iDHHAtMW5Sz+kp1b9m1/NoO28rdn4JU1ZsIVa+RMJuokdHzk1atCib8Ls5czOnEbUhN0YfTSL3pZNQtqWtziDgGF6QS5vz6vr3JOk1g91UtFR4rXhXDp5Vdv+UHGnz92ncClfwWU9hjeo446JcOm20wefxajuzSaq37yPzWEKeIVmZYdebpyjKnvmdRkafRp5G9aRiX1ltSkod+/ygdzvDO5XTxRrTl53qCl/xauDMr08ZCQMi9MmPf7+P/KHjcDGoLcpJWBlIFrH66Ls4vSKEIYdGwR0tLLag1kkL7gCrE7NJsezD48W/PW1G1Tf9TljSWPoIO/AEr9qbPUI2k0MiAMOW4Sse6hiUE4Sg3WM85vYYNmfzD5UJB40uK/oZAyPk6E+Gme5NdMdZkW4+onqeZVtjQeVEMwhA0wEO5iPkDF/AkVWn3z/dXfmTrLssTvLwlYMkrOEZbQEQSwnyKYFgP/oVvDi6qz+0pgVYfadxrR+dps4yrLvpxCErO4kNzTZnHi/QYNsG/qhKWrO8UvDplcgJyxasjZiXaDrhW6XYVmcsiZcvSy6eFTrjs+DBHGPEueRaT/bCWQaGiBFGcfkLUqWeIdOYFDmTqoPIJNFMGSfYLRyiP+ymPfS6qz/nJo1YQRv5JGd1/YzX8syRbAhWITc8UB5ax8tfwTHljyyqB9jFO2HGYuYT4xblLn82xSCw0fI0H7y3Kj0zfLUI8K3PHPnGxfGts7gidh3ZBdxVoScdnAv0QE7HFAgWxZV9t+emAynGIMDCBn9FXlmfqh3riyoW93AmqxbjwjD6vRnquddeHjzX6Q0eXKLHQkFfFMfxSUEBQ2B4oZOFjs1wNeDetuXke/JUwvqXs9qo5I5/FOPCWPc3bU3jT/r0LZNQV/UdyYkHPzM+7LtxzmT60AIia8dfomqWq5C5OsaEKAcvANqJZiFBXVvPCCdenjqFWHMsfDp68/4Ycs7z/Oa831IX9MoZ1nDttyRMMjAABnrMzYqNNmwRGbjPmIkb1BxfsC4pWhl/RQ7pqfYa8KY6Ld/vmX8ZS3rpxebw+qWv2vLxgRZiFkEyeSR8sNeQMFLIEA8IIuO9jseXVy0cm2vMmsD0yfCMHLHs9F5P/n67bGjWz/9XPxOZBC+I/0WWZZrinoBvNABqP0s2rIBcshW8HfwMwteru/xmoWPwebvHkFV7+Waq+dVveMOnf9h3iD9Z0twlf/TT3bgpDJw7a7bWK9crRPgbXXwgrNRz59UokUr12V9n8W47pqdq7s+Pb52z/h50Z1u/4kfRAYP3++WJN+y7JM/47pd1VIB9gUEk8hLiDFNvFhf4i9HzxW8vKHPGe3o/FEhbCfhcnR+d+XvJzWFSq476BQOaQkVljIW73f7RdZ8PqOFX9j5C4X8s8PdXAUNDoXrCl+tP6r/9ND6lsNcBHIRyEUgF4FcBHIR+N9H4L9jsvRVdFwsCAAAAABJRU5ErkJggg==\" width=\"30\" height=\"30\" alt=\"\" class=\"ico\"></div> <div class=\"dsc_area\"> <strong class=\"elss tit\">코로나19 팩트체크</strong> <p class=\"elss dsc\">백신 정보 팩트는?</p> </div> </a> <a href=\"?where=nexearch&query=%EC%BD%94%EB%A1%9C%EB%82%9819%EC%98%88%EB%B0%A9%EC%A0%91%EC%A2%85%EC%84%BC%ED%84%B0&sm=tab_etc\" class=\"spnew_bf item\" onclick=\"return goOtherCR(this, \\'a=bnr.link&r=4&i=&u=\\'+urlencode(this.href));\"> <div class=\"ico_area\"><img src=\"data:image/png;base64,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\" width=\"30\" height=\"30\" alt=\"\" class=\"ico\"></div> <div class=\"dsc_area\"> <strong class=\"elss tit\">예방접종센터</strong> <p class=\"elss dsc\">내 주변 센터 찾기</p> </div> </a> </div> </div> </section> <script type=\\'text/javascript\\'>var nx_cr_right_area_info=[{ n:\"rsk\",r:1 },{ n:\"bnr\",r:2 }];</script></div><div class=\"ly_dimmed\"></div> </div> </div><div id=\"footer\"> <div class=\"sub_pack_btm\"> <a href=\"#\" class=\"top\" onclick=\"window.scrollTo(0,0); document.querySelector(\\'#wrap a\\').focus(); return false;\"><i class=\"spnew ico_top\">맨위로</i></a> </div> <div class=\"footer_group\"> <div class=\"footer_menu\"> <span class=\"inner\"><a href=\"https://www.naver.com/more.html\" target=\"_blank\" onclick=\"return goOtherCR(this, \\'u=\\'+urlencode(this.href)+\\'&amp;a=fot.sitemap&amp;r=&amp;i=\\');\" class=\"link\">전체서비스</a></span> <span class=\"inner\"><a href=\"https://policy.naver.com/policy/service.html\" target=\"_blank\" onclick=\"return goOtherCR(this, \\'u=\\'+urlencode(this.href)+\\'&amp;a=fot.policy&amp;r=&amp;i=\\');\" class=\"link\">이용약관</a></span> <span class=\"inner\"><a href=\"https://policy.naver.com/policy/privacy.html\" target=\"_blank\" onclick=\"return goOtherCR(this, \\'u=\\'+urlencode(this.href)+\\'&amp;a=fot.privacy&amp;r=&amp;i=\\');\" class=\"link\"><strong>개인정보처리방침</strong></a></span> <span class=\"inner\"><a class=\"link\" href=\"https://help.naver.com/support/alias/search/integration/integration_1.naver\" target=\"_blank\" onclick=\"return goOtherCR(this, \\'u=\\'+urlencode(this.href)+\\'&amp;a=fot.help&amp;r=&amp;i=\\');\">통합검색 고객센터</a></span> <span class=\"inner\"><a href=\"https://www.navercorp.com/\" target=\"_blank\" onclick=\"return goOtherCR(this, \\'u=\\'+urlencode(this.href)+\\'&amp;a=fot.nhn&amp;r=&amp;i=\\');\" class=\"link\"><i class=\"ico_footer_logo\">© NAVER Corp.</i></a></span> </div> </div>  </div> <script type=\"text/javascript\"> /* [PR] 서비스에서 사용하는 클릭로그함수 설정 */ window.__atcmpCR = function(we, el, name, order, areaCode, rank) { var htAreaCode = __ghtAutoCompleteConfig[\"htAreaCode\"]; if (typeof htAreaCode[name] !== \"undefined\") { var areaCode = htAreaCode[name][0]; var rank = htAreaCode[name][1]; if (areaCode !== \"\") { tCR(\"a=\"+areaCode+\"&u=\"+urlencode(el.href)); /* clickcr(el, areaCode, rank, \\'\\', we); */ /* console.log(areaCode + rank); */ } } return false; }; /* [PR] 서비스별로 form submit 전에 처리해야하는 내용은 이곳에 작성해주세요. */ window.__atcmpSubmitBefore = function(elForm) { try { top.nx_form_submit(elForm); } catch (e) { try { nx_form_submit(elForm); } catch (e) {} } }; /* [PR] 각 서비스별 옵션 : 로그인여부는 pr에서 정의필요합니다. */ window.__ghtAutoCompleteConfig = { /* 자동완성 설정 (Top&Bottom) */ \"bLogin\" : false, /* 로그인 여부 */ \"sFromWhere\" : \"nx\", /* 검색 출처 (폼전송시 함께 전송) */ \"htApiUrl\" : { /* 자동완성 API 정보 */ \"sMyKeyword\" : \\'https://s.search.naver.com/n/mykeyword/search\\', \"sAcKeyword\" : \"//ac.search.naver.com/nx/ac\", \"sAcAnsType\" : \"2\" /* 1 : 기존정답형만 lookup (탭검인 경우 1로 설정) */ }, \"ahtOption\": [ { \"sOrder\": \"asc\", /* 정렬방식 (asc/desc) */ \"sFormId\": \"nx_search_form\", /* 폼엘리먼트 ID */ \"sInputId\": \"nx_query\", /* 입력창 엘리먼트 ID */ \"sViewId\": \"nx_autoframe_top\", /* 자동완성 레이어 ID */ \"sViewToggleButtonId\": \"nautocomplete\" /* 레이어토글 버튼 ID */ } ], /* 서비스별 클릭영역코드 매핑정보 (sch.xxx: 검색창영역, sug.xxx: 자동완성 영역, sly.xxx: 최근 검색어 영역)*/ \"htAreaCode\": { \"expand\": [\\'sch.expand\\', \\'0\\'], /* 우측 역삼각형 펼침 */ \"close\": [\\'sch.close\\', \\'0\\'], /* 우측 역삼각형 접힘 */ \"ansdirect\": [\\'sug.ansdirect\\', \\'\\'], /* 정답형 바로가기 (엔터/클릭) */ \"sugoff\": [\\'sug.sugoff\\', \\'\\'], /* 자동완성 끄기 클릭 */ \"sugon\": [\\'sug.sugon\\', \\'\\'], /* 자동완성 켜기 클릭 */ \"plus.use\": [\\'sug.cxon\\', \\'\\'], /* 자동완성 플러스 사용 */ \"plus.unuse\": [\\'sug.cxoff\\', \\'\\'], /* 자동완성 플러스 사용안함 */ \"saveoff\": [\\'sug.saveoff\\', \\'\\'], /* 검색어저장 끄기 클릭 */ \"saveon\": [\\'sug.saveon\\', \\'\\'], /* 검색어저장 켜기 클릭 */ \"rx\": [\\'sly.rx\\', \\'\\'], /* 최근검색어 개별삭제 클릭 */ \"ralldel\": [\\'sly.ralldel\\', \\'\\'], /* 최근검색어 전체삭제 클릭 */ \"kwd.expand\": [\\'sug.plus\\', \\'\\'] /* ↖︎ 버튼 클릭 */ }, /* 서비스별 SM파라미터 매핑정보 * sm파라미터 추가시 https://oss.navercorp.com/sau-pc/naver_autocomplete/issues/19 확인 필요 */ \"htSmParam\" : { \"hty\" : \\'tab_hty.top\\', /* sm 파라미터 초기값 */ \"htyb\" : \\'tab_hty.btm\\', /* sm 파라미터 초기값(검색창 하단) */ \"hst\" : \\'tab_sly.hst\\', /* 최근검색키워드 */ \"prefix\" : \\'tab_sug\\', /* sm 파라미터 서비스별 prefix */ \"top\" : \\'tab_sug.top\\', /* 자동완성키워드 */ \"btm\" : \\'tab_sug.btm\\', /* 자동완성키워드 (역순) */ \"pat\" : \\'tab_sug.pat\\', /* 자동완성키워드 (부분자동완성) */ \"mbk\" : \\'tab_sug.mbk\\', /* 자동완성키워드 (오타교정자동완성) */ \"nlq\" : \\'tab_sug.nlq\\', /* 자연어검색 */ \"asgl\" : \\'tab_sug.asgl\\', /* 1국가번호 (한국 국가번호) */ \"asga\" : \\'tab_sug.asga\\', /* 1국가번호 다른중복지역 */ \"aslt\" : \\'tab_sug.aslt\\', /* 3로또당첨번호 */ \"aspl\" : \\'tab_sug.aspl\\', /* 6연금복권당첨번호 */ \"astm\" : \\'tab_sug.astm\\', /* 7영업시간 (신한은행 영업시간) */ \"ast\" : \\'tab_sug.ast\\', /* 8전화번호 (국세청 전화번호) */ \"ase\" : \\'tab_sug.ase\\', /* 9환율 (엔화환율) */ \"aswt\" : \\'tab_sug.aswt\\', /* 10해외날씨 (일본날씨) */ \"asiw\" : \"tab_sug.asiw\", /* 11국내날씨 (서울날씨) */ \"asis\" : \\'tab_sug.asis\\', /* 12올림픽순위 */ \"extension\" : \\'tab_sug.search\\', /* 검색기반 자동완성 */ \"asct\" : \"tab_sug.asct\" /* 문맥검색키워드 */ } }; </script> <script type=\"text/javascript\"> /* 자동완성 객체 생성 (Top) */ new naver.common.atcmp.naver_web.Controller(__ghtAutoCompleteConfig).attach({ \"onOpen\": function(){ jQuery(\"#header_wrap .search_area\").addClass(\"type_write\"); }, \"onClose\": function(){ jQuery(\"#header_wrap .search_area\").removeClass(\"type_write\"); }, \"onSelect\": function(oCustomEvent) { __atcmpSubmitBefore(oCustomEvent.elForm); }, \"onClickLog\": function(oCustomEvent) { __atcmpCR(oCustomEvent.event, oCustomEvent.element, oCustomEvent.name, oCustomEvent.order, \"\", \"\"); } }); </script> <script> (function() { var startApplication = function () { var jsFile = \"https://ssl.pstatic.net/sstatic/au/module/keep/Controller_210512.js\"; var require = window.require.config({ \"context\": \"search_common_module\", \"paths\": { \"Keep\": jsFile.replace(/\\\\.js$/, \"\") } }); define(\"jquery\", [], function () { return jQuery; }); require([\"Keep\"], function (Controller) { var oSearchKeep = new Controller({ \"api\": { \"token\": \"https://apis.naver.com/naverSearchFe/naver_keep/naver_keep\", \"check\": \"https://apis.naver.com/naverSearchFe/naver_keep/v1_web_keep_check?type=bookmark&key={=url}\", \"create\": \"https://apis.naver.com/naverSearchFe/naver_keep/v1_web_bookmark_create\", \"delete\": \"https://apis.naver.com/naverSearchFe/naver_keep/v1_web_keep_delete\" }, \"loginUrl\": \"https://nid.naver.com/nidlogin.login?url={=location}\" }); oSearchKeep.on({ \"create\": function (we) { var crLog = we.data(\"cr-on\"); if (crLog) tCR(crLog); }, \"delete\": function (we) { var crLog = we.data(\"cr-off\"); if (crLog) tCR(crLog); }, \"showLayer\": function (we) { var crLog = we.data(\"cr-on\"); if (crLog) tCR(crLog); }, \"hideLayer\": function (we) { var crLog = we.data(\"cr-off\"); if (crLog) tCR(crLog); } }); window.naver.common.gv.searchKeep = oSearchKeep; }); }; naver.common.load_js(window.require ? null : naver.common.gv.REQUIRE_JS, startApplication, true, 150); })(); </script> <script> (function() { var requirejs = naver.common.gv.REQUIRE_JS; var jsFileURL = \"https://ssl.pstatic.net/sstatic/au/module/search_audio_player2/AudioPlayer2_210714.js\"; var jsLoadCallback = function() { var require = window.require.config({ \"context\": \"search_common_modules\", \"paths\": { \"AudioPlayer2\": jsFileURL.replace(/\\\\.js$/, \"\") } }); require([\"AudioPlayer2\"], function() { naver.common.AudioPlayer2.WEB_PLAYER_JS = \"https://static-audiop.pstatic.net/audiocloud-webplayercore/1.1.4.0/js/audiocloud_webplayer_core.js\"; }); }; naver.common.load_js(window.require ? null : requirejs, jsLoadCallback, true, 50); })(); </script> </div> <script type=\"text/javascript\"> (function() { var needFix = navigator.userAgent.toLowerCase().indexOf(\\'webkit\\') > -1; d = document; if (!needFix || !d.querySelectorAll) return; var toArray = function(list){ var armap=[]; i=0; for(;i<list.length;++i){ armap.push(list[i]); } return Array.prototype.slice.call(armap, 0); } ; window.addEventListener(\\'load\\', function() { toArray(d.querySelectorAll(\\'#u_skip a\\')).forEach(function(el) { el.addEventListener(\\'click\\', function() { var target = d.getElementById(this.href.split(\\'#\\')[1]); oldTabIndex = target.getAttribute(\\'tabindex\\'); oldOutlineWidth = d.defaultView.getComputedStyle(target, null).getPropertyValue(\\'outline-width\\'); target.setAttribute(\\'tabindex\\', 0); target.style.outlineWidth = 0; target.focus(); if (oldTabIndex === null) target.removeAttribute(\\'tabindex\\'); else target.setAttribute(\\'tabindex\\', oldTabIndex); }, false); }); }, false); })(); </script><script type=\"text/javascript\"> if(typeof nx_usain_beacon !== \\'undefined\\') { nx_usain_beacon.add_tag(\"conn_._TLSv1.3_.\") ; $Fn(function () { nx_usain_beacon.send(); }).attach(window, \"load\") ; } </script></body> </html>'"
            ]
          },
          "metadata": {
            "tags": []
          },
          "execution_count": 29
        }
      ]
    },
    {
      "cell_type": "code",
      "metadata": {
        "colab": {
          "base_uri": "https://localhost:8080/"
        },
        "id": "Ey-bw-9cFqQG",
        "outputId": "4659adf4-2adb-4f63-f678-ac49afc66a97"
      },
      "source": [
        "soup = BeautifulSoup(html.text, 'html.parser') # 구문분석\n",
        "cast = soup.select_one('p.cast_txt') # 노드 리턴\n",
        "temps = soup.select_one('span.todaytemp')\n",
        "print(cast.text,temps.text) # text node"
      ],
      "execution_count": null,
      "outputs": [
        {
          "output_type": "stream",
          "text": [
            "맑음, 어제보다 1˚ 높아요 30\n"
          ],
          "name": "stdout"
        }
      ]
    },
    {
      "cell_type": "code",
      "metadata": {
        "colab": {
          "base_uri": "https://localhost:8080/",
          "height": 35
        },
        "id": "MTrNPL9cGSFE",
        "outputId": "bc0ef93b-5471-48e4-b666-51b97f9e4dd9"
      },
      "source": [
        "def getWeather(str) :\n",
        "  result = okt.pos(str, stem=True)\n",
        "  nouns = [ token[0] for token in result if token[1] == 'Noun']\n",
        "\n",
        "  city = ''\n",
        "  for token in nouns:\n",
        "    if token =='오늘':\n",
        "      day = token\n",
        "    elif token == '날씨':\n",
        "      intent = '날씨'\n",
        "    else :\n",
        "      city = token\n",
        "\n",
        "  html = requests.get(f'https://search.naver.com/search.naver?query={city}날씨')\n",
        "\n",
        "  soup = BeautifulSoup(html.text, 'html.parser') # 구문분석\n",
        "  cast = soup.select_one('p.cast_txt') # 노드 리턴\n",
        "  temps = soup.select_one('span.todaytemp')\n",
        "  return f'{city}날씨 : {cast.text}, 온도:{temps.text}'\n",
        "\n",
        "\n",
        "getWeather(\"런던 오늘 날씨 어때?\")"
      ],
      "execution_count": null,
      "outputs": [
        {
          "output_type": "execute_result",
          "data": {
            "application/vnd.google.colaboratory.intrinsic+json": {
              "type": "string"
            },
            "text/plain": [
              "'런던날씨 : 맑음, 체감온도 14℃, 온도:14'"
            ]
          },
          "metadata": {
            "tags": []
          },
          "execution_count": 49
        }
      ]
    },
    {
      "cell_type": "code",
      "metadata": {
        "colab": {
          "base_uri": "https://localhost:8080/"
        },
        "id": "GBV_WrgEH7HZ",
        "outputId": "9620a981-4781-41fe-c0b7-e2d9ff65ab8c"
      },
      "source": [
        "result = okt.pos('부산의 어제 날씨 어때', stem=True) # 구문 분석 확인\n",
        "result"
      ],
      "execution_count": null,
      "outputs": [
        {
          "output_type": "execute_result",
          "data": {
            "text/plain": [
              "[('부산', 'Noun'),\n",
              " ('의', 'Josa'),\n",
              " ('어제', 'Noun'),\n",
              " ('날씨', 'Noun'),\n",
              " ('어떻다', 'Adjective')]"
            ]
          },
          "metadata": {
            "tags": []
          },
          "execution_count": 41
        }
      ]
    },
    {
      "cell_type": "markdown",
      "metadata": {
        "id": "RH5UpujyIJIx"
      },
      "source": [
        "---\n",
        "---\n",
        "조코딩   \n",
        "https://www.youtube.com/watch?v=CxfBtW3VshY\n",
        "\n",
        "---\n",
        "---\n",
        "## &#128218;**9.2 전처리** \n",
        "\n",
        "\n",
        "NaN 는 어떻게 처리할까?   \n",
        "1. 몸무게를 0으로 취한다. -> 이상치 처리   \n",
        "2. 키 몸무게 비율로 해준다.    \n",
        "3. 평균값 준다.   "
      ]
    },
    {
      "cell_type": "markdown",
      "metadata": {
        "id": "DiMxdAecN4ie"
      },
      "source": [
        "### &#128218;결측치확인하기\n"
      ]
    },
    {
      "cell_type": "code",
      "metadata": {
        "colab": {
          "base_uri": "https://localhost:8080/"
        },
        "id": "Xx3icIfYN4-r",
        "outputId": "bdd11a3b-9c7f-443b-969b-d6e2aa4d54db"
      },
      "source": [
        "from google.colab import drive\n",
        "drive.mount('/content/drive')"
      ],
      "execution_count": null,
      "outputs": [
        {
          "output_type": "stream",
          "text": [
            "Mounted at /content/drive\n"
          ],
          "name": "stdout"
        }
      ]
    },
    {
      "cell_type": "code",
      "metadata": {
        "id": "im7d6WkgPPO7"
      },
      "source": [
        "import pandas as pd"
      ],
      "execution_count": null,
      "outputs": []
    },
    {
      "cell_type": "code",
      "metadata": {
        "id": "fgQltr0uN5GA"
      },
      "source": [
        "df = pd.read_csv('/content/drive/MyDrive/8월 딥러닝 텐서플로 교과서(길벗, 2021)/자연어처리/class2.csv')"
      ],
      "execution_count": null,
      "outputs": []
    },
    {
      "cell_type": "code",
      "metadata": {
        "colab": {
          "base_uri": "https://localhost:8080/",
          "height": 195
        },
        "id": "g4Sdnx4aN5Lw",
        "outputId": "904b02f1-8b27-4e6d-819d-292cca04e8f4"
      },
      "source": [
        "df.head()"
      ],
      "execution_count": null,
      "outputs": [
        {
          "output_type": "execute_result",
          "data": {
            "text/html": [
              "<div>\n",
              "<style scoped>\n",
              "    .dataframe tbody tr th:only-of-type {\n",
              "        vertical-align: middle;\n",
              "    }\n",
              "\n",
              "    .dataframe tbody tr th {\n",
              "        vertical-align: top;\n",
              "    }\n",
              "\n",
              "    .dataframe thead th {\n",
              "        text-align: right;\n",
              "    }\n",
              "</style>\n",
              "<table border=\"1\" class=\"dataframe\">\n",
              "  <thead>\n",
              "    <tr style=\"text-align: right;\">\n",
              "      <th></th>\n",
              "      <th>Unnamed: 0</th>\n",
              "      <th>id</th>\n",
              "      <th>tissue</th>\n",
              "      <th>class</th>\n",
              "      <th>class2</th>\n",
              "      <th>x</th>\n",
              "      <th>y</th>\n",
              "      <th>r</th>\n",
              "    </tr>\n",
              "  </thead>\n",
              "  <tbody>\n",
              "    <tr>\n",
              "      <th>0</th>\n",
              "      <td>0</td>\n",
              "      <td>mdb000</td>\n",
              "      <td>C</td>\n",
              "      <td>CIRC</td>\n",
              "      <td>N</td>\n",
              "      <td>535.0</td>\n",
              "      <td>475.0</td>\n",
              "      <td>192.0</td>\n",
              "    </tr>\n",
              "    <tr>\n",
              "      <th>1</th>\n",
              "      <td>1</td>\n",
              "      <td>mdb001</td>\n",
              "      <td>A</td>\n",
              "      <td>CIRA</td>\n",
              "      <td>N</td>\n",
              "      <td>433.0</td>\n",
              "      <td>268.0</td>\n",
              "      <td>58.0</td>\n",
              "    </tr>\n",
              "    <tr>\n",
              "      <th>2</th>\n",
              "      <td>2</td>\n",
              "      <td>mdb002</td>\n",
              "      <td>A</td>\n",
              "      <td>CIRA</td>\n",
              "      <td>I</td>\n",
              "      <td>NaN</td>\n",
              "      <td>NaN</td>\n",
              "      <td>NaN</td>\n",
              "    </tr>\n",
              "    <tr>\n",
              "      <th>3</th>\n",
              "      <td>3</td>\n",
              "      <td>mdb003</td>\n",
              "      <td>C</td>\n",
              "      <td>CIRC</td>\n",
              "      <td>B</td>\n",
              "      <td>NaN</td>\n",
              "      <td>NaN</td>\n",
              "      <td>NaN</td>\n",
              "    </tr>\n",
              "    <tr>\n",
              "      <th>4</th>\n",
              "      <td>4</td>\n",
              "      <td>mdb004</td>\n",
              "      <td>F</td>\n",
              "      <td>CIRF</td>\n",
              "      <td>I</td>\n",
              "      <td>488.0</td>\n",
              "      <td>145.0</td>\n",
              "      <td>29.0</td>\n",
              "    </tr>\n",
              "  </tbody>\n",
              "</table>\n",
              "</div>"
            ],
            "text/plain": [
              "   Unnamed: 0      id tissue class class2      x      y      r\n",
              "0           0  mdb000      C  CIRC      N  535.0  475.0  192.0\n",
              "1           1  mdb001      A  CIRA      N  433.0  268.0   58.0\n",
              "2           2  mdb002      A  CIRA      I    NaN    NaN    NaN\n",
              "3           3  mdb003      C  CIRC      B    NaN    NaN    NaN\n",
              "4           4  mdb004      F  CIRF      I  488.0  145.0   29.0"
            ]
          },
          "metadata": {
            "tags": []
          },
          "execution_count": 59
        }
      ]
    },
    {
      "cell_type": "code",
      "metadata": {
        "colab": {
          "base_uri": "https://localhost:8080/"
        },
        "id": "DIZ1-yR8N5Pz",
        "outputId": "9f08d21c-1a90-4891-dfea-21a52d97f393"
      },
      "source": [
        "df.isnull().sum() # 검출"
      ],
      "execution_count": null,
      "outputs": [
        {
          "output_type": "execute_result",
          "data": {
            "text/plain": [
              "Unnamed: 0    0\n",
              "id            0\n",
              "tissue        0\n",
              "class         0\n",
              "class2        0\n",
              "x             2\n",
              "y             2\n",
              "r             2\n",
              "dtype: int64"
            ]
          },
          "metadata": {
            "tags": []
          },
          "execution_count": 60
        }
      ]
    },
    {
      "cell_type": "code",
      "metadata": {
        "colab": {
          "base_uri": "https://localhost:8080/",
          "height": 374
        },
        "id": "DzMsXzFvN5cr",
        "outputId": "95f309be-b582-4871-ffdd-813dd9841c86"
      },
      "source": [
        "df.dropna(how='all')\n",
        "display(df)\n",
        "df1 = df.dropna() # 데이터에 하나라도 NaN값이 있으면 행을 삭제\n",
        "display(df1)"
      ],
      "execution_count": null,
      "outputs": [
        {
          "output_type": "display_data",
          "data": {
            "text/html": [
              "<div>\n",
              "<style scoped>\n",
              "    .dataframe tbody tr th:only-of-type {\n",
              "        vertical-align: middle;\n",
              "    }\n",
              "\n",
              "    .dataframe tbody tr th {\n",
              "        vertical-align: top;\n",
              "    }\n",
              "\n",
              "    .dataframe thead th {\n",
              "        text-align: right;\n",
              "    }\n",
              "</style>\n",
              "<table border=\"1\" class=\"dataframe\">\n",
              "  <thead>\n",
              "    <tr style=\"text-align: right;\">\n",
              "      <th></th>\n",
              "      <th>Unnamed: 0</th>\n",
              "      <th>id</th>\n",
              "      <th>tissue</th>\n",
              "      <th>class</th>\n",
              "      <th>class2</th>\n",
              "      <th>x</th>\n",
              "      <th>y</th>\n",
              "      <th>r</th>\n",
              "    </tr>\n",
              "  </thead>\n",
              "  <tbody>\n",
              "    <tr>\n",
              "      <th>0</th>\n",
              "      <td>0</td>\n",
              "      <td>mdb000</td>\n",
              "      <td>C</td>\n",
              "      <td>CIRC</td>\n",
              "      <td>N</td>\n",
              "      <td>535.0</td>\n",
              "      <td>475.0</td>\n",
              "      <td>192.0</td>\n",
              "    </tr>\n",
              "    <tr>\n",
              "      <th>1</th>\n",
              "      <td>1</td>\n",
              "      <td>mdb001</td>\n",
              "      <td>A</td>\n",
              "      <td>CIRA</td>\n",
              "      <td>N</td>\n",
              "      <td>433.0</td>\n",
              "      <td>268.0</td>\n",
              "      <td>58.0</td>\n",
              "    </tr>\n",
              "    <tr>\n",
              "      <th>2</th>\n",
              "      <td>2</td>\n",
              "      <td>mdb002</td>\n",
              "      <td>A</td>\n",
              "      <td>CIRA</td>\n",
              "      <td>I</td>\n",
              "      <td>NaN</td>\n",
              "      <td>NaN</td>\n",
              "      <td>NaN</td>\n",
              "    </tr>\n",
              "    <tr>\n",
              "      <th>3</th>\n",
              "      <td>3</td>\n",
              "      <td>mdb003</td>\n",
              "      <td>C</td>\n",
              "      <td>CIRC</td>\n",
              "      <td>B</td>\n",
              "      <td>NaN</td>\n",
              "      <td>NaN</td>\n",
              "      <td>NaN</td>\n",
              "    </tr>\n",
              "    <tr>\n",
              "      <th>4</th>\n",
              "      <td>4</td>\n",
              "      <td>mdb004</td>\n",
              "      <td>F</td>\n",
              "      <td>CIRF</td>\n",
              "      <td>I</td>\n",
              "      <td>488.0</td>\n",
              "      <td>145.0</td>\n",
              "      <td>29.0</td>\n",
              "    </tr>\n",
              "    <tr>\n",
              "      <th>5</th>\n",
              "      <td>5</td>\n",
              "      <td>mdb005</td>\n",
              "      <td>F</td>\n",
              "      <td>CIRF</td>\n",
              "      <td>B</td>\n",
              "      <td>544.0</td>\n",
              "      <td>178.0</td>\n",
              "      <td>26.0</td>\n",
              "    </tr>\n",
              "  </tbody>\n",
              "</table>\n",
              "</div>"
            ],
            "text/plain": [
              "   Unnamed: 0      id tissue class class2      x      y      r\n",
              "0           0  mdb000      C  CIRC      N  535.0  475.0  192.0\n",
              "1           1  mdb001      A  CIRA      N  433.0  268.0   58.0\n",
              "2           2  mdb002      A  CIRA      I    NaN    NaN    NaN\n",
              "3           3  mdb003      C  CIRC      B    NaN    NaN    NaN\n",
              "4           4  mdb004      F  CIRF      I  488.0  145.0   29.0\n",
              "5           5  mdb005      F  CIRF      B  544.0  178.0   26.0"
            ]
          },
          "metadata": {
            "tags": []
          }
        },
        {
          "output_type": "display_data",
          "data": {
            "text/html": [
              "<div>\n",
              "<style scoped>\n",
              "    .dataframe tbody tr th:only-of-type {\n",
              "        vertical-align: middle;\n",
              "    }\n",
              "\n",
              "    .dataframe tbody tr th {\n",
              "        vertical-align: top;\n",
              "    }\n",
              "\n",
              "    .dataframe thead th {\n",
              "        text-align: right;\n",
              "    }\n",
              "</style>\n",
              "<table border=\"1\" class=\"dataframe\">\n",
              "  <thead>\n",
              "    <tr style=\"text-align: right;\">\n",
              "      <th></th>\n",
              "      <th>Unnamed: 0</th>\n",
              "      <th>id</th>\n",
              "      <th>tissue</th>\n",
              "      <th>class</th>\n",
              "      <th>class2</th>\n",
              "      <th>x</th>\n",
              "      <th>y</th>\n",
              "      <th>r</th>\n",
              "    </tr>\n",
              "  </thead>\n",
              "  <tbody>\n",
              "    <tr>\n",
              "      <th>0</th>\n",
              "      <td>0</td>\n",
              "      <td>mdb000</td>\n",
              "      <td>C</td>\n",
              "      <td>CIRC</td>\n",
              "      <td>N</td>\n",
              "      <td>535.0</td>\n",
              "      <td>475.0</td>\n",
              "      <td>192.0</td>\n",
              "    </tr>\n",
              "    <tr>\n",
              "      <th>1</th>\n",
              "      <td>1</td>\n",
              "      <td>mdb001</td>\n",
              "      <td>A</td>\n",
              "      <td>CIRA</td>\n",
              "      <td>N</td>\n",
              "      <td>433.0</td>\n",
              "      <td>268.0</td>\n",
              "      <td>58.0</td>\n",
              "    </tr>\n",
              "    <tr>\n",
              "      <th>4</th>\n",
              "      <td>4</td>\n",
              "      <td>mdb004</td>\n",
              "      <td>F</td>\n",
              "      <td>CIRF</td>\n",
              "      <td>I</td>\n",
              "      <td>488.0</td>\n",
              "      <td>145.0</td>\n",
              "      <td>29.0</td>\n",
              "    </tr>\n",
              "    <tr>\n",
              "      <th>5</th>\n",
              "      <td>5</td>\n",
              "      <td>mdb005</td>\n",
              "      <td>F</td>\n",
              "      <td>CIRF</td>\n",
              "      <td>B</td>\n",
              "      <td>544.0</td>\n",
              "      <td>178.0</td>\n",
              "      <td>26.0</td>\n",
              "    </tr>\n",
              "  </tbody>\n",
              "</table>\n",
              "</div>"
            ],
            "text/plain": [
              "   Unnamed: 0      id tissue class class2      x      y      r\n",
              "0           0  mdb000      C  CIRC      N  535.0  475.0  192.0\n",
              "1           1  mdb001      A  CIRA      N  433.0  268.0   58.0\n",
              "4           4  mdb004      F  CIRF      I  488.0  145.0   29.0\n",
              "5           5  mdb005      F  CIRF      B  544.0  178.0   26.0"
            ]
          },
          "metadata": {
            "tags": []
          }
        }
      ]
    },
    {
      "cell_type": "code",
      "metadata": {
        "colab": {
          "base_uri": "https://localhost:8080/"
        },
        "id": "K9hqg0KKQFOf",
        "outputId": "5e740d98-706f-42bc-e9cf-67d38d526383"
      },
      "source": [
        "df2 = df.fillna(0)\n",
        "print(df2)"
      ],
      "execution_count": null,
      "outputs": [
        {
          "output_type": "stream",
          "text": [
            "   Unnamed: 0      id tissue class class2      x      y      r\n",
            "0           0  mdb000      C  CIRC      N  535.0  475.0  192.0\n",
            "1           1  mdb001      A  CIRA      N  433.0  268.0   58.0\n",
            "2           2  mdb002      A  CIRA      I  500.0    0.0    0.0\n",
            "3           3  mdb003      C  CIRC      B  500.0    0.0    0.0\n",
            "4           4  mdb004      F  CIRF      I  488.0  145.0   29.0\n",
            "5           5  mdb005      F  CIRF      B  544.0  178.0   26.0\n"
          ],
          "name": "stdout"
        }
      ]
    },
    {
      "cell_type": "code",
      "metadata": {
        "colab": {
          "base_uri": "https://localhost:8080/"
        },
        "id": "zRLH3M3_Qz_6",
        "outputId": "4e6b45fe-8d82-4ffd-9c15-d610588828a2"
      },
      "source": [
        "df['x'].fillna(df['x'].mean(), inplace=True)\n",
        "print(df)"
      ],
      "execution_count": null,
      "outputs": [
        {
          "output_type": "stream",
          "text": [
            "   Unnamed: 0      id tissue class class2      x      y      r\n",
            "0           0  mdb000      C  CIRC      N  535.0  475.0  192.0\n",
            "1           1  mdb001      A  CIRA      N  433.0  268.0   58.0\n",
            "2           2  mdb002      A  CIRA      I  500.0    NaN    NaN\n",
            "3           3  mdb003      C  CIRC      B  500.0    NaN    NaN\n",
            "4           4  mdb004      F  CIRF      I  488.0  145.0   29.0\n",
            "5           5  mdb005      F  CIRF      B  544.0  178.0   26.0\n"
          ],
          "name": "stdout"
        }
      ]
    },
    {
      "cell_type": "markdown",
      "metadata": {
        "id": "aA0aHrucQ_Pe"
      },
      "source": [
        "---\n",
        "### &#128218;기계학습을 이용한 결측치 처리\n",
        "> D1_교과서09.자연어처리(7)_NLP(기계학습을통한 결측치 제거).mp4\n"
      ]
    },
    {
      "cell_type": "code",
      "metadata": {
        "colab": {
          "base_uri": "https://localhost:8080/",
          "height": 166
        },
        "id": "SANzViGWUDG0",
        "outputId": "1be8b840-43c4-494c-c225-a07e0e75d3a2"
      },
      "source": [
        "display(df1)"
      ],
      "execution_count": null,
      "outputs": [
        {
          "output_type": "display_data",
          "data": {
            "text/html": [
              "<div>\n",
              "<style scoped>\n",
              "    .dataframe tbody tr th:only-of-type {\n",
              "        vertical-align: middle;\n",
              "    }\n",
              "\n",
              "    .dataframe tbody tr th {\n",
              "        vertical-align: top;\n",
              "    }\n",
              "\n",
              "    .dataframe thead th {\n",
              "        text-align: right;\n",
              "    }\n",
              "</style>\n",
              "<table border=\"1\" class=\"dataframe\">\n",
              "  <thead>\n",
              "    <tr style=\"text-align: right;\">\n",
              "      <th></th>\n",
              "      <th>Unnamed: 0</th>\n",
              "      <th>id</th>\n",
              "      <th>tissue</th>\n",
              "      <th>class</th>\n",
              "      <th>class2</th>\n",
              "      <th>x</th>\n",
              "      <th>y</th>\n",
              "      <th>r</th>\n",
              "    </tr>\n",
              "  </thead>\n",
              "  <tbody>\n",
              "    <tr>\n",
              "      <th>0</th>\n",
              "      <td>0</td>\n",
              "      <td>mdb000</td>\n",
              "      <td>C</td>\n",
              "      <td>CIRC</td>\n",
              "      <td>N</td>\n",
              "      <td>535.0</td>\n",
              "      <td>475.0</td>\n",
              "      <td>192.0</td>\n",
              "    </tr>\n",
              "    <tr>\n",
              "      <th>1</th>\n",
              "      <td>1</td>\n",
              "      <td>mdb001</td>\n",
              "      <td>A</td>\n",
              "      <td>CIRA</td>\n",
              "      <td>N</td>\n",
              "      <td>433.0</td>\n",
              "      <td>268.0</td>\n",
              "      <td>58.0</td>\n",
              "    </tr>\n",
              "    <tr>\n",
              "      <th>4</th>\n",
              "      <td>4</td>\n",
              "      <td>mdb004</td>\n",
              "      <td>F</td>\n",
              "      <td>CIRF</td>\n",
              "      <td>I</td>\n",
              "      <td>488.0</td>\n",
              "      <td>145.0</td>\n",
              "      <td>29.0</td>\n",
              "    </tr>\n",
              "    <tr>\n",
              "      <th>5</th>\n",
              "      <td>5</td>\n",
              "      <td>mdb005</td>\n",
              "      <td>F</td>\n",
              "      <td>CIRF</td>\n",
              "      <td>B</td>\n",
              "      <td>544.0</td>\n",
              "      <td>178.0</td>\n",
              "      <td>26.0</td>\n",
              "    </tr>\n",
              "  </tbody>\n",
              "</table>\n",
              "</div>"
            ],
            "text/plain": [
              "   Unnamed: 0      id tissue class class2      x      y      r\n",
              "0           0  mdb000      C  CIRC      N  535.0  475.0  192.0\n",
              "1           1  mdb001      A  CIRA      N  433.0  268.0   58.0\n",
              "4           4  mdb004      F  CIRF      I  488.0  145.0   29.0\n",
              "5           5  mdb005      F  CIRF      B  544.0  178.0   26.0"
            ]
          },
          "metadata": {
            "tags": []
          }
        }
      ]
    },
    {
      "cell_type": "markdown",
      "metadata": {
        "id": "E1Uo57VWd9e-"
      },
      "source": [
        "---\n",
        "### &#128204;문제1. x 하나로 y 추정하기"
      ]
    },
    {
      "cell_type": "code",
      "metadata": {
        "colab": {
          "base_uri": "https://localhost:8080/"
        },
        "id": "PxXpr1rIVi6m",
        "outputId": "5447cb87-5314-402d-d95e-b0585e07d2d7"
      },
      "source": [
        "# 역행렬, 경사하강법으로 풀 수 있음.\n",
        "# y = wx + b로 예측해보기\n",
        "from sklearn import linear_model\n",
        "\n",
        "x = df1['x'].values.reshape(-1,1) # 판다스의 series타입, sklearn쓰려면 numpy타입으로 변경.\n",
        "y = df1['y'].values.reshape(-1,1) # values함수 사용 ndarray로 변신.\n",
        "print(x.shape, y.shape) # 벡터로 되어 있음. 행렬이 아님.\n",
        "reg = linear_model.LinearRegression()\n",
        "reg.fit(x,y) # wx + b (w,b를 계산하는 알고리즘)\n",
        "\n",
        "reg.coef_, reg.intercept_ # w, b\n",
        "reg.predict(x)"
      ],
      "execution_count": null,
      "outputs": [
        {
          "output_type": "stream",
          "text": [
            "(4, 1) (4, 1)\n"
          ],
          "name": "stdout"
        },
        {
          "output_type": "execute_result",
          "data": {
            "text/plain": [
              "array([[287.87990762],\n",
              "       [225.57274827],\n",
              "       [259.16974596],\n",
              "       [293.37759815]])"
            ]
          },
          "metadata": {
            "tags": []
          },
          "execution_count": 77
        }
      ]
    },
    {
      "cell_type": "markdown",
      "metadata": {
        "id": "s4mEHazNV5cM"
      },
      "source": [
        "x의 차원이 1이 아닐 수 있음. -> 1차원으로 쭉 펴야함.(mnist 28x28처럼)   \n",
        "벡터는 1차원   \n",
        "784차원에서 한 점으로 표시된다.   \n",
        "한 차원 낮은 것을 리니어리그레션이 표현    \n",
        " 2 -> 직선, 3 -> 평면 4 -> 공간     \n"
      ]
    },
    {
      "cell_type": "markdown",
      "metadata": {
        "id": "GS4MOg6EbP3H"
      },
      "source": [
        "---\n",
        "### &#128204;문제2. x,r로 y추정하기   \n",
        "x와 r을 이용해서 y를 추정하려면?    \n",
        "` y = w1x1 + w2x2 + b`"
      ]
    },
    {
      "cell_type": "code",
      "metadata": {
        "colab": {
          "base_uri": "https://localhost:8080/"
        },
        "id": "H1gcue2ydgEe",
        "outputId": "771a6696-e034-4b3e-bf9b-a5526394efd7"
      },
      "source": [
        "from sklearn import linear_model\n",
        "\n",
        "x = df1[['x','r']].values.reshape(-1,2) \n",
        "y = df1['y'].values.reshape(-1,1) \n",
        "print(x.shape, y.shape) \n",
        "reg = linear_model.LinearRegression()\n",
        "reg.fit(x,y) # wx + b (w,b를 계산하는 알고리즘)\n",
        "\n",
        "reg.coef_, reg.intercept_ # w, b\n",
        "reg.predict(x) # 적용은 혼자 해보기"
      ],
      "execution_count": null,
      "outputs": [
        {
          "output_type": "stream",
          "text": [
            "(4, 2) (4, 1)\n"
          ],
          "name": "stdout"
        },
        {
          "output_type": "execute_result",
          "data": {
            "text/plain": [
              "array([[477.7844012 ],\n",
              "       [250.31075073],\n",
              "       [179.61512605],\n",
              "       [158.28972203]])"
            ]
          },
          "metadata": {
            "tags": []
          },
          "execution_count": 82
        }
      ]
    },
    {
      "cell_type": "markdown",
      "metadata": {
        "id": "q9c48gCvdgSG"
      },
      "source": [
        "---\n",
        "###  &#128218;토큰화"
      ]
    },
    {
      "cell_type": "markdown",
      "metadata": {
        "id": "1HWTWBYdfMG9"
      },
      "source": [
        "### &#128218; 문장 및 단어 구분"
      ]
    },
    {
      "cell_type": "code",
      "metadata": {
        "colab": {
          "base_uri": "https://localhost:8080/"
        },
        "id": "Ux3rfpBdgMx5",
        "outputId": "686b8562-19bd-43c0-b79c-db8059edfb99"
      },
      "source": [
        "from nltk import sent_tokenize\n",
        "text_sample = 'Natural Language Processing, or NLP, is the process of extracting the meaning, or intent, behind human language. In the field of Conversational artificial intelligence (AI), NLP allows machines and applications to understand the intent of human language inputs, and then generate appropriate responses, resulting in a natural conversation flow.'\n",
        "tokenized_sentences = sent_tokenize(text_sample)\n",
        "print(tokenized_sentences)\n",
        "\n",
        "print(tokenized_sentences[0])\n",
        "print(tokenized_sentences[1])\n"
      ],
      "execution_count": null,
      "outputs": [
        {
          "output_type": "stream",
          "text": [
            "['Natural Language Processing, or NLP, is the process of extracting the meaning, or intent, behind human language.', 'In the field of Conversational artificial intelligence (AI), NLP allows machines and applications to understand the intent of human language inputs, and then generate appropriate responses, resulting in a natural conversation flow.']\n",
            "Natural Language Processing, or NLP, is the process of extracting the meaning, or intent, behind human language.\n",
            "In the field of Conversational artificial intelligence (AI), NLP allows machines and applications to understand the intent of human language inputs, and then generate appropriate responses, resulting in a natural conversation flow.\n"
          ],
          "name": "stdout"
        }
      ]
    },
    {
      "cell_type": "code",
      "metadata": {
        "colab": {
          "base_uri": "https://localhost:8080/"
        },
        "id": "ec-yFyUwggZz",
        "outputId": "31bd8938-2f30-4f30-ea06-e1d8577ac337"
      },
      "source": [
        "str = \"\"\"\n",
        "'한국 여자배구 대표팀은 지난달 31일 오후 일본 도쿄 아리아케 아레나에서 열린 2020 도쿄올림픽 A조 예선으로 펼쳐진 한일전에서 5세트 접전 끝에 짜릿한 승리를 거뒀다.\n",
        "\n",
        "한국은 마지막 5세트에서 12대14로 밀렸다. '게임 포인트'를 내줄 위기에 몰렸지만 박정아의 막판 대활약에 힘입어 극적인 16대14 역전 드라마를 연출했다.\n",
        "\n",
        "이로써 한국은 3승1패를 기록해 남은 세르비아전 결과와 관계 없이 최소 조 3위를 확보해 8강 진출을 확정했다.'\n",
        "\"\"\"\n",
        "# sent_tokenize\n",
        "kors = sent_tokenize(str) # .을 기준으로 문장으로 분리를 해준 것. ...등은 예외사항\n",
        "print(kors)\n",
        "for s in kors :\n",
        "  print('->', s)\n",
        "\n",
        "kors = [s.replace('\\n', '') for s in sent_tokenize(str) ]\n",
        "print(kors)"
      ],
      "execution_count": null,
      "outputs": [
        {
          "output_type": "stream",
          "text": [
            "[\"\\n'한국 여자배구 대표팀은 지난달 31일 오후 일본 도쿄 아리아케 아레나에서 열린 2020 도쿄올림픽 A조 예선으로 펼쳐진 한일전에서 5세트 접전 끝에 짜릿한 승리를 거뒀다.\", '한국은 마지막 5세트에서 12대14로 밀렸다.', \"'게임 포인트'를 내줄 위기에 몰렸지만 박정아의 막판 대활약에 힘입어 극적인 16대14 역전 드라마를 연출했다.\", \"이로써 한국은 3승1패를 기록해 남은 세르비아전 결과와 관계 없이 최소 조 3위를 확보해 8강 진출을 확정했다.'\"]\n",
            "-> \n",
            "'한국 여자배구 대표팀은 지난달 31일 오후 일본 도쿄 아리아케 아레나에서 열린 2020 도쿄올림픽 A조 예선으로 펼쳐진 한일전에서 5세트 접전 끝에 짜릿한 승리를 거뒀다.\n",
            "-> 한국은 마지막 5세트에서 12대14로 밀렸다.\n",
            "-> '게임 포인트'를 내줄 위기에 몰렸지만 박정아의 막판 대활약에 힘입어 극적인 16대14 역전 드라마를 연출했다.\n",
            "-> 이로써 한국은 3승1패를 기록해 남은 세르비아전 결과와 관계 없이 최소 조 3위를 확보해 8강 진출을 확정했다.'\n",
            "[\"'한국 여자배구 대표팀은 지난달 31일 오후 일본 도쿄 아리아케 아레나에서 열린 2020 도쿄올림픽 A조 예선으로 펼쳐진 한일전에서 5세트 접전 끝에 짜릿한 승리를 거뒀다.\", '한국은 마지막 5세트에서 12대14로 밀렸다.', \"'게임 포인트'를 내줄 위기에 몰렸지만 박정아의 막판 대활약에 힘입어 극적인 16대14 역전 드라마를 연출했다.\", \"이로써 한국은 3승1패를 기록해 남은 세르비아전 결과와 관계 없이 최소 조 3위를 확보해 8강 진출을 확정했다.'\"]\n"
          ],
          "name": "stdout"
        }
      ]
    },
    {
      "cell_type": "code",
      "metadata": {
        "colab": {
          "base_uri": "https://localhost:8080/"
        },
        "id": "WM9sH3VTgoON",
        "outputId": "b3a7d67a-8a46-443b-daa5-175f873988b7"
      },
      "source": [
        "# word_tokenize\n",
        "from nltk import word_tokenize \n",
        "sentence = 'This book is for deep learning leaners'\n",
        "words = word_tokenize(sentence) # 스페이스바를 기준으로 분리, 예외사항은 있다.\n",
        "print(words)\n",
        "\n",
        "result = [ word_tokenize(s) for s in sent_tokenize(str) ]\n",
        "print(result)"
      ],
      "execution_count": null,
      "outputs": [
        {
          "output_type": "stream",
          "text": [
            "['This', 'book', 'is', 'for', 'deep', 'learning', 'leaners']\n",
            "[[\"'한국\", '여자배구', '대표팀은', '지난달', '31일', '오후', '일본', '도쿄', '아리아케', '아레나에서', '열린', '2020', '도쿄올림픽', 'A조', '예선으로', '펼쳐진', '한일전에서', '5세트', '접전', '끝에', '짜릿한', '승리를', '거뒀다', '.'], ['한국은', '마지막', '5세트에서', '12대14로', '밀렸다', '.'], [\"'게임\", \"포인트'를\", '내줄', '위기에', '몰렸지만', '박정아의', '막판', '대활약에', '힘입어', '극적인', '16대14', '역전', '드라마를', '연출했다', '.'], ['이로써', '한국은', '3승1패를', '기록해', '남은', '세르비아전', '결과와', '관계', '없이', '최소', '조', '3위를', '확보해', '8강', '진출을', '확정했다', '.', \"'\"]]\n"
          ],
          "name": "stdout"
        }
      ]
    },
    {
      "cell_type": "code",
      "metadata": {
        "id": "8tgSeZ8tjQLM",
        "colab": {
          "base_uri": "https://localhost:8080/"
        },
        "outputId": "2e3677e0-2a0d-4947-a82d-084bf9c2aecf"
      },
      "source": [
        "sent_tokenize(\"it's  !  helllo name..  fjef...test\")"
      ],
      "execution_count": null,
      "outputs": [
        {
          "output_type": "execute_result",
          "data": {
            "text/plain": [
              "[\"it's  !\", 'helllo name..  fjef...test']"
            ]
          },
          "metadata": {
            "tags": []
          },
          "execution_count": 113
        }
      ]
    },
    {
      "cell_type": "code",
      "metadata": {
        "colab": {
          "base_uri": "https://localhost:8080/"
        },
        "id": "q9gWzFUPl9hF",
        "outputId": "0e8b80e4-297c-48e6-a868-631d1e5d5bdf"
      },
      "source": [
        "word_tokenize(\"it's        test^fewfew  \")"
      ],
      "execution_count": null,
      "outputs": [
        {
          "output_type": "execute_result",
          "data": {
            "text/plain": [
              "['it', \"'s\", 'test^fewfew']"
            ]
          },
          "metadata": {
            "tags": []
          },
          "execution_count": 114
        }
      ]
    },
    {
      "cell_type": "code",
      "metadata": {
        "colab": {
          "base_uri": "https://localhost:8080/"
        },
        "id": "e3VBRJNpk3kn",
        "outputId": "9c70d388-b9d5-4c14-818b-2f0ccec905c6"
      },
      "source": [
        "from nltk.tokenize import WordPunctTokenizer  \n",
        "sentence = \"it’s nothing that you don’t already know except most people aren’t aware of how their inner world works.\"\n",
        "words = WordPunctTokenizer().tokenize(sentence)\n",
        "print(words)"
      ],
      "execution_count": null,
      "outputs": [
        {
          "output_type": "stream",
          "text": [
            "['it', '’', 's', 'nothing', 'that', 'you', 'don', '’', 't', 'already', 'know', 'except', 'most', 'people', 'aren', '’', 't', 'aware', 'of', 'how', 'their', 'inner', 'world', 'works', '.']\n"
          ],
          "name": "stdout"
        }
      ]
    },
    {
      "cell_type": "markdown",
      "metadata": {
        "id": "7A-dAtIemKS4"
      },
      "source": [
        "---\n",
        "###  &#128218;한글 문서 형태소 분리"
      ]
    },
    {
      "cell_type": "code",
      "metadata": {
        "colab": {
          "base_uri": "https://localhost:8080/"
        },
        "id": "2g1_l-pvoC-x",
        "outputId": "d3d63174-64b0-4d04-e47a-9e70b3e09355"
      },
      "source": [
        "!pwd"
      ],
      "execution_count": null,
      "outputs": [
        {
          "output_type": "stream",
          "text": [
            "/content\n"
          ],
          "name": "stdout"
        }
      ]
    },
    {
      "cell_type": "code",
      "metadata": {
        "id": "5fsYqRT5mTH9"
      },
      "source": [
        "import csv\n",
        "\n",
        "f = open('/content/drive/MyDrive/8월 딥러닝 텐서플로 교과서(길벗, 2021)/자연어처리/ratings_train.txt', 'r', encoding='utf-8')\n",
        "rdr = csv.reader(f, delimiter='\\t')\n",
        "rdw = list(rdr)\n",
        "f.close()"
      ],
      "execution_count": null,
      "outputs": []
    },
    {
      "cell_type": "code",
      "metadata": {
        "id": "LAho3sGixsaq"
      },
      "source": [
        " = open()"
      ],
      "execution_count": null,
      "outputs": []
    },
    {
      "cell_type": "code",
      "metadata": {
        "colab": {
          "base_uri": "https://localhost:8080/"
        },
        "id": "4i-ifA1bn5CU",
        "outputId": "48b00ccf-657b-47b5-c742-996513308bdf"
      },
      "source": [
        "rdw[2] # 행 단위 모든 컬럼 보기"
      ],
      "execution_count": null,
      "outputs": [
        {
          "output_type": "execute_result",
          "data": {
            "text/plain": [
              "['3819312', '흠...포스터보고 초딩영화줄....오버연기조차 가볍지 않구나', '1']"
            ]
          },
          "metadata": {
            "tags": []
          },
          "execution_count": 130
        }
      ]
    },
    {
      "cell_type": "markdown",
      "metadata": {
        "id": "n7y2g4pSs4NT"
      },
      "source": [
        "---\n",
        "이 작업을 이거 킬 때마다 할 수 없기 떄문에 데이터를 저장해놓고 나중에 다시 켰을 때 "
      ]
    },
    {
      "cell_type": "code",
      "metadata": {
        "colab": {
          "base_uri": "https://localhost:8080/"
        },
        "id": "eVGPx4dGoJcl",
        "outputId": "f3e82deb-9c04-419f-a0ae-aaf39afbb5bd"
      },
      "source": [
        "%%time\n",
        "twitter = Okt()\n",
        "\n",
        "result = []\n",
        "for line in rdw:\n",
        "    malist = twitter.pos( line[1], norm=True, stem=True)\n",
        "    r = []\n",
        "    for word in malist:\n",
        "        if not word[1] in [\"Josa\",\"Eomi\",\"Punctuation\"]: # word[1]인 이유 # 조사, 어미, 특수문자\n",
        "            r.append(word[0]) # 형태소 분석을 보면 word[1]에는 품사 word[0]에는 실제 단어 \n",
        "    rl = (\" \".join(r)).strip() # join은 데이터(단어리스트)를 하나의 문장으로 만듦. # strip 양 옆 제거\n",
        "    result.append(rl)\n",
        "    # print(rl)"
      ],
      "execution_count": null,
      "outputs": [
        {
          "output_type": "stream",
          "text": [
            "CPU times: user 7min 59s, sys: 0 ns, total: 7min 59s\n",
            "Wall time: 7min 55s\n"
          ],
          "name": "stdout"
        }
      ]
    },
    {
      "cell_type": "code",
      "metadata": {
        "id": "QV2gRKgdsl00"
      },
      "source": [
        "with open(\"NaverMovie.nlp\",'w', encoding='utf-8') as fp:\n",
        "  fp.write(\"\\n\".join(result))"
      ],
      "execution_count": null,
      "outputs": []
    },
    {
      "cell_type": "markdown",
      "metadata": {
        "id": "OpgVw5pesBQK"
      },
      "source": [
        "---\n",
        "### &#128218;불용어 처리(제거)"
      ]
    },
    {
      "cell_type": "code",
      "metadata": {
        "colab": {
          "base_uri": "https://localhost:8080/"
        },
        "id": "ODh9b0d2tSFI",
        "outputId": "d8c0aad0-87a1-4289-aa96-08b5bb40346e"
      },
      "source": [
        "import nltk\n",
        "from nltk.corpus import stopwords\n",
        "nltk.download('stopwords')\n",
        "nltk.download('punkt')\n",
        "from nltk.tokenize import word_tokenize\n",
        "\n",
        "sample_text = \"One of the first things that we ask ourselves is what are the pros and cons of any task we perform.\"\n",
        "text_tokens = word_tokenize(sample_text)\n",
        "\n",
        "tokens_without_sw = [word for word in text_tokens if not word in stopwords.words('english')]\n",
        "print(\"불용어 제거 미적용:\", text_tokens, '\\n')\n",
        "print(\"불용어 제거 적용:\",tokens_without_sw)"
      ],
      "execution_count": null,
      "outputs": [
        {
          "output_type": "stream",
          "text": [
            "[nltk_data] Downloading package stopwords to /root/nltk_data...\n",
            "[nltk_data]   Unzipping corpora/stopwords.zip.\n",
            "[nltk_data] Downloading package punkt to /root/nltk_data...\n",
            "[nltk_data]   Package punkt is already up-to-date!\n",
            "불용어 제거 미적용: ['One', 'of', 'the', 'first', 'things', 'that', 'we', 'ask', 'ourselves', 'is', 'what', 'are', 'the', 'pros', 'and', 'cons', 'of', 'any', 'task', 'we', 'perform', '.'] \n",
            "\n",
            "불용어 제거 적용: ['One', 'first', 'things', 'ask', 'pros', 'cons', 'task', 'perform', '.']\n"
          ],
          "name": "stdout"
        }
      ]
    },
    {
      "cell_type": "markdown",
      "metadata": {
        "id": "NKFJ0IvIviOF"
      },
      "source": [
        "---\n",
        "### &#128204;문제\n",
        "뷰티풀숲으로 읽어와서 불용어처리해보기   \n",
        "getWord(\"문장\", [불용어파일])   "
      ]
    },
    {
      "cell_type": "code",
      "metadata": {
        "id": "kmr6KDUI1mIA"
      },
      "source": [
        "import csv\n",
        "\n",
        "f = open('/content/drive/MyDrive/8월 딥러닝 텐서플로 교과서(길벗, 2021)/자연어처리/한글불용어사전.nlp', 'r', encoding='utf-8')\n",
        "rdr = csv.reader(f, delimiter='\\t')\n",
        "rdw = list(rdr)\n",
        "f.close()"
      ],
      "execution_count": null,
      "outputs": []
    },
    {
      "cell_type": "code",
      "metadata": {
        "id": "6PwxVkzNxbku"
      },
      "source": [
        "twitter = Okt()\n",
        "\n",
        "result = []\n",
        "for line in rdw:\n",
        "    malist = twitter.pos( line[1], norm=True, stem=True)\n",
        "    r = []\n",
        "    for word in malist:\n",
        "        if not word[1] in [\"Josa\",\"Eomi\",\"Punctuation\"]: # word[1]인 이유 # 조사, 어미, 특수문자\n",
        "            r.append(word[0]) # 형태소 분석을 보면 word[1]에는 품사 word[0]에는 실제 단어 \n",
        "    rl = (\" \".join(r)).strip() # join은 데이터(단어리스트)를 하나의 문장으로 만듦. # strip 양 옆 제거\n",
        "    result.append(rl)\n",
        "    # print(rl)"
      ],
      "execution_count": null,
      "outputs": []
    },
    {
      "cell_type": "markdown",
      "metadata": {
        "id": "i2HwYAslyKta"
      },
      "source": [
        "---\n"
      ]
    },
    {
      "cell_type": "markdown",
      "metadata": {
        "id": "yzatTjO_yXHf"
      },
      "source": [
        "###  &#128218;어간 추출 "
      ]
    },
    {
      "cell_type": "markdown",
      "metadata": {
        "id": "CBl0uNk6yYyw"
      },
      "source": [
        "1. 포터 알고리즘 : PorterStemmer   \n",
        "2. 랭커스터 알고리즘 : LancasterStemmer 일반적으로 ㄴㄴ    \n",
        "3. 표제어 추출 : WordNetLemmatizer, 두 번째 파라미터 - 품사정보   \n",
        "4. 위의 3개 모두 한국어와는 상관없다.   "
      ]
    },
    {
      "cell_type": "code",
      "metadata": {
        "colab": {
          "base_uri": "https://localhost:8080/"
        },
        "id": "OTP8hNuz0ePc",
        "outputId": "298fb9aa-ac61-4574-f7fc-33971593c2a8"
      },
      "source": [
        "from nltk.stem import PorterStemmer\n",
        "stemmer = PorterStemmer()\n",
        "\n",
        "print(stemmer.stem('obesses'),stemmer.stem('obssesed'))\n",
        "print(stemmer.stem('standardizes'),stemmer.stem('standardization'))\n",
        "print(stemmer.stem('national'), stemmer.stem('nation'))\n",
        "print(stemmer.stem('absentness'), stemmer.stem('absently'))\n",
        "print(stemmer.stem('tribalical'), stemmer.stem('tribalicalized'))"
      ],
      "execution_count": null,
      "outputs": [
        {
          "output_type": "stream",
          "text": [
            "obess obsses\n",
            "standard standard\n",
            "nation nation\n",
            "absent absent\n",
            "tribal tribalic\n"
          ],
          "name": "stdout"
        }
      ]
    },
    {
      "cell_type": "code",
      "metadata": {
        "colab": {
          "base_uri": "https://localhost:8080/"
        },
        "id": "3azPWe6v03EC",
        "outputId": "4f9d13db-fa50-491e-809f-870ded996b5d"
      },
      "source": [
        "import nltk\n",
        "nltk.download('wordnet')\n",
        "\n",
        "from nltk.stem import WordNetLemmatizer\n",
        "lemma = WordNetLemmatizer()\n",
        "\n",
        "print(stemmer.stem('obsesses'),stemmer.stem('obsessed'))\n",
        "print(lemma.lemmatize('standardizes'),lemma.lemmatize('standardization'))\n",
        "print(lemma.lemmatize('national'), lemma.lemmatize('nation'))\n",
        "print(lemma.lemmatize('absentness'), lemma.lemmatize('absently'))\n",
        "print(lemma.lemmatize('tribalical'), lemma.lemmatize('tribalicalized'))"
      ],
      "execution_count": null,
      "outputs": [
        {
          "output_type": "stream",
          "text": [
            "[nltk_data] Downloading package wordnet to /root/nltk_data...\n",
            "[nltk_data]   Unzipping corpora/wordnet.zip.\n",
            "obsess obsess\n",
            "standardizes standardization\n",
            "national nation\n",
            "absentness absently\n",
            "tribalical tribalicalized\n"
          ],
          "name": "stdout"
        }
      ]
    },
    {
      "cell_type": "markdown",
      "metadata": {
        "id": "zBhZx46Kk_05"
      },
      "source": [
        "---\n",
        "---"
      ]
    },
    {
      "cell_type": "code",
      "metadata": {
        "colab": {
          "base_uri": "https://localhost:8080/"
        },
        "id": "LHYqvFLsinoA",
        "outputId": "1a993ba7-2da1-4528-cded-ce0d5a020179"
      },
      "source": [
        "from google.colab import drive\n",
        "drive.mount('/content/drive')\n",
        "\n",
        "import pandas as pd\n",
        "\n",
        "df = pd.read_csv('/content/drive/MyDrive/Colab Notebooks/8월 딥러닝 텐서플로 교과서(길벗, 2021)/자연어처리/class2.csv')"
      ],
      "execution_count": null,
      "outputs": [
        {
          "output_type": "stream",
          "text": [
            "Drive already mounted at /content/drive; to attempt to forcibly remount, call drive.mount(\"/content/drive\", force_remount=True).\n"
          ],
          "name": "stdout"
        }
      ]
    },
    {
      "cell_type": "code",
      "metadata": {
        "id": "jzgkrDufjF0b"
      },
      "source": [
        "!pip install konlpy\n",
        "import nltk\n",
        "import pandas as pd\n",
        "from konlpy.tag import Okt\n",
        "from sklearn import linear_model\n",
        "nltk.download('punkt')\n",
        "nltk.download('averaged_perceptron_tagger')\n",
        "twitter = Okt()"
      ],
      "execution_count": null,
      "outputs": []
    },
    {
      "cell_type": "markdown",
      "metadata": {
        "id": "5SQW3axb048f"
      },
      "source": [
        "\n",
        "---\n",
        "---\n",
        "# &#128204;문제1. (intent, 의도인식)\n",
        "\n",
        "    오늘 부산 날씨 어때?   ->  날씨 물어보는 의도\n",
        "    isintent(\"오늘 부산 날씨 어때?\"),['날씨','어떻다']) # True \n",
        "    isintent(\"오늘 부산 날씨 알려줘.\"),['날씨','알다']) # True \n",
        "    isintent(\"짜장면 가격이 얼마야\", ['가격']) # True"
      ]
    },
    {
      "cell_type": "code",
      "metadata": {
        "id": "kVM2Xufe5LdR"
      },
      "source": [
        "# 날씨를 물어보는지, 가격을 물어보는건지\n",
        "#   isintent(\"오늘 부산 날씨 어때?\"),['날씨','어떻다']) # True \n",
        "#   isintent(\"오늘 부산 날씨 알려줘.\"),['날씨','알다']) # True \n",
        "#   isintent(\"짜장면 가격이 얼마야\", ['가격']) # True\n",
        "\n",
        "#   query = \"짜장면 가격이\"\n",
        "# if isintent(query, ['날씨','어떻다']) : print(\"날씨 intent\")\n",
        "# elif isintent(query, ['가격','얼마']) : print(\"가격 intent\")"
      ],
      "execution_count": null,
      "outputs": []
    },
    {
      "cell_type": "code",
      "metadata": {
        "id": "dvtt2_Bd6Pap",
        "colab": {
          "base_uri": "https://localhost:8080/"
        },
        "outputId": "9cf561fe-e87d-4e7a-c062-e936589f60a5"
      },
      "source": [
        "def isIntent(sentence, words) :     \n",
        "    sentence =  [word[0] for  word in twitter.pos(sentence, norm=True, stem=True)  ]\n",
        "    #print(sentence)\n",
        "    return len([s for s in sentence  if  s in words  ]) == len(words)\n",
        "\n",
        "isIntent('오늘 부산 날씨는 어때?', ['?', '어떻다'])  "
      ],
      "execution_count": null,
      "outputs": [
        {
          "output_type": "execute_result",
          "data": {
            "text/plain": [
              "True"
            ]
          },
          "metadata": {
            "tags": []
          },
          "execution_count": 11
        }
      ]
    },
    {
      "cell_type": "code",
      "metadata": {
        "colab": {
          "base_uri": "https://localhost:8080/"
        },
        "id": "Ncm64Z9gjq7u",
        "outputId": "97d022ff-499a-456a-b01c-ca6ae494117d"
      },
      "source": [
        "isIntent('오늘 부산 날씨는 어때?', ['가산', '날씨'])  "
      ],
      "execution_count": null,
      "outputs": [
        {
          "output_type": "execute_result",
          "data": {
            "text/plain": [
              "False"
            ]
          },
          "metadata": {
            "tags": []
          },
          "execution_count": 12
        }
      ]
    },
    {
      "cell_type": "code",
      "metadata": {
        "id": "TLavcLs06PmC",
        "colab": {
          "base_uri": "https://localhost:8080/"
        },
        "outputId": "441875a9-52ad-4e3c-ffa5-b76785bece8f"
      },
      "source": [
        "def isIntent(sentence, words) :     \n",
        "    sentence =  [word[0] for  word in twitter.pos(sentence, norm=True, stem=True)  ]\n",
        "    #print(sentence)\n",
        "    return len([s for s in sentence  if  s in words  ]) == len(words)\n",
        "\n",
        "isIntent('오늘 부산 날씨는 어때?', ['날씨', '어떻다'])  "
      ],
      "execution_count": null,
      "outputs": [
        {
          "output_type": "execute_result",
          "data": {
            "text/plain": [
              "True"
            ]
          },
          "metadata": {
            "tags": []
          },
          "execution_count": 9
        }
      ]
    },
    {
      "cell_type": "code",
      "metadata": {
        "id": "kp_LER0nCqFD"
      },
      "source": [
        ""
      ],
      "execution_count": null,
      "outputs": []
    },
    {
      "cell_type": "markdown",
      "metadata": {
        "id": "n8etnXwA5Fl2"
      },
      "source": [
        "---\n",
        "# &#128204;문제2."
      ]
    },
    {
      "cell_type": "markdown",
      "metadata": {
        "id": "_3Hw8mzk5MAk"
      },
      "source": [
        "#2)  한글불용어 처리\n",
        "stopwords = # 파일에서 읽기    \n",
        "getWord(\"그래서 오늘 그러니까 부산 어때?\", stopwords)       # 오늘 부산 어때"
      ]
    },
    {
      "cell_type": "code",
      "metadata": {
        "id": "tDgLW5eHCr4F"
      },
      "source": [
        "stopwords = \"아 휴 아이구 아이쿠 아이고 어 나 우리 저희 따라 의해 을 를 에 의 가 으로 로 에게 뿐이다 의거하여 근거하여 입각하여 기준으로 예하면 예를 들면 예를 들자면 저 소인 소생 저희 지말고 하지마 하지마라 다른 물론 또한 그리고 비길수 없다 해서는 안된다 뿐만 아니라 만이 아니다 만은 아니다 막론하고 관계없이 그치지 않다 그러나 그런데 하지만 든간에 논하지 않다 따지지 않다 설사 비록 더라도 아니면 만 못하다 하는 편이 낫다 불문하고 향하여 향해서 향하다 쪽으로 틈타 이용하여 타다 오르다 제외하고 이 외에 이 밖에 하여야 비로소 한다면 몰라도 외에도 이곳 여기 부터 기점으로 따라서 할 생각이다 하려고하다 이리하여 그리하여 그렇게 함으로써 하지만 일때 할때 앞에서 중에서 보는데서 으로써 로써 까지 해야한다 일것이다 반드시 할줄알다 할수있다 할수있어 임에 틀림없다 한다면 등 등등 제 겨우 단지 다만 할뿐 딩동 댕그 대해서 대하여 대하면 훨씬 얼마나 얼마만큼 얼마큼 남짓 여 얼마간 약간 다소 좀 조금 다수 몇 얼마 지만 하물며 또한 그러나 그렇지만 하지만 이외에도 대해 말하자면 뿐이다 다음에 반대로 반대로 말하자면 이와 반대로 바꾸어서 말하면 바꾸어서 한다면 만약 그렇지않으면 까악 툭 딱 삐걱거리다 보드득 비걱거리다 꽈당 응당 해야한다 에 가서 각 각각 여러분 각종 각자 제각기 하도록하다 와 과 그러므로 그래서 고로 한 까닭에 하기 때문에 거니와 이지만 대하여 관하여 관한 과연 실로 아니나다를가 생각한대로 진짜로 한적이있다 하곤하였다 하 하하 허허 아하 거바 와 오 왜 어째서 무엇때문에 어찌 하겠는가 무슨 어디 어느곳 더군다나 하물며 더욱이는 어느때 언제 야 이봐 어이 여보시오 흐흐 흥 휴 헉헉 헐떡헐떡 영차 여차 어기여차 끙끙 아야 앗 아야 콸콸 졸졸 좍좍 뚝뚝 주룩주룩 솨 우르르 그래도 또 그리고 바꾸어말하면 바꾸어말하자면 혹은 혹시 답다 및 그에 따르는 때가 되어 즉 지든지 설령 가령 하더라도 할지라도 일지라도 지든지 몇 거의 하마터면 인젠 이젠 된바에야 된이상 만큼 어찌됏든 그위에 게다가 점에서 보아 비추어 보아 고려하면 하게될것이다 일것이다 비교적 좀 보다더 비하면 시키다 하게하다 할만하다 의해서 연이서 이어서 잇따라 뒤따라 뒤이어 결국 의지하여 기대여 통하여 자마자 더욱더 불구하고 얼마든지 마음대로 주저하지 않고 곧 즉시 바로 당장 하자마자 밖에 안된다 하면된다 그래 그렇지 요컨대 다시 말하자면 바꿔 말하면 즉 구체적으로 말하자면 시작하여 시초에 이상 허 헉 허걱 바와같이 해도좋다 해도된다 게다가 더구나 하물며 와르르 팍 퍽 펄렁 동안 이래 하고있었다 이었다 에서 로부터 까지 예하면 했어요 해요 함께 같이 더불어 마저 마저도 양자 모두 습니다 가까스로 하려고하다 즈음하여 다른 다른 방면으로 해봐요 습니까 했어요 말할것도 없고 무릎쓰고 개의치않고 하는것만 못하다 하는것이 낫다 매 매번 들 모 어느것 어느 로써 갖고말하자면 어디 어느쪽 어느것 어느해 어느 년도 라 해도 언젠가 어떤것 어느것 저기 저쪽 저것 그때 그럼 그러면 요만한걸 그래 그때 저것만큼 그저 이르기까지 할 줄 안다 할 힘이 있다 너 너희 당신 어찌 설마 차라리 할지언정 할지라도 할망정 할지언정 구토하다 게우다 토하다 메쓰겁다 옆사람 퉤 쳇 의거하여 근거하여 의해 따라 힘입어 그 다음 버금 두번째로 기타 첫번째로 나머지는 그중에서 견지에서 형식으로 쓰여 입장에서 위해서 단지 의해되다 하도록시키다 뿐만아니라 반대로 전후 전자 앞의것 잠시 잠깐 하면서 그렇지만 다음에 그러한즉 그런즉 남들 아무거나 어찌하든지 같다 비슷하다 예컨대 이럴정도로 어떻게 만약 만일 위에서 서술한바와같이 인 듯하다 하지 않는다면 만약에 무엇 무슨 어느 어떤 아래윗 조차 한데 그럼에도 불구하고 여전히 심지어 까지도 조차도 하지 않도록 않기 위하여 때 시각 무렵 시간 동안 어때 어떠한 하여금 네 예 우선 누구 누가 알겠는가 아무도 줄은모른다 줄은 몰랏다 하는 김에 겸사겸사 하는바 그런 까닭에 한 이유는 그러니 그러니까 때문에 그 너희 그들 너희들 타인 것 것들 너 위하여 공동으로 동시에 하기 위하여 어찌하여 무엇때문에 붕붕 윙윙 나 우리 엉엉 휘익 윙윙 오호 아하 어쨋든 만 못하다 하기보다는 차라리 하는 편이 낫다 흐흐 놀라다 상대적으로 말하자면 마치 아니라면 쉿 그렇지 않으면 그렇지 않다면 안 그러면 아니었다면 하든지 아니면 이라면 좋아 알았어 하는것도 그만이다 어쩔수 없다 하나 일 일반적으로 일단 한켠으로는 오자마자 이렇게되면 이와같다면 전부 한마디 한항목 근거로 하기에 아울러 하지 않도록 않기 위해서 이르기까지 이 되다 로 인하여 까닭으로 이유만으로 이로 인하여 그래서 이 때문에 그러므로 그런 까닭에 알 수 있다 결론을 낼 수 있다 으로 인하여 있다 어떤것 관계가 있다 관련이 있다 연관되다 어떤것들 에 대해 이리하여 그리하여 여부 하기보다는 하느니 하면 할수록 운운 이러이러하다 하구나 하도다 다시말하면 다음으로 에 있다 에 달려 있다 우리 우리들 오히려 하기는한데 어떻게 어떻해 어찌됏어 어때 어째서 본대로 자 이 이쪽 여기 이것 이번 이렇게말하자면 이런 이러한 이와 같은 요만큼 요만한 것 얼마 안 되는 것 이만큼 이 정도의 이렇게 많은 것 이와 같다 이때 이렇구나 것과 같이 끼익 삐걱 따위 와 같은 사람들 부류의 사람들 왜냐하면 중의하나 오직 오로지 에 한하다 하기만 하면 도착하다 까지 미치다 도달하다 정도에 이르다 할 지경이다 결과에 이르다 관해서는 여러분 하고 있다 한 후 혼자 자기 자기집 자신 우에 종합한것과같이 총적으로 보면 총적으로 말하면 총적으로 대로 하다 으로서 참 그만이다 할 따름이다 쿵 탕탕 쾅쾅 둥둥 봐 봐라 아이야 아니 와아 응 아이 참나 년 월 일 령 영 일 이 삼 사 오 육 륙 칠 팔 구 이천육 이천칠 이천팔 이천구 하나 둘 셋 넷 다섯 여섯 일곱 여덟 아홉 령 영 이 있 하 것 들 그 되 수 이 보 않 없 나 사람 주 아니 등 같 우리 때 년 가 한 지 대하 오 말 일 그렇 위하 때문 그것 두 말하 알 그러나 받 못하 일 그런 또 문제 더 사회 많 그리고 좋 크 따르 중 나오 가지 씨 시키 만들 지금 생각하 그러 속 하나 집 살 모르 적 월 데 자신 안 어떤 내 내 경우 명 생각 시간 그녀 다시 이런 앞 보이 번 나 다른 어떻 여자 개 전 들 사실 이렇 점 싶 말 정도 좀 원 잘 통하 놓\" \n",
        "stopwords = stopwords.split()\n",
        "\n",
        "sentence = \"아이쿠 그래서 오늘 우리 그러니까 부산 어때?\"\n",
        "sentence = sentence.split()\n",
        "\n",
        "result = [token  for  token  in  sentence if not token in stopwords]\n",
        "result = \" \".join(result)\n",
        "\n",
        "def getWord(sentence, stopwords) :\n",
        "  sentence = sentence.split()\n",
        "  result = [token  for  token  in  sentence if not token in stopwords]\n",
        "  return \" \".join(result)\n",
        "\n",
        "getWord(\"아이쿠 그래서 오늘 우리 그러니까 부산 어때?\", stopwords)  \n"
      ],
      "execution_count": null,
      "outputs": []
    },
    {
      "cell_type": "markdown",
      "metadata": {
        "id": "KvTopjrn5Ix6"
      },
      "source": [
        "---\n",
        "# &#128204;문제3.   \n",
        "기계학습을 이용한 결측지 처리"
      ]
    },
    {
      "cell_type": "code",
      "metadata": {
        "colab": {
          "base_uri": "https://localhost:8080/",
          "height": 225
        },
        "id": "BfVdOSY2iGl5",
        "outputId": "786d2405-f490-424e-c6fa-62549e07ca0b"
      },
      "source": [
        "df\n",
        "df.loc[2, \"x\"] = 345\n",
        "df.loc[3, \"x\"] = 375\n",
        "df"
      ],
      "execution_count": null,
      "outputs": [
        {
          "output_type": "execute_result",
          "data": {
            "text/html": [
              "<div>\n",
              "<style scoped>\n",
              "    .dataframe tbody tr th:only-of-type {\n",
              "        vertical-align: middle;\n",
              "    }\n",
              "\n",
              "    .dataframe tbody tr th {\n",
              "        vertical-align: top;\n",
              "    }\n",
              "\n",
              "    .dataframe thead th {\n",
              "        text-align: right;\n",
              "    }\n",
              "</style>\n",
              "<table border=\"1\" class=\"dataframe\">\n",
              "  <thead>\n",
              "    <tr style=\"text-align: right;\">\n",
              "      <th></th>\n",
              "      <th>Unnamed: 0</th>\n",
              "      <th>id</th>\n",
              "      <th>tissue</th>\n",
              "      <th>class</th>\n",
              "      <th>class2</th>\n",
              "      <th>x</th>\n",
              "      <th>y</th>\n",
              "      <th>r</th>\n",
              "    </tr>\n",
              "  </thead>\n",
              "  <tbody>\n",
              "    <tr>\n",
              "      <th>0</th>\n",
              "      <td>0</td>\n",
              "      <td>mdb000</td>\n",
              "      <td>C</td>\n",
              "      <td>CIRC</td>\n",
              "      <td>N</td>\n",
              "      <td>535.0</td>\n",
              "      <td>475.000000</td>\n",
              "      <td>192.0</td>\n",
              "    </tr>\n",
              "    <tr>\n",
              "      <th>1</th>\n",
              "      <td>1</td>\n",
              "      <td>mdb001</td>\n",
              "      <td>A</td>\n",
              "      <td>CIRA</td>\n",
              "      <td>N</td>\n",
              "      <td>433.0</td>\n",
              "      <td>268.000000</td>\n",
              "      <td>58.0</td>\n",
              "    </tr>\n",
              "    <tr>\n",
              "      <th>2</th>\n",
              "      <td>2</td>\n",
              "      <td>mdb002</td>\n",
              "      <td>A</td>\n",
              "      <td>CIRA</td>\n",
              "      <td>I</td>\n",
              "      <td>345.0</td>\n",
              "      <td>171.817552</td>\n",
              "      <td>NaN</td>\n",
              "    </tr>\n",
              "    <tr>\n",
              "      <th>3</th>\n",
              "      <td>3</td>\n",
              "      <td>mdb003</td>\n",
              "      <td>C</td>\n",
              "      <td>CIRC</td>\n",
              "      <td>B</td>\n",
              "      <td>375.0</td>\n",
              "      <td>190.143187</td>\n",
              "      <td>NaN</td>\n",
              "    </tr>\n",
              "    <tr>\n",
              "      <th>4</th>\n",
              "      <td>4</td>\n",
              "      <td>mdb004</td>\n",
              "      <td>F</td>\n",
              "      <td>CIRF</td>\n",
              "      <td>I</td>\n",
              "      <td>488.0</td>\n",
              "      <td>145.000000</td>\n",
              "      <td>29.0</td>\n",
              "    </tr>\n",
              "    <tr>\n",
              "      <th>5</th>\n",
              "      <td>5</td>\n",
              "      <td>mdb005</td>\n",
              "      <td>F</td>\n",
              "      <td>CIRF</td>\n",
              "      <td>B</td>\n",
              "      <td>544.0</td>\n",
              "      <td>178.000000</td>\n",
              "      <td>26.0</td>\n",
              "    </tr>\n",
              "  </tbody>\n",
              "</table>\n",
              "</div>"
            ],
            "text/plain": [
              "   Unnamed: 0      id tissue class class2      x           y      r\n",
              "0           0  mdb000      C  CIRC      N  535.0  475.000000  192.0\n",
              "1           1  mdb001      A  CIRA      N  433.0  268.000000   58.0\n",
              "2           2  mdb002      A  CIRA      I  345.0  171.817552    NaN\n",
              "3           3  mdb003      C  CIRC      B  375.0  190.143187    NaN\n",
              "4           4  mdb004      F  CIRF      I  488.0  145.000000   29.0\n",
              "5           5  mdb005      F  CIRF      B  544.0  178.000000   26.0"
            ]
          },
          "metadata": {
            "tags": []
          },
          "execution_count": 37
        }
      ]
    },
    {
      "cell_type": "code",
      "metadata": {
        "colab": {
          "base_uri": "https://localhost:8080/",
          "height": 166
        },
        "id": "EhAsyPzciUgw",
        "outputId": "1a4b6fef-fb4e-430a-cf68-a32f4cf285f3"
      },
      "source": [
        "df1 = df.dropna()\n",
        "df1"
      ],
      "execution_count": null,
      "outputs": [
        {
          "output_type": "execute_result",
          "data": {
            "text/html": [
              "<div>\n",
              "<style scoped>\n",
              "    .dataframe tbody tr th:only-of-type {\n",
              "        vertical-align: middle;\n",
              "    }\n",
              "\n",
              "    .dataframe tbody tr th {\n",
              "        vertical-align: top;\n",
              "    }\n",
              "\n",
              "    .dataframe thead th {\n",
              "        text-align: right;\n",
              "    }\n",
              "</style>\n",
              "<table border=\"1\" class=\"dataframe\">\n",
              "  <thead>\n",
              "    <tr style=\"text-align: right;\">\n",
              "      <th></th>\n",
              "      <th>Unnamed: 0</th>\n",
              "      <th>id</th>\n",
              "      <th>tissue</th>\n",
              "      <th>class</th>\n",
              "      <th>class2</th>\n",
              "      <th>x</th>\n",
              "      <th>y</th>\n",
              "      <th>r</th>\n",
              "    </tr>\n",
              "  </thead>\n",
              "  <tbody>\n",
              "    <tr>\n",
              "      <th>0</th>\n",
              "      <td>0</td>\n",
              "      <td>mdb000</td>\n",
              "      <td>C</td>\n",
              "      <td>CIRC</td>\n",
              "      <td>N</td>\n",
              "      <td>535.0</td>\n",
              "      <td>475.0</td>\n",
              "      <td>192.0</td>\n",
              "    </tr>\n",
              "    <tr>\n",
              "      <th>1</th>\n",
              "      <td>1</td>\n",
              "      <td>mdb001</td>\n",
              "      <td>A</td>\n",
              "      <td>CIRA</td>\n",
              "      <td>N</td>\n",
              "      <td>433.0</td>\n",
              "      <td>268.0</td>\n",
              "      <td>58.0</td>\n",
              "    </tr>\n",
              "    <tr>\n",
              "      <th>4</th>\n",
              "      <td>4</td>\n",
              "      <td>mdb004</td>\n",
              "      <td>F</td>\n",
              "      <td>CIRF</td>\n",
              "      <td>I</td>\n",
              "      <td>488.0</td>\n",
              "      <td>145.0</td>\n",
              "      <td>29.0</td>\n",
              "    </tr>\n",
              "    <tr>\n",
              "      <th>5</th>\n",
              "      <td>5</td>\n",
              "      <td>mdb005</td>\n",
              "      <td>F</td>\n",
              "      <td>CIRF</td>\n",
              "      <td>B</td>\n",
              "      <td>544.0</td>\n",
              "      <td>178.0</td>\n",
              "      <td>26.0</td>\n",
              "    </tr>\n",
              "  </tbody>\n",
              "</table>\n",
              "</div>"
            ],
            "text/plain": [
              "   Unnamed: 0      id tissue class class2      x      y      r\n",
              "0           0  mdb000      C  CIRC      N  535.0  475.0  192.0\n",
              "1           1  mdb001      A  CIRA      N  433.0  268.0   58.0\n",
              "4           4  mdb004      F  CIRF      I  488.0  145.0   29.0\n",
              "5           5  mdb005      F  CIRF      B  544.0  178.0   26.0"
            ]
          },
          "metadata": {
            "tags": []
          },
          "execution_count": 38
        }
      ]
    },
    {
      "cell_type": "code",
      "metadata": {
        "colab": {
          "base_uri": "https://localhost:8080/"
        },
        "id": "r5eLL3BUksBF",
        "outputId": "3c357f4d-1d89-4520-9962-0d6d60c5d8b1"
      },
      "source": [
        "X = df1[[\"x\"]].values.reshape(-1, 1)\n",
        "y = df1[\"y\"].values\n",
        "\n",
        "print(X)\n",
        "print(y)"
      ],
      "execution_count": null,
      "outputs": [
        {
          "output_type": "stream",
          "text": [
            "[[535.]\n",
            " [433.]\n",
            " [488.]\n",
            " [544.]]\n",
            "[475. 268. 145. 178.]\n"
          ],
          "name": "stdout"
        }
      ]
    },
    {
      "cell_type": "code",
      "metadata": {
        "colab": {
          "base_uri": "https://localhost:8080/"
        },
        "id": "uvkv3RX9lE_m",
        "outputId": "f65bc6ab-9643-47a0-ff12-f1f78dac8fb5"
      },
      "source": [
        "reg = linear_model.LinearRegression()\n",
        "reg.fit(X,y)"
      ],
      "execution_count": null,
      "outputs": [
        {
          "output_type": "execute_result",
          "data": {
            "text/plain": [
              "LinearRegression(copy_X=True, fit_intercept=True, n_jobs=None, normalize=False)"
            ]
          },
          "metadata": {
            "tags": []
          },
          "execution_count": 40
        }
      ]
    },
    {
      "cell_type": "code",
      "metadata": {
        "colab": {
          "base_uri": "https://localhost:8080/",
          "height": 422
        },
        "id": "fDFyVsVLlIES",
        "outputId": "88847c7d-3bf3-4751-acf7-abc2d95a805b"
      },
      "source": [
        "X_ = df[df[\"y\"].isnull()][\"x\"].values.reshape(-1,1)\n",
        "y_ = reg.predict(X_)\n",
        "print(X_)\n",
        "print(y_)\n",
        "df.loc[df[\"y\"].isnull(), 'y'] = y_\n",
        "df"
      ],
      "execution_count": null,
      "outputs": [
        {
          "output_type": "error",
          "ename": "ValueError",
          "evalue": "ignored",
          "traceback": [
            "\u001b[0;31m---------------------------------------------------------------------------\u001b[0m",
            "\u001b[0;31mValueError\u001b[0m                                Traceback (most recent call last)",
            "\u001b[0;32m<ipython-input-43-af0878b38bce>\u001b[0m in \u001b[0;36m<module>\u001b[0;34m()\u001b[0m\n\u001b[1;32m      1\u001b[0m \u001b[0mX_\u001b[0m \u001b[0;34m=\u001b[0m \u001b[0mdf\u001b[0m\u001b[0;34m[\u001b[0m\u001b[0mdf\u001b[0m\u001b[0;34m[\u001b[0m\u001b[0;34m\"y\"\u001b[0m\u001b[0;34m]\u001b[0m\u001b[0;34m.\u001b[0m\u001b[0misnull\u001b[0m\u001b[0;34m(\u001b[0m\u001b[0;34m)\u001b[0m\u001b[0;34m]\u001b[0m\u001b[0;34m[\u001b[0m\u001b[0;34m\"x\"\u001b[0m\u001b[0;34m]\u001b[0m\u001b[0;34m.\u001b[0m\u001b[0mvalues\u001b[0m\u001b[0;34m.\u001b[0m\u001b[0mreshape\u001b[0m\u001b[0;34m(\u001b[0m\u001b[0;34m-\u001b[0m\u001b[0;36m1\u001b[0m\u001b[0;34m,\u001b[0m\u001b[0;36m1\u001b[0m\u001b[0;34m)\u001b[0m\u001b[0;34m\u001b[0m\u001b[0;34m\u001b[0m\u001b[0m\n\u001b[0;32m----> 2\u001b[0;31m \u001b[0my_\u001b[0m \u001b[0;34m=\u001b[0m \u001b[0mreg\u001b[0m\u001b[0;34m.\u001b[0m\u001b[0mpredict\u001b[0m\u001b[0;34m(\u001b[0m\u001b[0mX_\u001b[0m\u001b[0;34m)\u001b[0m\u001b[0;34m\u001b[0m\u001b[0;34m\u001b[0m\u001b[0m\n\u001b[0m\u001b[1;32m      3\u001b[0m \u001b[0mprint\u001b[0m\u001b[0;34m(\u001b[0m\u001b[0mX_\u001b[0m\u001b[0;34m)\u001b[0m\u001b[0;34m\u001b[0m\u001b[0;34m\u001b[0m\u001b[0m\n\u001b[1;32m      4\u001b[0m \u001b[0mprint\u001b[0m\u001b[0;34m(\u001b[0m\u001b[0my_\u001b[0m\u001b[0;34m)\u001b[0m\u001b[0;34m\u001b[0m\u001b[0;34m\u001b[0m\u001b[0m\n\u001b[1;32m      5\u001b[0m \u001b[0mdf\u001b[0m\u001b[0;34m.\u001b[0m\u001b[0mloc\u001b[0m\u001b[0;34m[\u001b[0m\u001b[0mdf\u001b[0m\u001b[0;34m[\u001b[0m\u001b[0;34m\"y\"\u001b[0m\u001b[0;34m]\u001b[0m\u001b[0;34m.\u001b[0m\u001b[0misnull\u001b[0m\u001b[0;34m(\u001b[0m\u001b[0;34m)\u001b[0m\u001b[0;34m,\u001b[0m \u001b[0;34m'y'\u001b[0m\u001b[0;34m]\u001b[0m \u001b[0;34m=\u001b[0m \u001b[0my_\u001b[0m\u001b[0;34m\u001b[0m\u001b[0;34m\u001b[0m\u001b[0m\n",
            "\u001b[0;32m/usr/local/lib/python3.7/dist-packages/sklearn/linear_model/_base.py\u001b[0m in \u001b[0;36mpredict\u001b[0;34m(self, X)\u001b[0m\n\u001b[1;32m    223\u001b[0m             \u001b[0mReturns\u001b[0m \u001b[0mpredicted\u001b[0m \u001b[0mvalues\u001b[0m\u001b[0;34m.\u001b[0m\u001b[0;34m\u001b[0m\u001b[0;34m\u001b[0m\u001b[0m\n\u001b[1;32m    224\u001b[0m         \"\"\"\n\u001b[0;32m--> 225\u001b[0;31m         \u001b[0;32mreturn\u001b[0m \u001b[0mself\u001b[0m\u001b[0;34m.\u001b[0m\u001b[0m_decision_function\u001b[0m\u001b[0;34m(\u001b[0m\u001b[0mX\u001b[0m\u001b[0;34m)\u001b[0m\u001b[0;34m\u001b[0m\u001b[0;34m\u001b[0m\u001b[0m\n\u001b[0m\u001b[1;32m    226\u001b[0m \u001b[0;34m\u001b[0m\u001b[0m\n\u001b[1;32m    227\u001b[0m     \u001b[0m_preprocess_data\u001b[0m \u001b[0;34m=\u001b[0m \u001b[0mstaticmethod\u001b[0m\u001b[0;34m(\u001b[0m\u001b[0m_preprocess_data\u001b[0m\u001b[0;34m)\u001b[0m\u001b[0;34m\u001b[0m\u001b[0;34m\u001b[0m\u001b[0m\n",
            "\u001b[0;32m/usr/local/lib/python3.7/dist-packages/sklearn/linear_model/_base.py\u001b[0m in \u001b[0;36m_decision_function\u001b[0;34m(self, X)\u001b[0m\n\u001b[1;32m    205\u001b[0m         \u001b[0mcheck_is_fitted\u001b[0m\u001b[0;34m(\u001b[0m\u001b[0mself\u001b[0m\u001b[0;34m)\u001b[0m\u001b[0;34m\u001b[0m\u001b[0;34m\u001b[0m\u001b[0m\n\u001b[1;32m    206\u001b[0m \u001b[0;34m\u001b[0m\u001b[0m\n\u001b[0;32m--> 207\u001b[0;31m         \u001b[0mX\u001b[0m \u001b[0;34m=\u001b[0m \u001b[0mcheck_array\u001b[0m\u001b[0;34m(\u001b[0m\u001b[0mX\u001b[0m\u001b[0;34m,\u001b[0m \u001b[0maccept_sparse\u001b[0m\u001b[0;34m=\u001b[0m\u001b[0;34m[\u001b[0m\u001b[0;34m'csr'\u001b[0m\u001b[0;34m,\u001b[0m \u001b[0;34m'csc'\u001b[0m\u001b[0;34m,\u001b[0m \u001b[0;34m'coo'\u001b[0m\u001b[0;34m]\u001b[0m\u001b[0;34m)\u001b[0m\u001b[0;34m\u001b[0m\u001b[0;34m\u001b[0m\u001b[0m\n\u001b[0m\u001b[1;32m    208\u001b[0m         return safe_sparse_dot(X, self.coef_.T,\n\u001b[1;32m    209\u001b[0m                                dense_output=True) + self.intercept_\n",
            "\u001b[0;32m/usr/local/lib/python3.7/dist-packages/sklearn/utils/validation.py\u001b[0m in \u001b[0;36mcheck_array\u001b[0;34m(array, accept_sparse, accept_large_sparse, dtype, order, copy, force_all_finite, ensure_2d, allow_nd, ensure_min_samples, ensure_min_features, warn_on_dtype, estimator)\u001b[0m\n\u001b[1;32m    584\u001b[0m                              \u001b[0;34m\" minimum of %d is required%s.\"\u001b[0m\u001b[0;34m\u001b[0m\u001b[0;34m\u001b[0m\u001b[0m\n\u001b[1;32m    585\u001b[0m                              % (n_samples, array.shape, ensure_min_samples,\n\u001b[0;32m--> 586\u001b[0;31m                                 context))\n\u001b[0m\u001b[1;32m    587\u001b[0m \u001b[0;34m\u001b[0m\u001b[0m\n\u001b[1;32m    588\u001b[0m     \u001b[0;32mif\u001b[0m \u001b[0mensure_min_features\u001b[0m \u001b[0;34m>\u001b[0m \u001b[0;36m0\u001b[0m \u001b[0;32mand\u001b[0m \u001b[0marray\u001b[0m\u001b[0;34m.\u001b[0m\u001b[0mndim\u001b[0m \u001b[0;34m==\u001b[0m \u001b[0;36m2\u001b[0m\u001b[0;34m:\u001b[0m\u001b[0;34m\u001b[0m\u001b[0;34m\u001b[0m\u001b[0m\n",
            "\u001b[0;31mValueError\u001b[0m: Found array with 0 sample(s) (shape=(0, 1)) while a minimum of 1 is required."
          ]
        }
      ]
    },
    {
      "cell_type": "code",
      "metadata": {
        "id": "y3E3NbUflJVj"
      },
      "source": [
        ""
      ],
      "execution_count": null,
      "outputs": []
    }
  ]
}